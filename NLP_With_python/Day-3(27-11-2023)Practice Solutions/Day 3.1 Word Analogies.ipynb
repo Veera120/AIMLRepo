{
 "cells": [
  {
   "cell_type": "code",
   "execution_count": 1,
   "id": "5788ea40",
   "metadata": {},
   "outputs": [],
   "source": [
    "import warnings\n",
    "warnings.filterwarnings('ignore')\n",
    "\n",
    "from nltk.tokenize import sent_tokenize,word_tokenize\n",
    "import gensim\n",
    "\n",
    "from gensim.models import Word2Vec"
   ]
  },
  {
   "cell_type": "code",
   "execution_count": 4,
   "id": "cfff5274",
   "metadata": {},
   "outputs": [],
   "source": [
    "text=open('word_analogy.txt','r')\n",
    "s=text.read()"
   ]
  },
  {
   "cell_type": "code",
   "execution_count": 5,
   "id": "5fa55a18",
   "metadata": {},
   "outputs": [],
   "source": [
    "f=s.replace('\\n',\" \")\n"
   ]
  },
  {
   "cell_type": "code",
   "execution_count": 6,
   "id": "dfc64478",
   "metadata": {},
   "outputs": [],
   "source": [
    "data=[]"
   ]
  },
  {
   "cell_type": "code",
   "execution_count": 7,
   "id": "096b3d30",
   "metadata": {},
   "outputs": [],
   "source": [
    "#Iterate through each sentence in the file\n",
    "for i in sent_tokenize(f):\n",
    "    temp=[]\n",
    " \n",
    " #tokenize the sentence into words\n",
    "    for j in word_tokenize(i):\n",
    "        temp.append(j.lower())\n",
    " \n",
    "    data.append(temp)\n"
   ]
  },
  {
   "cell_type": "code",
   "execution_count": 8,
   "id": "1bfad5b2",
   "metadata": {},
   "outputs": [
    {
     "data": {
      "text/plain": [
       "1093"
      ]
     },
     "execution_count": 8,
     "metadata": {},
     "output_type": "execute_result"
    }
   ],
   "source": [
    "len(data)"
   ]
  },
  {
   "cell_type": "code",
   "execution_count": 9,
   "id": "78558f08",
   "metadata": {},
   "outputs": [],
   "source": [
    "model_1=gensim.models.Word2Vec(data,min_count=1,vector_size=100,window=5)"
   ]
  },
  {
   "cell_type": "code",
   "execution_count": 10,
   "id": "32561f07",
   "metadata": {},
   "outputs": [
    {
     "name": "stdout",
     "output_type": "stream",
     "text": [
      "Cosine similarity b/w \"Alice\" and 'Wonderland' - CBOW: 0.96845376\n"
     ]
    }
   ],
   "source": [
    "print('Cosine similarity b/w \"Alice\" ' + \"and 'Wonderland' - CBOW:\",model_1.wv.similarity('alice','wonderland'))"
   ]
  },
  {
   "cell_type": "code",
   "execution_count": 11,
   "id": "7e63df42",
   "metadata": {},
   "outputs": [
    {
     "data": {
      "text/plain": [
       "0.8911364"
      ]
     },
     "execution_count": 11,
     "metadata": {},
     "output_type": "execute_result"
    }
   ],
   "source": [
    "model_1.wv.similarity('alice','machines')"
   ]
  },
  {
   "cell_type": "code",
   "execution_count": 12,
   "id": "d270ec08",
   "metadata": {},
   "outputs": [
    {
     "data": {
      "text/plain": [
       "[('through', 0.9956408739089966),\n",
       " ('away', 0.9956294298171997),\n",
       " ('!', 0.9956117868423462),\n",
       " ('each', 0.9956098794937134),\n",
       " ('duchess', 0.9955974221229553),\n",
       " ('ve', 0.9955729246139526),\n",
       " ('our', 0.9955289959907532),\n",
       " (':', 0.9955268502235413),\n",
       " ('at', 0.9955193996429443),\n",
       " ('once', 0.995516836643219)]"
      ]
     },
     "execution_count": 12,
     "metadata": {},
     "output_type": "execute_result"
    }
   ],
   "source": [
    "model_1.wv.similar_by_word('play')"
   ]
  },
  {
   "cell_type": "code",
   "execution_count": 13,
   "id": "87bca54b",
   "metadata": {},
   "outputs": [],
   "source": [
    "\n",
    "model_2=gensim.models.Word2Vec(data,min_count=1,vector_size=100,window=5,sg=1)\n"
   ]
  },
  {
   "cell_type": "code",
   "execution_count": 14,
   "id": "b9bdbb50",
   "metadata": {},
   "outputs": [
    {
     "name": "stdout",
     "output_type": "stream",
     "text": [
      "Cosine similarity b/w \"Alice\" and 'Wonderland' - CBOW: 0.6633441\n"
     ]
    }
   ],
   "source": [
    "print('Cosine similarity b/w \"Alice\" ' + \"and 'Wonderland' - CBOW:\",\n",
    " model_2.wv.similarity('alice','wonderland'))"
   ]
  },
  {
   "cell_type": "code",
   "execution_count": 15,
   "id": "b098b043",
   "metadata": {},
   "outputs": [
    {
     "name": "stdout",
     "output_type": "stream",
     "text": [
      "Cosine similarity b/w \"Alice\" and 'Wonderland' - CBOW: 0.66775084\n"
     ]
    }
   ],
   "source": [
    "model_3=gensim.models.Word2Vec(data,min_count=1,vector_size=100,window=5,sg=2)\n",
    "print('Cosine similarity b/w \"Alice\" ' + \"and 'Wonderland' - CBOW:\",\n",
    " model_3.wv.similarity('alice','wonderland'))\n"
   ]
  },
  {
   "cell_type": "code",
   "execution_count": null,
   "id": "cd589872",
   "metadata": {},
   "outputs": [],
   "source": []
  }
 ],
 "metadata": {
  "kernelspec": {
   "display_name": "Python 3 (ipykernel)",
   "language": "python",
   "name": "python3"
  },
  "language_info": {
   "codemirror_mode": {
    "name": "ipython",
    "version": 3
   },
   "file_extension": ".py",
   "mimetype": "text/x-python",
   "name": "python",
   "nbconvert_exporter": "python",
   "pygments_lexer": "ipython3",
   "version": "3.11.4"
  }
 },
 "nbformat": 4,
 "nbformat_minor": 5
}
