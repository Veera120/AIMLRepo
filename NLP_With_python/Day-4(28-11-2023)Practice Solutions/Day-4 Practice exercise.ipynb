{
 "cells": [
  {
   "cell_type": "code",
   "execution_count": 11,
   "id": "cee7c510",
   "metadata": {},
   "outputs": [],
   "source": [
    "import  nltk"
   ]
  },
  {
   "cell_type": "code",
   "execution_count": 12,
   "id": "6941aa0e",
   "metadata": {},
   "outputs": [
    {
     "name": "stderr",
     "output_type": "stream",
     "text": [
      "[nltk_data] Downloading package stopwords to\n",
      "[nltk_data]     C:\\Users\\user\\AppData\\Roaming\\nltk_data...\n",
      "[nltk_data]   Package stopwords is already up-to-date!\n"
     ]
    },
    {
     "data": {
      "text/plain": [
       "True"
      ]
     },
     "execution_count": 12,
     "metadata": {},
     "output_type": "execute_result"
    }
   ],
   "source": [
    "nltk.download('stopwords')"
   ]
  },
  {
   "cell_type": "code",
   "execution_count": 13,
   "id": "688f78fd",
   "metadata": {},
   "outputs": [
    {
     "name": "stderr",
     "output_type": "stream",
     "text": [
      "[nltk_data] Downloading package words to\n",
      "[nltk_data]     C:\\Users\\user\\AppData\\Roaming\\nltk_data...\n",
      "[nltk_data]   Unzipping corpora\\words.zip.\n"
     ]
    },
    {
     "data": {
      "text/plain": [
       "True"
      ]
     },
     "execution_count": 13,
     "metadata": {},
     "output_type": "execute_result"
    }
   ],
   "source": [
    "nltk.download('words')"
   ]
  },
  {
   "cell_type": "code",
   "execution_count": 14,
   "id": "6153fcfe",
   "metadata": {},
   "outputs": [],
   "source": [
    "# Task 1: Get a list of valid words in the English language\n",
    "valid_words = set(words.words())"
   ]
  },
  {
   "cell_type": "code",
   "execution_count": 15,
   "id": "52770d75",
   "metadata": {},
   "outputs": [],
   "source": [
    "from nltk.corpus import words, stopwords\n",
    "from string import punctuation\n",
    "from collections import defaultdict"
   ]
  },
  {
   "cell_type": "code",
   "execution_count": 17,
   "id": "8e145115",
   "metadata": {},
   "outputs": [
    {
     "name": "stdout",
     "output_type": "stream",
     "text": [
      "['adversifoliate', 'impersonate', 'impenitently', 'nonstatic', 'ratchetlike', 'sunkland', 'biology', 'hexacanthous', 'thyroglossal', 'unsingability', 'chasse', 'paragnathus', 'theophagous', 'geerah', 'neuropathically', 'yodh', 'intrascrotal', 'worldmaking', 'aliency', 'masurium']\n"
     ]
    }
   ],
   "source": [
    "# Task 2: Look at the first 20 words in the list. Is the casing normalized?\n",
    "print(list(valid_words)[:20])\n"
   ]
  },
  {
   "cell_type": "code",
   "execution_count": 18,
   "id": "49173654",
   "metadata": {},
   "outputs": [],
   "source": [
    "# Task 3: Normalize the casing for all the terms.\n",
    "valid_words = set(word.lower() for word in valid_words)\n"
   ]
  },
  {
   "cell_type": "code",
   "execution_count": 19,
   "id": "a3c77326",
   "metadata": {},
   "outputs": [
    {
     "name": "stdout",
     "output_type": "stream",
     "text": [
      "234377\n"
     ]
    }
   ],
   "source": [
    "# Task 4: Create a unique list after normalizing\n",
    "print(len(valid_words))  # Check the length after normalization"
   ]
  },
  {
   "cell_type": "code",
   "execution_count": 20,
   "id": "a089d347",
   "metadata": {},
   "outputs": [],
   "source": [
    "# Task 5: Create a list of stop words\n",
    "stop_words = set(stopwords.words('english') + list(punctuation))"
   ]
  },
  {
   "cell_type": "code",
   "execution_count": 21,
   "id": "c5cf0cd3",
   "metadata": {},
   "outputs": [
    {
     "name": "stdout",
     "output_type": "stream",
     "text": [
      "commuting\n"
     ]
    }
   ],
   "source": [
    "# Task 6: Define a function to get the correct term\n",
    "def get_correct_term(term):\n",
    "    edit_distances = defaultdict(int)\n",
    "    for valid_word in list(valid_words)[:20000]:  # Using the first 20,000 entries\n",
    "        edit_distances[valid_word] = nltk.edit_distance(term, valid_word)\n",
    "    sorted_distances = sorted(edit_distances.items(), key=lambda x: x[1])\n",
    "    return sorted_distances[0][0]\n",
    "\n",
    "# Task 6 (cont.): Using the function, get the correct word for \"committee\"\n",
    "committee_correction = get_correct_term(\"committee\")\n",
    "print(committee_correction)"
   ]
  },
  {
   "cell_type": "code",
   "execution_count": 22,
   "id": "cec612a5",
   "metadata": {},
   "outputs": [],
   "source": [
    "# Task 7: Make a set from the list of valid words\n",
    "valid_words_set = set(valid_words)"
   ]
  },
  {
   "cell_type": "code",
   "execution_count": 23,
   "id": "5b3b34ae",
   "metadata": {},
   "outputs": [],
   "source": [
    "# Task 8: Define a function for spelling correction in any given input sentence\n",
    "def correct_spelling(sentence):\n",
    "    tokens = nltk.word_tokenize(sentence.lower())\n",
    "    corrected_tokens = []\n",
    "    for term in tokens:\n",
    "        if term in valid_words_set:\n",
    "            corrected_tokens.append(term)\n",
    "        else:\n",
    "            corrected_tokens.append(get_correct_term(term))\n",
    "    return ' '.join(corrected_tokens)\n"
   ]
  },
  {
   "cell_type": "code",
   "execution_count": 24,
   "id": "c8e1d287",
   "metadata": {},
   "outputs": [
    {
     "name": "stdout",
     "output_type": "stream",
     "text": [
      "the new aulos is great\n"
     ]
    }
   ],
   "source": [
    "# Task 9: Test the function for the input sentence \"The new abacos is great\"\n",
    "input_sentence = \"The new abacos is great\"\n",
    "output_sentence = correct_spelling(input_sentence)\n",
    "print(output_sentence)"
   ]
  },
  {
   "cell_type": "code",
   "execution_count": null,
   "id": "1c3a4b25",
   "metadata": {},
   "outputs": [],
   "source": []
  }
 ],
 "metadata": {
  "kernelspec": {
   "display_name": "Python 3 (ipykernel)",
   "language": "python",
   "name": "python3"
  },
  "language_info": {
   "codemirror_mode": {
    "name": "ipython",
    "version": 3
   },
   "file_extension": ".py",
   "mimetype": "text/x-python",
   "name": "python",
   "nbconvert_exporter": "python",
   "pygments_lexer": "ipython3",
   "version": "3.11.4"
  }
 },
 "nbformat": 4,
 "nbformat_minor": 5
}
