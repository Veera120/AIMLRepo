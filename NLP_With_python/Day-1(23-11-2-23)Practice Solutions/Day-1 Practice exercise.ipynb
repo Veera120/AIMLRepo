{
 "cells": [
  {
   "cell_type": "markdown",
   "id": "ee669f8d",
   "metadata": {},
   "source": [
    "# 1. What is the purpose of text preprocessing in NLP, and why is it essential before analysis?"
   ]
  },
  {
   "cell_type": "raw",
   "id": "d5a7774f",
   "metadata": {},
   "source": [
    "Text preprocessing is a crucial step in Natural Language Processing (NLP) that involves cleaning and transforming raw text data into a format suitable for analysis. The purpose of text preprocessing is to enhance the quality of the data and reduce its dimensionality, making it easier for machine learning models to extract meaningful patterns. This includes tasks such as removing irrelevant information, handling special characters, converting text to lowercase, and more. Effective text preprocessing improves the performance and efficiency of NLP models."
   ]
  },
  {
   "cell_type": "markdown",
   "id": "3a01ec8f",
   "metadata": {},
   "source": [
    "# 2. Describe tokenization in NLP and explain its significance in text processing."
   ]
  },
  {
   "cell_type": "raw",
   "id": "a7df7b45",
   "metadata": {},
   "source": [
    "Tokenization is the process of breaking down a text into smaller units, such as words or phrases, known as tokens. This is a fundamental step in text processing and analysis. The significance of tokenization lies in converting text into a format that can be easily analyzed and processed by NLP models. It helps in counting words, extracting features, and understanding the structure of sentences"
   ]
  },
  {
   "cell_type": "code",
   "execution_count": 1,
   "id": "d602d895",
   "metadata": {},
   "outputs": [
    {
     "name": "stdout",
     "output_type": "stream",
     "text": [
      "['Tokenization', 'is', 'an', 'essential', 'step', 'in', 'NLP', '.']\n"
     ]
    }
   ],
   "source": [
    "from nltk.tokenize import word_tokenize\n",
    "\n",
    "text = \"Tokenization is an essential step in NLP.\"\n",
    "tokens = word_tokenize(text)\n",
    "print(tokens)\n"
   ]
  },
  {
   "cell_type": "markdown",
   "id": "13e53cb3",
   "metadata": {},
   "source": [
    "# 3. What are the differences between stemming and lemmatization in NLP? When would you choose one over the other?"
   ]
  },
  {
   "cell_type": "markdown",
   "id": "adb518e6",
   "metadata": {},
   "source": [
    "Differences Between Stemming and Lemmatization:\n",
    "\n",
    "Stemming: Involves reducing words to their root or base form by removing suffixes. It may result in the creation of non-words.\n",
    "Lemmatization: Involves reducing words to their base or dictionary form (lemma). It provides grammatically correct words.\n",
    "Choose stemming when you need speed and a less complex representation. Choose lemmatization for tasks where grammatically correct words are essential, such as language generation."
   ]
  },
  {
   "cell_type": "code",
   "execution_count": 2,
   "id": "c096de5b",
   "metadata": {},
   "outputs": [
    {
     "name": "stdout",
     "output_type": "stream",
     "text": [
      "Stemmed: run\n",
      "Lemmatized: run\n"
     ]
    }
   ],
   "source": [
    "from nltk.stem import PorterStemmer, WordNetLemmatizer\n",
    "stemmer = PorterStemmer()\n",
    "lemmatizer = WordNetLemmatizer()\n",
    "\n",
    "word = \"running\"\n",
    "print(\"Stemmed:\", stemmer.stem(word))\n",
    "print(\"Lemmatized:\", lemmatizer.lemmatize(word, pos='v'))\n"
   ]
  },
  {
   "cell_type": "markdown",
   "id": "9f10e4fe",
   "metadata": {},
   "source": [
    "# 4. Explain the concept of stop words and their role in text preprocessing. How do they impact NLP tasks?"
   ]
  },
  {
   "cell_type": "markdown",
   "id": "253258ae",
   "metadata": {},
   "source": [
    "Stop words are common words (e.g., \"the,\" \"and\") that are often removed during text preprocessing. They don't contribute much to the meaning of the text but can impact processing time and model performance."
   ]
  },
  {
   "cell_type": "code",
   "execution_count": 3,
   "id": "7b7ff36c",
   "metadata": {},
   "outputs": [
    {
     "name": "stdout",
     "output_type": "stream",
     "text": [
      "['example', 'sentence', 'stop', 'words', '.']\n"
     ]
    }
   ],
   "source": [
    "from nltk.corpus import stopwords\n",
    "from nltk.tokenize import word_tokenize\n",
    "\n",
    "text = \"This is an example sentence with some stop words.\"\n",
    "stop_words = set(stopwords.words('english'))\n",
    "words = word_tokenize(text)\n",
    "filtered_words = [word for word in words if word.lower() not in stop_words]\n",
    "print(filtered_words)\n"
   ]
  },
  {
   "cell_type": "markdown",
   "id": "4a4666f3",
   "metadata": {},
   "source": [
    "# 5. How does the process of removing punctuation contribute to text preprocessing in NLP? What are its benefits?"
   ]
  },
  {
   "cell_type": "code",
   "execution_count": 4,
   "id": "055aed49",
   "metadata": {},
   "outputs": [
    {
     "name": "stdout",
     "output_type": "stream",
     "text": [
      "This is an example sentence with punctuation\n"
     ]
    }
   ],
   "source": [
    "#Removing punctuation helps simplify text and ensures that words are processed consistently. It prevents misinterpretation of words due to attached punctuation marks.\n",
    "import string\n",
    "\n",
    "text = \"This is an example sentence with punctuation!\"\n",
    "text_no_punct = text.translate(str.maketrans(\"\", \"\", string.punctuation))\n",
    "print(text_no_punct)\n"
   ]
  },
  {
   "cell_type": "markdown",
   "id": "efbd71b0",
   "metadata": {},
   "source": [
    "# 6. Discuss the importance of lowercase conversion in text preprocessing. Why is it a common step in NLP tasks?"
   ]
  },
  {
   "cell_type": "code",
   "execution_count": 5,
   "id": "8a8336ee",
   "metadata": {},
   "outputs": [
    {
     "name": "stdout",
     "output_type": "stream",
     "text": [
      "this is an example sentence.\n"
     ]
    }
   ],
   "source": [
    "#Converting text to lowercase is essential for consistency. It ensures that words are treated the same regardless of their original case. \n",
    "text = \"This is an Example Sentence.\"\n",
    "text_lower = text.lower()\n",
    "print(text_lower)\n"
   ]
  },
  {
   "cell_type": "markdown",
   "id": "86d416dc",
   "metadata": {},
   "source": [
    "# 7. Explain the term \"vectorization\" concerning text data. How does techniques like CountVectorizer contribute to text preprocessing in NLP?"
   ]
  },
  {
   "cell_type": "code",
   "execution_count": 6,
   "id": "a8d1bb29",
   "metadata": {},
   "outputs": [
    {
     "name": "stdout",
     "output_type": "stream",
     "text": [
      "[[1 1 1 0 1 1]\n",
      " [2 0 1 1 1 1]]\n"
     ]
    }
   ],
   "source": [
    "#Vectorization is the process of converting text data into numerical vectors that machine learning models can understand. Techniques like CountVectorizer represent text as a matrix of word counts.\n",
    "from sklearn.feature_extraction.text import CountVectorizer\n",
    "\n",
    "corpus = [\"This is the first document.\", \"This document is the second document.\"]\n",
    "vectorizer = CountVectorizer()\n",
    "X = vectorizer.fit_transform(corpus)\n",
    "print(X.toarray())\n"
   ]
  },
  {
   "cell_type": "markdown",
   "id": "46b64434",
   "metadata": {},
   "source": [
    "# 8. Describe the concept of normalization in NLP. Provide examples of normalization techniques used in text preprocessing."
   ]
  },
  {
   "cell_type": "code",
   "execution_count": 7,
   "id": "6b760053",
   "metadata": {},
   "outputs": [
    {
     "name": "stdout",
     "output_type": "stream",
     "text": [
      "run\n"
     ]
    }
   ],
   "source": [
    "#Normalization involves transforming text to a standard form, often by converting numbers, dates, and other entities to a common representation. Examples include stemming, lemmatization, and converting dates to a consistent format.\n",
    "from nltk.stem import PorterStemmer\n",
    "\n",
    "stemmer = PorterStemmer()\n",
    "word = \"running\"\n",
    "normalized_word = stemmer.stem(word)\n",
    "print(normalized_word)\n"
   ]
  },
  {
   "cell_type": "code",
   "execution_count": null,
   "id": "32b29cd3",
   "metadata": {},
   "outputs": [],
   "source": []
  }
 ],
 "metadata": {
  "kernelspec": {
   "display_name": "Python 3 (ipykernel)",
   "language": "python",
   "name": "python3"
  },
  "language_info": {
   "codemirror_mode": {
    "name": "ipython",
    "version": 3
   },
   "file_extension": ".py",
   "mimetype": "text/x-python",
   "name": "python",
   "nbconvert_exporter": "python",
   "pygments_lexer": "ipython3",
   "version": "3.11.4"
  }
 },
 "nbformat": 4,
 "nbformat_minor": 5
}
