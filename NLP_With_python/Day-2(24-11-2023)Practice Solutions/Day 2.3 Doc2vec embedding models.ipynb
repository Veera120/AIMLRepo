{
 "cells": [
  {
   "cell_type": "markdown",
   "id": "8c287dfd",
   "metadata": {},
   "source": [
    "# Doc2Vec:"
   ]
  },
  {
   "cell_type": "code",
   "execution_count": 1,
   "id": "342a27dd",
   "metadata": {},
   "outputs": [
    {
     "name": "stdout",
     "output_type": "stream",
     "text": [
      "[TaggedDocument(words=['word', 'embeddings', 'capture', 'semantic', 'relationships', '.'], tags=['0']), TaggedDocument(words=['word2vec', 'is', 'a', 'popular', 'technique', 'in', 'nlp'], tags=['1']), TaggedDocument(words=['word', 'embedding', 'model', 'in', 'a', 'continuos', 'vector', 'space'], tags=['2'])]\n"
     ]
    }
   ],
   "source": [
    "from gensim.models import Doc2Vec\n",
    "from gensim.models.doc2vec import TaggedDocument\n",
    "from nltk.tokenize import word_tokenize\n",
    "#sample text\n",
    "documents=['Word embeddings capture semantic relationships.','Word2vec is a popular technique in nlp','Word embedding model in a continuos vector space']\n",
    "#Tokenize & tag documents\n",
    "tagged_data=[TaggedDocument(words=word_tokenize(doc.lower()),\n",
    " tags=[str(i)]) for i,doc in enumerate(documents)]\n",
    "print(tagged_data)\n"
   ]
  },
  {
   "cell_type": "code",
   "execution_count": 2,
   "id": "fd586f36",
   "metadata": {},
   "outputs": [],
   "source": [
    "#Train Doc2vec model\n",
    "model=Doc2Vec(vector_size=100,window=2,min_count=1,workers=5,epochs=20)\n",
    "model.build_vocab(tagged_data)\n",
    "model.train(tagged_data,total_examples=model.corpus_count,epochs=model.epochs)\n"
   ]
  },
  {
   "cell_type": "code",
   "execution_count": 3,
   "id": "27e1da08",
   "metadata": {},
   "outputs": [],
   "source": [
    "vector_doc_1=model.infer_vector(word_tokenize(\"Word embeddings capture semantic relationships\"))\n"
   ]
  },
  {
   "cell_type": "code",
   "execution_count": 4,
   "id": "fa41c5ee",
   "metadata": {},
   "outputs": [
    {
     "data": {
      "text/plain": [
       "array([ 1.4858287e-03,  4.3309378e-03,  4.8580058e-03,  4.6080877e-03,\n",
       "        4.7224071e-03, -3.7328645e-03,  5.9997925e-04,  1.1219861e-03,\n",
       "        3.3011371e-03,  4.4605951e-03, -2.8972379e-03,  3.8058401e-04,\n",
       "        3.1794840e-03,  7.1267312e-04,  3.5283803e-03,  4.6716621e-03,\n",
       "       -1.0399126e-03, -1.1063173e-03,  1.6708179e-04,  5.1235978e-04,\n",
       "       -7.5449765e-04, -2.8153369e-03, -4.3877601e-03, -1.8454962e-03,\n",
       "        3.5527940e-03, -2.3834587e-03,  2.7949261e-03,  3.8147878e-03,\n",
       "       -3.1494582e-03,  2.4625412e-03, -3.0195126e-03,  1.9766595e-03,\n",
       "        5.0237385e-04, -3.9802552e-03, -1.9444770e-03,  5.7398051e-04,\n",
       "       -2.0197798e-03, -3.6298111e-03,  1.2049275e-04,  9.8978064e-04,\n",
       "        3.0638741e-03,  2.4210254e-03,  7.6868286e-04, -2.0032742e-03,\n",
       "       -9.0972474e-04, -2.7712705e-03, -4.2153765e-03,  1.5046803e-03,\n",
       "       -4.0965718e-03,  3.0679523e-03, -4.5472756e-03, -5.2352599e-04,\n",
       "        2.4410458e-03, -2.6473154e-03, -2.4189211e-03, -1.0304063e-03,\n",
       "       -1.0612463e-03, -3.7962752e-03,  2.1156228e-04,  2.2381251e-03,\n",
       "       -4.0129563e-03,  2.8547035e-03,  1.4078956e-03,  2.5354517e-05,\n",
       "        1.4999235e-03, -1.5796177e-03,  4.2430116e-03,  2.8503682e-03,\n",
       "       -3.9319452e-03,  1.6330989e-03, -4.3765395e-03, -2.7274729e-03,\n",
       "        1.6707829e-03,  3.8394008e-03, -8.9900568e-04, -3.6960884e-03,\n",
       "       -2.2640936e-03,  4.2115287e-03,  1.9483925e-03,  3.1895640e-03,\n",
       "        2.5388571e-03,  2.4790757e-03, -4.4405786e-03, -1.0647592e-03,\n",
       "       -3.8187460e-03, -1.0558224e-03, -1.5088541e-03,  3.2374731e-03,\n",
       "       -1.6535389e-03, -2.2991102e-03, -4.3203803e-03, -6.7953195e-04,\n",
       "        4.3312060e-03,  3.5202417e-03,  1.1203630e-03,  3.6648326e-03,\n",
       "        1.9241155e-03, -4.3598982e-03, -1.6303734e-03,  1.8420407e-03],\n",
       "      dtype=float32)"
      ]
     },
     "execution_count": 4,
     "metadata": {},
     "output_type": "execute_result"
    }
   ],
   "source": [
    "vector_doc_1"
   ]
  },
  {
   "cell_type": "code",
   "execution_count": 5,
   "id": "0014d4b8",
   "metadata": {},
   "outputs": [
    {
     "name": "stdout",
     "output_type": "stream",
     "text": [
      "vector for 'Word embeddings capture semantic relationships.':[ 1.4858287e-03  4.3309378e-03  4.8580058e-03  4.6080877e-03\n",
      "  4.7224071e-03 -3.7328645e-03  5.9997925e-04  1.1219861e-03\n",
      "  3.3011371e-03  4.4605951e-03 -2.8972379e-03  3.8058401e-04\n",
      "  3.1794840e-03  7.1267312e-04  3.5283803e-03  4.6716621e-03\n",
      " -1.0399126e-03 -1.1063173e-03  1.6708179e-04  5.1235978e-04\n",
      " -7.5449765e-04 -2.8153369e-03 -4.3877601e-03 -1.8454962e-03\n",
      "  3.5527940e-03 -2.3834587e-03  2.7949261e-03  3.8147878e-03\n",
      " -3.1494582e-03  2.4625412e-03 -3.0195126e-03  1.9766595e-03\n",
      "  5.0237385e-04 -3.9802552e-03 -1.9444770e-03  5.7398051e-04\n",
      " -2.0197798e-03 -3.6298111e-03  1.2049275e-04  9.8978064e-04\n",
      "  3.0638741e-03  2.4210254e-03  7.6868286e-04 -2.0032742e-03\n",
      " -9.0972474e-04 -2.7712705e-03 -4.2153765e-03  1.5046803e-03\n",
      " -4.0965718e-03  3.0679523e-03 -4.5472756e-03 -5.2352599e-04\n",
      "  2.4410458e-03 -2.6473154e-03 -2.4189211e-03 -1.0304063e-03\n",
      " -1.0612463e-03 -3.7962752e-03  2.1156228e-04  2.2381251e-03\n",
      " -4.0129563e-03  2.8547035e-03  1.4078956e-03  2.5354517e-05\n",
      "  1.4999235e-03 -1.5796177e-03  4.2430116e-03  2.8503682e-03\n",
      " -3.9319452e-03  1.6330989e-03 -4.3765395e-03 -2.7274729e-03\n",
      "  1.6707829e-03  3.8394008e-03 -8.9900568e-04 -3.6960884e-03\n",
      " -2.2640936e-03  4.2115287e-03  1.9483925e-03  3.1895640e-03\n",
      "  2.5388571e-03  2.4790757e-03 -4.4405786e-03 -1.0647592e-03\n",
      " -3.8187460e-03 -1.0558224e-03 -1.5088541e-03  3.2374731e-03\n",
      " -1.6535389e-03 -2.2991102e-03 -4.3203803e-03 -6.7953195e-04\n",
      "  4.3312060e-03  3.5202417e-03  1.1203630e-03  3.6648326e-03\n",
      "  1.9241155e-03 -4.3598982e-03 -1.6303734e-03  1.8420407e-03]\n",
      "\n",
      "Most similar document:[('2', 0.2244594842195511), ('1', 0.014004550874233246), ('0', -0.08182039856910706)]\n"
     ]
    },
    {
     "name": "stderr",
     "output_type": "stream",
     "text": [
      "C:\\Users\\user\\AppData\\Local\\Temp\\ipykernel_992\\132176077.py:2: DeprecationWarning: Call to deprecated `docvecs` (The `docvecs` property has been renamed `dv`.).\n",
      "  similar_doc=model.docvecs.most_similar(positive=[vector_doc_1])\n"
     ]
    }
   ],
   "source": [
    "#find the most similar document\n",
    "similar_doc=model.docvecs.most_similar(positive=[vector_doc_1])\n",
    "print(f\"vector for 'Word embeddings capture semantic relationships.':{vector_doc_1}\")\n",
    "print()\n",
    "print(f\"Most similar document:{similar_doc}\")\n"
   ]
  },
  {
   "cell_type": "code",
   "execution_count": null,
   "id": "c25b563a",
   "metadata": {},
   "outputs": [],
   "source": []
  }
 ],
 "metadata": {
  "kernelspec": {
   "display_name": "Python 3 (ipykernel)",
   "language": "python",
   "name": "python3"
  },
  "language_info": {
   "codemirror_mode": {
    "name": "ipython",
    "version": 3
   },
   "file_extension": ".py",
   "mimetype": "text/x-python",
   "name": "python",
   "nbconvert_exporter": "python",
   "pygments_lexer": "ipython3",
   "version": "3.11.4"
  }
 },
 "nbformat": 4,
 "nbformat_minor": 5
}
