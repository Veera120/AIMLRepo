{
 "cells": [
  {
   "cell_type": "code",
   "execution_count": 3,
   "id": "91054b12",
   "metadata": {},
   "outputs": [],
   "source": [
    "import numpy as np\n",
    "from tensorflow import keras\n",
    "from tensorflow.keras.utils import to_categorical\n",
    "from tensorflow.keras.optimizers import Adam\n",
    "from tensorflow.keras import layers\n",
    "from tensorflow.keras.datasets import mnist\n",
    "from keras_tuner import RandomSearch"
   ]
  },
  {
   "cell_type": "code",
   "execution_count": 2,
   "id": "73abf4f1",
   "metadata": {},
   "outputs": [],
   "source": [
    "Trails=3\n",
    "epochs=2"
   ]
  },
  {
   "cell_type": "code",
   "execution_count": 4,
   "id": "48a1db06",
   "metadata": {},
   "outputs": [],
   "source": [
    "(xtrain,ytrain),(xval,yval)=mnist.load_data()\n",
    "xtrain=np.expand_dims(xtrain.astype('float32')/255.,-1)\n",
    "xval=np.expand_dims(xval.astype('float32')/255.,-1)\n",
    "ytrain=to_categorical(ytrain,10)\n",
    "yval=to_categorical(yval,10)"
   ]
  },
  {
   "cell_type": "code",
   "execution_count": 5,
   "id": "e22f3ff4",
   "metadata": {},
   "outputs": [],
   "source": [
    "def build_model(hp):\n",
    "    num_layers=hp.Int('num_layers',2,8,default=6)\n",
    "    lr=hp.Choice('learning_rate',[0.0001,0.05])\n",
    "    inputs=layers.Input(shape=(28,28,1))\n",
    "    x=inputs\n",
    "    for idx in range(num_layers):\n",
    "        idx=str(idx)\n",
    "        \n",
    "        filters=hp.Int('filters_'+idx,32,256,step=32,default=64)\n",
    "        x=layers.Conv2D(filters=filters,kernel_size=3,padding='same',activation='relu')(x)\n",
    "        \n",
    "        if x.shape[1]>=8:\n",
    "            pool_type=hp.Choice('pool_'+idx,values=['max','avg'])\n",
    "            if pool_type=='max':\n",
    "                x=layers.MaxPooling2D(2)(x)\n",
    "            elif pool_type =='avg':\n",
    "                x=layers.AveragePooling2D(2)(x)\n",
    "                \n",
    "    x=layers.Flatten()(x)\n",
    "    outputs=layers.Dense(10,activation='softmax')(x)\n",
    "    \n",
    "    #Build model\n",
    "    model=keras.Model(inputs,outputs)\n",
    "    model.compile(optimizer=Adam(lr),loss='categorical_crossentropy',metrics=['accuracy'])\n",
    "    return model"
   ]
  },
  {
   "cell_type": "code",
   "execution_count": 6,
   "id": "4b6da29f",
   "metadata": {},
   "outputs": [
    {
     "name": "stdout",
     "output_type": "stream",
     "text": [
      "Reloading Tuner from .\\MNIST_results\\tuner0.json\n"
     ]
    }
   ],
   "source": [
    "tuner=RandomSearch(build_model,objective='val_accuracy',max_trials=Trails,project_name='MNIST_results')"
   ]
  },
  {
   "cell_type": "code",
   "execution_count": 7,
   "id": "99fecbd6",
   "metadata": {},
   "outputs": [
    {
     "name": "stdout",
     "output_type": "stream",
     "text": [
      "Search space summary\n",
      "Default search space size: 10\n",
      "num_layers (Int)\n",
      "{'default': 6, 'conditions': [], 'min_value': 2, 'max_value': 8, 'step': 1, 'sampling': 'linear'}\n",
      "learning_rate (Choice)\n",
      "{'default': 0.0001, 'conditions': [], 'values': [0.0001, 0.05], 'ordered': True}\n",
      "filters_0 (Int)\n",
      "{'default': 64, 'conditions': [], 'min_value': 32, 'max_value': 256, 'step': 32, 'sampling': 'linear'}\n",
      "pool_0 (Choice)\n",
      "{'default': 'max', 'conditions': [], 'values': ['max', 'avg'], 'ordered': False}\n",
      "filters_1 (Int)\n",
      "{'default': 64, 'conditions': [], 'min_value': 32, 'max_value': 256, 'step': 32, 'sampling': 'linear'}\n",
      "pool_1 (Choice)\n",
      "{'default': 'max', 'conditions': [], 'values': ['max', 'avg'], 'ordered': False}\n",
      "filters_2 (Int)\n",
      "{'default': 64, 'conditions': [], 'min_value': 32, 'max_value': 256, 'step': 32, 'sampling': 'linear'}\n",
      "filters_3 (Int)\n",
      "{'default': 64, 'conditions': [], 'min_value': 32, 'max_value': 256, 'step': 32, 'sampling': 'linear'}\n",
      "filters_4 (Int)\n",
      "{'default': 64, 'conditions': [], 'min_value': 32, 'max_value': 256, 'step': 32, 'sampling': 'linear'}\n",
      "filters_5 (Int)\n",
      "{'default': 64, 'conditions': [], 'min_value': 32, 'max_value': 256, 'step': 32, 'sampling': 'linear'}\n"
     ]
    }
   ],
   "source": [
    "tuner.search_space_summary()"
   ]
  },
  {
   "cell_type": "code",
   "execution_count": 8,
   "id": "8fc49fae",
   "metadata": {},
   "outputs": [
    {
     "name": "stdout",
     "output_type": "stream",
     "text": [
      "Trial 3 Complete [00h 28m 39s]\n",
      "val_accuracy: 0.9818999767303467\n",
      "\n",
      "Best val_accuracy So Far: 0.9818999767303467\n",
      "Total elapsed time: 01h 01m 46s\n"
     ]
    }
   ],
   "source": [
    "tuner.search(xtrain,ytrain,batch_size=128,epochs=2,validation_data=(xval,yval))"
   ]
  },
  {
   "cell_type": "code",
   "execution_count": 9,
   "id": "112bff10",
   "metadata": {},
   "outputs": [
    {
     "name": "stdout",
     "output_type": "stream",
     "text": [
      "Results summary\n",
      "Results in .\\MNIST_results\n",
      "Showing 10 best trials\n",
      "Objective(name=\"val_accuracy\", direction=\"max\")\n",
      "\n",
      "Trial 2 summary\n",
      "Hyperparameters:\n",
      "num_layers: 5\n",
      "learning_rate: 0.0001\n",
      "filters_0: 160\n",
      "pool_0: max\n",
      "filters_1: 256\n",
      "pool_1: max\n",
      "filters_2: 64\n",
      "filters_3: 160\n",
      "filters_4: 160\n",
      "filters_5: 224\n",
      "Score: 0.9818999767303467\n",
      "\n",
      "Trial 0 summary\n",
      "Hyperparameters:\n",
      "num_layers: 5\n",
      "learning_rate: 0.05\n",
      "filters_0: 160\n",
      "pool_0: max\n",
      "filters_1: 128\n",
      "pool_1: avg\n",
      "filters_2: 128\n",
      "filters_3: 64\n",
      "filters_4: 32\n",
      "filters_5: 32\n",
      "Score: 0.11349999904632568\n",
      "\n",
      "Trial 1 summary\n",
      "Hyperparameters:\n",
      "num_layers: 4\n",
      "learning_rate: 0.05\n",
      "filters_0: 64\n",
      "pool_0: avg\n",
      "filters_1: 224\n",
      "pool_1: avg\n",
      "filters_2: 224\n",
      "filters_3: 32\n",
      "filters_4: 96\n",
      "filters_5: 64\n",
      "Score: 0.10100000351667404\n"
     ]
    }
   ],
   "source": [
    "tuner.results_summary()"
   ]
  },
  {
   "cell_type": "code",
   "execution_count": 10,
   "id": "32db2de8",
   "metadata": {},
   "outputs": [
    {
     "name": "stdout",
     "output_type": "stream",
     "text": [
      "Model: \"model\"\n",
      "_________________________________________________________________\n",
      " Layer (type)                Output Shape              Param #   \n",
      "=================================================================\n",
      " input_1 (InputLayer)        [(None, 28, 28, 1)]       0         \n",
      "                                                                 \n",
      " conv2d (Conv2D)             (None, 28, 28, 160)       1600      \n",
      "                                                                 \n",
      " max_pooling2d (MaxPooling2  (None, 14, 14, 160)       0         \n",
      " D)                                                              \n",
      "                                                                 \n",
      " conv2d_1 (Conv2D)           (None, 14, 14, 256)       368896    \n",
      "                                                                 \n",
      " max_pooling2d_1 (MaxPoolin  (None, 7, 7, 256)         0         \n",
      " g2D)                                                            \n",
      "                                                                 \n",
      " conv2d_2 (Conv2D)           (None, 7, 7, 64)          147520    \n",
      "                                                                 \n",
      " conv2d_3 (Conv2D)           (None, 7, 7, 160)         92320     \n",
      "                                                                 \n",
      " conv2d_4 (Conv2D)           (None, 7, 7, 160)         230560    \n",
      "                                                                 \n",
      " flatten (Flatten)           (None, 7840)              0         \n",
      "                                                                 \n",
      " dense (Dense)               (None, 10)                78410     \n",
      "                                                                 \n",
      "=================================================================\n",
      "Total params: 919306 (3.51 MB)\n",
      "Trainable params: 919306 (3.51 MB)\n",
      "Non-trainable params: 0 (0.00 Byte)\n",
      "_________________________________________________________________\n"
     ]
    }
   ],
   "source": [
    "best_model=tuner.get_best_models(num_models=1)[0]\n",
    "best_model.summary()"
   ]
  },
  {
   "cell_type": "code",
   "execution_count": null,
   "id": "f7956bd0",
   "metadata": {},
   "outputs": [],
   "source": []
  }
 ],
 "metadata": {
  "kernelspec": {
   "display_name": "Python 3 (ipykernel)",
   "language": "python",
   "name": "python3"
  },
  "language_info": {
   "codemirror_mode": {
    "name": "ipython",
    "version": 3
   },
   "file_extension": ".py",
   "mimetype": "text/x-python",
   "name": "python",
   "nbconvert_exporter": "python",
   "pygments_lexer": "ipython3",
   "version": "3.11.5"
  }
 },
 "nbformat": 4,
 "nbformat_minor": 5
}
