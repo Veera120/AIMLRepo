{
 "cells": [
  {
   "cell_type": "code",
   "execution_count": 1,
   "id": "5022adf9",
   "metadata": {},
   "outputs": [],
   "source": [
    "from IPython.display import Image\n",
    "%matplotlib inline\n"
   ]
  },
  {
   "cell_type": "markdown",
   "id": "474d9c07",
   "metadata": {},
   "source": [
    "# Upsample the layer"
   ]
  },
  {
   "cell_type": "code",
   "execution_count": 2,
   "id": "b7de0836",
   "metadata": {},
   "outputs": [
    {
     "name": "stdout",
     "output_type": "stream",
     "text": [
      "Input Array:\n",
      " [[1 2]\n",
      " [3 4]]\n",
      "\n",
      "After Reshape:\n",
      " [[[[1]\n",
      "   [2]]\n",
      "\n",
      "  [[3]\n",
      "   [4]]]] (1, 2, 2, 1)\n",
      "Model: \"sequential\"\n",
      "_________________________________________________________________\n",
      " Layer (type)                Output Shape              Param #   \n",
      "=================================================================\n",
      " up_sampling2d (UpSampling2  (None, 4, 4, 1)           0         \n",
      " D)                                                              \n",
      "                                                                 \n",
      "=================================================================\n",
      "Total params: 0 (0.00 Byte)\n",
      "Trainable params: 0 (0.00 Byte)\n",
      "Non-trainable params: 0 (0.00 Byte)\n",
      "_________________________________________________________________\n",
      "1/1 [==============================] - 0s 288ms/step\n",
      "Upsampled Array:\n",
      " [[1. 1. 2. 2.]\n",
      " [1. 1. 2. 2.]\n",
      " [3. 3. 4. 4.]\n",
      " [3. 3. 4. 4.]]\n"
     ]
    }
   ],
   "source": [
    "#Upsample the layer\n",
    "from numpy import asarray\n",
    "from keras.models import Sequential\n",
    "from keras.layers import UpSampling2D\n",
    "#define input\n",
    "x=asarray([[1,2],[3,4]])\n",
    "print('Input Array:\\n',x)\n",
    "print()\n",
    "#reshape\n",
    "x=x.reshape((1,2,2,1))\n",
    "print('After Reshape:\\n',x,x.shape)\n",
    "#define model\n",
    "model=Sequential()\n",
    "model.add(UpSampling2D(input_shape=(2,2,1)))\n",
    "#summarize the model\n",
    "model.summary()\n",
    "ypred=model.predict(x)\n",
    "ypred=ypred.reshape((4,4))\n",
    "print('Upsampled Array:\\n',ypred)\n"
   ]
  },
  {
   "cell_type": "code",
   "execution_count": 3,
   "id": "857c7670",
   "metadata": {},
   "outputs": [
    {
     "name": "stdout",
     "output_type": "stream",
     "text": [
      "Model: \"sequential_1\"\n",
      "_________________________________________________________________\n",
      " Layer (type)                Output Shape              Param #   \n",
      "=================================================================\n",
      " dense (Dense)               (None, 3200)              323200    \n",
      "                                                                 \n",
      " reshape (Reshape)           (None, 5, 5, 128)         0         \n",
      "                                                                 \n",
      " up_sampling2d_1 (UpSamplin  (None, 10, 10, 128)       0         \n",
      " g2D)                                                            \n",
      "                                                                 \n",
      " conv2d (Conv2D)             (None, 10, 10, 1)         1153      \n",
      "                                                                 \n",
      "=================================================================\n",
      "Total params: 324353 (1.24 MB)\n",
      "Trainable params: 324353 (1.24 MB)\n",
      "Non-trainable params: 0 (0.00 Byte)\n",
      "_________________________________________________________________\n"
     ]
    }
   ],
   "source": [
    "#sample model\n",
    "from numpy import asarray\n",
    "from keras.models import Sequential\n",
    "from keras.layers import UpSampling2D\n",
    "from keras.layers import Dense,Conv2D,Reshape\n",
    "model=Sequential()\n",
    "model.add(Dense(128*5*5,input_dim=100))\n",
    "model.add(Reshape((5,5,128)))\n",
    "model.add(UpSampling2D())\n",
    "model.add(Conv2D(1,(3,3),padding='same'))\n",
    "model.summary()"
   ]
  },
  {
   "cell_type": "markdown",
   "id": "fcef1c0f",
   "metadata": {},
   "source": [
    "# 2. Transpose Convolutional Layer"
   ]
  },
  {
   "cell_type": "code",
   "execution_count": 4,
   "id": "a3d03fc0",
   "metadata": {},
   "outputs": [
    {
     "name": "stdout",
     "output_type": "stream",
     "text": [
      "Input Array:\n",
      " [[1 2]\n",
      " [3 4]]\n",
      "\n",
      "After Reshape:\n",
      " [[[[1]\n",
      "   [2]]\n",
      "\n",
      "  [[3]\n",
      "   [4]]]] (1, 2, 2, 1)\n",
      "Model: \"sequential_2\"\n",
      "_________________________________________________________________\n",
      " Layer (type)                Output Shape              Param #   \n",
      "=================================================================\n",
      " conv2d_transpose (Conv2DTr  (None, 4, 4, 1)           2         \n",
      " anspose)                                                        \n",
      "                                                                 \n",
      "=================================================================\n",
      "Total params: 2 (8.00 Byte)\n",
      "Trainable params: 2 (8.00 Byte)\n",
      "Non-trainable params: 0 (0.00 Byte)\n",
      "_________________________________________________________________\n",
      "1/1 [==============================] - 0s 124ms/step\n",
      "Transposed Array:\n",
      " [[1. 0. 2. 0.]\n",
      " [0. 0. 0. 0.]\n",
      " [3. 0. 4. 0.]\n",
      " [0. 0. 0. 0.]]\n"
     ]
    }
   ],
   "source": [
    "#Transpose Convolutional Layer\n",
    "from numpy import asarray\n",
    "from keras.models import Sequential\n",
    "from keras.layers import UpSampling2D\n",
    "from keras.layers import Conv2DTranspose\n",
    "x=asarray([[1,2],[3,4]])\n",
    "print('Input Array:\\n',x)\n",
    "print()\n",
    "#reshape\n",
    "x=x.reshape((1,2,2,1))\n",
    "print('After Reshape:\\n',x,x.shape)\n",
    "#define model\n",
    "model=Sequential()\n",
    "model.add(Conv2DTranspose(1,(1,1),strides=(2,2),input_shape=(2,2,1)))\n",
    "#summarize the model\n",
    "model.summary()\n",
    "weights=[asarray([[[[1]]]]),asarray([0])]\n",
    "model.set_weights(weights)\n",
    "ypred=model.predict(x)\n",
    "ypred=ypred.reshape((4,4))\n",
    "print('Transposed Array:\\n',ypred)"
   ]
  },
  {
   "cell_type": "code",
   "execution_count": null,
   "id": "f0d1aa3a",
   "metadata": {},
   "outputs": [],
   "source": []
  }
 ],
 "metadata": {
  "kernelspec": {
   "display_name": "Python 3 (ipykernel)",
   "language": "python",
   "name": "python3"
  },
  "language_info": {
   "codemirror_mode": {
    "name": "ipython",
    "version": 3
   },
   "file_extension": ".py",
   "mimetype": "text/x-python",
   "name": "python",
   "nbconvert_exporter": "python",
   "pygments_lexer": "ipython3",
   "version": "3.11.5"
  }
 },
 "nbformat": 4,
 "nbformat_minor": 5
}
