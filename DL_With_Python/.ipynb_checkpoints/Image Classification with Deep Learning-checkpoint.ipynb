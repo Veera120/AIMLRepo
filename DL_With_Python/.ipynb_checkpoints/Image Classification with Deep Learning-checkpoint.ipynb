{
 "cells": [
  {
   "cell_type": "code",
   "execution_count": 1,
   "id": "5c359d0e",
   "metadata": {},
   "outputs": [],
   "source": [
    "import tensorflow as tf\n",
    "from tensorflow.keras.models import Sequential\n",
    "from tensorflow.keras.layers import Conv2D, MaxPooling2D, Flatten, Dense\n",
    "from tensorflow.keras.preprocessing.image import ImageDataGenerator\n"
   ]
  },
  {
   "cell_type": "code",
   "execution_count": null,
   "id": "b824f948",
   "metadata": {},
   "outputs": [
    {
     "name": "stdout",
     "output_type": "stream",
     "text": [
      "Downloading data from https://www.cs.toronto.edu/~kriz/cifar-10-python.tar.gz\n",
      "127639552/170498071 [=====================>........] - ETA: 34s"
     ]
    }
   ],
   "source": [
    "# Example: Loading data using Keras\n",
    "(train_images, train_labels), (test_images, test_labels) = tf.keras.datasets.cifar10.load_data()\n",
    "\n",
    "# Normalize pixel values to be between 0 and 1\n",
    "train_images, test_images = train_images / 255.0, test_images / 255.0\n"
   ]
  },
  {
   "cell_type": "code",
   "execution_count": 3,
   "id": "ca027a68",
   "metadata": {},
   "outputs": [],
   "source": [
    "model = Sequential([\n",
    "    Conv2D(32, (3, 3), activation='relu', input_shape=(32, 32, 3)),\n",
    "    MaxPooling2D((2, 2)),\n",
    "    Conv2D(64, (3, 3), activation='relu'),\n",
    "    MaxPooling2D((2, 2)),\n",
    "    Conv2D(64, (3, 3), activation='relu'),\n",
    "    Flatten(),\n",
    "    Dense(64, activation='relu'),\n",
    "    Dense(10, activation='softmax')\n",
    "])\n"
   ]
  },
  {
   "cell_type": "code",
   "execution_count": 4,
   "id": "87c72175",
   "metadata": {},
   "outputs": [
    {
     "name": "stdout",
     "output_type": "stream",
     "text": [
      "Epoch 1/10\n",
      "1563/1563 [==============================] - 54s 30ms/step - loss: 1.5328 - accuracy: 0.4427 - val_loss: 1.2882 - val_accuracy: 0.5365\n",
      "Epoch 2/10\n",
      "1563/1563 [==============================] - 46s 29ms/step - loss: 1.1571 - accuracy: 0.5902 - val_loss: 1.1634 - val_accuracy: 0.5770\n",
      "Epoch 3/10\n",
      "1563/1563 [==============================] - 51s 33ms/step - loss: 0.9987 - accuracy: 0.6491 - val_loss: 0.9589 - val_accuracy: 0.6643\n",
      "Epoch 4/10\n",
      "1563/1563 [==============================] - 60s 39ms/step - loss: 0.8976 - accuracy: 0.6856 - val_loss: 0.9318 - val_accuracy: 0.6771\n",
      "Epoch 5/10\n",
      "1563/1563 [==============================] - 60s 39ms/step - loss: 0.8172 - accuracy: 0.7143 - val_loss: 0.8891 - val_accuracy: 0.6873\n",
      "Epoch 6/10\n",
      "1563/1563 [==============================] - 56s 36ms/step - loss: 0.7604 - accuracy: 0.7331 - val_loss: 0.8936 - val_accuracy: 0.6923\n",
      "Epoch 7/10\n",
      "1563/1563 [==============================] - 56s 36ms/step - loss: 0.7135 - accuracy: 0.7502 - val_loss: 0.8426 - val_accuracy: 0.7073\n",
      "Epoch 8/10\n",
      "1563/1563 [==============================] - 55s 35ms/step - loss: 0.6681 - accuracy: 0.7651 - val_loss: 0.8269 - val_accuracy: 0.7214\n",
      "Epoch 9/10\n",
      "1563/1563 [==============================] - 56s 36ms/step - loss: 0.6268 - accuracy: 0.7792 - val_loss: 0.9223 - val_accuracy: 0.6929\n",
      "Epoch 10/10\n",
      "1563/1563 [==============================] - 59s 38ms/step - loss: 0.5864 - accuracy: 0.7936 - val_loss: 0.9459 - val_accuracy: 0.6956\n"
     ]
    },
    {
     "data": {
      "text/plain": [
       "<keras.src.callbacks.History at 0x12b1b83b510>"
      ]
     },
     "execution_count": 4,
     "metadata": {},
     "output_type": "execute_result"
    }
   ],
   "source": [
    "model.compile(optimizer='adam',\n",
    "              loss='sparse_categorical_crossentropy',\n",
    "              metrics=['accuracy'])\n",
    "\n",
    "model.fit(train_images, train_labels, epochs=10, validation_data=(test_images, test_labels))\n"
   ]
  },
  {
   "cell_type": "code",
   "execution_count": 5,
   "id": "2adf5772",
   "metadata": {},
   "outputs": [
    {
     "name": "stdout",
     "output_type": "stream",
     "text": [
      "313/313 [==============================] - 3s 11ms/step - loss: 0.9459 - accuracy: 0.6956\n",
      "Test accuracy: 0.6955999732017517\n"
     ]
    }
   ],
   "source": [
    "test_loss, test_accuracy = model.evaluate(test_images, test_labels)\n",
    "print(f'Test accuracy: {test_accuracy}')\n"
   ]
  },
  {
   "cell_type": "code",
   "execution_count": null,
   "id": "848f0868",
   "metadata": {},
   "outputs": [],
   "source": []
  }
 ],
 "metadata": {
  "kernelspec": {
   "display_name": "Python 3 (ipykernel)",
   "language": "python",
   "name": "python3"
  },
  "language_info": {
   "codemirror_mode": {
    "name": "ipython",
    "version": 3
   },
   "file_extension": ".py",
   "mimetype": "text/x-python",
   "name": "python",
   "nbconvert_exporter": "python",
   "pygments_lexer": "ipython3",
   "version": "3.11.5"
  }
 },
 "nbformat": 4,
 "nbformat_minor": 5
}
