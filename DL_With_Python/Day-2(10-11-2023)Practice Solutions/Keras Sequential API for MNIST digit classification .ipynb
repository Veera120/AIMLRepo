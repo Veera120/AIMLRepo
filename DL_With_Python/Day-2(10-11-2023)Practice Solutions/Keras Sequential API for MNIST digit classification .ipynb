{
 "cells": [
  {
   "cell_type": "code",
   "execution_count": 1,
   "id": "a7f8c504",
   "metadata": {},
   "outputs": [],
   "source": [
    "from keras.datasets import mnist\n",
    "from keras.models import Sequential\n",
    "from keras.layers import Dense,Dropout\n",
    "from keras.optimizers import RMSprop"
   ]
  },
  {
   "cell_type": "code",
   "execution_count": 2,
   "id": "a4f23603",
   "metadata": {},
   "outputs": [],
   "source": [
    "batch_size=128\n",
    "num_classes=10\n",
    "epochs=20"
   ]
  },
  {
   "cell_type": "code",
   "execution_count": 3,
   "id": "78c630f5",
   "metadata": {},
   "outputs": [
    {
     "name": "stdout",
     "output_type": "stream",
     "text": [
      "Shape-x:\t (60000, 28, 28)\n",
      "Shape-y:\t (60000,)\n"
     ]
    }
   ],
   "source": [
    "(xtrain,ytrain),(xtest,ytest)=mnist.load_data()\n",
    "print('Shape-x:\\t',xtrain.shape)\n",
    "print('Shape-y:\\t',ytrain.shape)"
   ]
  },
  {
   "cell_type": "code",
   "execution_count": 4,
   "id": "5e41ece2",
   "metadata": {},
   "outputs": [
    {
     "name": "stdout",
     "output_type": "stream",
     "text": [
      "Shape-x-train:\t (60000, 784)\n",
      "Shape-x-Test:\t (10000, 784)\n"
     ]
    }
   ],
   "source": [
    "xtrain=xtrain.reshape(60000,784)\n",
    "xtest=xtest.reshape(10000,784)\n",
    "print('Shape-x-train:\\t',xtrain.shape)\n",
    "print('Shape-x-Test:\\t',xtest.shape)"
   ]
  },
  {
   "cell_type": "code",
   "execution_count": 5,
   "id": "b5c50c43",
   "metadata": {},
   "outputs": [],
   "source": [
    "xtrain=xtrain.astype('float32')\n",
    "xtest=xtest.astype('float32')"
   ]
  },
  {
   "cell_type": "code",
   "execution_count": 6,
   "id": "692bab81",
   "metadata": {},
   "outputs": [],
   "source": [
    "xtrain=xtrain/255.\n",
    "xtest=xtest/255."
   ]
  },
  {
   "cell_type": "code",
   "execution_count": 7,
   "id": "458467e6",
   "metadata": {},
   "outputs": [
    {
     "name": "stdout",
     "output_type": "stream",
     "text": [
      "60000 train samples\n",
      "10000 test samples\n"
     ]
    }
   ],
   "source": [
    "#Print the shape of data\n",
    "\n",
    "print(xtrain.shape[0],'train samples')\n",
    "print(xtest.shape[0],'test samples')\n"
   ]
  },
  {
   "cell_type": "code",
   "execution_count": 8,
   "id": "fc520394",
   "metadata": {},
   "outputs": [],
   "source": [
    "# Convert class vectors to binary class matrices\n",
    "\n",
    "import keras\n",
    "ytrain=keras.utils.to_categorical(ytrain,num_classes)\n",
    "ytest=keras.utils.to_categorical(ytest,num_classes)"
   ]
  },
  {
   "cell_type": "code",
   "execution_count": 9,
   "id": "adeb33e6",
   "metadata": {},
   "outputs": [
    {
     "data": {
      "text/plain": [
       "(60000, 10)"
      ]
     },
     "execution_count": 9,
     "metadata": {},
     "output_type": "execute_result"
    }
   ],
   "source": [
    "ytrain.shape"
   ]
  },
  {
   "cell_type": "code",
   "execution_count": 10,
   "id": "037a478b",
   "metadata": {},
   "outputs": [
    {
     "name": "stdout",
     "output_type": "stream",
     "text": [
      "Model: \"sequential\"\n",
      "_________________________________________________________________\n",
      " Layer (type)                Output Shape              Param #   \n",
      "=================================================================\n",
      " dense (Dense)               (None, 512)               401920    \n",
      "                                                                 \n",
      " dense_1 (Dense)             (None, 512)               262656    \n",
      "                                                                 \n",
      " dense_2 (Dense)             (None, 10)                5130      \n",
      "                                                                 \n",
      "=================================================================\n",
      "Total params: 669706 (2.55 MB)\n",
      "Trainable params: 669706 (2.55 MB)\n",
      "Non-trainable params: 0 (0.00 Byte)\n",
      "_________________________________________________________________\n"
     ]
    }
   ],
   "source": [
    "# Sequential Model\n",
    "\n",
    "model=Sequential()\n",
    "model.add(Dense(512,activation='relu',input_shape=(784,)))\n",
    "model.add(Dense(512,activation='relu'))\n",
    "model.add(Dense(num_classes,activation='softmax'))\n",
    "model.summary()"
   ]
  },
  {
   "cell_type": "code",
   "execution_count": 12,
   "id": "5b62c4cd",
   "metadata": {},
   "outputs": [],
   "source": [
    "#Compile the model\n",
    "model.compile(loss='categorical_crossentropy',optimizer=RMSprop(),metrics=['accuracy'])\n"
   ]
  },
  {
   "cell_type": "code",
   "execution_count": 13,
   "id": "66fb4f19",
   "metadata": {},
   "outputs": [
    {
     "name": "stdout",
     "output_type": "stream",
     "text": [
      "Epoch 1/20\n",
      "469/469 - 5s - loss: 0.2296 - accuracy: 0.9292 - val_loss: 0.1130 - val_accuracy: 0.9638 - 5s/epoch - 12ms/step\n",
      "Epoch 2/20\n",
      "469/469 - 5s - loss: 0.0820 - accuracy: 0.9742 - val_loss: 0.1133 - val_accuracy: 0.9632 - 5s/epoch - 11ms/step\n",
      "Epoch 3/20\n",
      "469/469 - 8s - loss: 0.0540 - accuracy: 0.9832 - val_loss: 0.0786 - val_accuracy: 0.9763 - 8s/epoch - 17ms/step\n",
      "Epoch 4/20\n",
      "469/469 - 8s - loss: 0.0383 - accuracy: 0.9878 - val_loss: 0.0613 - val_accuracy: 0.9831 - 8s/epoch - 16ms/step\n",
      "Epoch 5/20\n",
      "469/469 - 8s - loss: 0.0260 - accuracy: 0.9915 - val_loss: 0.0807 - val_accuracy: 0.9770 - 8s/epoch - 16ms/step\n",
      "Epoch 6/20\n",
      "469/469 - 7s - loss: 0.0211 - accuracy: 0.9932 - val_loss: 0.0734 - val_accuracy: 0.9815 - 7s/epoch - 16ms/step\n",
      "Epoch 7/20\n",
      "469/469 - 7s - loss: 0.0144 - accuracy: 0.9952 - val_loss: 0.0893 - val_accuracy: 0.9788 - 7s/epoch - 15ms/step\n",
      "Epoch 8/20\n",
      "469/469 - 8s - loss: 0.0123 - accuracy: 0.9962 - val_loss: 0.0756 - val_accuracy: 0.9824 - 8s/epoch - 16ms/step\n",
      "Epoch 9/20\n",
      "469/469 - 7s - loss: 0.0086 - accuracy: 0.9974 - val_loss: 0.0803 - val_accuracy: 0.9813 - 7s/epoch - 16ms/step\n",
      "Epoch 10/20\n",
      "469/469 - 7s - loss: 0.0064 - accuracy: 0.9977 - val_loss: 0.0826 - val_accuracy: 0.9826 - 7s/epoch - 15ms/step\n",
      "Epoch 11/20\n",
      "469/469 - 7s - loss: 0.0047 - accuracy: 0.9985 - val_loss: 0.0914 - val_accuracy: 0.9828 - 7s/epoch - 15ms/step\n",
      "Epoch 12/20\n",
      "469/469 - 7s - loss: 0.0055 - accuracy: 0.9981 - val_loss: 0.0713 - val_accuracy: 0.9856 - 7s/epoch - 15ms/step\n",
      "Epoch 13/20\n",
      "469/469 - 7s - loss: 0.0031 - accuracy: 0.9990 - val_loss: 0.0837 - val_accuracy: 0.9834 - 7s/epoch - 15ms/step\n",
      "Epoch 14/20\n",
      "469/469 - 7s - loss: 0.0018 - accuracy: 0.9994 - val_loss: 0.0866 - val_accuracy: 0.9842 - 7s/epoch - 15ms/step\n",
      "Epoch 15/20\n",
      "469/469 - 7s - loss: 0.0017 - accuracy: 0.9994 - val_loss: 0.0980 - val_accuracy: 0.9833 - 7s/epoch - 16ms/step\n",
      "Epoch 16/20\n",
      "469/469 - 7s - loss: 4.0319e-04 - accuracy: 0.9999 - val_loss: 0.0878 - val_accuracy: 0.9846 - 7s/epoch - 16ms/step\n",
      "Epoch 17/20\n",
      "469/469 - 8s - loss: 1.3347e-04 - accuracy: 1.0000 - val_loss: 0.0834 - val_accuracy: 0.9855 - 8s/epoch - 16ms/step\n",
      "Epoch 18/20\n",
      "469/469 - 7s - loss: 1.9335e-04 - accuracy: 0.9999 - val_loss: 0.0862 - val_accuracy: 0.9848 - 7s/epoch - 15ms/step\n",
      "Epoch 19/20\n",
      "469/469 - 7s - loss: 1.8827e-05 - accuracy: 1.0000 - val_loss: 0.0842 - val_accuracy: 0.9856 - 7s/epoch - 15ms/step\n",
      "Epoch 20/20\n",
      "469/469 - 7s - loss: 1.2628e-05 - accuracy: 1.0000 - val_loss: 0.0848 - val_accuracy: 0.9854 - 7s/epoch - 15ms/step\n",
      "313/313 [==============================] - 2s 5ms/step - loss: 0.0848 - accuracy: 0.9854\n"
     ]
    }
   ],
   "source": [
    "histroy=model.fit(xtrain,ytrain,batch_size=batch_size,\n",
    "                  epochs=epochs,verbose=2,\n",
    "                  validation_data=(xtest,ytest))\n",
    "score=model.evaluate(xtest,ytest,verbose=1)"
   ]
  },
  {
   "cell_type": "code",
   "execution_count": 14,
   "id": "f7d46454",
   "metadata": {},
   "outputs": [
    {
     "name": "stdout",
     "output_type": "stream",
     "text": [
      "Test Loss:\t 0.08477769047021866\n",
      "Test Accuracy:\t 0.9854000210762024\n"
     ]
    }
   ],
   "source": [
    "print('Test Loss:\\t',score[0])\n",
    "print('Test Accuracy:\\t',score[1])"
   ]
  },
  {
   "cell_type": "code",
   "execution_count": null,
   "id": "c97b23af",
   "metadata": {},
   "outputs": [],
   "source": []
  }
 ],
 "metadata": {
  "kernelspec": {
   "display_name": "Python 3 (ipykernel)",
   "language": "python",
   "name": "python3"
  },
  "language_info": {
   "codemirror_mode": {
    "name": "ipython",
    "version": 3
   },
   "file_extension": ".py",
   "mimetype": "text/x-python",
   "name": "python",
   "nbconvert_exporter": "python",
   "pygments_lexer": "ipython3",
   "version": "3.11.5"
  }
 },
 "nbformat": 4,
 "nbformat_minor": 5
}
