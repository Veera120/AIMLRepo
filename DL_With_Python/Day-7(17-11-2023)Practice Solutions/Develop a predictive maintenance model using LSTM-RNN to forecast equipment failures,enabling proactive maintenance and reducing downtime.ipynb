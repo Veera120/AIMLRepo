{
 "cells": [
  {
   "cell_type": "code",
   "execution_count": 6,
   "id": "64c57cc0",
   "metadata": {},
   "outputs": [
    {
     "name": "stdout",
     "output_type": "stream",
     "text": [
      "Epoch 1/20\n",
      "3/3 [==============================] - 3s 369ms/step - loss: 0.3814 - accuracy: 0.0000e+00 - val_loss: -0.1713 - val_accuracy: 0.0000e+00\n",
      "Epoch 2/20\n",
      "3/3 [==============================] - 0s 21ms/step - loss: -0.1511 - accuracy: 0.0000e+00 - val_loss: -0.6556 - val_accuracy: 0.0000e+00\n",
      "Epoch 3/20\n",
      "3/3 [==============================] - 0s 21ms/step - loss: -0.5922 - accuracy: 0.0000e+00 - val_loss: -1.0613 - val_accuracy: 0.0000e+00\n",
      "Epoch 4/20\n",
      "3/3 [==============================] - 0s 26ms/step - loss: -0.9969 - accuracy: 0.0000e+00 - val_loss: -1.4162 - val_accuracy: 0.0000e+00\n",
      "Epoch 5/20\n",
      "3/3 [==============================] - 0s 20ms/step - loss: -1.3553 - accuracy: 0.0000e+00 - val_loss: -1.7505 - val_accuracy: 0.0000e+00\n",
      "Epoch 6/20\n",
      "3/3 [==============================] - 0s 20ms/step - loss: -1.6964 - accuracy: 0.0000e+00 - val_loss: -2.0747 - val_accuracy: 0.0000e+00\n",
      "Epoch 7/20\n",
      "3/3 [==============================] - 0s 21ms/step - loss: -2.0459 - accuracy: 0.0000e+00 - val_loss: -2.3632 - val_accuracy: 0.0000e+00\n",
      "Epoch 8/20\n",
      "3/3 [==============================] - 0s 21ms/step - loss: -2.5733 - accuracy: 0.0000e+00 - val_loss: -3.7443 - val_accuracy: 0.0000e+00\n",
      "Epoch 9/20\n",
      "3/3 [==============================] - 0s 20ms/step - loss: -3.9138 - accuracy: 0.0000e+00 - val_loss: -4.3158 - val_accuracy: 0.0000e+00\n",
      "Epoch 10/20\n",
      "3/3 [==============================] - 0s 21ms/step - loss: -4.2583 - accuracy: 0.0000e+00 - val_loss: -4.6175 - val_accuracy: 0.0000e+00\n",
      "Epoch 11/20\n",
      "3/3 [==============================] - 0s 20ms/step - loss: -4.5724 - accuracy: 0.0000e+00 - val_loss: -4.9641 - val_accuracy: 0.0000e+00\n",
      "Epoch 12/20\n",
      "3/3 [==============================] - 0s 18ms/step - loss: -4.9169 - accuracy: 0.0000e+00 - val_loss: -5.3175 - val_accuracy: 0.0000e+00\n",
      "Epoch 13/20\n",
      "3/3 [==============================] - 0s 21ms/step - loss: -5.2715 - accuracy: 0.0000e+00 - val_loss: -5.6640 - val_accuracy: 0.0000e+00\n",
      "Epoch 14/20\n",
      "3/3 [==============================] - 0s 20ms/step - loss: -5.6662 - accuracy: 0.0000e+00 - val_loss: -6.0141 - val_accuracy: 0.0000e+00\n",
      "Epoch 15/20\n",
      "3/3 [==============================] - 0s 21ms/step - loss: -6.1028 - accuracy: 0.0000e+00 - val_loss: -6.4249 - val_accuracy: 0.0000e+00\n",
      "Epoch 16/20\n",
      "3/3 [==============================] - 0s 20ms/step - loss: -6.7478 - accuracy: 0.0000e+00 - val_loss: -7.4591 - val_accuracy: 0.0000e+00\n",
      "Epoch 17/20\n",
      "3/3 [==============================] - 0s 18ms/step - loss: -7.9853 - accuracy: 0.0000e+00 - val_loss: -8.4677 - val_accuracy: 0.0000e+00\n",
      "Epoch 18/20\n",
      "3/3 [==============================] - 0s 19ms/step - loss: -8.7554 - accuracy: 0.0000e+00 - val_loss: -9.0854 - val_accuracy: 0.0000e+00\n",
      "Epoch 19/20\n",
      "3/3 [==============================] - 0s 20ms/step - loss: -9.4752 - accuracy: 0.0000e+00 - val_loss: -9.8256 - val_accuracy: 0.0000e+00\n",
      "Epoch 20/20\n",
      "3/3 [==============================] - 0s 22ms/step - loss: -10.3982 - accuracy: 0.0000e+00 - val_loss: -10.6778 - val_accuracy: 0.0000e+00\n",
      "1/1 [==============================] - 0s 23ms/step - loss: -10.9346 - accuracy: 0.0357\n",
      "Model Accuracy: 0.0357142873108387\n",
      "1/1 [==============================] - 0s 457ms/step\n"
     ]
    }
   ],
   "source": [
    "import numpy as np\n",
    "import pandas as pd\n",
    "from sklearn.model_selection import train_test_split\n",
    "from sklearn.preprocessing import StandardScaler\n",
    "from tensorflow.keras.models import Sequential\n",
    "from tensorflow.keras.layers import LSTM, Dense\n",
    "from tensorflow.keras.callbacks import EarlyStopping\n",
    "\n",
    "# Load your dataset\n",
    "# Assuming 'feature1', 'feature2', ..., 'label' columns\n",
    "# Modify this according to your actual dataset structure\n",
    "df = pd.read_csv('Iris.csv')\n",
    "df=df.drop('Species', axis=1)\n",
    "\n",
    "# Feature engineering, normalization, and standardization\n",
    "# Add any additional feature engineering steps as needed\n",
    "scaler = StandardScaler()\n",
    "df[['SepalLengthCm','SepalWidthCm']] = scaler.fit_transform(df[['SepalLengthCm','SepalWidthCm']])\n",
    "\n",
    "# Create sequences\n",
    "sequence_length = 10  # Adjust this based on your data\n",
    "sequences = []\n",
    "labels = []\n",
    "\n",
    "for i in range(len(df) - sequence_length):\n",
    "    seq = df.iloc[i:i + sequence_length].values\n",
    "    label = df.iloc[i + sequence_length]['PetalLengthCm']\n",
    "    sequences.append(seq)\n",
    "    labels.append(label)\n",
    "\n",
    "X = np.array(sequences)\n",
    "y = np.array(labels)\n",
    "\n",
    "# Train-test split\n",
    "X_train, X_test, y_train, y_test = train_test_split(X, y, test_size=0.2, random_state=42)\n",
    "\n",
    "# Build the LSTM model\n",
    "model = Sequential()\n",
    "model.add(LSTM(50, input_shape=(X.shape[1], X.shape[2])))\n",
    "model.add(Dense(1, activation='sigmoid'))\n",
    "model.compile(optimizer='adam', loss='binary_crossentropy', metrics=['accuracy'])\n",
    "\n",
    "# Early stopping to prevent overfitting\n",
    "early_stopping = EarlyStopping(monitor='val_loss', patience=3, restore_best_weights=True)\n",
    "\n",
    "# Train the model\n",
    "model.fit(X_train, y_train, epochs=20, batch_size=32, validation_split=0.2, callbacks=[early_stopping])\n",
    "\n",
    "# Evaluate the model\n",
    "accuracy = model.evaluate(X_test, y_test)[1]\n",
    "print(f'Model Accuracy: {accuracy}')\n",
    "\n",
    "# Make predictions\n",
    "predictions = model.predict(X_test)\n",
    "\n",
    "# Set a threshold for predictions\n",
    "threshold = 0.5\n",
    "binary_predictions = (predictions > threshold).astype(int)\n",
    "\n",
    "# Implement your proactive maintenance logic based on predictions\n",
    "# For example, send alerts or schedule maintenance when failures are predicted\n"
   ]
  },
  {
   "cell_type": "code",
   "execution_count": 7,
   "id": "3b7ae14e",
   "metadata": {},
   "outputs": [
    {
     "data": {
      "text/html": [
       "<div>\n",
       "<style scoped>\n",
       "    .dataframe tbody tr th:only-of-type {\n",
       "        vertical-align: middle;\n",
       "    }\n",
       "\n",
       "    .dataframe tbody tr th {\n",
       "        vertical-align: top;\n",
       "    }\n",
       "\n",
       "    .dataframe thead th {\n",
       "        text-align: right;\n",
       "    }\n",
       "</style>\n",
       "<table border=\"1\" class=\"dataframe\">\n",
       "  <thead>\n",
       "    <tr style=\"text-align: right;\">\n",
       "      <th></th>\n",
       "      <th>Id</th>\n",
       "      <th>SepalLengthCm</th>\n",
       "      <th>SepalWidthCm</th>\n",
       "      <th>PetalLengthCm</th>\n",
       "      <th>PetalWidthCm</th>\n",
       "    </tr>\n",
       "  </thead>\n",
       "  <tbody>\n",
       "    <tr>\n",
       "      <th>0</th>\n",
       "      <td>1</td>\n",
       "      <td>-0.900681</td>\n",
       "      <td>1.032057</td>\n",
       "      <td>1.4</td>\n",
       "      <td>0.2</td>\n",
       "    </tr>\n",
       "    <tr>\n",
       "      <th>1</th>\n",
       "      <td>2</td>\n",
       "      <td>-1.143017</td>\n",
       "      <td>-0.124958</td>\n",
       "      <td>1.4</td>\n",
       "      <td>0.2</td>\n",
       "    </tr>\n",
       "    <tr>\n",
       "      <th>2</th>\n",
       "      <td>3</td>\n",
       "      <td>-1.385353</td>\n",
       "      <td>0.337848</td>\n",
       "      <td>1.3</td>\n",
       "      <td>0.2</td>\n",
       "    </tr>\n",
       "    <tr>\n",
       "      <th>3</th>\n",
       "      <td>4</td>\n",
       "      <td>-1.506521</td>\n",
       "      <td>0.106445</td>\n",
       "      <td>1.5</td>\n",
       "      <td>0.2</td>\n",
       "    </tr>\n",
       "    <tr>\n",
       "      <th>4</th>\n",
       "      <td>5</td>\n",
       "      <td>-1.021849</td>\n",
       "      <td>1.263460</td>\n",
       "      <td>1.4</td>\n",
       "      <td>0.2</td>\n",
       "    </tr>\n",
       "  </tbody>\n",
       "</table>\n",
       "</div>"
      ],
      "text/plain": [
       "   Id  SepalLengthCm  SepalWidthCm  PetalLengthCm  PetalWidthCm\n",
       "0   1      -0.900681      1.032057            1.4           0.2\n",
       "1   2      -1.143017     -0.124958            1.4           0.2\n",
       "2   3      -1.385353      0.337848            1.3           0.2\n",
       "3   4      -1.506521      0.106445            1.5           0.2\n",
       "4   5      -1.021849      1.263460            1.4           0.2"
      ]
     },
     "execution_count": 7,
     "metadata": {},
     "output_type": "execute_result"
    }
   ],
   "source": [
    "df.head()"
   ]
  },
  {
   "cell_type": "code",
   "execution_count": 8,
   "id": "a2ff9da5",
   "metadata": {},
   "outputs": [],
   "source": [
    "import numpy as np\n",
    "import pandas as pd\n",
    "from subprocess import check_output\n",
    "from keras.layers import Dense,Activation,Dropout\n",
    "from keras.models import Sequential\n",
    "from sklearn.model_selection import train_test_split\n",
    "import time\n",
    "from sklearn.preprocessing import MinMaxScaler\n",
    "import matplotlib.pyplot as plt\n",
    "from numpy import newaxis"
   ]
  },
  {
   "cell_type": "code",
   "execution_count": 11,
   "id": "faa06f4c",
   "metadata": {},
   "outputs": [
    {
     "data": {
      "text/plain": [
       "(150, 5)"
      ]
     },
     "execution_count": 11,
     "metadata": {},
     "output_type": "execute_result"
    }
   ],
   "source": [
    " df.shape"
   ]
  },
  {
   "cell_type": "code",
   "execution_count": 19,
   "id": "833a8339",
   "metadata": {},
   "outputs": [
    {
     "name": "stdout",
     "output_type": "stream",
     "text": [
      "Index(['Id', 'SepalLengthCm', 'SepalWidthCm', 'PetalLengthCm', 'PetalWidthCm'], dtype='object')\n"
     ]
    }
   ],
   "source": [
    "# Check the column names in your DataFrame\n",
    "print(yahoo.columns)\n",
    "\n",
    "# Assuming the column name is different, replace 'close' with the correct column name\n",
    "# For example, if the column name is 'Adj Close':\n",
    "yahoo_stk_Iris = yahoo['SepalLengthCm'].values.astype('int')\n"
   ]
  },
  {
   "cell_type": "code",
   "execution_count": 20,
   "id": "a37019a1",
   "metadata": {},
   "outputs": [
    {
     "data": {
      "text/plain": [
       "(0,)"
      ]
     },
     "execution_count": 20,
     "metadata": {},
     "output_type": "execute_result"
    }
   ],
   "source": [
    " yahoo_stk_Iris.shape"
   ]
  },
  {
   "cell_type": "code",
   "execution_count": 21,
   "id": "40406e39",
   "metadata": {},
   "outputs": [
    {
     "data": {
      "image/png": "[encoded data removed]",
      "text/plain": [
       "<Figure size 640x480 with 1 Axes>"
      ]
     },
     "metadata": {},
     "output_type": "display_data"
    }
   ],
   "source": [
    "plt.plot(yahoo_stk_Iris)\n",
    "plt.show()\n"
   ]
  },
  {
   "cell_type": "code",
   "execution_count": null,
   "id": "af9d5974",
   "metadata": {},
   "outputs": [],
   "source": []
  }
 ],
 "metadata": {
  "kernelspec": {
   "display_name": "Python 3 (ipykernel)",
   "language": "python",
   "name": "python3"
  },
  "language_info": {
   "codemirror_mode": {
    "name": "ipython",
    "version": 3
   },
   "file_extension": ".py",
   "mimetype": "text/x-python",
   "name": "python",
   "nbconvert_exporter": "python",
   "pygments_lexer": "ipython3",
   "version": "3.11.5"
  }
 },
 "nbformat": 4,
 "nbformat_minor": 5
}
