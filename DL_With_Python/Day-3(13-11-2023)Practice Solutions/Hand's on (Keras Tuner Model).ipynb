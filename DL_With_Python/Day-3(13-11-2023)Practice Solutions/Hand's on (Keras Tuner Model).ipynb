{
 "cells": [
  {
   "cell_type": "code",
   "execution_count": 1,
   "id": "0530b6bb",
   "metadata": {},
   "outputs": [],
   "source": [
    "!pip install keras_tuner -q"
   ]
  },
  {
   "cell_type": "code",
   "execution_count": 2,
   "id": "ceea2402",
   "metadata": {},
   "outputs": [],
   "source": [
    "from tensorflow import keras\n",
    "from tensorflow.keras import layers"
   ]
  },
  {
   "cell_type": "code",
   "execution_count": 3,
   "id": "19d6331c",
   "metadata": {},
   "outputs": [],
   "source": [
    "def build_model(hp):\n",
    "    units=hp.Int(name='units',min_value=16,max_value=64,step=16)\n",
    "    model=keras.Sequential([layers.Dense(units,activation='relu'),\n",
    "                            layers.Dense(10,activation='softmax')])\n",
    "    optimizer=hp.Choice(name='optimizer',values=['adagrad','adam'])\n",
    "    model.compile(optimizer=optimizer,loss='sparse_categorical_crossentropy',metrics=['accuracy'])\n",
    "    return model"
   ]
  },
  {
   "cell_type": "markdown",
   "id": "62c06ead",
   "metadata": {},
   "source": [
    "# Keras Tuner - HyperModel"
   ]
  },
  {
   "cell_type": "code",
   "execution_count": 4,
   "id": "b7f0a42d",
   "metadata": {},
   "outputs": [],
   "source": [
    "import keras_tuner as kt\n",
    "class SimpleMLP(kt.HyperModel):\n",
    "    def __init__(self,num_classes):\n",
    "        self.num_classes=num_classes\n",
    "    def build(self,hp):\n",
    "        units=hp.Int(name='units',min_value=16,max_value=64,step=16)\n",
    "        model=keras.Sequential([layers.Dense(units,activation='relu'),\n",
    "                                layers.Dense(self.num_classes,activation='softmax')])\n",
    "        optimizer=hp.Choice(name='optimizer',values=['adagrad','adam'])\n",
    "        model.compile(optimizer=optimizer,loss='sparse_categorical_crossentropy',metrics=['accuracy'])\n",
    "        return model\n",
    "hypermodel=SimpleMLP(num_classes=10)"
   ]
  },
  {
   "cell_type": "code",
   "execution_count": 5,
   "id": "b17d7a8a",
   "metadata": {},
   "outputs": [],
   "source": [
    "tuner=kt.BayesianOptimization(build_model,objective=\n",
    "                              'val_accuracy',max_trials=5,)"
   ]
  },
  {
   "cell_type": "code",
   "execution_count": 6,
   "id": "2c0c810a",
   "metadata": {},
   "outputs": [
    {
     "name": "stdout",
     "output_type": "stream",
     "text": [
      "Search space summary\n",
      "Default search space size: 2\n",
      "units (Int)\n",
      "{'default': None, 'conditions': [], 'min_value': 16, 'max_value': 64, 'step': 16, 'sampling': 'linear'}\n",
      "optimizer (Choice)\n",
      "{'default': 'adagrad', 'conditions': [], 'values': ['adagrad', 'adam'], 'ordered': False}\n"
     ]
    }
   ],
   "source": [
    "tuner.search_space_summary()"
   ]
  },
  {
   "cell_type": "markdown",
   "id": "6c3565c4",
   "metadata": {},
   "source": [
    "# Model"
   ]
  },
  {
   "cell_type": "code",
   "execution_count": null,
   "id": "ac653e09",
   "metadata": {},
   "outputs": [],
   "source": [
    "(xtrain,ytrain),(xtest,ytest)=keras.datasets.mnist.load_data()\n",
    "xtrain=xtrain.reshape((-1,28*28)).astype('float32')/255\n",
    "xtest=xtest.reshape((-1,28*28)).astype('float32')/255\n",
    "xtrain_full=xtrain[:]\n",
    "ytrain_full=ytrain[:]\n",
    "num_val_samples=10000\n",
    "xtrain,xval=xtrain[:-num_val_samples],xtrain[-num_val_samples:]\n",
    "ytrain,yval=ytrain[:-num_val_samples],ytrain[-num_val_samples:]\n",
    "callbacks=[keras.callbacks.EarlyStopping(monitor='val_loss',patience=3),]\n",
    "tuner.search(xtrain,ytrain,batch_size=128,epochs=20,validation_data=(xval,yval),\n",
    "            callbacks=callbacks,verbose=2)"
   ]
  }
 ],
 "metadata": {
  "kernelspec": {
   "display_name": "Python 3 (ipykernel)",
   "language": "python",
   "name": "python3"
  },
  "language_info": {
   "codemirror_mode": {
    "name": "ipython",
    "version": 3
   },
   "file_extension": ".py",
   "mimetype": "text/x-python",
   "name": "python",
   "nbconvert_exporter": "python",
   "pygments_lexer": "ipython3",
   "version": "3.11.5"
  }
 },
 "nbformat": 4,
 "nbformat_minor": 5
}
