{
 "cells": [
  {
   "cell_type": "markdown",
   "id": "d1585ac4",
   "metadata": {},
   "source": [
    "# Fraud Detection with Logistic Regression and Feature Engineering"
   ]
  },
  {
   "cell_type": "markdown",
   "id": "0bf259b3",
   "metadata": {},
   "source": [
    "# 1. Data Preparation:\n",
    "\n",
    "a. Load the dataset, and provide an overview of the available features, including transaction details, customer information, and labels (fraudulent or non-fraudulent).\n",
    "b. Describe the class distribution of fraudulent and non-fraudulent transactions and discuss the imbalance issue."
   ]
  },
  {
   "cell_type": "code",
   "execution_count": 1,
   "id": "2d22c698",
   "metadata": {},
   "outputs": [],
   "source": [
    "import pandas as pd\n",
    "from sklearn.model_selection import train_test_split\n",
    "from sklearn.linear_model import LogisticRegression\n",
    "from sklearn.metrics import accuracy_score, precision_score, recall_score, f1_score\n",
    "from sklearn.preprocessing import StandardScaler\n",
    "from sklearn.impute import SimpleImputer\n"
   ]
  },
  {
   "cell_type": "code",
   "execution_count": 2,
   "id": "e4291de6",
   "metadata": {},
   "outputs": [
    {
     "data": {
      "text/html": [
       "<div>\n",
       "<style scoped>\n",
       "    .dataframe tbody tr th:only-of-type {\n",
       "        vertical-align: middle;\n",
       "    }\n",
       "\n",
       "    .dataframe tbody tr th {\n",
       "        vertical-align: top;\n",
       "    }\n",
       "\n",
       "    .dataframe thead th {\n",
       "        text-align: right;\n",
       "    }\n",
       "</style>\n",
       "<table border=\"1\" class=\"dataframe\">\n",
       "  <thead>\n",
       "    <tr style=\"text-align: right;\">\n",
       "      <th></th>\n",
       "      <th>TransactionID</th>\n",
       "      <th>CustomerID</th>\n",
       "      <th>CustomerDOB</th>\n",
       "      <th>Label</th>\n",
       "      <th>CustLocation</th>\n",
       "      <th>CustAccountBalance</th>\n",
       "      <th>TransactionDate</th>\n",
       "      <th>TransactionTime</th>\n",
       "      <th>TransactionAmount</th>\n",
       "    </tr>\n",
       "  </thead>\n",
       "  <tbody>\n",
       "    <tr>\n",
       "      <th>0</th>\n",
       "      <td>T1</td>\n",
       "      <td>C5841053</td>\n",
       "      <td>10/1/1994</td>\n",
       "      <td>F</td>\n",
       "      <td>JAMSHEDPUR</td>\n",
       "      <td>17819.05</td>\n",
       "      <td>2/8/2016</td>\n",
       "      <td>143207</td>\n",
       "      <td>25.0</td>\n",
       "    </tr>\n",
       "    <tr>\n",
       "      <th>1</th>\n",
       "      <td>T2</td>\n",
       "      <td>C2142763</td>\n",
       "      <td>4/4/1957</td>\n",
       "      <td>M</td>\n",
       "      <td>JHAJJAR</td>\n",
       "      <td>2270.69</td>\n",
       "      <td>2/8/2016</td>\n",
       "      <td>141858</td>\n",
       "      <td>27999.0</td>\n",
       "    </tr>\n",
       "    <tr>\n",
       "      <th>2</th>\n",
       "      <td>T3</td>\n",
       "      <td>C4417068</td>\n",
       "      <td>26/11/96</td>\n",
       "      <td>F</td>\n",
       "      <td>MUMBAI</td>\n",
       "      <td>17874.44</td>\n",
       "      <td>2/8/2016</td>\n",
       "      <td>142712</td>\n",
       "      <td>459.0</td>\n",
       "    </tr>\n",
       "    <tr>\n",
       "      <th>3</th>\n",
       "      <td>T4</td>\n",
       "      <td>C5342380</td>\n",
       "      <td>14/9/73</td>\n",
       "      <td>F</td>\n",
       "      <td>MUMBAI</td>\n",
       "      <td>866503.21</td>\n",
       "      <td>2/8/2016</td>\n",
       "      <td>142714</td>\n",
       "      <td>2060.0</td>\n",
       "    </tr>\n",
       "    <tr>\n",
       "      <th>4</th>\n",
       "      <td>T5</td>\n",
       "      <td>C9031234</td>\n",
       "      <td>24/3/88</td>\n",
       "      <td>F</td>\n",
       "      <td>NAVI MUMBAI</td>\n",
       "      <td>6714.43</td>\n",
       "      <td>2/8/2016</td>\n",
       "      <td>181156</td>\n",
       "      <td>1762.5</td>\n",
       "    </tr>\n",
       "  </tbody>\n",
       "</table>\n",
       "</div>"
      ],
      "text/plain": [
       "  TransactionID CustomerID CustomerDOB Label CustLocation  CustAccountBalance  \\\n",
       "0            T1   C5841053   10/1/1994     F   JAMSHEDPUR            17819.05   \n",
       "1            T2   C2142763    4/4/1957     M      JHAJJAR             2270.69   \n",
       "2            T3   C4417068    26/11/96     F       MUMBAI            17874.44   \n",
       "3            T4   C5342380     14/9/73     F       MUMBAI           866503.21   \n",
       "4            T5   C9031234     24/3/88     F  NAVI MUMBAI             6714.43   \n",
       "\n",
       "  TransactionDate  TransactionTime  TransactionAmount  \n",
       "0        2/8/2016           143207               25.0  \n",
       "1        2/8/2016           141858            27999.0  \n",
       "2        2/8/2016           142712              459.0  \n",
       "3        2/8/2016           142714             2060.0  \n",
       "4        2/8/2016           181156             1762.5  "
      ]
     },
     "execution_count": 2,
     "metadata": {},
     "output_type": "execute_result"
    }
   ],
   "source": [
    "import pandas as pd\n",
    "\n",
    "# Load the dataset\n",
    "data = pd.read_csv('Fraud_Detection.csv')\n",
    "data.head()"
   ]
  },
  {
   "cell_type": "code",
   "execution_count": 3,
   "id": "97f9a78d",
   "metadata": {},
   "outputs": [
    {
     "data": {
      "text/plain": [
       "TransactionID            0\n",
       "CustomerID               0\n",
       "CustomerDOB           3397\n",
       "Label                 1100\n",
       "CustLocation           151\n",
       "CustAccountBalance    2369\n",
       "TransactionDate          0\n",
       "TransactionTime          0\n",
       "TransactionAmount        0\n",
       "dtype: int64"
      ]
     },
     "execution_count": 3,
     "metadata": {},
     "output_type": "execute_result"
    }
   ],
   "source": [
    "data.isna().sum()"
   ]
  },
  {
   "cell_type": "code",
   "execution_count": 4,
   "id": "6aac22cf",
   "metadata": {},
   "outputs": [
    {
     "data": {
      "text/plain": [
       "TransactionID         0\n",
       "CustomerID            0\n",
       "CustomerDOB           0\n",
       "Label                 0\n",
       "CustLocation          0\n",
       "CustAccountBalance    0\n",
       "TransactionDate       0\n",
       "TransactionTime       0\n",
       "TransactionAmount     0\n",
       "dtype: int64"
      ]
     },
     "execution_count": 4,
     "metadata": {},
     "output_type": "execute_result"
    }
   ],
   "source": [
    "df=data.fillna(method=\"bfill\")\n",
    "df.isna().sum()"
   ]
  },
  {
   "cell_type": "code",
   "execution_count": 5,
   "id": "3a1f8d54",
   "metadata": {},
   "outputs": [
    {
     "data": {
      "text/html": [
       "<div>\n",
       "<style scoped>\n",
       "    .dataframe tbody tr th:only-of-type {\n",
       "        vertical-align: middle;\n",
       "    }\n",
       "\n",
       "    .dataframe tbody tr th {\n",
       "        vertical-align: top;\n",
       "    }\n",
       "\n",
       "    .dataframe thead th {\n",
       "        text-align: right;\n",
       "    }\n",
       "</style>\n",
       "<table border=\"1\" class=\"dataframe\">\n",
       "  <thead>\n",
       "    <tr style=\"text-align: right;\">\n",
       "      <th></th>\n",
       "      <th>TransactionID</th>\n",
       "      <th>CustomerID</th>\n",
       "      <th>CustomerDOB</th>\n",
       "      <th>Label</th>\n",
       "      <th>CustLocation</th>\n",
       "      <th>CustAccountBalance</th>\n",
       "      <th>TransactionDate</th>\n",
       "      <th>TransactionTime</th>\n",
       "      <th>TransactionAmount</th>\n",
       "    </tr>\n",
       "  </thead>\n",
       "  <tbody>\n",
       "    <tr>\n",
       "      <th>0</th>\n",
       "      <td>T1</td>\n",
       "      <td>C5841053</td>\n",
       "      <td>10/1/1994</td>\n",
       "      <td>0</td>\n",
       "      <td>JAMSHEDPUR</td>\n",
       "      <td>17819.05</td>\n",
       "      <td>2/8/2016</td>\n",
       "      <td>143207</td>\n",
       "      <td>25.0</td>\n",
       "    </tr>\n",
       "    <tr>\n",
       "      <th>1</th>\n",
       "      <td>T2</td>\n",
       "      <td>C2142763</td>\n",
       "      <td>4/4/1957</td>\n",
       "      <td>1</td>\n",
       "      <td>JHAJJAR</td>\n",
       "      <td>2270.69</td>\n",
       "      <td>2/8/2016</td>\n",
       "      <td>141858</td>\n",
       "      <td>27999.0</td>\n",
       "    </tr>\n",
       "    <tr>\n",
       "      <th>2</th>\n",
       "      <td>T3</td>\n",
       "      <td>C4417068</td>\n",
       "      <td>26/11/96</td>\n",
       "      <td>0</td>\n",
       "      <td>MUMBAI</td>\n",
       "      <td>17874.44</td>\n",
       "      <td>2/8/2016</td>\n",
       "      <td>142712</td>\n",
       "      <td>459.0</td>\n",
       "    </tr>\n",
       "    <tr>\n",
       "      <th>3</th>\n",
       "      <td>T4</td>\n",
       "      <td>C5342380</td>\n",
       "      <td>14/9/73</td>\n",
       "      <td>0</td>\n",
       "      <td>MUMBAI</td>\n",
       "      <td>866503.21</td>\n",
       "      <td>2/8/2016</td>\n",
       "      <td>142714</td>\n",
       "      <td>2060.0</td>\n",
       "    </tr>\n",
       "    <tr>\n",
       "      <th>4</th>\n",
       "      <td>T5</td>\n",
       "      <td>C9031234</td>\n",
       "      <td>24/3/88</td>\n",
       "      <td>0</td>\n",
       "      <td>NAVI MUMBAI</td>\n",
       "      <td>6714.43</td>\n",
       "      <td>2/8/2016</td>\n",
       "      <td>181156</td>\n",
       "      <td>1762.5</td>\n",
       "    </tr>\n",
       "  </tbody>\n",
       "</table>\n",
       "</div>"
      ],
      "text/plain": [
       "  TransactionID CustomerID CustomerDOB  Label CustLocation  \\\n",
       "0            T1   C5841053   10/1/1994      0   JAMSHEDPUR   \n",
       "1            T2   C2142763    4/4/1957      1      JHAJJAR   \n",
       "2            T3   C4417068    26/11/96      0       MUMBAI   \n",
       "3            T4   C5342380     14/9/73      0       MUMBAI   \n",
       "4            T5   C9031234     24/3/88      0  NAVI MUMBAI   \n",
       "\n",
       "   CustAccountBalance TransactionDate  TransactionTime  TransactionAmount  \n",
       "0            17819.05        2/8/2016           143207               25.0  \n",
       "1             2270.69        2/8/2016           141858            27999.0  \n",
       "2            17874.44        2/8/2016           142712              459.0  \n",
       "3           866503.21        2/8/2016           142714             2060.0  \n",
       "4             6714.43        2/8/2016           181156             1762.5  "
      ]
     },
     "execution_count": 5,
     "metadata": {},
     "output_type": "execute_result"
    }
   ],
   "source": [
    "#encoding Label\n",
    "\n",
    "from sklearn.preprocessing import LabelEncoder\n",
    "le=LabelEncoder()\n",
    "data['Label']=le.fit_transform(data['Label'])\n",
    "data.head()"
   ]
  },
  {
   "cell_type": "code",
   "execution_count": 6,
   "id": "bb92bb37",
   "metadata": {},
   "outputs": [
    {
     "name": "stdout",
     "output_type": "stream",
     "text": [
      "Class Distribution:\n",
      "Fraudulent Transactions: 768832 (73.32%)\n",
      "Non-Fraudulent Transactions: 279735 (26.68%)\n"
     ]
    }
   ],
   "source": [
    "fraudulent_count = data['Label'].sum()\n",
    "non_fraudulent_count = len(data) - fraudulent_count\n",
    "\n",
    "# Calculate the proportion of fraudulent transactions\n",
    "fraudulent_proportion = fraudulent_count / len(data)\n",
    "non_fraudulent_proportion = non_fraudulent_count / len(data)\n",
    "\n",
    "print(\"Class Distribution:\")\n",
    "print(f\"Fraudulent Transactions: {fraudulent_count} ({fraudulent_proportion * 100:.2f}%)\")\n",
    "print(f\"Non-Fraudulent Transactions: {non_fraudulent_count} ({non_fraudulent_proportion * 100:.2f}%)\")"
   ]
  },
  {
   "cell_type": "markdown",
   "id": "c311e0f0",
   "metadata": {},
   "source": [
    "# 2. Initial Logistic Regression Model:\n",
    "\n",
    "a. Implement a basic logistic regression model using the raw dataset.\n",
    "b. Evaluate the model's performance using standard metrics like accuracy, precision, recall, and F1-score"
   ]
  },
  {
   "cell_type": "code",
   "execution_count": 7,
   "id": "27a3edff",
   "metadata": {},
   "outputs": [
    {
     "name": "stdout",
     "output_type": "stream",
     "text": [
      "Training data -X - shape:\t (786425, 2)\n",
      "\n",
      "Training data -Y - shape:\t (786425,)\n",
      "\n",
      "Testing data shape\n",
      "\n",
      "testing data(x-input) shape :\t (262142, 2)\n",
      "\n",
      "testing data(Y-input) shape :\t (262142,)\n"
     ]
    }
   ],
   "source": [
    "X= data[['TransactionTime','TransactionAmount']]  # Independent variables\n",
    "y= data['Label']  # Dependent variable\n",
    "\n",
    "xtrain,xtest,ytrain,ytest=train_test_split(X,y,test_size=0.25,random_state=2)\n",
    "print('Training data -X - shape:\\t',xtrain.shape)\n",
    "print()\n",
    "print('Training data -Y - shape:\\t',ytrain.shape)\n",
    "print()\n",
    "print('Testing data shape\\n')\n",
    "print('testing data(x-input) shape :\\t',xtest.shape)\n",
    "print()\n",
    "print('testing data(Y-input) shape :\\t',ytest.shape)"
   ]
  },
  {
   "cell_type": "code",
   "execution_count": 8,
   "id": "e02b38c2",
   "metadata": {},
   "outputs": [
    {
     "name": "stdout",
     "output_type": "stream",
     "text": [
      "Training the model\n",
      "\n",
      "Predicted Lable for the input samples:\n",
      " [1 1 1 ... 1 1 1]\n",
      "\n",
      "Testing is completed\n",
      "\n",
      "Testing Samples are : \t 262142\n"
     ]
    }
   ],
   "source": [
    "#invoke the log reg algo from sklearn\n",
    "log_reg=LogisticRegression()\n",
    "\n",
    "#Train the model\n",
    "print('Training the model\\n')\n",
    "log_reg.fit(xtrain,ytrain)\n",
    "\n",
    "#Test the model\n",
    "\n",
    "ypred= log_reg.predict(xtest)\n",
    "print('Predicted Lable for the input samples:\\n',ypred)\n",
    "print()\n",
    "print('Testing is completed\\n')\n",
    "print('Testing Samples are : \\t',len(ypred))"
   ]
  },
  {
   "cell_type": "code",
   "execution_count": 9,
   "id": "30f97a76",
   "metadata": {},
   "outputs": [
    {
     "name": "stdout",
     "output_type": "stream",
     "text": [
      "****Performance measures for Logstic regression****\n",
      "\n",
      "================================================================================\n",
      "Accuracy Score:\t\n",
      " 0.7299898528278567\n",
      "\n",
      "================================================================================\n",
      "Confussinon matrix:\n",
      " [[     0  70516      0]\n",
      " [     0 191361      0]\n",
      " [     0    265      0]]\n",
      "\n",
      "================================================================================\n",
      "Classification report: \n",
      "               precision    recall  f1-score   support\n",
      "\n",
      "           0       0.00      0.00      0.00     70516\n",
      "           1       0.73      1.00      0.84    191361\n",
      "           3       0.00      0.00      0.00       265\n",
      "\n",
      "    accuracy                           0.73    262142\n",
      "   macro avg       0.24      0.33      0.28    262142\n",
      "weighted avg       0.53      0.73      0.62    262142\n",
      "\n",
      "================================================================================\n"
     ]
    },
    {
     "name": "stderr",
     "output_type": "stream",
     "text": [
      "C:\\Users\\ADMIN\\anaconda3\\Lib\\site-packages\\sklearn\\metrics\\_classification.py:1471: UndefinedMetricWarning: Precision and F-score are ill-defined and being set to 0.0 in labels with no predicted samples. Use `zero_division` parameter to control this behavior.\n",
      "  _warn_prf(average, modifier, msg_start, len(result))\n",
      "C:\\Users\\ADMIN\\anaconda3\\Lib\\site-packages\\sklearn\\metrics\\_classification.py:1471: UndefinedMetricWarning: Precision and F-score are ill-defined and being set to 0.0 in labels with no predicted samples. Use `zero_division` parameter to control this behavior.\n",
      "  _warn_prf(average, modifier, msg_start, len(result))\n",
      "C:\\Users\\ADMIN\\anaconda3\\Lib\\site-packages\\sklearn\\metrics\\_classification.py:1471: UndefinedMetricWarning: Precision and F-score are ill-defined and being set to 0.0 in labels with no predicted samples. Use `zero_division` parameter to control this behavior.\n",
      "  _warn_prf(average, modifier, msg_start, len(result))\n"
     ]
    }
   ],
   "source": [
    "from sklearn.metrics import accuracy_score\n",
    "from sklearn.metrics import confusion_matrix\n",
    "from sklearn.metrics import classification_report\n",
    "\n",
    "\n",
    "\n",
    "print('****Performance measures for Logstic regression****')\n",
    "print()\n",
    "print('='*80)\n",
    "print('Accuracy Score:\\t\\n',accuracy_score(ytest,ypred))\n",
    "print()\n",
    "print('='*80)\n",
    "print('Confussinon matrix:\\n',confusion_matrix(ytest,ypred))\n",
    "print()\n",
    "print('='*80)\n",
    "print('Classification report: \\n',classification_report(ytest,ypred))\n",
    "print('='*80)"
   ]
  },
  {
   "cell_type": "markdown",
   "id": "2984289a",
   "metadata": {},
   "source": [
    "# 3. Feature Engineering:\n",
    "\n",
    "a. Apply feature engineering techniques to enhance the predictive power of the model. These techniques may include:\n",
    "-Creating new features.\n",
    "-Scaling or normalizing features.\n",
    "-Handling missing values.\n",
    "-Encoding categorical variables.\n",
    "b. Explain why each feature engineering technique is relevant for fraud detection.\n"
   ]
  },
  {
   "cell_type": "code",
   "execution_count": 10,
   "id": "ee1e2a24",
   "metadata": {},
   "outputs": [
    {
     "data": {
      "text/plain": [
       "TransactionID         0\n",
       "CustomerID            0\n",
       "CustomerDOB           0\n",
       "Label                 0\n",
       "CustLocation          0\n",
       "CustAccountBalance    0\n",
       "TransactionDate       0\n",
       "TransactionTime       0\n",
       "TransactionAmount     0\n",
       "dtype: int64"
      ]
     },
     "execution_count": 10,
     "metadata": {},
     "output_type": "execute_result"
    }
   ],
   "source": [
    "#Scaling\n",
    "from sklearn.preprocessing import StandardScaler\n",
    "sc=StandardScaler()\n",
    "sc_x=sc.fit_transform(X)\n",
    "sc_x.shape\n",
    "\n",
    "#Handling missing values\n",
    "df=data.fillna(method=\"bfill\")\n",
    "df.isna().sum()"
   ]
  },
  {
   "cell_type": "raw",
   "id": "7f488644",
   "metadata": {},
   "source": [
    "3(b)\n",
    "-Creating new features can help capture hidden patterns in the data.\n",
    "-Scaling ensures all features contribute equally to the model.\n",
    "-Handling missing values prevents data loss.\n",
    "-Encoding categorical variables allows the model to work with them."
   ]
  },
  {
   "cell_type": "markdown",
   "id": "ef54a7a3",
   "metadata": {},
   "source": [
    "# 4. Handling Imbalanced Data:\n",
    "    \n",
    "a. Discuss the challenges associated with imbalanced datasets in the context of fraud detection.\n",
    "b. Implement strategies to address class imbalance, such as:\n",
    "- Oversampling the minority class.\n",
    "-Undersampling the majority class.\n",
    "-Using synthetic data generation techniques (e.g., SMOTE)."
   ]
  },
  {
   "cell_type": "raw",
   "id": "6fa40570",
   "metadata": {},
   "source": [
    "4(a)\n",
    "-Imbalanced data can lead to models biased towards the majority class.\n",
    "-They may have low recall on the minority class (fraudulent transactions).\n",
    "-It may not effectively identify fraud."
   ]
  },
  {
   "cell_type": "code",
   "execution_count": null,
   "id": "2b7673cd",
   "metadata": {},
   "outputs": [],
   "source": []
  },
  {
   "cell_type": "markdown",
   "id": "bc3146ef",
   "metadata": {},
   "source": [
    "# 5. Logistic Regression with Feature-Engineered Data:\n",
    "\n",
    "a. Train a logistic regression model using the feature-engineered dataset and the methods for handling imbalanced data. I\n",
    "b. Evaluate the model's performance using appropriate evaluation metrics.\n"
   ]
  },
  {
   "cell_type": "code",
   "execution_count": 11,
   "id": "833a97b1",
   "metadata": {},
   "outputs": [],
   "source": [
    "# Train a logistic regression model \n",
    "lr_model_fe = LogisticRegression()\n",
    "lr_model_fe.fit(xtrain, ytrain)\n",
    "\n",
    "# Make predictions\n",
    "y = lr_model_fe.predict(xtest)\n"
   ]
  },
  {
   "cell_type": "code",
   "execution_count": null,
   "id": "2b227c81",
   "metadata": {},
   "outputs": [],
   "source": []
  },
  {
   "cell_type": "markdown",
   "id": "02479278",
   "metadata": {},
   "source": [
    "# 6. Model Interpretation:\n",
    "\n",
    "a. Interpret the coefficients of the logistic regression model and discuss which features have the most influence on fraud detection.\n",
    "b. Explain how the logistic regression model can be used for decision-making in identifying potential fraud."
   ]
  },
  {
   "cell_type": "code",
   "execution_count": 12,
   "id": "cc78422c",
   "metadata": {},
   "outputs": [
    {
     "name": "stdout",
     "output_type": "stream",
     "text": [
      "TransactionAmount    0.001361\n",
      "TransactionTime      0.000326\n",
      "dtype: float64\n"
     ]
    }
   ],
   "source": [
    "# Get coefficients and feature names\n",
    "coef = lr_model_fe.coef_\n",
    "feature_names = xtrain.columns\n",
    "\n",
    "# Interpret the coefficients\n",
    "feature_importance = pd.Series(coef[0], index=feature_names)\n",
    "feature_importance = feature_importance.abs().sort_values(ascending=False)\n",
    "print(feature_importance)\n"
   ]
  },
  {
   "cell_type": "raw",
   "id": "f01dcf2d",
   "metadata": {},
   "source": [
    "b. Use for decision-making:\n",
    "\n",
    "The coefficients indicate the impact of features on the probability of fraud. Higher coefficients suggest a stronger influence. You can use these coefficients to identify potential fraud by selecting transactions with high predicted probabilities."
   ]
  },
  {
   "cell_type": "markdown",
   "id": "9d33d490",
   "metadata": {},
   "source": [
    "# 7. Model Comparison:\n",
    "\n",
    "a. Compare the performance of the initial logistic regression model with the feature-engineered and balanced data model.\n",
    "b. Discuss the advantages and limitations of each approach."
   ]
  },
  {
   "cell_type": "raw",
   "id": "61f137f5",
   "metadata": {},
   "source": [
    "a.Compare the evaluation metrics (accuracy, precision, recall, F1 score) between the initial and feature-engineered models."
   ]
  },
  {
   "cell_type": "raw",
   "id": "56a36590",
   "metadata": {},
   "source": [
    "b. Advantages and limitations:\n",
    "\n",
    "Advantages of feature engineering: Improved model performance, better interpretability.\n",
    "\n",
    "Limitations: It requires domain knowledge, may not solve all imbalance issues, and could overfit the data."
   ]
  }
 ],
 "metadata": {
  "kernelspec": {
   "display_name": "Python 3 (ipykernel)",
   "language": "python",
   "name": "python3"
  },
  "language_info": {
   "codemirror_mode": {
    "name": "ipython",
    "version": 3
   },
   "file_extension": ".py",
   "mimetype": "text/x-python",
   "name": "python",
   "nbconvert_exporter": "python",
   "pygments_lexer": "ipython3",
   "version": "3.11.5"
  }
 },
 "nbformat": 4,
 "nbformat_minor": 5
}
