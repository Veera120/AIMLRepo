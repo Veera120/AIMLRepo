{
 "cells": [
  {
   "cell_type": "code",
   "execution_count": 1,
   "id": "ecaf0bfa",
   "metadata": {},
   "outputs": [
    {
     "name": "stdout",
     "output_type": "stream",
     "text": [
      "Requirement already satisfied: gym in c:\\users\\admin\\anaconda3\\lib\\site-packages (0.26.2)\n",
      "Requirement already satisfied: numpy>=1.18.0 in c:\\users\\admin\\anaconda3\\lib\\site-packages (from gym) (1.24.3)\n",
      "Requirement already satisfied: cloudpickle>=1.2.0 in c:\\users\\admin\\anaconda3\\lib\\site-packages (from gym) (2.2.1)\n",
      "Requirement already satisfied: gym-notices>=0.0.4 in c:\\users\\admin\\anaconda3\\lib\\site-packages (from gym) (0.0.8)\n",
      "Note: you may need to restart the kernel to use updated packages.\n"
     ]
    }
   ],
   "source": [
    "pip install gym"
   ]
  },
  {
   "cell_type": "code",
   "execution_count": 2,
   "id": "08ac8624",
   "metadata": {},
   "outputs": [
    {
     "name": "stdout",
     "output_type": "stream",
     "text": [
      "(array([-0.43268344,  0.        ], dtype=float32), {})\n",
      "[-0.43335688 -0.00067344] -1.0 False False\n",
      "[-0.43335688 -0.00067344]\n",
      "[-0.43469888 -0.00134202] -1.0 False False\n",
      "[-0.43469888 -0.00134202]\n",
      "[-0.4376998  -0.00300089] -1.0 False False\n",
      "[-0.4376998  -0.00300089]\n",
      "[-0.44133782 -0.00363803] -1.0 False False\n",
      "[-0.44133782 -0.00363803]\n",
      "[-0.44658655 -0.00524874] -1.0 False False\n",
      "[-0.44658655 -0.00524874]\n",
      "[-0.45340776 -0.00682121] -1.0 False False\n",
      "[-0.45340776 -0.00682121]\n",
      "[-0.45975152 -0.00634376] -1.0 False False\n",
      "[-0.45975152 -0.00634376]\n",
      "[-0.46557122 -0.00581969] -1.0 False False\n",
      "[-0.46557122 -0.00581969]\n",
      "[-0.47182393 -0.0062527 ] -1.0 False False\n",
      "[-0.47182393 -0.0062527 ]\n",
      "[-0.47746336 -0.00563946] -1.0 False False\n"
     ]
    },
    {
     "name": "stderr",
     "output_type": "stream",
     "text": [
      "C:\\Users\\ADMIN\\anaconda3\\Lib\\site-packages\\gym\\envs\\classic_control\\mountain_car.py:171: UserWarning: \u001b[33mWARN: You are calling render method without specifying any render mode. You can specify the render_mode at initialization, e.g. gym(\"MountainCar-v0\", render_mode=\"rgb_array\")\u001b[0m\n",
      "  gym.logger.warn(\n",
      "C:\\Users\\ADMIN\\anaconda3\\Lib\\site-packages\\gym\\utils\\passive_env_checker.py:233: DeprecationWarning: `np.bool8` is a deprecated alias for `np.bool_`.  (Deprecated NumPy 1.24)\n",
      "  if not isinstance(terminated, (bool, np.bool8)):\n"
     ]
    }
   ],
   "source": [
    "import gym\n",
    "\n",
    "env = gym.make('MountainCar-v0')\n",
    "observation = env.reset()\n",
    "\n",
    "for t in range(10):\n",
    "    env.render()\n",
    "    print(observation)\n",
    "    action = env.action_space.sample()\n",
    "    step_output = env.step(action)\n",
    "\n",
    "    if isinstance(step_output, tuple) and len(step_output) > 4:\n",
    "        observation, reward, done, info, *_ = step_output\n",
    "    else:\n",
    "        observation, reward, done, info = step_output\n",
    "\n",
    "    print(observation, reward, done, info)\n",
    "    if done:\n",
    "        print('Finished after {} timesteps'.format(t + 1))\n",
    "        break\n"
   ]
  },
  {
   "cell_type": "code",
   "execution_count": null,
   "id": "a0dca4b7",
   "metadata": {},
   "outputs": [],
   "source": []
  }
 ],
 "metadata": {
  "kernelspec": {
   "display_name": "Python 3 (ipykernel)",
   "language": "python",
   "name": "python3"
  },
  "language_info": {
   "codemirror_mode": {
    "name": "ipython",
    "version": 3
   },
   "file_extension": ".py",
   "mimetype": "text/x-python",
   "name": "python",
   "nbconvert_exporter": "python",
   "pygments_lexer": "ipython3",
   "version": "3.11.5"
  }
 },
 "nbformat": 4,
 "nbformat_minor": 5
}
