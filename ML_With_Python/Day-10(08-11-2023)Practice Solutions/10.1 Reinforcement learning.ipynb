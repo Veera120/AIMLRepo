{
 "cells": [
  {
   "cell_type": "code",
   "execution_count": 1,
   "id": "4f024d83",
   "metadata": {},
   "outputs": [],
   "source": [
    "import numpy as np"
   ]
  },
  {
   "cell_type": "markdown",
   "id": "5f098e29",
   "metadata": {},
   "source": [
    "# Reward Matrix"
   ]
  },
  {
   "cell_type": "code",
   "execution_count": 2,
   "id": "848aa35f",
   "metadata": {},
   "outputs": [
    {
     "data": {
      "text/plain": [
       "matrix([[ -1,  -1,  -1,  -1,   0,  -1],\n",
       "        [ -1,  -1,  -1,   0,  -1, 100],\n",
       "        [ -1,  -1,  -1,   0,  -1,  -1],\n",
       "        [ -1,   0,   0,  -1,   0,  -1],\n",
       "        [ -1,   0,   0,  -1,  -1, 100],\n",
       "        [ -1,   0,  -1,  -1,   0, 100]])"
      ]
     },
     "execution_count": 2,
     "metadata": {},
     "output_type": "execute_result"
    }
   ],
   "source": [
    "R=np.matrix([[-1,-1,-1,-1,0,-1],\n",
    "             [-1,-1,-1,0,-1,100],\n",
    "             [-1,-1,-1,0,-1,-1],\n",
    "             [-1,0,0,-1,0,-1],\n",
    "             [-1,0,0,-1,-1,100],\n",
    "             [-1,0,-1,-1,0,100]])\n",
    "R"
   ]
  },
  {
   "cell_type": "markdown",
   "id": "c3ebad9d",
   "metadata": {},
   "source": [
    "# Construct the zero matrix of the size of R matrix to form the Q matrix"
   ]
  },
  {
   "cell_type": "code",
   "execution_count": 3,
   "id": "d309cd46",
   "metadata": {},
   "outputs": [
    {
     "name": "stdout",
     "output_type": "stream",
     "text": [
      "[[0. 0. 0. 0. 0. 0.]\n",
      " [0. 0. 0. 0. 0. 0.]\n",
      " [0. 0. 0. 0. 0. 0.]\n",
      " [0. 0. 0. 0. 0. 0.]\n",
      " [0. 0. 0. 0. 0. 0.]\n",
      " [0. 0. 0. 0. 0. 0.]]\n"
     ]
    }
   ],
   "source": [
    "Q=np.matrix(np.zeros([6,6]))\n",
    "print(Q)"
   ]
  },
  {
   "cell_type": "markdown",
   "id": "b4458553",
   "metadata": {},
   "source": [
    "# Define gamma value - Learning Parameter"
   ]
  },
  {
   "cell_type": "code",
   "execution_count": 4,
   "id": "c4e7b32e",
   "metadata": {},
   "outputs": [],
   "source": [
    "gamma=0.8"
   ]
  },
  {
   "cell_type": "markdown",
   "id": "26c07cac",
   "metadata": {},
   "source": [
    "# Q- Learning:\n",
    " Q(state,action)= R(state,action) + gamma * Max(Q(next state,all actions))"
   ]
  },
  {
   "cell_type": "code",
   "execution_count": 5,
   "id": "56b99c03",
   "metadata": {},
   "outputs": [],
   "source": [
    "initial_state=1"
   ]
  },
  {
   "cell_type": "markdown",
   "id": "c6055b2e",
   "metadata": {},
   "source": [
    "# Define the available action function"
   ]
  },
  {
   "cell_type": "code",
   "execution_count": 6,
   "id": "a810f0ee",
   "metadata": {},
   "outputs": [],
   "source": [
    "def available_actions(state):\n",
    "    current_state_row=R[state,]\n",
    "    av_act=np.where(current_state_row>=0)[1]\n",
    "    return av_act"
   ]
  },
  {
   "cell_type": "code",
   "execution_count": 7,
   "id": "1738d5e5",
   "metadata": {},
   "outputs": [
    {
     "name": "stdout",
     "output_type": "stream",
     "text": [
      "[3 5]\n"
     ]
    }
   ],
   "source": [
    "available_act=available_actions(initial_state)\n",
    "print(available_act)"
   ]
  },
  {
   "cell_type": "code",
   "execution_count": 8,
   "id": "95346583",
   "metadata": {},
   "outputs": [],
   "source": [
    "#sample next action function\n",
    "def sample_next_action(available_actions_range):\n",
    "    next_action=int(np.random.choice(available_act,1))\n",
    "    return next_action"
   ]
  },
  {
   "cell_type": "code",
   "execution_count": 9,
   "id": "88402baa",
   "metadata": {},
   "outputs": [
    {
     "name": "stdout",
     "output_type": "stream",
     "text": [
      "5\n"
     ]
    }
   ],
   "source": [
    "action=sample_next_action(available_act)\n",
    "print(action)"
   ]
  },
  {
   "cell_type": "markdown",
   "id": "9ffb7bb8",
   "metadata": {},
   "source": [
    "# Q Matrix-update function"
   ]
  },
  {
   "cell_type": "code",
   "execution_count": 10,
   "id": "0aab1ac2",
   "metadata": {},
   "outputs": [],
   "source": [
    "def update(current_state,action,gamma):\n",
    "    max_index=np.where(Q[action,]==np.max(Q[action,]))[1] \n",
    "    if max_index.shape[0]>1:\n",
    "        max_index=int(np.random.choice(max_index,size=1))\n",
    "    else:\n",
    "        max_index=int(max_index)\n",
    "        max_value=Q[action,max_index]\n",
    "        Q[current_state,action]=R[current_state,action]+gamma*max_value"
   ]
  },
  {
   "cell_type": "markdown",
   "id": "6512f5ef",
   "metadata": {},
   "source": [
    "# Train the agent with this environment information"
   ]
  },
  {
   "cell_type": "code",
   "execution_count": null,
   "id": "4c47cb4a",
   "metadata": {},
   "outputs": [],
   "source": [
    "for i in range(10000000):\n",
    "    current_state=np.random.randint(0,int(Q.shape[0]))\n",
    "    action=sample_next_action(available_act)\n",
    "    update(current_state,action,gamma)"
   ]
  },
  {
   "cell_type": "markdown",
   "id": "46019da5",
   "metadata": {},
   "source": [
    "# Testing\n",
    " goal_state=5"
   ]
  },
  {
   "cell_type": "code",
   "execution_count": null,
   "id": "0aeb34dd",
   "metadata": {},
   "outputs": [],
   "source": [
    "current_state=4\n",
    "steps=[current_state]\n",
    "while current_state!=5:\n",
    "    next_step_index=np.where(Q[current_state,]==np.max(Q[current_state,]))[1]\n",
    "    if next_step_index.shape[0]>1:\n",
    "        next_step_index=int(np.random.choice(next_step_index,size=1))\n",
    "    else:\n",
    "        next_step_index=int(next_step_index)\n",
    "    steps.append(next_step_index)\n",
    "    current_state=next_step_index\n",
    "print('Optimum path of initail state {} to the Goal State is {}'.format(initial_state,step)"
   ]
  },
  {
   "cell_type": "code",
   "execution_count": null,
   "id": "33d61eb4",
   "metadata": {},
   "outputs": [],
   "source": []
  }
 ],
 "metadata": {
  "kernelspec": {
   "display_name": "Python 3 (ipykernel)",
   "language": "python",
   "name": "python3"
  },
  "language_info": {
   "codemirror_mode": {
    "name": "ipython",
    "version": 3
   },
   "file_extension": ".py",
   "mimetype": "text/x-python",
   "name": "python",
   "nbconvert_exporter": "python",
   "pygments_lexer": "ipython3",
   "version": "3.11.5"
  }
 },
 "nbformat": 4,
 "nbformat_minor": 5
}
