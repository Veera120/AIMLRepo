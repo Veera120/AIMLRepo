{
 "cells": [
  {
   "cell_type": "markdown",
   "id": "63fc401e",
   "metadata": {},
   "source": [
    "# Decision tree"
   ]
  },
  {
   "cell_type": "code",
   "execution_count": 2,
   "id": "894d0d81",
   "metadata": {},
   "outputs": [],
   "source": [
    "import numpy as np\n",
    "import pandas as pd\n",
    "import matplotlib.pyplot as plt\n",
    "import seaborn as sns"
   ]
  },
  {
   "cell_type": "code",
   "execution_count": 4,
   "id": "374c9d94",
   "metadata": {},
   "outputs": [
    {
     "data": {
      "text/html": [
       "<div>\n",
       "<style scoped>\n",
       "    .dataframe tbody tr th:only-of-type {\n",
       "        vertical-align: middle;\n",
       "    }\n",
       "\n",
       "    .dataframe tbody tr th {\n",
       "        vertical-align: top;\n",
       "    }\n",
       "\n",
       "    .dataframe thead th {\n",
       "        text-align: right;\n",
       "    }\n",
       "</style>\n",
       "<table border=\"1\" class=\"dataframe\">\n",
       "  <thead>\n",
       "    <tr style=\"text-align: right;\">\n",
       "      <th></th>\n",
       "      <th>Pregnancies</th>\n",
       "      <th>Glucose</th>\n",
       "      <th>BloodPressure</th>\n",
       "      <th>SkinThickness</th>\n",
       "      <th>Insulin</th>\n",
       "      <th>BMI</th>\n",
       "      <th>DiabetesPedigreeFunction</th>\n",
       "      <th>Age</th>\n",
       "      <th>Outcome</th>\n",
       "    </tr>\n",
       "  </thead>\n",
       "  <tbody>\n",
       "    <tr>\n",
       "      <th>0</th>\n",
       "      <td>6.0</td>\n",
       "      <td>148</td>\n",
       "      <td>72</td>\n",
       "      <td>35.0</td>\n",
       "      <td>0</td>\n",
       "      <td>33.6</td>\n",
       "      <td>0.627</td>\n",
       "      <td>50.0</td>\n",
       "      <td>1</td>\n",
       "    </tr>\n",
       "    <tr>\n",
       "      <th>1</th>\n",
       "      <td>NaN</td>\n",
       "      <td>85</td>\n",
       "      <td>66</td>\n",
       "      <td>29.0</td>\n",
       "      <td>0</td>\n",
       "      <td>26.6</td>\n",
       "      <td>0.351</td>\n",
       "      <td>NaN</td>\n",
       "      <td>0</td>\n",
       "    </tr>\n",
       "    <tr>\n",
       "      <th>2</th>\n",
       "      <td>8.0</td>\n",
       "      <td>183</td>\n",
       "      <td>64</td>\n",
       "      <td>0.0</td>\n",
       "      <td>0</td>\n",
       "      <td>NaN</td>\n",
       "      <td>0.672</td>\n",
       "      <td>32.0</td>\n",
       "      <td>1</td>\n",
       "    </tr>\n",
       "    <tr>\n",
       "      <th>3</th>\n",
       "      <td>1.0</td>\n",
       "      <td>89</td>\n",
       "      <td>66</td>\n",
       "      <td>23.0</td>\n",
       "      <td>94</td>\n",
       "      <td>28.1</td>\n",
       "      <td>0.167</td>\n",
       "      <td>21.0</td>\n",
       "      <td>0</td>\n",
       "    </tr>\n",
       "    <tr>\n",
       "      <th>4</th>\n",
       "      <td>0.0</td>\n",
       "      <td>137</td>\n",
       "      <td>40</td>\n",
       "      <td>35.0</td>\n",
       "      <td>168</td>\n",
       "      <td>43.1</td>\n",
       "      <td>2.288</td>\n",
       "      <td>33.0</td>\n",
       "      <td>1</td>\n",
       "    </tr>\n",
       "  </tbody>\n",
       "</table>\n",
       "</div>"
      ],
      "text/plain": [
       "   Pregnancies  Glucose  BloodPressure  SkinThickness  Insulin   BMI  \\\n",
       "0          6.0      148             72           35.0        0  33.6   \n",
       "1          NaN       85             66           29.0        0  26.6   \n",
       "2          8.0      183             64            0.0        0   NaN   \n",
       "3          1.0       89             66           23.0       94  28.1   \n",
       "4          0.0      137             40           35.0      168  43.1   \n",
       "\n",
       "   DiabetesPedigreeFunction   Age  Outcome  \n",
       "0                     0.627  50.0        1  \n",
       "1                     0.351   NaN        0  \n",
       "2                     0.672  32.0        1  \n",
       "3                     0.167  21.0        0  \n",
       "4                     2.288  33.0        1  "
      ]
     },
     "execution_count": 4,
     "metadata": {},
     "output_type": "execute_result"
    }
   ],
   "source": [
    "data=pd.read_csv('diabetes_na.csv')\n",
    "data.head()"
   ]
  },
  {
   "cell_type": "code",
   "execution_count": 5,
   "id": "fd424f1c",
   "metadata": {},
   "outputs": [
    {
     "data": {
      "text/plain": [
       "Pregnancies                 2\n",
       "Glucose                     0\n",
       "BloodPressure               0\n",
       "SkinThickness               1\n",
       "Insulin                     0\n",
       "BMI                         1\n",
       "DiabetesPedigreeFunction    0\n",
       "Age                         1\n",
       "Outcome                     0\n",
       "dtype: int64"
      ]
     },
     "execution_count": 5,
     "metadata": {},
     "output_type": "execute_result"
    }
   ],
   "source": [
    "data.isna().sum()"
   ]
  },
  {
   "cell_type": "code",
   "execution_count": 8,
   "id": "92c28771",
   "metadata": {},
   "outputs": [
    {
     "data": {
      "text/plain": [
       "Pregnancies                 0\n",
       "Glucose                     0\n",
       "BloodPressure               0\n",
       "SkinThickness               0\n",
       "Insulin                     0\n",
       "BMI                         0\n",
       "DiabetesPedigreeFunction    0\n",
       "Age                         0\n",
       "Outcome                     0\n",
       "dtype: int64"
      ]
     },
     "execution_count": 8,
     "metadata": {},
     "output_type": "execute_result"
    }
   ],
   "source": [
    "data=data.fillna(method='bfill')\n",
    "data.isna().sum()"
   ]
  },
  {
   "cell_type": "code",
   "execution_count": 9,
   "id": "3519457a",
   "metadata": {},
   "outputs": [
    {
     "data": {
      "text/html": [
       "<div>\n",
       "<style scoped>\n",
       "    .dataframe tbody tr th:only-of-type {\n",
       "        vertical-align: middle;\n",
       "    }\n",
       "\n",
       "    .dataframe tbody tr th {\n",
       "        vertical-align: top;\n",
       "    }\n",
       "\n",
       "    .dataframe thead th {\n",
       "        text-align: right;\n",
       "    }\n",
       "</style>\n",
       "<table border=\"1\" class=\"dataframe\">\n",
       "  <thead>\n",
       "    <tr style=\"text-align: right;\">\n",
       "      <th></th>\n",
       "      <th>Pregnancies</th>\n",
       "      <th>Glucose</th>\n",
       "      <th>BloodPressure</th>\n",
       "      <th>SkinThickness</th>\n",
       "      <th>Insulin</th>\n",
       "      <th>BMI</th>\n",
       "      <th>DiabetesPedigreeFunction</th>\n",
       "      <th>Age</th>\n",
       "      <th>Outcome</th>\n",
       "    </tr>\n",
       "  </thead>\n",
       "  <tbody>\n",
       "    <tr>\n",
       "      <th>0</th>\n",
       "      <td>6.0</td>\n",
       "      <td>148</td>\n",
       "      <td>72</td>\n",
       "      <td>35.0</td>\n",
       "      <td>0</td>\n",
       "      <td>33.6</td>\n",
       "      <td>0.627</td>\n",
       "      <td>50.0</td>\n",
       "      <td>1</td>\n",
       "    </tr>\n",
       "    <tr>\n",
       "      <th>1</th>\n",
       "      <td>8.0</td>\n",
       "      <td>85</td>\n",
       "      <td>66</td>\n",
       "      <td>29.0</td>\n",
       "      <td>0</td>\n",
       "      <td>26.6</td>\n",
       "      <td>0.351</td>\n",
       "      <td>32.0</td>\n",
       "      <td>0</td>\n",
       "    </tr>\n",
       "  </tbody>\n",
       "</table>\n",
       "</div>"
      ],
      "text/plain": [
       "   Pregnancies  Glucose  BloodPressure  SkinThickness  Insulin   BMI  \\\n",
       "0          6.0      148             72           35.0        0  33.6   \n",
       "1          8.0       85             66           29.0        0  26.6   \n",
       "\n",
       "   DiabetesPedigreeFunction   Age  Outcome  \n",
       "0                     0.627  50.0        1  \n",
       "1                     0.351  32.0        0  "
      ]
     },
     "execution_count": 9,
     "metadata": {},
     "output_type": "execute_result"
    }
   ],
   "source": [
    "data.head(2)"
   ]
  },
  {
   "cell_type": "code",
   "execution_count": 6,
   "id": "bd278e51",
   "metadata": {},
   "outputs": [],
   "source": [
    "x=data.iloc[:,:-1]\n",
    "y=data.iloc[:,-1]"
   ]
  },
  {
   "cell_type": "code",
   "execution_count": 10,
   "id": "adfe9b35",
   "metadata": {},
   "outputs": [
    {
     "data": {
      "text/plain": [
       "<Axes: ylabel='count'>"
      ]
     },
     "execution_count": 10,
     "metadata": {},
     "output_type": "execute_result"
    },
    {
     "data": {
      "image/png": "[encoded data removed]",
      "text/plain": [
       "<Figure size 640x480 with 1 Axes>"
      ]
     },
     "metadata": {},
     "output_type": "display_data"
    }
   ],
   "source": [
    "sns.countplot(data['Outcome'])"
   ]
  },
  {
   "cell_type": "markdown",
   "id": "b6c5e721",
   "metadata": {},
   "source": [
    "# Split the data for training & testing"
   ]
  },
  {
   "cell_type": "code",
   "execution_count": 11,
   "id": "a0bc00d1",
   "metadata": {},
   "outputs": [
    {
     "name": "stdout",
     "output_type": "stream",
     "text": [
      "Training data-x - shape:\t (614, 8)\n",
      "\n",
      "Training data-y - shape:\t (614,)\n",
      "\n",
      "Testing data shape\n",
      "\n",
      "testing data(x-input) shape :\t (154, 8)\n",
      "\n",
      "testing data(y-Outcome) shape :\t (154,)\n"
     ]
    }
   ],
   "source": [
    "from sklearn.model_selection import train_test_split\n",
    "xtrain,xtest,ytrain,ytest=train_test_split(x,y,test_size=0.2,random_state=2)\n",
    "print('Training data-x - shape:\\t',xtrain.shape)\n",
    "print()\n",
    "print('Training data-y - shape:\\t',ytrain.shape)\n",
    "print()\n",
    "print('Testing data shape\\n')\n",
    "print('testing data(x-input) shape :\\t',xtest.shape)\n",
    "print()\n",
    "print('testing data(y-Outcome) shape :\\t',ytest.shape)"
   ]
  },
  {
   "cell_type": "markdown",
   "id": "60c9131d",
   "metadata": {},
   "source": [
    "# Build the Decision Tree model with criterion =\n",
    "GINI index method\n"
   ]
  },
  {
   "cell_type": "code",
   "execution_count": 16,
   "id": "c2995278",
   "metadata": {},
   "outputs": [
    {
     "name": "stdout",
     "output_type": "stream",
     "text": [
      "dec tree mod\n",
      "****************************************************************************************************\n",
      "\n",
      " train phase\n",
      "hyperper {'ccp_alpha': 0.0, 'class_weight': None, 'criterion': 'gini', 'max_depth': None, 'max_features': None, 'max_leaf_nodes': None, 'min_impurity_decrease': 0.0, 'min_samples_leaf': 1, 'min_samples_split': 2, 'min_weight_fraction_leaf': 0.0, 'random_state': None, 'splitter': 'best'}\n",
      "train cmp\n",
      "====================================================================================================\n",
      "\n",
      " test phae\n",
      "prdt cls lable for samples:\n",
      " [0 0 0 0 1 0 0 0 0 1 0 0 0 0 0 1 1 0 0 1 0 1 0 0 0 0 1 0 0 0 1 0 0 0 0 0 0\n",
      " 0 1 0 0 0 0 0 0 0 0 1 0 0 0 1 1 1 1 1 1 0 1 0 0 1 0 0 0 0 1 0 0 1 0 0 0 0\n",
      " 0 1 1 0 0 0 0 0 0 0 1 0 0 0 0 0 0 0 0 0 0 1 1 0 0 0 0 0 0 0 0 0 1 1 0 0 0\n",
      " 0 0 0 0 1 1 0 0 0 1 0 0 0 1 1 0 0 0 0 1 0 0 0 0 1 0 0 0 1 0 1 0 1 0 0 0 0\n",
      " 0 0 0 0 1 0]\n",
      "\n",
      "test complt\n",
      "====================================================================================================\n",
      "****************************************************************************************************\n",
      "dec tree - prefr measr\n",
      "****************************************************************************************************\n",
      "Accuracy Score:\t\n",
      " 0.7467532467532467\n",
      "====================================================================================================\n",
      "Confussinon matrix:\n",
      " [[93 16]\n",
      " [23 22]]\n",
      "====================================================================================================\n",
      "Classificatino report: \n",
      "               precision    recall  f1-score   support\n",
      "\n",
      "           0       0.80      0.85      0.83       109\n",
      "           1       0.58      0.49      0.53        45\n",
      "\n",
      "    accuracy                           0.75       154\n",
      "   macro avg       0.69      0.67      0.68       154\n",
      "weighted avg       0.74      0.75      0.74       154\n",
      "\n",
      "****************************************************************************************************\n"
     ]
    }
   ],
   "source": [
    "from sklearn.tree import DecisionTreeClassifier\n",
    "dt_clf=DecisionTreeClassifier()\n",
    "print('dec tree mod')\n",
    "print('*'*100)\n",
    "print('\\n train phase')\n",
    "dt_clf.fit(xtrain,ytrain)\n",
    "print('hyperper',dt_clf.get_params())\n",
    "print('train cmp')\n",
    "print('='*100)\n",
    "print('\\n test phae')\n",
    "ypred=dt_clf.predict(xtest)\n",
    "print('prdt cls lable for samples:\\n',ypred)\n",
    "print()\n",
    "print('test complt')\n",
    "print('='*100)\n",
    "\n",
    "from sklearn.metrics import accuracy_score\n",
    "from sklearn.metrics import confusion_matrix\n",
    "from sklearn.metrics import classification_report\n",
    "print('*'*100)\n",
    "print('dec tree - prefr measr')\n",
    "print('*'*100)\n",
    "\n",
    "print('Accuracy Score:\\t\\n',accuracy_score(ytest,ypred))\n",
    "print('='*100)\n",
    "print('Confussinon matrix:\\n',confusion_matrix(ytest,ypred))\n",
    "print('='*100)\n",
    "print('Classificatino report: \\n',classification_report(ytest,ypred))\n",
    "print('*'*100)"
   ]
  },
  {
   "cell_type": "markdown",
   "id": "40ff7f99",
   "metadata": {},
   "source": [
    "# entropy index method"
   ]
  },
  {
   "cell_type": "code",
   "execution_count": 17,
   "id": "886fe5f2",
   "metadata": {},
   "outputs": [
    {
     "name": "stdout",
     "output_type": "stream",
     "text": [
      "dec tree mod\n",
      "****************************************************************************************************\n",
      "\n",
      " train phase\n",
      "hyperper {'ccp_alpha': 0.0, 'class_weight': None, 'criterion': 'entropy', 'max_depth': None, 'max_features': None, 'max_leaf_nodes': None, 'min_impurity_decrease': 0.0, 'min_samples_leaf': 1, 'min_samples_split': 2, 'min_weight_fraction_leaf': 0.0, 'random_state': None, 'splitter': 'best'}\n",
      "train cmp\n",
      "====================================================================================================\n",
      "\n",
      " test phae\n",
      "prdt cls lable for samples:\n",
      " [0 0 0 1 0 0 0 0 0 1 0 0 0 0 0 1 0 0 0 1 1 1 0 0 0 0 0 0 0 0 1 0 0 0 0 1 0\n",
      " 1 1 0 1 0 0 0 0 0 0 1 0 1 1 1 1 1 1 1 1 0 1 0 0 1 1 0 0 0 0 0 0 1 0 0 0 0\n",
      " 0 0 0 0 0 0 0 0 0 0 1 0 0 0 0 0 0 0 0 0 0 1 1 0 0 0 1 0 0 0 0 0 1 1 0 0 0\n",
      " 0 0 0 0 1 0 0 0 0 0 0 0 0 1 1 0 0 1 0 1 0 1 0 1 1 0 0 1 1 0 1 0 0 0 0 1 0\n",
      " 0 0 0 1 1 0]\n",
      "\n",
      "test complt\n",
      "====================================================================================================\n",
      "****************************************************************************************************\n",
      "dec tree - prefr measr\n",
      "****************************************************************************************************\n",
      "Accuracy Score:\t\n",
      " 0.7207792207792207\n",
      "====================================================================================================\n",
      "Confussinon matrix:\n",
      " [[88 21]\n",
      " [22 23]]\n",
      "====================================================================================================\n",
      "Classificatino report: \n",
      "               precision    recall  f1-score   support\n",
      "\n",
      "           0       0.80      0.81      0.80       109\n",
      "           1       0.52      0.51      0.52        45\n",
      "\n",
      "    accuracy                           0.72       154\n",
      "   macro avg       0.66      0.66      0.66       154\n",
      "weighted avg       0.72      0.72      0.72       154\n",
      "\n",
      "****************************************************************************************************\n"
     ]
    }
   ],
   "source": [
    "from sklearn.tree import DecisionTreeClassifier\n",
    "dt_clf=DecisionTreeClassifier(criterion='entropy')\n",
    "print('dec tree mod')\n",
    "print('*'*100)\n",
    "print('\\n train phase')\n",
    "dt_clf.fit(xtrain,ytrain)\n",
    "print('hyperper',dt_clf.get_params())\n",
    "print('train cmp')\n",
    "print('='*100)\n",
    "print('\\n test phae')\n",
    "ypred=dt_clf.predict(xtest)\n",
    "print('prdt cls lable for samples:\\n',ypred)\n",
    "print()\n",
    "print('test complt')\n",
    "print('='*100)\n",
    "\n",
    "from sklearn.metrics import accuracy_score\n",
    "from sklearn.metrics import confusion_matrix\n",
    "from sklearn.metrics import classification_report\n",
    "print('*'*100)\n",
    "print('dec tree - prefr measr')\n",
    "print('*'*100)\n",
    "\n",
    "print('Accuracy Score:\\t\\n',accuracy_score(ytest,ypred))\n",
    "print('='*100)\n",
    "print('Confussinon matrix:\\n',confusion_matrix(ytest,ypred))\n",
    "print('='*100)\n",
    "print('Classificatino report: \\n',classification_report(ytest,ypred))\n",
    "print('*'*100)"
   ]
  },
  {
   "cell_type": "markdown",
   "id": "0d5a1938",
   "metadata": {},
   "source": [
    "# Build the Decision Tree model with max_depth"
   ]
  },
  {
   "cell_type": "code",
   "execution_count": 18,
   "id": "4ef8a59f",
   "metadata": {},
   "outputs": [
    {
     "name": "stdout",
     "output_type": "stream",
     "text": [
      "3\n"
     ]
    }
   ],
   "source": [
    "from sklearn.tree import DecisionTreeClassifier\n",
    "from sklearn.model_selection import GridSearchCV\n",
    "param_grid={ 'max_depth':[None,3,4,5,6,7,8,10]}\n",
    "clf=DecisionTreeClassifier(criterion='entropy')\n",
    "grid_search=GridSearchCV(clf,param_grid,cv=5)\n",
    "grid_search.fit(xtrain,ytrain)\n",
    "best_max_depth=grid_search.best_params_['max_depth']\n",
    "print(best_max_depth)\n"
   ]
  },
  {
   "cell_type": "code",
   "execution_count": 19,
   "id": "7f85c249",
   "metadata": {},
   "outputs": [
    {
     "data": {
      "text/plain": [
       "{'max_depth': 3}"
      ]
     },
     "execution_count": 19,
     "metadata": {},
     "output_type": "execute_result"
    }
   ],
   "source": [
    "grid_search.best_params_"
   ]
  },
  {
   "cell_type": "code",
   "execution_count": 20,
   "id": "9fb91d31",
   "metadata": {},
   "outputs": [
    {
     "data": {
      "text/plain": [
       "{'mean_fit_time': array([0.00671477, 0.00359716, 0.00323343, 0.00399752, 0.00499759,\n",
       "        0.00599732, 0.00498981, 0.00599837]),\n",
       " 'std_fit_time': array([2.49233076e-03, 4.94197113e-04, 2.21847521e-03, 1.99876526e-03,\n",
       "        2.24167229e-05, 2.00096788e-03, 1.58015230e-05, 1.99735661e-03]),\n",
       " 'mean_score_time': array([0.00220408, 0.00156007, 0.00199137, 0.00299859, 0.00199904,\n",
       "        0.        , 0.00100641, 0.00199733]),\n",
       " 'std_score_time': array([0.00161037, 0.00046365, 0.00243894, 0.00244834, 0.00244832,\n",
       "        0.        , 0.00201283, 0.00244622]),\n",
       " 'param_max_depth': masked_array(data=[None, 3, 4, 5, 6, 7, 8, 10],\n",
       "              mask=[False, False, False, False, False, False, False, False],\n",
       "        fill_value='?',\n",
       "             dtype=object),\n",
       " 'params': [{'max_depth': None},\n",
       "  {'max_depth': 3},\n",
       "  {'max_depth': 4},\n",
       "  {'max_depth': 5},\n",
       "  {'max_depth': 6},\n",
       "  {'max_depth': 7},\n",
       "  {'max_depth': 8},\n",
       "  {'max_depth': 10}],\n",
       " 'split0_test_score': array([0.71544715, 0.69918699, 0.70731707, 0.68292683, 0.66666667,\n",
       "        0.65853659, 0.68292683, 0.66666667]),\n",
       " 'split1_test_score': array([0.69105691, 0.71544715, 0.71544715, 0.70731707, 0.69918699,\n",
       "        0.70731707, 0.69105691, 0.68292683]),\n",
       " 'split2_test_score': array([0.73170732, 0.7804878 , 0.69918699, 0.70731707, 0.73170732,\n",
       "        0.71544715, 0.73170732, 0.7398374 ]),\n",
       " 'split3_test_score': array([0.66666667, 0.67479675, 0.7398374 , 0.67479675, 0.69918699,\n",
       "        0.63414634, 0.61788618, 0.6504065 ]),\n",
       " 'split4_test_score': array([0.71311475, 0.7704918 , 0.7295082 , 0.7295082 , 0.72131148,\n",
       "        0.7295082 , 0.70491803, 0.71311475]),\n",
       " 'mean_test_score': array([0.70359856, 0.7280821 , 0.71825936, 0.70037318, 0.70361189,\n",
       "        0.68899107, 0.68569905, 0.69059043]),\n",
       " 'std_test_score': array([0.02254909, 0.04093614, 0.01472104, 0.01951314, 0.02239079,\n",
       "        0.03636708, 0.03773886, 0.03218209]),\n",
       " 'rank_test_score': array([4, 1, 2, 5, 3, 7, 8, 6])}"
      ]
     },
     "execution_count": 20,
     "metadata": {},
     "output_type": "execute_result"
    }
   ],
   "source": [
    "grid_search.cv_results_"
   ]
  },
  {
   "cell_type": "code",
   "execution_count": 21,
   "id": "e491eb9d",
   "metadata": {},
   "outputs": [
    {
     "data": {
      "text/html": [
       "<style>#sk-container-id-1 {color: black;}#sk-container-id-1 pre{padding: 0;}#sk-container-id-1 div.sk-toggleable {background-color: white;}#sk-container-id-1 label.sk-toggleable__label {cursor: pointer;display: block;width: 100%;margin-bottom: 0;padding: 0.3em;box-sizing: border-box;text-align: center;}#sk-container-id-1 label.sk-toggleable__label-arrow:before {content: \"▸\";float: left;margin-right: 0.25em;color: #696969;}#sk-container-id-1 label.sk-toggleable__label-arrow:hover:before {color: black;}#sk-container-id-1 div.sk-estimator:hover label.sk-toggleable__label-arrow:before {color: black;}#sk-container-id-1 div.sk-toggleable__content {max-height: 0;max-width: 0;overflow: hidden;text-align: left;background-color: #f0f8ff;}#sk-container-id-1 div.sk-toggleable__content pre {margin: 0.2em;color: black;border-radius: 0.25em;background-color: #f0f8ff;}#sk-container-id-1 input.sk-toggleable__control:checked~div.sk-toggleable__content {max-height: 200px;max-width: 100%;overflow: auto;}#sk-container-id-1 input.sk-toggleable__control:checked~label.sk-toggleable__label-arrow:before {content: \"▾\";}#sk-container-id-1 div.sk-estimator input.sk-toggleable__control:checked~label.sk-toggleable__label {background-color: #d4ebff;}#sk-container-id-1 div.sk-label input.sk-toggleable__control:checked~label.sk-toggleable__label {background-color: #d4ebff;}#sk-container-id-1 input.sk-hidden--visually {border: 0;clip: rect(1px 1px 1px 1px);clip: rect(1px, 1px, 1px, 1px);height: 1px;margin: -1px;overflow: hidden;padding: 0;position: absolute;width: 1px;}#sk-container-id-1 div.sk-estimator {font-family: monospace;background-color: #f0f8ff;border: 1px dotted black;border-radius: 0.25em;box-sizing: border-box;margin-bottom: 0.5em;}#sk-container-id-1 div.sk-estimator:hover {background-color: #d4ebff;}#sk-container-id-1 div.sk-parallel-item::after {content: \"\";width: 100%;border-bottom: 1px solid gray;flex-grow: 1;}#sk-container-id-1 div.sk-label:hover label.sk-toggleable__label {background-color: #d4ebff;}#sk-container-id-1 div.sk-serial::before {content: \"\";position: absolute;border-left: 1px solid gray;box-sizing: border-box;top: 0;bottom: 0;left: 50%;z-index: 0;}#sk-container-id-1 div.sk-serial {display: flex;flex-direction: column;align-items: center;background-color: white;padding-right: 0.2em;padding-left: 0.2em;position: relative;}#sk-container-id-1 div.sk-item {position: relative;z-index: 1;}#sk-container-id-1 div.sk-parallel {display: flex;align-items: stretch;justify-content: center;background-color: white;position: relative;}#sk-container-id-1 div.sk-item::before, #sk-container-id-1 div.sk-parallel-item::before {content: \"\";position: absolute;border-left: 1px solid gray;box-sizing: border-box;top: 0;bottom: 0;left: 50%;z-index: -1;}#sk-container-id-1 div.sk-parallel-item {display: flex;flex-direction: column;z-index: 1;position: relative;background-color: white;}#sk-container-id-1 div.sk-parallel-item:first-child::after {align-self: flex-end;width: 50%;}#sk-container-id-1 div.sk-parallel-item:last-child::after {align-self: flex-start;width: 50%;}#sk-container-id-1 div.sk-parallel-item:only-child::after {width: 0;}#sk-container-id-1 div.sk-dashed-wrapped {border: 1px dashed gray;margin: 0 0.4em 0.5em 0.4em;box-sizing: border-box;padding-bottom: 0.4em;background-color: white;}#sk-container-id-1 div.sk-label label {font-family: monospace;font-weight: bold;display: inline-block;line-height: 1.2em;}#sk-container-id-1 div.sk-label-container {text-align: center;}#sk-container-id-1 div.sk-container {/* jupyter's `normalize.less` sets `[hidden] { display: none; }` but bootstrap.min.css set `[hidden] { display: none !important; }` so we also need the `!important` here to be able to override the default hidden behavior on the sphinx rendered scikit-learn.org. See: https://github.com/scikit-learn/scikit-learn/issues/21755 */display: inline-block !important;position: relative;}#sk-container-id-1 div.sk-text-repr-fallback {display: none;}</style><div id=\"sk-container-id-1\" class=\"sk-top-container\"><div class=\"sk-text-repr-fallback\"><pre>DecisionTreeClassifier(criterion=&#x27;entropy&#x27;, max_depth=3)</pre><b>In a Jupyter environment, please rerun this cell to show the HTML representation or trust the notebook. <br />On GitHub, the HTML representation is unable to render, please try loading this page with nbviewer.org.</b></div><div class=\"sk-container\" hidden><div class=\"sk-item\"><div class=\"sk-estimator sk-toggleable\"><input class=\"sk-toggleable__control sk-hidden--visually\" id=\"sk-estimator-id-1\" type=\"checkbox\" checked><label for=\"sk-estimator-id-1\" class=\"sk-toggleable__label sk-toggleable__label-arrow\">DecisionTreeClassifier</label><div class=\"sk-toggleable__content\"><pre>DecisionTreeClassifier(criterion=&#x27;entropy&#x27;, max_depth=3)</pre></div></div></div></div></div>"
      ],
      "text/plain": [
       "DecisionTreeClassifier(criterion='entropy', max_depth=3)"
      ]
     },
     "execution_count": 21,
     "metadata": {},
     "output_type": "execute_result"
    }
   ],
   "source": [
    "grid_search.best_estimator_\n"
   ]
  },
  {
   "cell_type": "code",
   "execution_count": 22,
   "id": "bd2f4bb4",
   "metadata": {},
   "outputs": [
    {
     "data": {
      "text/plain": [
       "1"
      ]
     },
     "execution_count": 22,
     "metadata": {},
     "output_type": "execute_result"
    }
   ],
   "source": [
    "grid_search.best_index_"
   ]
  },
  {
   "cell_type": "code",
   "execution_count": 23,
   "id": "6259576e",
   "metadata": {},
   "outputs": [
    {
     "data": {
      "text/plain": [
       "array([0, 1], dtype=int64)"
      ]
     },
     "execution_count": 23,
     "metadata": {},
     "output_type": "execute_result"
    }
   ],
   "source": [
    "grid_search.classes_"
   ]
  },
  {
   "cell_type": "code",
   "execution_count": 24,
   "id": "b46fd741",
   "metadata": {},
   "outputs": [
    {
     "data": {
      "text/plain": [
       "5"
      ]
     },
     "execution_count": 24,
     "metadata": {},
     "output_type": "execute_result"
    }
   ],
   "source": [
    "grid_search.cv"
   ]
  },
  {
   "cell_type": "code",
   "execution_count": 25,
   "id": "6c28a3f4",
   "metadata": {},
   "outputs": [
    {
     "data": {
      "text/plain": [
       "array(['Pregnancies', 'Glucose', 'BloodPressure', 'SkinThickness',\n",
       "       'Insulin', 'BMI', 'DiabetesPedigreeFunction', 'Age'], dtype=object)"
      ]
     },
     "execution_count": 25,
     "metadata": {},
     "output_type": "execute_result"
    }
   ],
   "source": [
    "grid_search.feature_names_in_"
   ]
  },
  {
   "cell_type": "code",
   "execution_count": 26,
   "id": "712696cf",
   "metadata": {},
   "outputs": [
    {
     "data": {
      "text/plain": [
       "5"
      ]
     },
     "execution_count": 26,
     "metadata": {},
     "output_type": "execute_result"
    }
   ],
   "source": [
    "grid_search.n_splits_"
   ]
  },
  {
   "cell_type": "code",
   "execution_count": 27,
   "id": "5478eeeb",
   "metadata": {},
   "outputs": [
    {
     "data": {
      "text/plain": [
       "{'ccp_alpha': 0.0,\n",
       " 'class_weight': None,\n",
       " 'criterion': 'entropy',\n",
       " 'max_depth': None,\n",
       " 'max_features': None,\n",
       " 'max_leaf_nodes': None,\n",
       " 'min_impurity_decrease': 0.0,\n",
       " 'min_samples_leaf': 1,\n",
       " 'min_samples_split': 2,\n",
       " 'min_weight_fraction_leaf': 0.0,\n",
       " 'random_state': None,\n",
       " 'splitter': 'best'}"
      ]
     },
     "execution_count": 27,
     "metadata": {},
     "output_type": "execute_result"
    }
   ],
   "source": [
    "clf.get_params()\n"
   ]
  },
  {
   "cell_type": "code",
   "execution_count": 28,
   "id": "63149771",
   "metadata": {},
   "outputs": [
    {
     "data": {
      "text/plain": [
       "[Text(0.4060724431818182, 0.9666666666666667, 'x[1] <= 127.5\\nentropy = 0.945\\nsamples = 614\\nvalue = [391, 223]'),\n",
       " Text(0.11399147727272728, 0.9, 'x[5] <= 26.45\\nentropy = 0.709\\nsamples = 381\\nvalue = [307, 74]'),\n",
       " Text(0.045454545454545456, 0.8333333333333334, 'x[5] <= 9.1\\nentropy = 0.133\\nsamples = 108\\nvalue = [106, 2]'),\n",
       " Text(0.03409090909090909, 0.7666666666666667, 'x[7] <= 28.0\\nentropy = 0.764\\nsamples = 9\\nvalue = [7, 2]'),\n",
       " Text(0.022727272727272728, 0.7, 'x[0] <= 6.5\\nentropy = 0.544\\nsamples = 7\\nvalue = [7, 0]'),\n",
       " Text(0.011363636363636364, 0.6333333333333333, 'entropy = 0.0\\nsamples = 6\\nvalue = [6, 0]'),\n",
       " Text(0.03409090909090909, 0.6333333333333333, 'entropy = 0.0\\nsamples = 1\\nvalue = [1, 0]'),\n",
       " Text(0.045454545454545456, 0.7, 'entropy = 0.0\\nsamples = 2\\nvalue = [0, 2]'),\n",
       " Text(0.056818181818181816, 0.7666666666666667, 'entropy = 0.0\\nsamples = 99\\nvalue = [99, 0]'),\n",
       " Text(0.1825284090909091, 0.8333333333333334, 'x[7] <= 28.5\\nentropy = 0.832\\nsamples = 273\\nvalue = [201, 72]'),\n",
       " Text(0.07954545454545454, 0.7666666666666667, 'x[5] <= 30.95\\nentropy = 0.559\\nsamples = 137\\nvalue = [119, 18]'),\n",
       " Text(0.06818181818181818, 0.7, 'entropy = 0.0\\nsamples = 45\\nvalue = [45, 0]'),\n",
       " Text(0.09090909090909091, 0.7, 'x[5] <= 45.4\\nentropy = 0.713\\nsamples = 92\\nvalue = [74, 18]'),\n",
       " Text(0.07954545454545454, 0.6333333333333333, 'x[2] <= 53.0\\nentropy = 0.675\\nsamples = 89\\nvalue = [74, 15]'),\n",
       " Text(0.045454545454545456, 0.5666666666666667, 'x[5] <= 33.5\\nentropy = 0.985\\nsamples = 7\\nvalue = [3, 4]'),\n",
       " Text(0.03409090909090909, 0.5, 'entropy = 0.0\\nsamples = 3\\nvalue = [0, 3]'),\n",
       " Text(0.056818181818181816, 0.5, 'x[0] <= 2.5\\nentropy = 0.811\\nsamples = 4\\nvalue = [3, 1]'),\n",
       " Text(0.045454545454545456, 0.43333333333333335, 'entropy = -0.877\\nsamples = 2\\nvalue = [2, 0]'),\n",
       " Text(0.06818181818181818, 0.43333333333333335, 'entropy = 0.0\\nsamples = 2\\nvalue = [1, 1]'),\n",
       " Text(0.11363636363636363, 0.5666666666666667, 'x[6] <= 0.501\\nentropy = 0.569\\nsamples = 82\\nvalue = [71, 11]'),\n",
       " Text(0.10227272727272728, 0.5, 'entropy = 0.239\\nsamples = 50\\nvalue = [48, 2]'),\n",
       " Text(0.125, 0.5, 'x[6] <= 0.551\\nentropy = 0.869\\nsamples = 32\\nvalue = [23, 9]'),\n",
       " Text(0.09090909090909091, 0.43333333333333335, 'x[5] <= 34.0\\nentropy = 0.991\\nsamples = 9\\nvalue = [4, 5]'),\n",
       " Text(0.07954545454545454, 0.36666666666666664, 'entropy = 0.0\\nsamples = 3\\nvalue = [0, 3]'),\n",
       " Text(0.10227272727272728, 0.36666666666666664, 'x[0] <= 1.5\\nentropy = 0.918\\nsamples = 6\\nvalue = [4, 2]'),\n",
       " Text(0.09090909090909091, 0.3, 'x[5] <= 41.25\\nentropy = 0.722\\nsamples = 4\\nvalue = [4, 0]'),\n",
       " Text(0.07954545454545454, 0.23333333333333334, 'entropy = 0.0\\nsamples = 3\\nvalue = [3, 0]'),\n",
       " Text(0.10227272727272728, 0.23333333333333334, 'entropy = 0.0\\nsamples = 1\\nvalue = [1, 0]'),\n",
       " Text(0.11363636363636363, 0.3, 'entropy = 0.0\\nsamples = 2\\nvalue = [0, 2]'),\n",
       " Text(0.1590909090909091, 0.43333333333333335, 'x[2] <= 81.0\\nentropy = 0.667\\nsamples = 23\\nvalue = [19, 4]'),\n",
       " Text(0.14772727272727273, 0.36666666666666664, 'x[7] <= 27.5\\nentropy = 0.702\\nsamples = 20\\nvalue = [17, 3]'),\n",
       " Text(0.13636363636363635, 0.3, 'entropy = 0.485\\nsamples = 18\\nvalue = [16, 2]'),\n",
       " Text(0.1590909090909091, 0.3, 'entropy = 0.0\\nsamples = 2\\nvalue = [1, 1]'),\n",
       " Text(0.17045454545454544, 0.36666666666666664, 'entropy = 0.0\\nsamples = 3\\nvalue = [2, 1]'),\n",
       " Text(0.10227272727272728, 0.6333333333333333, 'entropy = 0.0\\nsamples = 3\\nvalue = [0, 3]'),\n",
       " Text(0.28551136363636365, 0.7666666666666667, 'x[1] <= 100.5\\nentropy = 0.971\\nsamples = 136\\nvalue = [82, 54]'),\n",
       " Text(0.19318181818181818, 0.7, 'x[7] <= 42.5\\nentropy = 0.696\\nsamples = 48\\nvalue = [39, 9]'),\n",
       " Text(0.17045454545454544, 0.6333333333333333, 'x[0] <= 12.0\\nentropy = 0.513\\nsamples = 34\\nvalue = [31, 3]'),\n",
       " Text(0.1590909090909091, 0.5666666666666667, 'entropy = 0.431\\nsamples = 33\\nvalue = [30, 3]'),\n",
       " Text(0.18181818181818182, 0.5666666666666667, 'entropy = 0.0\\nsamples = 1\\nvalue = [1, 0]'),\n",
       " Text(0.2159090909090909, 0.6333333333333333, 'x[3] <= 3.5\\nentropy = 0.961\\nsamples = 14\\nvalue = [8, 6]'),\n",
       " Text(0.20454545454545456, 0.5666666666666667, 'entropy = 0.0\\nsamples = 3\\nvalue = [3, 0]'),\n",
       " Text(0.22727272727272727, 0.5666666666666667, 'x[3] <= 32.5\\nentropy = 0.994\\nsamples = 11\\nvalue = [5, 6]'),\n",
       " Text(0.2159090909090909, 0.5, 'x[3] <= 24.0\\nentropy = 0.918\\nsamples = 8\\nvalue = [2, 6]'),\n",
       " Text(0.20454545454545456, 0.43333333333333335, 'x[0] <= 11.0\\nentropy = 0.918\\nsamples = 3\\nvalue = [2, 1]'),\n",
       " Text(0.19318181818181818, 0.36666666666666664, 'x[1] <= 82.0\\nentropy = 0.918\\nsamples = 2\\nvalue = [2, 0]'),\n",
       " Text(0.18181818181818182, 0.3, 'entropy = -2.0\\nsamples = 1\\nvalue = [1, 0]'),\n",
       " Text(0.20454545454545456, 0.3, 'entropy = 0.0\\nsamples = 1\\nvalue = [1, 0]'),\n",
       " Text(0.2159090909090909, 0.36666666666666664, 'entropy = 0.0\\nsamples = 1\\nvalue = [0, 1]'),\n",
       " Text(0.22727272727272727, 0.43333333333333335, 'entropy = 0.0\\nsamples = 5\\nvalue = [0, 5]'),\n",
       " Text(0.23863636363636365, 0.5, 'entropy = 0.0\\nsamples = 3\\nvalue = [3, 0]'),\n",
       " Text(0.3778409090909091, 0.7, 'x[6] <= 0.521\\nentropy = 1.0\\nsamples = 88\\nvalue = [43, 45]'),\n",
       " Text(0.32386363636363635, 0.6333333333333333, 'x[2] <= 84.0\\nentropy = 0.967\\nsamples = 60\\nvalue = [37, 23]'),\n",
       " Text(0.2840909090909091, 0.5666666666666667, 'x[3] <= 13.5\\nentropy = 0.995\\nsamples = 47\\nvalue = [25, 22]'),\n",
       " Text(0.26136363636363635, 0.5, 'x[1] <= 122.5\\nentropy = 0.918\\nsamples = 24\\nvalue = [8, 16]'),\n",
       " Text(0.25, 0.43333333333333335, 'x[6] <= 0.167\\nentropy = 0.959\\nsamples = 20\\nvalue = [8, 12]'),\n",
       " Text(0.23863636363636365, 0.36666666666666664, 'entropy = 0.0\\nsamples = 3\\nvalue = [3, 0]'),\n",
       " Text(0.26136363636363635, 0.36666666666666664, 'x[1] <= 121.0\\nentropy = 0.874\\nsamples = 17\\nvalue = [5, 12]'),\n",
       " Text(0.25, 0.3, 'x[1] <= 111.0\\nentropy = 0.811\\nsamples = 15\\nvalue = [3, 12]'),\n",
       " Text(0.23863636363636365, 0.23333333333333334, 'x[2] <= 71.0\\nentropy = 0.918\\nsamples = 8\\nvalue = [3, 5]'),\n",
       " Text(0.22727272727272727, 0.16666666666666666, 'entropy = 0.0\\nsamples = 2\\nvalue = [2, 0]'),\n",
       " Text(0.25, 0.16666666666666666, 'x[0] <= 7.5\\nentropy = 0.65\\nsamples = 6\\nvalue = [1, 5]'),\n",
       " Text(0.23863636363636365, 0.1, 'entropy = 0.0\\nsamples = 4\\nvalue = [0, 4]'),\n",
       " Text(0.26136363636363635, 0.1, 'entropy = 0.0\\nsamples = 2\\nvalue = [1, 1]'),\n",
       " Text(0.26136363636363635, 0.23333333333333334, 'entropy = 0.0\\nsamples = 7\\nvalue = [0, 7]'),\n",
       " Text(0.2727272727272727, 0.3, 'entropy = 0.0\\nsamples = 2\\nvalue = [2, 0]'),\n",
       " Text(0.2727272727272727, 0.43333333333333335, 'entropy = 0.0\\nsamples = 4\\nvalue = [0, 4]'),\n",
       " Text(0.3068181818181818, 0.5, 'x[0] <= 5.5\\nentropy = 0.828\\nsamples = 23\\nvalue = [17, 6]'),\n",
       " Text(0.29545454545454547, 0.43333333333333335, 'entropy = 0.0\\nsamples = 8\\nvalue = [8, 0]'),\n",
       " Text(0.3181818181818182, 0.43333333333333335, 'x[7] <= 43.0\\nentropy = 0.971\\nsamples = 15\\nvalue = [9, 6]'),\n",
       " Text(0.3068181818181818, 0.36666666666666664, 'x[4] <= 34.0\\nentropy = 0.994\\nsamples = 10\\nvalue = [4, 6]'),\n",
       " Text(0.29545454545454547, 0.3, 'entropy = 0.0\\nsamples = 4\\nvalue = [0, 4]'),\n",
       " Text(0.3181818181818182, 0.3, 'x[6] <= 0.271\\nentropy = 0.918\\nsamples = 6\\nvalue = [4, 2]'),\n",
       " Text(0.29545454545454547, 0.23333333333333334, 'x[0] <= 7.5\\nentropy = 0.918\\nsamples = 3\\nvalue = [1, 2]'),\n",
       " Text(0.2840909090909091, 0.16666666666666666, 'entropy = 0.0\\nsamples = 1\\nvalue = [1, 0]'),\n",
       " Text(0.3068181818181818, 0.16666666666666666, 'entropy = 0.0\\nsamples = 2\\nvalue = [0, 2]'),\n",
       " Text(0.3409090909090909, 0.23333333333333334, 'x[3] <= 38.5\\nentropy = 0.918\\nsamples = 3\\nvalue = [3, 0]'),\n",
       " Text(0.32954545454545453, 0.16666666666666666, 'entropy = 0.0\\nsamples = 2\\nvalue = [2, 0]'),\n",
       " Text(0.3522727272727273, 0.16666666666666666, 'entropy = 0.0\\nsamples = 1\\nvalue = [1, 0]'),\n",
       " Text(0.32954545454545453, 0.36666666666666664, 'entropy = 0.0\\nsamples = 5\\nvalue = [5, 0]'),\n",
       " Text(0.36363636363636365, 0.5666666666666667, 'x[0] <= 7.5\\nentropy = 0.414\\nsamples = 13\\nvalue = [12, 1]'),\n",
       " Text(0.3522727272727273, 0.5, 'x[0] <= 6.5\\nentropy = 0.414\\nsamples = 11\\nvalue = [11, 0]'),\n",
       " Text(0.3409090909090909, 0.43333333333333335, 'entropy = 0.0\\nsamples = 10\\nvalue = [10, 0]'),\n",
       " Text(0.36363636363636365, 0.43333333333333335, 'entropy = 0.0\\nsamples = 1\\nvalue = [1, 0]'),\n",
       " Text(0.375, 0.5, 'entropy = 0.0\\nsamples = 2\\nvalue = [1, 1]'),\n",
       " Text(0.4318181818181818, 0.6333333333333333, 'x[0] <= 5.0\\nentropy = 0.764\\nsamples = 28\\nvalue = [6, 22]'),\n",
       " Text(0.42045454545454547, 0.5666666666666667, 'x[2] <= 69.0\\nentropy = 0.954\\nsamples = 15\\nvalue = [6, 9]'),\n",
       " Text(0.3977272727272727, 0.5, 'x[4] <= 137.5\\nentropy = 0.863\\nsamples = 7\\nvalue = [5, 2]'),\n",
       " Text(0.38636363636363635, 0.43333333333333335, 'x[5] <= 32.15\\nentropy = 0.65\\nsamples = 5\\nvalue = [5, 0]'),\n",
       " Text(0.375, 0.36666666666666664, 'entropy = 0.0\\nsamples = 4\\nvalue = [4, 0]'),\n",
       " Text(0.3977272727272727, 0.36666666666666664, 'entropy = 0.0\\nsamples = 1\\nvalue = [1, 0]'),\n",
       " Text(0.4090909090909091, 0.43333333333333335, 'entropy = 0.0\\nsamples = 2\\nvalue = [0, 2]'),\n",
       " Text(0.4431818181818182, 0.5, 'x[1] <= 119.5\\nentropy = 0.544\\nsamples = 8\\nvalue = [1, 7]'),\n",
       " Text(0.4318181818181818, 0.43333333333333335, 'entropy = 0.0\\nsamples = 6\\nvalue = [0, 6]'),\n",
       " Text(0.45454545454545453, 0.43333333333333335, 'entropy = 0.0\\nsamples = 2\\nvalue = [1, 1]'),\n",
       " Text(0.4431818181818182, 0.5666666666666667, 'entropy = 0.0\\nsamples = 13\\nvalue = [0, 13]'),\n",
       " Text(0.6981534090909091, 0.9, 'x[5] <= 29.85\\nentropy = 0.941\\nsamples = 233\\nvalue = [84, 149]'),\n",
       " Text(0.5568181818181818, 0.8333333333333334, 'x[1] <= 145.5\\nentropy = 0.944\\nsamples = 58\\nvalue = [37, 21]'),\n",
       " Text(0.5340909090909091, 0.7666666666666667, 'x[0] <= 10.5\\nentropy = 0.684\\nsamples = 32\\nvalue = [26, 6]'),\n",
       " Text(0.5227272727272727, 0.7, 'x[4] <= 121.5\\nentropy = 0.637\\nsamples = 30\\nvalue = [25, 5]'),\n",
       " Text(0.5113636363636364, 0.6333333333333333, 'x[4] <= 71.5\\nentropy = 0.831\\nsamples = 18\\nvalue = [13, 5]'),\n",
       " Text(0.5, 0.5666666666666667, 'x[2] <= 73.0\\nentropy = 0.787\\nsamples = 16\\nvalue = [13, 3]'),\n",
       " Text(0.48863636363636365, 0.5, 'x[2] <= 69.0\\nentropy = 0.985\\nsamples = 7\\nvalue = [4, 3]'),\n",
       " Text(0.4772727272727273, 0.43333333333333335, 'x[5] <= 26.85\\nentropy = 0.918\\nsamples = 5\\nvalue = [4, 1]'),\n",
       " Text(0.4659090909090909, 0.36666666666666664, 'entropy = 0.722\\nsamples = 4\\nvalue = [3, 1]'),\n",
       " Text(0.48863636363636365, 0.36666666666666664, 'entropy = 0.0\\nsamples = 1\\nvalue = [1, 0]'),\n",
       " Text(0.5, 0.43333333333333335, 'entropy = 0.0\\nsamples = 2\\nvalue = [0, 2]'),\n",
       " Text(0.5113636363636364, 0.5, 'entropy = 0.0\\nsamples = 9\\nvalue = [9, 0]'),\n",
       " Text(0.5227272727272727, 0.5666666666666667, 'entropy = 0.0\\nsamples = 2\\nvalue = [0, 2]'),\n",
       " Text(0.5340909090909091, 0.6333333333333333, 'entropy = 0.0\\nsamples = 12\\nvalue = [12, 0]'),\n",
       " Text(0.5454545454545454, 0.7, 'entropy = 0.0\\nsamples = 2\\nvalue = [1, 1]'),\n",
       " Text(0.5795454545454546, 0.7666666666666667, 'x[7] <= 61.0\\nentropy = 0.971\\nsamples = 26\\nvalue = [11, 15]'),\n",
       " Text(0.5681818181818182, 0.7, 'x[7] <= 25.5\\nentropy = 0.954\\nsamples = 23\\nvalue = [8, 15]'),\n",
       " Text(0.5568181818181818, 0.6333333333333333, 'entropy = 0.0\\nsamples = 2\\nvalue = [2, 0]'),\n",
       " Text(0.5795454545454546, 0.6333333333333333, 'x[4] <= 116.0\\nentropy = 0.863\\nsamples = 21\\nvalue = [6, 15]'),\n",
       " Text(0.5681818181818182, 0.5666666666666667, 'x[5] <= 27.1\\nentropy = 0.954\\nsamples = 15\\nvalue = [6, 9]'),\n",
       " Text(0.5454545454545454, 0.5, 'x[1] <= 151.0\\nentropy = 0.592\\nsamples = 7\\nvalue = [1, 6]'),\n",
       " Text(0.5340909090909091, 0.43333333333333335, 'entropy = 0.0\\nsamples = 1\\nvalue = [1, 0]'),\n",
       " Text(0.5568181818181818, 0.43333333333333335, 'entropy = 0.0\\nsamples = 6\\nvalue = [0, 6]'),\n",
       " Text(0.5909090909090909, 0.5, 'x[2] <= 28.0\\nentropy = 0.954\\nsamples = 8\\nvalue = [5, 3]'),\n",
       " Text(0.5795454545454546, 0.43333333333333335, 'entropy = 0.0\\nsamples = 2\\nvalue = [0, 2]'),\n",
       " Text(0.6022727272727273, 0.43333333333333335, 'x[4] <= 50.0\\nentropy = 0.65\\nsamples = 6\\nvalue = [5, 1]'),\n",
       " Text(0.5909090909090909, 0.36666666666666664, 'entropy = 0.65\\nsamples = 5\\nvalue = [4, 1]'),\n",
       " Text(0.6136363636363636, 0.36666666666666664, 'entropy = 0.0\\nsamples = 1\\nvalue = [1, 0]'),\n",
       " Text(0.5909090909090909, 0.5666666666666667, 'entropy = 0.0\\nsamples = 6\\nvalue = [0, 6]'),\n",
       " Text(0.5909090909090909, 0.7, 'entropy = 0.0\\nsamples = 3\\nvalue = [3, 0]'),\n",
       " Text(0.8394886363636364, 0.8333333333333334, 'x[6] <= 0.434\\nentropy = 0.839\\nsamples = 175\\nvalue = [47, 128]'),\n",
       " Text(0.7698863636363636, 0.7666666666666667, 'x[1] <= 166.0\\nentropy = 0.964\\nsamples = 85\\nvalue = [33, 52]'),\n",
       " Text(0.7102272727272727, 0.7, 'x[4] <= 163.0\\nentropy = 0.999\\nsamples = 59\\nvalue = [29, 30]'),\n",
       " Text(0.6818181818181818, 0.6333333333333333, 'x[5] <= 43.0\\nentropy = 0.976\\nsamples = 43\\nvalue = [17, 26]'),\n",
       " Text(0.6704545454545454, 0.5666666666666667, 'x[1] <= 130.0\\nentropy = 0.992\\nsamples = 37\\nvalue = [17, 20]'),\n",
       " Text(0.6590909090909091, 0.5, 'entropy = 0.0\\nsamples = 3\\nvalue = [3, 0]'),\n",
       " Text(0.6818181818181818, 0.5, 'x[2] <= 71.0\\nentropy = 0.977\\nsamples = 34\\nvalue = [14, 20]'),\n",
       " Text(0.6477272727272727, 0.43333333333333335, 'x[7] <= 22.5\\nentropy = 0.503\\nsamples = 9\\nvalue = [1, 8]'),\n",
       " Text(0.6363636363636364, 0.36666666666666664, 'x[1] <= 139.5\\nentropy = 1.0\\nsamples = 2\\nvalue = [1, 1]'),\n",
       " Text(0.625, 0.3, 'entropy = 0.0\\nsamples = 1\\nvalue = [0, 1]'),\n",
       " Text(0.6477272727272727, 0.3, 'entropy = 0.0\\nsamples = 1\\nvalue = [1, 0]'),\n",
       " Text(0.6590909090909091, 0.36666666666666664, 'entropy = 0.0\\nsamples = 7\\nvalue = [0, 7]'),\n",
       " Text(0.7159090909090909, 0.43333333333333335, 'x[0] <= 4.5\\nentropy = 0.999\\nsamples = 25\\nvalue = [13, 12]'),\n",
       " Text(0.6818181818181818, 0.36666666666666664, 'x[1] <= 134.0\\nentropy = 0.845\\nsamples = 11\\nvalue = [8, 3]'),\n",
       " Text(0.6704545454545454, 0.3, 'entropy = 0.0\\nsamples = 2\\nvalue = [0, 2]'),\n",
       " Text(0.6931818181818182, 0.3, 'x[2] <= 92.0\\nentropy = 0.503\\nsamples = 9\\nvalue = [8, 1]'),\n",
       " Text(0.6818181818181818, 0.23333333333333334, 'entropy = 0.503\\nsamples = 8\\nvalue = [7, 1]'),\n",
       " Text(0.7045454545454546, 0.23333333333333334, 'entropy = 0.0\\nsamples = 1\\nvalue = [1, 0]'),\n",
       " Text(0.75, 0.36666666666666664, 'x[6] <= 0.376\\nentropy = 0.94\\nsamples = 14\\nvalue = [5, 9]'),\n",
       " Text(0.7386363636363636, 0.3, 'x[5] <= 34.35\\nentropy = 0.89\\nsamples = 12\\nvalue = [3, 9]'),\n",
       " Text(0.7272727272727273, 0.23333333333333334, 'x[1] <= 157.5\\nentropy = 0.918\\nsamples = 8\\nvalue = [3, 5]'),\n",
       " Text(0.7159090909090909, 0.16666666666666666, 'x[2] <= 79.0\\nentropy = 1.0\\nsamples = 5\\nvalue = [3, 2]'),\n",
       " Text(0.7045454545454546, 0.1, 'x[7] <= 42.0\\nentropy = 0.811\\nsamples = 3\\nvalue = [2, 1]'),\n",
       " Text(0.6931818181818182, 0.03333333333333333, 'entropy = 0.0\\nsamples = 1\\nvalue = [0, 1]'),\n",
       " Text(0.7159090909090909, 0.03333333333333333, 'entropy = 0.0\\nsamples = 2\\nvalue = [2, 0]'),\n",
       " Text(0.7272727272727273, 0.1, 'entropy = 0.0\\nsamples = 2\\nvalue = [1, 1]'),\n",
       " Text(0.7386363636363636, 0.16666666666666666, 'entropy = 0.0\\nsamples = 3\\nvalue = [0, 3]'),\n",
       " Text(0.75, 0.23333333333333334, 'entropy = 0.0\\nsamples = 4\\nvalue = [0, 4]'),\n",
       " Text(0.7613636363636364, 0.3, 'entropy = 0.0\\nsamples = 2\\nvalue = [2, 0]'),\n",
       " Text(0.6931818181818182, 0.5666666666666667, 'entropy = 0.0\\nsamples = 6\\nvalue = [0, 6]'),\n",
       " Text(0.7386363636363636, 0.6333333333333333, 'x[4] <= 460.0\\nentropy = 0.837\\nsamples = 16\\nvalue = [12, 4]'),\n",
       " Text(0.7159090909090909, 0.5666666666666667, 'x[0] <= 4.5\\nentropy = 0.75\\nsamples = 13\\nvalue = [11, 2]'),\n",
       " Text(0.7045454545454546, 0.5, 'entropy = 0.414\\nsamples = 11\\nvalue = [10, 1]'),\n",
       " Text(0.7272727272727273, 0.5, 'entropy = 0.0\\nsamples = 2\\nvalue = [1, 1]'),\n",
       " Text(0.7613636363636364, 0.5666666666666667, 'x[7] <= 24.0\\nentropy = 1.0\\nsamples = 3\\nvalue = [1, 2]'),\n",
       " Text(0.75, 0.5, 'entropy = 0.0\\nsamples = 1\\nvalue = [1, 0]'),\n",
       " Text(0.7727272727272727, 0.5, 'entropy = 0.0\\nsamples = 2\\nvalue = [0, 2]'),\n",
       " Text(0.8295454545454546, 0.7, 'x[5] <= 35.3\\nentropy = 0.634\\nsamples = 26\\nvalue = [4, 22]'),\n",
       " Text(0.8181818181818182, 0.6333333333333333, 'x[4] <= 132.5\\nentropy = 0.89\\nsamples = 13\\nvalue = [4, 9]'),\n",
       " Text(0.8068181818181818, 0.5666666666666667, 'x[5] <= 33.45\\nentropy = 1.0\\nsamples = 7\\nvalue = [4, 3]'),\n",
       " Text(0.7954545454545454, 0.5, 'x[1] <= 175.5\\nentropy = 0.971\\nsamples = 4\\nvalue = [1, 3]'),\n",
       " Text(0.7840909090909091, 0.43333333333333335, 'x[4] <= 62.5\\nentropy = 1.0\\nsamples = 2\\nvalue = [0, 2]'),\n",
       " Text(0.7727272727272727, 0.36666666666666664, 'entropy = 0.0\\nsamples = 1\\nvalue = [0, 1]'),\n",
       " Text(0.7954545454545454, 0.36666666666666664, 'entropy = 0.0\\nsamples = 1\\nvalue = [0, 1]'),\n",
       " Text(0.8068181818181818, 0.43333333333333335, 'entropy = 0.0\\nsamples = 2\\nvalue = [1, 1]'),\n",
       " Text(0.8181818181818182, 0.5, 'entropy = 0.0\\nsamples = 3\\nvalue = [3, 0]'),\n",
       " Text(0.8295454545454546, 0.5666666666666667, 'entropy = 0.0\\nsamples = 6\\nvalue = [0, 6]'),\n",
       " Text(0.8409090909090909, 0.6333333333333333, 'entropy = 0.0\\nsamples = 13\\nvalue = [0, 13]'),\n",
       " Text(0.9090909090909091, 0.7666666666666667, 'x[0] <= 7.5\\nentropy = 0.624\\nsamples = 90\\nvalue = [14, 76]'),\n",
       " Text(0.8977272727272727, 0.7, 'x[2] <= 65.0\\nentropy = 0.739\\nsamples = 66\\nvalue = [14, 52]'),\n",
       " Text(0.8863636363636364, 0.6333333333333333, 'entropy = 0.0\\nsamples = 13\\nvalue = [0, 13]'),\n",
       " Text(0.9090909090909091, 0.6333333333333333, 'x[4] <= 301.5\\nentropy = 0.833\\nsamples = 53\\nvalue = [14, 39]'),\n",
       " Text(0.8636363636363636, 0.5666666666666667, 'x[5] <= 40.1\\nentropy = 0.722\\nsamples = 44\\nvalue = [8, 36]'),\n",
       " Text(0.8409090909090909, 0.5, 'x[6] <= 0.723\\nentropy = 0.362\\nsamples = 28\\nvalue = [2, 26]'),\n",
       " Text(0.8295454545454546, 0.43333333333333335, 'x[6] <= 0.629\\nentropy = 0.619\\nsamples = 13\\nvalue = [2, 11]'),\n",
       " Text(0.8181818181818182, 0.36666666666666664, 'x[1] <= 131.5\\nentropy = 0.469\\nsamples = 9\\nvalue = [0, 9]'),\n",
       " Text(0.8068181818181818, 0.3, 'entropy = 0.0\\nsamples = 1\\nvalue = [0, 1]'),\n",
       " Text(0.8295454545454546, 0.3, 'entropy = 0.0\\nsamples = 8\\nvalue = [0, 8]'),\n",
       " Text(0.8409090909090909, 0.36666666666666664, 'entropy = 0.918\\nsamples = 4\\nvalue = [2, 2]'),\n",
       " Text(0.8522727272727273, 0.43333333333333335, 'entropy = 0.0\\nsamples = 15\\nvalue = [0, 15]'),\n",
       " Text(0.8863636363636364, 0.5, 'x[7] <= 26.5\\nentropy = 0.971\\nsamples = 16\\nvalue = [6, 10]'),\n",
       " Text(0.875, 0.43333333333333335, 'entropy = 0.0\\nsamples = 7\\nvalue = [0, 7]'),\n",
       " Text(0.8977272727272727, 0.43333333333333335, 'x[4] <= 161.0\\nentropy = 0.918\\nsamples = 9\\nvalue = [6, 3]'),\n",
       " Text(0.875, 0.36666666666666664, 'x[3] <= 40.5\\nentropy = 0.65\\nsamples = 5\\nvalue = [5, 0]'),\n",
       " Text(0.8636363636363636, 0.3, 'entropy = 0.0\\nsamples = 4\\nvalue = [4, 0]'),\n",
       " Text(0.8863636363636364, 0.3, 'entropy = 0.0\\nsamples = 1\\nvalue = [1, 0]'),\n",
       " Text(0.9204545454545454, 0.36666666666666664, 'x[4] <= 236.0\\nentropy = 0.918\\nsamples = 4\\nvalue = [1, 3]'),\n",
       " Text(0.9090909090909091, 0.3, 'x[4] <= 194.5\\nentropy = 1.0\\nsamples = 2\\nvalue = [0, 2]'),\n",
       " Text(0.8977272727272727, 0.23333333333333334, 'entropy = 0.0\\nsamples = 1\\nvalue = [0, 1]'),\n",
       " Text(0.9204545454545454, 0.23333333333333334, 'entropy = 0.0\\nsamples = 1\\nvalue = [0, 1]'),\n",
       " Text(0.9318181818181818, 0.3, 'entropy = 0.0\\nsamples = 2\\nvalue = [1, 1]'),\n",
       " Text(0.9545454545454546, 0.5666666666666667, 'x[1] <= 161.5\\nentropy = 0.954\\nsamples = 9\\nvalue = [6, 3]'),\n",
       " Text(0.9318181818181818, 0.5, 'x[0] <= 6.0\\nentropy = 0.65\\nsamples = 5\\nvalue = [5, 0]'),\n",
       " Text(0.9204545454545454, 0.43333333333333335, 'entropy = 0.0\\nsamples = 4\\nvalue = [4, 0]'),\n",
       " Text(0.9431818181818182, 0.43333333333333335, 'entropy = 0.0\\nsamples = 1\\nvalue = [1, 0]'),\n",
       " Text(0.9772727272727273, 0.5, 'x[5] <= 37.45\\nentropy = 0.918\\nsamples = 4\\nvalue = [1, 3]'),\n",
       " Text(0.9659090909090909, 0.43333333333333335, 'entropy = 0.0\\nsamples = 1\\nvalue = [1, 0]'),\n",
       " Text(0.9886363636363636, 0.43333333333333335, 'entropy = 0.0\\nsamples = 3\\nvalue = [0, 3]'),\n",
       " Text(0.9204545454545454, 0.7, 'entropy = 0.0\\nsamples = 24\\nvalue = [0, 24]')]"
      ]
     },
     "execution_count": 28,
     "metadata": {},
     "output_type": "execute_result"
    },
    {
     "data": {
      "image/png": "[encoded data removed]",
      "text/plain": [
       "<Figure size 640x480 with 1 Axes>"
      ]
     },
     "metadata": {},
     "output_type": "display_data"
    }
   ],
   "source": [
    "from sklearn import tree\n",
    "tree.plot_tree(dt_clf)"
   ]
  },
  {
   "cell_type": "code",
   "execution_count": 29,
   "id": "ee7e8060",
   "metadata": {},
   "outputs": [
    {
     "data": {
      "text/plain": [
       "[Text(0.4060724431818182, 0.9666666666666667, 'x[1] <= 127.5\\nentropy = 0.945\\nsamples = 614\\nvalue = [391, 223]'),\n",
       " Text(0.11399147727272728, 0.9, 'x[5] <= 26.45\\nentropy = 0.709\\nsamples = 381\\nvalue = [307, 74]'),\n",
       " Text(0.045454545454545456, 0.8333333333333334, 'x[5] <= 9.1\\nentropy = 0.133\\nsamples = 108\\nvalue = [106, 2]'),\n",
       " Text(0.03409090909090909, 0.7666666666666667, 'x[7] <= 28.0\\nentropy = 0.764\\nsamples = 9\\nvalue = [7, 2]'),\n",
       " Text(0.022727272727272728, 0.7, 'x[0] <= 6.5\\nentropy = 0.544\\nsamples = 7\\nvalue = [7, 0]'),\n",
       " Text(0.011363636363636364, 0.6333333333333333, 'entropy = 0.0\\nsamples = 6\\nvalue = [6, 0]'),\n",
       " Text(0.03409090909090909, 0.6333333333333333, 'entropy = 0.0\\nsamples = 1\\nvalue = [1, 0]'),\n",
       " Text(0.045454545454545456, 0.7, 'entropy = 0.0\\nsamples = 2\\nvalue = [0, 2]'),\n",
       " Text(0.056818181818181816, 0.7666666666666667, 'entropy = 0.0\\nsamples = 99\\nvalue = [99, 0]'),\n",
       " Text(0.1825284090909091, 0.8333333333333334, 'x[7] <= 28.5\\nentropy = 0.832\\nsamples = 273\\nvalue = [201, 72]'),\n",
       " Text(0.07954545454545454, 0.7666666666666667, 'x[5] <= 30.95\\nentropy = 0.559\\nsamples = 137\\nvalue = [119, 18]'),\n",
       " Text(0.06818181818181818, 0.7, 'entropy = 0.0\\nsamples = 45\\nvalue = [45, 0]'),\n",
       " Text(0.09090909090909091, 0.7, 'x[5] <= 45.4\\nentropy = 0.713\\nsamples = 92\\nvalue = [74, 18]'),\n",
       " Text(0.07954545454545454, 0.6333333333333333, 'x[2] <= 53.0\\nentropy = 0.675\\nsamples = 89\\nvalue = [74, 15]'),\n",
       " Text(0.045454545454545456, 0.5666666666666667, 'x[5] <= 33.5\\nentropy = 0.985\\nsamples = 7\\nvalue = [3, 4]'),\n",
       " Text(0.03409090909090909, 0.5, 'entropy = 0.0\\nsamples = 3\\nvalue = [0, 3]'),\n",
       " Text(0.056818181818181816, 0.5, 'x[0] <= 2.5\\nentropy = 0.811\\nsamples = 4\\nvalue = [3, 1]'),\n",
       " Text(0.045454545454545456, 0.43333333333333335, 'entropy = -0.877\\nsamples = 2\\nvalue = [2, 0]'),\n",
       " Text(0.06818181818181818, 0.43333333333333335, 'entropy = 0.0\\nsamples = 2\\nvalue = [1, 1]'),\n",
       " Text(0.11363636363636363, 0.5666666666666667, 'x[6] <= 0.501\\nentropy = 0.569\\nsamples = 82\\nvalue = [71, 11]'),\n",
       " Text(0.10227272727272728, 0.5, 'entropy = 0.239\\nsamples = 50\\nvalue = [48, 2]'),\n",
       " Text(0.125, 0.5, 'x[6] <= 0.551\\nentropy = 0.869\\nsamples = 32\\nvalue = [23, 9]'),\n",
       " Text(0.09090909090909091, 0.43333333333333335, 'x[5] <= 34.0\\nentropy = 0.991\\nsamples = 9\\nvalue = [4, 5]'),\n",
       " Text(0.07954545454545454, 0.36666666666666664, 'entropy = 0.0\\nsamples = 3\\nvalue = [0, 3]'),\n",
       " Text(0.10227272727272728, 0.36666666666666664, 'x[0] <= 1.5\\nentropy = 0.918\\nsamples = 6\\nvalue = [4, 2]'),\n",
       " Text(0.09090909090909091, 0.3, 'x[5] <= 41.25\\nentropy = 0.722\\nsamples = 4\\nvalue = [4, 0]'),\n",
       " Text(0.07954545454545454, 0.23333333333333334, 'entropy = 0.0\\nsamples = 3\\nvalue = [3, 0]'),\n",
       " Text(0.10227272727272728, 0.23333333333333334, 'entropy = 0.0\\nsamples = 1\\nvalue = [1, 0]'),\n",
       " Text(0.11363636363636363, 0.3, 'entropy = 0.0\\nsamples = 2\\nvalue = [0, 2]'),\n",
       " Text(0.1590909090909091, 0.43333333333333335, 'x[2] <= 81.0\\nentropy = 0.667\\nsamples = 23\\nvalue = [19, 4]'),\n",
       " Text(0.14772727272727273, 0.36666666666666664, 'x[7] <= 27.5\\nentropy = 0.702\\nsamples = 20\\nvalue = [17, 3]'),\n",
       " Text(0.13636363636363635, 0.3, 'entropy = 0.485\\nsamples = 18\\nvalue = [16, 2]'),\n",
       " Text(0.1590909090909091, 0.3, 'entropy = 0.0\\nsamples = 2\\nvalue = [1, 1]'),\n",
       " Text(0.17045454545454544, 0.36666666666666664, 'entropy = 0.0\\nsamples = 3\\nvalue = [2, 1]'),\n",
       " Text(0.10227272727272728, 0.6333333333333333, 'entropy = 0.0\\nsamples = 3\\nvalue = [0, 3]'),\n",
       " Text(0.28551136363636365, 0.7666666666666667, 'x[1] <= 100.5\\nentropy = 0.971\\nsamples = 136\\nvalue = [82, 54]'),\n",
       " Text(0.19318181818181818, 0.7, 'x[7] <= 42.5\\nentropy = 0.696\\nsamples = 48\\nvalue = [39, 9]'),\n",
       " Text(0.17045454545454544, 0.6333333333333333, 'x[0] <= 12.0\\nentropy = 0.513\\nsamples = 34\\nvalue = [31, 3]'),\n",
       " Text(0.1590909090909091, 0.5666666666666667, 'entropy = 0.431\\nsamples = 33\\nvalue = [30, 3]'),\n",
       " Text(0.18181818181818182, 0.5666666666666667, 'entropy = 0.0\\nsamples = 1\\nvalue = [1, 0]'),\n",
       " Text(0.2159090909090909, 0.6333333333333333, 'x[3] <= 3.5\\nentropy = 0.961\\nsamples = 14\\nvalue = [8, 6]'),\n",
       " Text(0.20454545454545456, 0.5666666666666667, 'entropy = 0.0\\nsamples = 3\\nvalue = [3, 0]'),\n",
       " Text(0.22727272727272727, 0.5666666666666667, 'x[3] <= 32.5\\nentropy = 0.994\\nsamples = 11\\nvalue = [5, 6]'),\n",
       " Text(0.2159090909090909, 0.5, 'x[3] <= 24.0\\nentropy = 0.918\\nsamples = 8\\nvalue = [2, 6]'),\n",
       " Text(0.20454545454545456, 0.43333333333333335, 'x[0] <= 11.0\\nentropy = 0.918\\nsamples = 3\\nvalue = [2, 1]'),\n",
       " Text(0.19318181818181818, 0.36666666666666664, 'x[1] <= 82.0\\nentropy = 0.918\\nsamples = 2\\nvalue = [2, 0]'),\n",
       " Text(0.18181818181818182, 0.3, 'entropy = -2.0\\nsamples = 1\\nvalue = [1, 0]'),\n",
       " Text(0.20454545454545456, 0.3, 'entropy = 0.0\\nsamples = 1\\nvalue = [1, 0]'),\n",
       " Text(0.2159090909090909, 0.36666666666666664, 'entropy = 0.0\\nsamples = 1\\nvalue = [0, 1]'),\n",
       " Text(0.22727272727272727, 0.43333333333333335, 'entropy = 0.0\\nsamples = 5\\nvalue = [0, 5]'),\n",
       " Text(0.23863636363636365, 0.5, 'entropy = 0.0\\nsamples = 3\\nvalue = [3, 0]'),\n",
       " Text(0.3778409090909091, 0.7, 'x[6] <= 0.521\\nentropy = 1.0\\nsamples = 88\\nvalue = [43, 45]'),\n",
       " Text(0.32386363636363635, 0.6333333333333333, 'x[2] <= 84.0\\nentropy = 0.967\\nsamples = 60\\nvalue = [37, 23]'),\n",
       " Text(0.2840909090909091, 0.5666666666666667, 'x[3] <= 13.5\\nentropy = 0.995\\nsamples = 47\\nvalue = [25, 22]'),\n",
       " Text(0.26136363636363635, 0.5, 'x[1] <= 122.5\\nentropy = 0.918\\nsamples = 24\\nvalue = [8, 16]'),\n",
       " Text(0.25, 0.43333333333333335, 'x[6] <= 0.167\\nentropy = 0.959\\nsamples = 20\\nvalue = [8, 12]'),\n",
       " Text(0.23863636363636365, 0.36666666666666664, 'entropy = 0.0\\nsamples = 3\\nvalue = [3, 0]'),\n",
       " Text(0.26136363636363635, 0.36666666666666664, 'x[1] <= 121.0\\nentropy = 0.874\\nsamples = 17\\nvalue = [5, 12]'),\n",
       " Text(0.25, 0.3, 'x[1] <= 111.0\\nentropy = 0.811\\nsamples = 15\\nvalue = [3, 12]'),\n",
       " Text(0.23863636363636365, 0.23333333333333334, 'x[2] <= 71.0\\nentropy = 0.918\\nsamples = 8\\nvalue = [3, 5]'),\n",
       " Text(0.22727272727272727, 0.16666666666666666, 'entropy = 0.0\\nsamples = 2\\nvalue = [2, 0]'),\n",
       " Text(0.25, 0.16666666666666666, 'x[0] <= 7.5\\nentropy = 0.65\\nsamples = 6\\nvalue = [1, 5]'),\n",
       " Text(0.23863636363636365, 0.1, 'entropy = 0.0\\nsamples = 4\\nvalue = [0, 4]'),\n",
       " Text(0.26136363636363635, 0.1, 'entropy = 0.0\\nsamples = 2\\nvalue = [1, 1]'),\n",
       " Text(0.26136363636363635, 0.23333333333333334, 'entropy = 0.0\\nsamples = 7\\nvalue = [0, 7]'),\n",
       " Text(0.2727272727272727, 0.3, 'entropy = 0.0\\nsamples = 2\\nvalue = [2, 0]'),\n",
       " Text(0.2727272727272727, 0.43333333333333335, 'entropy = 0.0\\nsamples = 4\\nvalue = [0, 4]'),\n",
       " Text(0.3068181818181818, 0.5, 'x[0] <= 5.5\\nentropy = 0.828\\nsamples = 23\\nvalue = [17, 6]'),\n",
       " Text(0.29545454545454547, 0.43333333333333335, 'entropy = 0.0\\nsamples = 8\\nvalue = [8, 0]'),\n",
       " Text(0.3181818181818182, 0.43333333333333335, 'x[7] <= 43.0\\nentropy = 0.971\\nsamples = 15\\nvalue = [9, 6]'),\n",
       " Text(0.3068181818181818, 0.36666666666666664, 'x[4] <= 34.0\\nentropy = 0.994\\nsamples = 10\\nvalue = [4, 6]'),\n",
       " Text(0.29545454545454547, 0.3, 'entropy = 0.0\\nsamples = 4\\nvalue = [0, 4]'),\n",
       " Text(0.3181818181818182, 0.3, 'x[6] <= 0.271\\nentropy = 0.918\\nsamples = 6\\nvalue = [4, 2]'),\n",
       " Text(0.29545454545454547, 0.23333333333333334, 'x[0] <= 7.5\\nentropy = 0.918\\nsamples = 3\\nvalue = [1, 2]'),\n",
       " Text(0.2840909090909091, 0.16666666666666666, 'entropy = 0.0\\nsamples = 1\\nvalue = [1, 0]'),\n",
       " Text(0.3068181818181818, 0.16666666666666666, 'entropy = 0.0\\nsamples = 2\\nvalue = [0, 2]'),\n",
       " Text(0.3409090909090909, 0.23333333333333334, 'x[3] <= 38.5\\nentropy = 0.918\\nsamples = 3\\nvalue = [3, 0]'),\n",
       " Text(0.32954545454545453, 0.16666666666666666, 'entropy = 0.0\\nsamples = 2\\nvalue = [2, 0]'),\n",
       " Text(0.3522727272727273, 0.16666666666666666, 'entropy = 0.0\\nsamples = 1\\nvalue = [1, 0]'),\n",
       " Text(0.32954545454545453, 0.36666666666666664, 'entropy = 0.0\\nsamples = 5\\nvalue = [5, 0]'),\n",
       " Text(0.36363636363636365, 0.5666666666666667, 'x[0] <= 7.5\\nentropy = 0.414\\nsamples = 13\\nvalue = [12, 1]'),\n",
       " Text(0.3522727272727273, 0.5, 'x[0] <= 6.5\\nentropy = 0.414\\nsamples = 11\\nvalue = [11, 0]'),\n",
       " Text(0.3409090909090909, 0.43333333333333335, 'entropy = 0.0\\nsamples = 10\\nvalue = [10, 0]'),\n",
       " Text(0.36363636363636365, 0.43333333333333335, 'entropy = 0.0\\nsamples = 1\\nvalue = [1, 0]'),\n",
       " Text(0.375, 0.5, 'entropy = 0.0\\nsamples = 2\\nvalue = [1, 1]'),\n",
       " Text(0.4318181818181818, 0.6333333333333333, 'x[0] <= 5.0\\nentropy = 0.764\\nsamples = 28\\nvalue = [6, 22]'),\n",
       " Text(0.42045454545454547, 0.5666666666666667, 'x[2] <= 69.0\\nentropy = 0.954\\nsamples = 15\\nvalue = [6, 9]'),\n",
       " Text(0.3977272727272727, 0.5, 'x[4] <= 137.5\\nentropy = 0.863\\nsamples = 7\\nvalue = [5, 2]'),\n",
       " Text(0.38636363636363635, 0.43333333333333335, 'x[5] <= 32.15\\nentropy = 0.65\\nsamples = 5\\nvalue = [5, 0]'),\n",
       " Text(0.375, 0.36666666666666664, 'entropy = 0.0\\nsamples = 4\\nvalue = [4, 0]'),\n",
       " Text(0.3977272727272727, 0.36666666666666664, 'entropy = 0.0\\nsamples = 1\\nvalue = [1, 0]'),\n",
       " Text(0.4090909090909091, 0.43333333333333335, 'entropy = 0.0\\nsamples = 2\\nvalue = [0, 2]'),\n",
       " Text(0.4431818181818182, 0.5, 'x[1] <= 119.5\\nentropy = 0.544\\nsamples = 8\\nvalue = [1, 7]'),\n",
       " Text(0.4318181818181818, 0.43333333333333335, 'entropy = 0.0\\nsamples = 6\\nvalue = [0, 6]'),\n",
       " Text(0.45454545454545453, 0.43333333333333335, 'entropy = 0.0\\nsamples = 2\\nvalue = [1, 1]'),\n",
       " Text(0.4431818181818182, 0.5666666666666667, 'entropy = 0.0\\nsamples = 13\\nvalue = [0, 13]'),\n",
       " Text(0.6981534090909091, 0.9, 'x[5] <= 29.85\\nentropy = 0.941\\nsamples = 233\\nvalue = [84, 149]'),\n",
       " Text(0.5568181818181818, 0.8333333333333334, 'x[1] <= 145.5\\nentropy = 0.944\\nsamples = 58\\nvalue = [37, 21]'),\n",
       " Text(0.5340909090909091, 0.7666666666666667, 'x[0] <= 10.5\\nentropy = 0.684\\nsamples = 32\\nvalue = [26, 6]'),\n",
       " Text(0.5227272727272727, 0.7, 'x[4] <= 121.5\\nentropy = 0.637\\nsamples = 30\\nvalue = [25, 5]'),\n",
       " Text(0.5113636363636364, 0.6333333333333333, 'x[4] <= 71.5\\nentropy = 0.831\\nsamples = 18\\nvalue = [13, 5]'),\n",
       " Text(0.5, 0.5666666666666667, 'x[2] <= 73.0\\nentropy = 0.787\\nsamples = 16\\nvalue = [13, 3]'),\n",
       " Text(0.48863636363636365, 0.5, 'x[2] <= 69.0\\nentropy = 0.985\\nsamples = 7\\nvalue = [4, 3]'),\n",
       " Text(0.4772727272727273, 0.43333333333333335, 'x[5] <= 26.85\\nentropy = 0.918\\nsamples = 5\\nvalue = [4, 1]'),\n",
       " Text(0.4659090909090909, 0.36666666666666664, 'entropy = 0.722\\nsamples = 4\\nvalue = [3, 1]'),\n",
       " Text(0.48863636363636365, 0.36666666666666664, 'entropy = 0.0\\nsamples = 1\\nvalue = [1, 0]'),\n",
       " Text(0.5, 0.43333333333333335, 'entropy = 0.0\\nsamples = 2\\nvalue = [0, 2]'),\n",
       " Text(0.5113636363636364, 0.5, 'entropy = 0.0\\nsamples = 9\\nvalue = [9, 0]'),\n",
       " Text(0.5227272727272727, 0.5666666666666667, 'entropy = 0.0\\nsamples = 2\\nvalue = [0, 2]'),\n",
       " Text(0.5340909090909091, 0.6333333333333333, 'entropy = 0.0\\nsamples = 12\\nvalue = [12, 0]'),\n",
       " Text(0.5454545454545454, 0.7, 'entropy = 0.0\\nsamples = 2\\nvalue = [1, 1]'),\n",
       " Text(0.5795454545454546, 0.7666666666666667, 'x[7] <= 61.0\\nentropy = 0.971\\nsamples = 26\\nvalue = [11, 15]'),\n",
       " Text(0.5681818181818182, 0.7, 'x[7] <= 25.5\\nentropy = 0.954\\nsamples = 23\\nvalue = [8, 15]'),\n",
       " Text(0.5568181818181818, 0.6333333333333333, 'entropy = 0.0\\nsamples = 2\\nvalue = [2, 0]'),\n",
       " Text(0.5795454545454546, 0.6333333333333333, 'x[4] <= 116.0\\nentropy = 0.863\\nsamples = 21\\nvalue = [6, 15]'),\n",
       " Text(0.5681818181818182, 0.5666666666666667, 'x[5] <= 27.1\\nentropy = 0.954\\nsamples = 15\\nvalue = [6, 9]'),\n",
       " Text(0.5454545454545454, 0.5, 'x[1] <= 151.0\\nentropy = 0.592\\nsamples = 7\\nvalue = [1, 6]'),\n",
       " Text(0.5340909090909091, 0.43333333333333335, 'entropy = 0.0\\nsamples = 1\\nvalue = [1, 0]'),\n",
       " Text(0.5568181818181818, 0.43333333333333335, 'entropy = 0.0\\nsamples = 6\\nvalue = [0, 6]'),\n",
       " Text(0.5909090909090909, 0.5, 'x[2] <= 28.0\\nentropy = 0.954\\nsamples = 8\\nvalue = [5, 3]'),\n",
       " Text(0.5795454545454546, 0.43333333333333335, 'entropy = 0.0\\nsamples = 2\\nvalue = [0, 2]'),\n",
       " Text(0.6022727272727273, 0.43333333333333335, 'x[4] <= 50.0\\nentropy = 0.65\\nsamples = 6\\nvalue = [5, 1]'),\n",
       " Text(0.5909090909090909, 0.36666666666666664, 'entropy = 0.65\\nsamples = 5\\nvalue = [4, 1]'),\n",
       " Text(0.6136363636363636, 0.36666666666666664, 'entropy = 0.0\\nsamples = 1\\nvalue = [1, 0]'),\n",
       " Text(0.5909090909090909, 0.5666666666666667, 'entropy = 0.0\\nsamples = 6\\nvalue = [0, 6]'),\n",
       " Text(0.5909090909090909, 0.7, 'entropy = 0.0\\nsamples = 3\\nvalue = [3, 0]'),\n",
       " Text(0.8394886363636364, 0.8333333333333334, 'x[6] <= 0.434\\nentropy = 0.839\\nsamples = 175\\nvalue = [47, 128]'),\n",
       " Text(0.7698863636363636, 0.7666666666666667, 'x[1] <= 166.0\\nentropy = 0.964\\nsamples = 85\\nvalue = [33, 52]'),\n",
       " Text(0.7102272727272727, 0.7, 'x[4] <= 163.0\\nentropy = 0.999\\nsamples = 59\\nvalue = [29, 30]'),\n",
       " Text(0.6818181818181818, 0.6333333333333333, 'x[5] <= 43.0\\nentropy = 0.976\\nsamples = 43\\nvalue = [17, 26]'),\n",
       " Text(0.6704545454545454, 0.5666666666666667, 'x[1] <= 130.0\\nentropy = 0.992\\nsamples = 37\\nvalue = [17, 20]'),\n",
       " Text(0.6590909090909091, 0.5, 'entropy = 0.0\\nsamples = 3\\nvalue = [3, 0]'),\n",
       " Text(0.6818181818181818, 0.5, 'x[2] <= 71.0\\nentropy = 0.977\\nsamples = 34\\nvalue = [14, 20]'),\n",
       " Text(0.6477272727272727, 0.43333333333333335, 'x[7] <= 22.5\\nentropy = 0.503\\nsamples = 9\\nvalue = [1, 8]'),\n",
       " Text(0.6363636363636364, 0.36666666666666664, 'x[1] <= 139.5\\nentropy = 1.0\\nsamples = 2\\nvalue = [1, 1]'),\n",
       " Text(0.625, 0.3, 'entropy = 0.0\\nsamples = 1\\nvalue = [0, 1]'),\n",
       " Text(0.6477272727272727, 0.3, 'entropy = 0.0\\nsamples = 1\\nvalue = [1, 0]'),\n",
       " Text(0.6590909090909091, 0.36666666666666664, 'entropy = 0.0\\nsamples = 7\\nvalue = [0, 7]'),\n",
       " Text(0.7159090909090909, 0.43333333333333335, 'x[0] <= 4.5\\nentropy = 0.999\\nsamples = 25\\nvalue = [13, 12]'),\n",
       " Text(0.6818181818181818, 0.36666666666666664, 'x[1] <= 134.0\\nentropy = 0.845\\nsamples = 11\\nvalue = [8, 3]'),\n",
       " Text(0.6704545454545454, 0.3, 'entropy = 0.0\\nsamples = 2\\nvalue = [0, 2]'),\n",
       " Text(0.6931818181818182, 0.3, 'x[2] <= 92.0\\nentropy = 0.503\\nsamples = 9\\nvalue = [8, 1]'),\n",
       " Text(0.6818181818181818, 0.23333333333333334, 'entropy = 0.503\\nsamples = 8\\nvalue = [7, 1]'),\n",
       " Text(0.7045454545454546, 0.23333333333333334, 'entropy = 0.0\\nsamples = 1\\nvalue = [1, 0]'),\n",
       " Text(0.75, 0.36666666666666664, 'x[6] <= 0.376\\nentropy = 0.94\\nsamples = 14\\nvalue = [5, 9]'),\n",
       " Text(0.7386363636363636, 0.3, 'x[5] <= 34.35\\nentropy = 0.89\\nsamples = 12\\nvalue = [3, 9]'),\n",
       " Text(0.7272727272727273, 0.23333333333333334, 'x[1] <= 157.5\\nentropy = 0.918\\nsamples = 8\\nvalue = [3, 5]'),\n",
       " Text(0.7159090909090909, 0.16666666666666666, 'x[2] <= 79.0\\nentropy = 1.0\\nsamples = 5\\nvalue = [3, 2]'),\n",
       " Text(0.7045454545454546, 0.1, 'x[7] <= 42.0\\nentropy = 0.811\\nsamples = 3\\nvalue = [2, 1]'),\n",
       " Text(0.6931818181818182, 0.03333333333333333, 'entropy = 0.0\\nsamples = 1\\nvalue = [0, 1]'),\n",
       " Text(0.7159090909090909, 0.03333333333333333, 'entropy = 0.0\\nsamples = 2\\nvalue = [2, 0]'),\n",
       " Text(0.7272727272727273, 0.1, 'entropy = 0.0\\nsamples = 2\\nvalue = [1, 1]'),\n",
       " Text(0.7386363636363636, 0.16666666666666666, 'entropy = 0.0\\nsamples = 3\\nvalue = [0, 3]'),\n",
       " Text(0.75, 0.23333333333333334, 'entropy = 0.0\\nsamples = 4\\nvalue = [0, 4]'),\n",
       " Text(0.7613636363636364, 0.3, 'entropy = 0.0\\nsamples = 2\\nvalue = [2, 0]'),\n",
       " Text(0.6931818181818182, 0.5666666666666667, 'entropy = 0.0\\nsamples = 6\\nvalue = [0, 6]'),\n",
       " Text(0.7386363636363636, 0.6333333333333333, 'x[4] <= 460.0\\nentropy = 0.837\\nsamples = 16\\nvalue = [12, 4]'),\n",
       " Text(0.7159090909090909, 0.5666666666666667, 'x[0] <= 4.5\\nentropy = 0.75\\nsamples = 13\\nvalue = [11, 2]'),\n",
       " Text(0.7045454545454546, 0.5, 'entropy = 0.414\\nsamples = 11\\nvalue = [10, 1]'),\n",
       " Text(0.7272727272727273, 0.5, 'entropy = 0.0\\nsamples = 2\\nvalue = [1, 1]'),\n",
       " Text(0.7613636363636364, 0.5666666666666667, 'x[7] <= 24.0\\nentropy = 1.0\\nsamples = 3\\nvalue = [1, 2]'),\n",
       " Text(0.75, 0.5, 'entropy = 0.0\\nsamples = 1\\nvalue = [1, 0]'),\n",
       " Text(0.7727272727272727, 0.5, 'entropy = 0.0\\nsamples = 2\\nvalue = [0, 2]'),\n",
       " Text(0.8295454545454546, 0.7, 'x[5] <= 35.3\\nentropy = 0.634\\nsamples = 26\\nvalue = [4, 22]'),\n",
       " Text(0.8181818181818182, 0.6333333333333333, 'x[4] <= 132.5\\nentropy = 0.89\\nsamples = 13\\nvalue = [4, 9]'),\n",
       " Text(0.8068181818181818, 0.5666666666666667, 'x[5] <= 33.45\\nentropy = 1.0\\nsamples = 7\\nvalue = [4, 3]'),\n",
       " Text(0.7954545454545454, 0.5, 'x[1] <= 175.5\\nentropy = 0.971\\nsamples = 4\\nvalue = [1, 3]'),\n",
       " Text(0.7840909090909091, 0.43333333333333335, 'x[4] <= 62.5\\nentropy = 1.0\\nsamples = 2\\nvalue = [0, 2]'),\n",
       " Text(0.7727272727272727, 0.36666666666666664, 'entropy = 0.0\\nsamples = 1\\nvalue = [0, 1]'),\n",
       " Text(0.7954545454545454, 0.36666666666666664, 'entropy = 0.0\\nsamples = 1\\nvalue = [0, 1]'),\n",
       " Text(0.8068181818181818, 0.43333333333333335, 'entropy = 0.0\\nsamples = 2\\nvalue = [1, 1]'),\n",
       " Text(0.8181818181818182, 0.5, 'entropy = 0.0\\nsamples = 3\\nvalue = [3, 0]'),\n",
       " Text(0.8295454545454546, 0.5666666666666667, 'entropy = 0.0\\nsamples = 6\\nvalue = [0, 6]'),\n",
       " Text(0.8409090909090909, 0.6333333333333333, 'entropy = 0.0\\nsamples = 13\\nvalue = [0, 13]'),\n",
       " Text(0.9090909090909091, 0.7666666666666667, 'x[0] <= 7.5\\nentropy = 0.624\\nsamples = 90\\nvalue = [14, 76]'),\n",
       " Text(0.8977272727272727, 0.7, 'x[2] <= 65.0\\nentropy = 0.739\\nsamples = 66\\nvalue = [14, 52]'),\n",
       " Text(0.8863636363636364, 0.6333333333333333, 'entropy = 0.0\\nsamples = 13\\nvalue = [0, 13]'),\n",
       " Text(0.9090909090909091, 0.6333333333333333, 'x[4] <= 301.5\\nentropy = 0.833\\nsamples = 53\\nvalue = [14, 39]'),\n",
       " Text(0.8636363636363636, 0.5666666666666667, 'x[5] <= 40.1\\nentropy = 0.722\\nsamples = 44\\nvalue = [8, 36]'),\n",
       " Text(0.8409090909090909, 0.5, 'x[6] <= 0.723\\nentropy = 0.362\\nsamples = 28\\nvalue = [2, 26]'),\n",
       " Text(0.8295454545454546, 0.43333333333333335, 'x[6] <= 0.629\\nentropy = 0.619\\nsamples = 13\\nvalue = [2, 11]'),\n",
       " Text(0.8181818181818182, 0.36666666666666664, 'x[1] <= 131.5\\nentropy = 0.469\\nsamples = 9\\nvalue = [0, 9]'),\n",
       " Text(0.8068181818181818, 0.3, 'entropy = 0.0\\nsamples = 1\\nvalue = [0, 1]'),\n",
       " Text(0.8295454545454546, 0.3, 'entropy = 0.0\\nsamples = 8\\nvalue = [0, 8]'),\n",
       " Text(0.8409090909090909, 0.36666666666666664, 'entropy = 0.918\\nsamples = 4\\nvalue = [2, 2]'),\n",
       " Text(0.8522727272727273, 0.43333333333333335, 'entropy = 0.0\\nsamples = 15\\nvalue = [0, 15]'),\n",
       " Text(0.8863636363636364, 0.5, 'x[7] <= 26.5\\nentropy = 0.971\\nsamples = 16\\nvalue = [6, 10]'),\n",
       " Text(0.875, 0.43333333333333335, 'entropy = 0.0\\nsamples = 7\\nvalue = [0, 7]'),\n",
       " Text(0.8977272727272727, 0.43333333333333335, 'x[4] <= 161.0\\nentropy = 0.918\\nsamples = 9\\nvalue = [6, 3]'),\n",
       " Text(0.875, 0.36666666666666664, 'x[3] <= 40.5\\nentropy = 0.65\\nsamples = 5\\nvalue = [5, 0]'),\n",
       " Text(0.8636363636363636, 0.3, 'entropy = 0.0\\nsamples = 4\\nvalue = [4, 0]'),\n",
       " Text(0.8863636363636364, 0.3, 'entropy = 0.0\\nsamples = 1\\nvalue = [1, 0]'),\n",
       " Text(0.9204545454545454, 0.36666666666666664, 'x[4] <= 236.0\\nentropy = 0.918\\nsamples = 4\\nvalue = [1, 3]'),\n",
       " Text(0.9090909090909091, 0.3, 'x[4] <= 194.5\\nentropy = 1.0\\nsamples = 2\\nvalue = [0, 2]'),\n",
       " Text(0.8977272727272727, 0.23333333333333334, 'entropy = 0.0\\nsamples = 1\\nvalue = [0, 1]'),\n",
       " Text(0.9204545454545454, 0.23333333333333334, 'entropy = 0.0\\nsamples = 1\\nvalue = [0, 1]'),\n",
       " Text(0.9318181818181818, 0.3, 'entropy = 0.0\\nsamples = 2\\nvalue = [1, 1]'),\n",
       " Text(0.9545454545454546, 0.5666666666666667, 'x[1] <= 161.5\\nentropy = 0.954\\nsamples = 9\\nvalue = [6, 3]'),\n",
       " Text(0.9318181818181818, 0.5, 'x[0] <= 6.0\\nentropy = 0.65\\nsamples = 5\\nvalue = [5, 0]'),\n",
       " Text(0.9204545454545454, 0.43333333333333335, 'entropy = 0.0\\nsamples = 4\\nvalue = [4, 0]'),\n",
       " Text(0.9431818181818182, 0.43333333333333335, 'entropy = 0.0\\nsamples = 1\\nvalue = [1, 0]'),\n",
       " Text(0.9772727272727273, 0.5, 'x[5] <= 37.45\\nentropy = 0.918\\nsamples = 4\\nvalue = [1, 3]'),\n",
       " Text(0.9659090909090909, 0.43333333333333335, 'entropy = 0.0\\nsamples = 1\\nvalue = [1, 0]'),\n",
       " Text(0.9886363636363636, 0.43333333333333335, 'entropy = 0.0\\nsamples = 3\\nvalue = [0, 3]'),\n",
       " Text(0.9204545454545454, 0.7, 'entropy = 0.0\\nsamples = 24\\nvalue = [0, 24]')]"
      ]
     },
     "execution_count": 29,
     "metadata": {},
     "output_type": "execute_result"
    },
    {
     "data": {
      "image/png": "[encoded data removed]",
      "text/plain": [
       "<Figure size 640x480 with 1 Axes>"
      ]
     },
     "metadata": {},
     "output_type": "display_data"
    }
   ],
   "source": [
    "tree.plot_tree(dt_clf)\n"
   ]
  },
  {
   "cell_type": "code",
   "execution_count": 30,
   "id": "9b493d52",
   "metadata": {},
   "outputs": [
    {
     "name": "stdout",
     "output_type": "stream",
     "text": [
      "****************************************************************************************************\n",
      "Decison Tree Model\n",
      "****************************************************************************************************\n",
      "\n",
      " Training Phase\n",
      "Hyperparameter:\n",
      " {'ccp_alpha': 0.0, 'class_weight': None, 'criterion': 'entropy', 'max_depth': 2, 'max_features': None, 'max_leaf_nodes': None, 'min_impurity_decrease': 0.0, 'min_samples_leaf': 1, 'min_samples_split': 2, 'min_weight_fraction_leaf': 0.0, 'random_state': None, 'splitter': 'best'}\n",
      "Training Completed\n",
      "====================================================================================================\n",
      "\n",
      " Test Phase\n",
      "Predicted class labels for the test samples:\n",
      " [0 0 0 0 1 0 0 0 0 1 0 0 0 0 0 1 1 0 0 1 1 1 0 0 0 0 1 0 0 0 0 0 0 0 0 1 0\n",
      " 1 1 0 0 0 0 0 0 0 0 0 0 0 1 0 0 1 0 0 1 1 0 0 0 1 1 1 0 0 1 0 0 0 0 0 0 0\n",
      " 0 1 1 0 0 0 0 0 0 0 0 0 0 0 0 0 0 0 0 0 0 1 1 0 0 0 1 1 0 0 0 0 1 0 0 0 0\n",
      " 0 1 0 0 1 0 0 0 0 0 0 0 0 1 1 0 0 0 0 1 0 1 0 0 1 0 0 0 0 0 0 0 0 0 0 0 1\n",
      " 0 0 0 1 1 0]\n",
      "\n",
      "Testing completed\n",
      "====================================================================================================\n",
      "****************************************************************************************************\n",
      "Decison Tree - Performance Measures\n",
      "****************************************************************************************************\n",
      "Accuracy Score:\t 0.7857142857142857\n",
      "====================================================================================================\n",
      "Confusion Matric:\n",
      " [[97 12]\n",
      " [21 24]]\n",
      "====================================================================================================\n",
      "Classification Report\n",
      "               precision    recall  f1-score   support\n",
      "\n",
      "           0       0.82      0.89      0.85       109\n",
      "           1       0.67      0.53      0.59        45\n",
      "\n",
      "    accuracy                           0.79       154\n",
      "   macro avg       0.74      0.71      0.72       154\n",
      "weighted avg       0.78      0.79      0.78       154\n",
      "\n",
      "====================================================================================================\n"
     ]
    }
   ],
   "source": [
    "from sklearn.tree import DecisionTreeClassifier\n",
    "dt_clf=DecisionTreeClassifier(criterion='entropy',max_depth=2)\n",
    "print('*'*100)\n",
    "print('Decison Tree Model')\n",
    "print('*'*100)\n",
    "print('\\n Training Phase')\n",
    "dt_clf.fit(xtrain,ytrain)\n",
    "print('Hyperparameter:\\n',dt_clf.get_params())\n",
    "print('Training Completed')\n",
    "print('='*100)\n",
    "print('\\n Test Phase')\n",
    "ypred=dt_clf.predict(xtest)\n",
    "print('Predicted class labels for the test samples:\\n',ypred)\n",
    "print()\n",
    "print('Testing completed')\n",
    "print('='*100)\n",
    "#import metrics\n",
    "from sklearn.metrics import accuracy_score\n",
    "from sklearn.metrics import confusion_matrix\n",
    "from sklearn.metrics import classification_report\n",
    "print('*'*100)\n",
    "print('Decison Tree - Performance Measures')\n",
    "print('*'*100)\n",
    "print('Accuracy Score:\\t',accuracy_score(ytest,ypred))\n",
    "print('='*100)\n",
    "print('Confusion Matric:\\n',confusion_matrix(ytest,ypred))\n",
    "print('='*100)\n",
    "print('Classification Report\\n',classification_report(ytest,ypred))\n",
    "print('='*100)"
   ]
  },
  {
   "cell_type": "code",
   "execution_count": 31,
   "id": "3088ac02",
   "metadata": {},
   "outputs": [
    {
     "data": {
      "text/plain": [
       "[Text(0.5, 0.8333333333333334, 'x[1] <= 127.5\\nentropy = 0.945\\nsamples = 614\\nvalue = [391, 223]'),\n",
       " Text(0.25, 0.5, 'x[5] <= 26.45\\nentropy = 0.709\\nsamples = 381\\nvalue = [307, 74]'),\n",
       " Text(0.125, 0.16666666666666666, 'entropy = 0.133\\nsamples = 108\\nvalue = [106, 2]'),\n",
       " Text(0.375, 0.16666666666666666, 'entropy = 0.832\\nsamples = 273\\nvalue = [201, 72]'),\n",
       " Text(0.75, 0.5, 'x[5] <= 29.85\\nentropy = 0.941\\nsamples = 233\\nvalue = [84, 149]'),\n",
       " Text(0.625, 0.16666666666666666, 'entropy = 0.944\\nsamples = 58\\nvalue = [37, 21]'),\n",
       " Text(0.875, 0.16666666666666666, 'entropy = 0.839\\nsamples = 175\\nvalue = [47, 128]')]"
      ]
     },
     "execution_count": 31,
     "metadata": {},
     "output_type": "execute_result"
    },
    {
     "data": {
      "image/png": "[encoded data removed]",
      "text/plain": [
       "<Figure size 640x480 with 1 Axes>"
      ]
     },
     "metadata": {},
     "output_type": "display_data"
    }
   ],
   "source": [
    "tree.plot_tree(dt_clf)"
   ]
  },
  {
   "cell_type": "code",
   "execution_count": 34,
   "id": "b71e7fc1",
   "metadata": {},
   "outputs": [],
   "source": [
    "from sklearn import tree\n",
    "import graphviz"
   ]
  },
  {
   "cell_type": "code",
   "execution_count": 33,
   "id": "6dd3b409",
   "metadata": {},
   "outputs": [
    {
     "name": "stdout",
     "output_type": "stream",
     "text": [
      "Collecting graphviz\n",
      "  Downloading graphviz-0.20.1-py3-none-any.whl (47 kB)\n",
      "     ---------------------------------------- 0.0/47.0 kB ? eta -:--:--\n",
      "     -------- ------------------------------- 10.2/47.0 kB ? eta -:--:--\n",
      "     ------------------------ ------------- 30.7/47.0 kB 220.2 kB/s eta 0:00:01\n",
      "     --------------------------------- ---- 41.0/47.0 kB 281.8 kB/s eta 0:00:01\n",
      "     -------------------------------------- 47.0/47.0 kB 235.9 kB/s eta 0:00:00\n",
      "Installing collected packages: graphviz\n",
      "Successfully installed graphviz-0.20.1\n"
     ]
    }
   ],
   "source": [
    "!pip install graphviz"
   ]
  },
  {
   "cell_type": "code",
   "execution_count": 35,
   "id": "f489cd21",
   "metadata": {},
   "outputs": [
    {
     "data": {
      "text/plain": [
       "array(['Pregnancies', 'Glucose', 'BloodPressure', 'SkinThickness',\n",
       "       'Insulin', 'BMI', 'DiabetesPedigreeFunction', 'Age'], dtype=object)"
      ]
     },
     "execution_count": 35,
     "metadata": {},
     "output_type": "execute_result"
    }
   ],
   "source": [
    "dt_clf.feature_names_in_\n"
   ]
  },
  {
   "cell_type": "code",
   "execution_count": 36,
   "id": "ed22e995",
   "metadata": {},
   "outputs": [
    {
     "data": {
      "text/plain": [
       "list"
      ]
     },
     "execution_count": 36,
     "metadata": {},
     "output_type": "execute_result"
    }
   ],
   "source": [
    "col_names=['Pregnancies', 'Glucose', 'BloodPressure', 'SkinThickness',\n",
    " 'Insulin', 'BMI', 'DiabetesPedigreeFunction', 'Age']\n",
    "type(col_names)"
   ]
  },
  {
   "cell_type": "code",
   "execution_count": 37,
   "id": "92ad3704",
   "metadata": {},
   "outputs": [
    {
     "data": {
      "text/plain": [
       "['0', '1']"
      ]
     },
     "execution_count": 37,
     "metadata": {},
     "output_type": "execute_result"
    }
   ],
   "source": [
    "label_names=['0','1']\n",
    "label_names"
   ]
  },
  {
   "cell_type": "code",
   "execution_count": 38,
   "id": "1185f797",
   "metadata": {},
   "outputs": [
    {
     "ename": "ExecutableNotFound",
     "evalue": "failed to execute WindowsPath('dot'), make sure the Graphviz executables are on your systems' PATH",
     "output_type": "error",
     "traceback": [
      "\u001b[1;31m---------------------------------------------------------------------------\u001b[0m",
      "\u001b[1;31mFileNotFoundError\u001b[0m                         Traceback (most recent call last)",
      "File \u001b[1;32m~\\anaconda3\\Lib\\site-packages\\graphviz\\backend\\execute.py:81\u001b[0m, in \u001b[0;36mrun_check\u001b[1;34m(cmd, input_lines, encoding, quiet, **kwargs)\u001b[0m\n\u001b[0;32m     80\u001b[0m     \u001b[38;5;28;01melse\u001b[39;00m:\n\u001b[1;32m---> 81\u001b[0m         proc \u001b[38;5;241m=\u001b[39m subprocess\u001b[38;5;241m.\u001b[39mrun(cmd, \u001b[38;5;241m*\u001b[39m\u001b[38;5;241m*\u001b[39mkwargs)\n\u001b[0;32m     82\u001b[0m \u001b[38;5;28;01mexcept\u001b[39;00m \u001b[38;5;167;01mOSError\u001b[39;00m \u001b[38;5;28;01mas\u001b[39;00m e:\n",
      "File \u001b[1;32m~\\anaconda3\\Lib\\subprocess.py:548\u001b[0m, in \u001b[0;36mrun\u001b[1;34m(input, capture_output, timeout, check, *popenargs, **kwargs)\u001b[0m\n\u001b[0;32m    546\u001b[0m     kwargs[\u001b[38;5;124m'\u001b[39m\u001b[38;5;124mstderr\u001b[39m\u001b[38;5;124m'\u001b[39m] \u001b[38;5;241m=\u001b[39m PIPE\n\u001b[1;32m--> 548\u001b[0m \u001b[38;5;28;01mwith\u001b[39;00m Popen(\u001b[38;5;241m*\u001b[39mpopenargs, \u001b[38;5;241m*\u001b[39m\u001b[38;5;241m*\u001b[39mkwargs) \u001b[38;5;28;01mas\u001b[39;00m process:\n\u001b[0;32m    549\u001b[0m     \u001b[38;5;28;01mtry\u001b[39;00m:\n",
      "File \u001b[1;32m~\\anaconda3\\Lib\\subprocess.py:1026\u001b[0m, in \u001b[0;36mPopen.__init__\u001b[1;34m(self, args, bufsize, executable, stdin, stdout, stderr, preexec_fn, close_fds, shell, cwd, env, universal_newlines, startupinfo, creationflags, restore_signals, start_new_session, pass_fds, user, group, extra_groups, encoding, errors, text, umask, pipesize, process_group)\u001b[0m\n\u001b[0;32m   1023\u001b[0m             \u001b[38;5;28mself\u001b[39m\u001b[38;5;241m.\u001b[39mstderr \u001b[38;5;241m=\u001b[39m io\u001b[38;5;241m.\u001b[39mTextIOWrapper(\u001b[38;5;28mself\u001b[39m\u001b[38;5;241m.\u001b[39mstderr,\n\u001b[0;32m   1024\u001b[0m                     encoding\u001b[38;5;241m=\u001b[39mencoding, errors\u001b[38;5;241m=\u001b[39merrors)\n\u001b[1;32m-> 1026\u001b[0m     \u001b[38;5;28mself\u001b[39m\u001b[38;5;241m.\u001b[39m_execute_child(args, executable, preexec_fn, close_fds,\n\u001b[0;32m   1027\u001b[0m                         pass_fds, cwd, env,\n\u001b[0;32m   1028\u001b[0m                         startupinfo, creationflags, shell,\n\u001b[0;32m   1029\u001b[0m                         p2cread, p2cwrite,\n\u001b[0;32m   1030\u001b[0m                         c2pread, c2pwrite,\n\u001b[0;32m   1031\u001b[0m                         errread, errwrite,\n\u001b[0;32m   1032\u001b[0m                         restore_signals,\n\u001b[0;32m   1033\u001b[0m                         gid, gids, uid, umask,\n\u001b[0;32m   1034\u001b[0m                         start_new_session, process_group)\n\u001b[0;32m   1035\u001b[0m \u001b[38;5;28;01mexcept\u001b[39;00m:\n\u001b[0;32m   1036\u001b[0m     \u001b[38;5;66;03m# Cleanup if the child failed starting.\u001b[39;00m\n",
      "File \u001b[1;32m~\\anaconda3\\Lib\\subprocess.py:1538\u001b[0m, in \u001b[0;36mPopen._execute_child\u001b[1;34m(self, args, executable, preexec_fn, close_fds, pass_fds, cwd, env, startupinfo, creationflags, shell, p2cread, p2cwrite, c2pread, c2pwrite, errread, errwrite, unused_restore_signals, unused_gid, unused_gids, unused_uid, unused_umask, unused_start_new_session, unused_process_group)\u001b[0m\n\u001b[0;32m   1537\u001b[0m \u001b[38;5;28;01mtry\u001b[39;00m:\n\u001b[1;32m-> 1538\u001b[0m     hp, ht, pid, tid \u001b[38;5;241m=\u001b[39m _winapi\u001b[38;5;241m.\u001b[39mCreateProcess(executable, args,\n\u001b[0;32m   1539\u001b[0m                              \u001b[38;5;66;03m# no special security\u001b[39;00m\n\u001b[0;32m   1540\u001b[0m                              \u001b[38;5;28;01mNone\u001b[39;00m, \u001b[38;5;28;01mNone\u001b[39;00m,\n\u001b[0;32m   1541\u001b[0m                              \u001b[38;5;28mint\u001b[39m(\u001b[38;5;129;01mnot\u001b[39;00m close_fds),\n\u001b[0;32m   1542\u001b[0m                              creationflags,\n\u001b[0;32m   1543\u001b[0m                              env,\n\u001b[0;32m   1544\u001b[0m                              cwd,\n\u001b[0;32m   1545\u001b[0m                              startupinfo)\n\u001b[0;32m   1546\u001b[0m \u001b[38;5;28;01mfinally\u001b[39;00m:\n\u001b[0;32m   1547\u001b[0m     \u001b[38;5;66;03m# Child is launched. Close the parent's copy of those pipe\u001b[39;00m\n\u001b[0;32m   1548\u001b[0m     \u001b[38;5;66;03m# handles that only the child should have open.  You need\u001b[39;00m\n\u001b[1;32m   (...)\u001b[0m\n\u001b[0;32m   1551\u001b[0m     \u001b[38;5;66;03m# pipe will not close when the child process exits and the\u001b[39;00m\n\u001b[0;32m   1552\u001b[0m     \u001b[38;5;66;03m# ReadFile will hang.\u001b[39;00m\n",
      "\u001b[1;31mFileNotFoundError\u001b[0m: [WinError 2] The system cannot find the file specified",
      "\nThe above exception was the direct cause of the following exception:\n",
      "\u001b[1;31mExecutableNotFound\u001b[0m                        Traceback (most recent call last)",
      "Cell \u001b[1;32mIn[38], line 18\u001b[0m\n\u001b[0;32m     15\u001b[0m graph \u001b[38;5;241m=\u001b[39m graphviz\u001b[38;5;241m.\u001b[39mSource(dot_data)\n\u001b[0;32m     17\u001b[0m \u001b[38;5;66;03m# To render the decision tree and save as a file (uncomment the line below)\u001b[39;00m\n\u001b[1;32m---> 18\u001b[0m graph\u001b[38;5;241m.\u001b[39mrender(\u001b[38;5;124m'\u001b[39m\u001b[38;5;124mDT_tree\u001b[39m\u001b[38;5;124m'\u001b[39m)\n\u001b[0;32m     20\u001b[0m \u001b[38;5;66;03m# To view the decision tree in a window (uncomment the line below)\u001b[39;00m\n\u001b[0;32m     21\u001b[0m graph\u001b[38;5;241m.\u001b[39mview()\n",
      "File \u001b[1;32m~\\anaconda3\\Lib\\site-packages\\graphviz\\_tools.py:171\u001b[0m, in \u001b[0;36mdeprecate_positional_args.<locals>.decorator.<locals>.wrapper\u001b[1;34m(*args, **kwargs)\u001b[0m\n\u001b[0;32m    162\u001b[0m     wanted \u001b[38;5;241m=\u001b[39m \u001b[38;5;124m'\u001b[39m\u001b[38;5;124m, \u001b[39m\u001b[38;5;124m'\u001b[39m\u001b[38;5;241m.\u001b[39mjoin(\u001b[38;5;124mf\u001b[39m\u001b[38;5;124m'\u001b[39m\u001b[38;5;132;01m{\u001b[39;00mname\u001b[38;5;132;01m}\u001b[39;00m\u001b[38;5;124m=\u001b[39m\u001b[38;5;132;01m{\u001b[39;00mvalue\u001b[38;5;132;01m!r}\u001b[39;00m\u001b[38;5;124m'\u001b[39m\n\u001b[0;32m    163\u001b[0m                        \u001b[38;5;28;01mfor\u001b[39;00m name, value \u001b[38;5;129;01min\u001b[39;00m deprecated\u001b[38;5;241m.\u001b[39mitems())\n\u001b[0;32m    164\u001b[0m     warnings\u001b[38;5;241m.\u001b[39mwarn(\u001b[38;5;124mf\u001b[39m\u001b[38;5;124m'\u001b[39m\u001b[38;5;124mThe signature of \u001b[39m\u001b[38;5;132;01m{\u001b[39;00mfunc\u001b[38;5;241m.\u001b[39m\u001b[38;5;18m__name__\u001b[39m\u001b[38;5;132;01m}\u001b[39;00m\u001b[38;5;124m will be reduced\u001b[39m\u001b[38;5;124m'\u001b[39m\n\u001b[0;32m    165\u001b[0m                   \u001b[38;5;124mf\u001b[39m\u001b[38;5;124m'\u001b[39m\u001b[38;5;124m to \u001b[39m\u001b[38;5;132;01m{\u001b[39;00msupported_number\u001b[38;5;132;01m}\u001b[39;00m\u001b[38;5;124m positional args\u001b[39m\u001b[38;5;124m'\u001b[39m\n\u001b[0;32m    166\u001b[0m                   \u001b[38;5;124mf\u001b[39m\u001b[38;5;124m'\u001b[39m\u001b[38;5;124m \u001b[39m\u001b[38;5;132;01m{\u001b[39;00m\u001b[38;5;28mlist\u001b[39m(supported)\u001b[38;5;132;01m}\u001b[39;00m\u001b[38;5;124m: pass \u001b[39m\u001b[38;5;132;01m{\u001b[39;00mwanted\u001b[38;5;132;01m}\u001b[39;00m\u001b[38;5;124m'\u001b[39m\n\u001b[0;32m    167\u001b[0m                   \u001b[38;5;124m'\u001b[39m\u001b[38;5;124m as keyword arg(s)\u001b[39m\u001b[38;5;124m'\u001b[39m,\n\u001b[0;32m    168\u001b[0m                   stacklevel\u001b[38;5;241m=\u001b[39mstacklevel,\n\u001b[0;32m    169\u001b[0m                   category\u001b[38;5;241m=\u001b[39mcategory)\n\u001b[1;32m--> 171\u001b[0m \u001b[38;5;28;01mreturn\u001b[39;00m func(\u001b[38;5;241m*\u001b[39margs, \u001b[38;5;241m*\u001b[39m\u001b[38;5;241m*\u001b[39mkwargs)\n",
      "File \u001b[1;32m~\\anaconda3\\Lib\\site-packages\\graphviz\\rendering.py:122\u001b[0m, in \u001b[0;36mRender.render\u001b[1;34m(self, filename, directory, view, cleanup, format, renderer, formatter, neato_no_op, quiet, quiet_view, outfile, engine, raise_if_result_exists, overwrite_source)\u001b[0m\n\u001b[0;32m    118\u001b[0m filepath \u001b[38;5;241m=\u001b[39m \u001b[38;5;28mself\u001b[39m\u001b[38;5;241m.\u001b[39msave(filename, directory\u001b[38;5;241m=\u001b[39mdirectory, skip_existing\u001b[38;5;241m=\u001b[39m\u001b[38;5;28;01mNone\u001b[39;00m)\n\u001b[0;32m    120\u001b[0m args\u001b[38;5;241m.\u001b[39mappend(filepath)\n\u001b[1;32m--> 122\u001b[0m rendered \u001b[38;5;241m=\u001b[39m \u001b[38;5;28mself\u001b[39m\u001b[38;5;241m.\u001b[39m_render(\u001b[38;5;241m*\u001b[39margs, \u001b[38;5;241m*\u001b[39m\u001b[38;5;241m*\u001b[39mkwargs)\n\u001b[0;32m    124\u001b[0m \u001b[38;5;28;01mif\u001b[39;00m cleanup:\n\u001b[0;32m    125\u001b[0m     log\u001b[38;5;241m.\u001b[39mdebug(\u001b[38;5;124m'\u001b[39m\u001b[38;5;124mdelete \u001b[39m\u001b[38;5;132;01m%r\u001b[39;00m\u001b[38;5;124m'\u001b[39m, filepath)\n",
      "File \u001b[1;32m~\\anaconda3\\Lib\\site-packages\\graphviz\\_tools.py:171\u001b[0m, in \u001b[0;36mdeprecate_positional_args.<locals>.decorator.<locals>.wrapper\u001b[1;34m(*args, **kwargs)\u001b[0m\n\u001b[0;32m    162\u001b[0m     wanted \u001b[38;5;241m=\u001b[39m \u001b[38;5;124m'\u001b[39m\u001b[38;5;124m, \u001b[39m\u001b[38;5;124m'\u001b[39m\u001b[38;5;241m.\u001b[39mjoin(\u001b[38;5;124mf\u001b[39m\u001b[38;5;124m'\u001b[39m\u001b[38;5;132;01m{\u001b[39;00mname\u001b[38;5;132;01m}\u001b[39;00m\u001b[38;5;124m=\u001b[39m\u001b[38;5;132;01m{\u001b[39;00mvalue\u001b[38;5;132;01m!r}\u001b[39;00m\u001b[38;5;124m'\u001b[39m\n\u001b[0;32m    163\u001b[0m                        \u001b[38;5;28;01mfor\u001b[39;00m name, value \u001b[38;5;129;01min\u001b[39;00m deprecated\u001b[38;5;241m.\u001b[39mitems())\n\u001b[0;32m    164\u001b[0m     warnings\u001b[38;5;241m.\u001b[39mwarn(\u001b[38;5;124mf\u001b[39m\u001b[38;5;124m'\u001b[39m\u001b[38;5;124mThe signature of \u001b[39m\u001b[38;5;132;01m{\u001b[39;00mfunc\u001b[38;5;241m.\u001b[39m\u001b[38;5;18m__name__\u001b[39m\u001b[38;5;132;01m}\u001b[39;00m\u001b[38;5;124m will be reduced\u001b[39m\u001b[38;5;124m'\u001b[39m\n\u001b[0;32m    165\u001b[0m                   \u001b[38;5;124mf\u001b[39m\u001b[38;5;124m'\u001b[39m\u001b[38;5;124m to \u001b[39m\u001b[38;5;132;01m{\u001b[39;00msupported_number\u001b[38;5;132;01m}\u001b[39;00m\u001b[38;5;124m positional args\u001b[39m\u001b[38;5;124m'\u001b[39m\n\u001b[0;32m    166\u001b[0m                   \u001b[38;5;124mf\u001b[39m\u001b[38;5;124m'\u001b[39m\u001b[38;5;124m \u001b[39m\u001b[38;5;132;01m{\u001b[39;00m\u001b[38;5;28mlist\u001b[39m(supported)\u001b[38;5;132;01m}\u001b[39;00m\u001b[38;5;124m: pass \u001b[39m\u001b[38;5;132;01m{\u001b[39;00mwanted\u001b[38;5;132;01m}\u001b[39;00m\u001b[38;5;124m'\u001b[39m\n\u001b[0;32m    167\u001b[0m                   \u001b[38;5;124m'\u001b[39m\u001b[38;5;124m as keyword arg(s)\u001b[39m\u001b[38;5;124m'\u001b[39m,\n\u001b[0;32m    168\u001b[0m                   stacklevel\u001b[38;5;241m=\u001b[39mstacklevel,\n\u001b[0;32m    169\u001b[0m                   category\u001b[38;5;241m=\u001b[39mcategory)\n\u001b[1;32m--> 171\u001b[0m \u001b[38;5;28;01mreturn\u001b[39;00m func(\u001b[38;5;241m*\u001b[39margs, \u001b[38;5;241m*\u001b[39m\u001b[38;5;241m*\u001b[39mkwargs)\n",
      "File \u001b[1;32m~\\anaconda3\\Lib\\site-packages\\graphviz\\backend\\rendering.py:324\u001b[0m, in \u001b[0;36mrender\u001b[1;34m(engine, format, filepath, renderer, formatter, neato_no_op, quiet, outfile, raise_if_result_exists, overwrite_filepath)\u001b[0m\n\u001b[0;32m    320\u001b[0m     \u001b[38;5;28;01mraise\u001b[39;00m exceptions\u001b[38;5;241m.\u001b[39mFileExistsError(\u001b[38;5;124mf\u001b[39m\u001b[38;5;124m'\u001b[39m\u001b[38;5;124moutput file exists: \u001b[39m\u001b[38;5;132;01m{\u001b[39;00mos\u001b[38;5;241m.\u001b[39mfspath(outfile)\u001b[38;5;132;01m!r}\u001b[39;00m\u001b[38;5;124m'\u001b[39m)\n\u001b[0;32m    322\u001b[0m cmd \u001b[38;5;241m+\u001b[39m\u001b[38;5;241m=\u001b[39m args\n\u001b[1;32m--> 324\u001b[0m execute\u001b[38;5;241m.\u001b[39mrun_check(cmd,\n\u001b[0;32m    325\u001b[0m                   cwd\u001b[38;5;241m=\u001b[39mfilepath\u001b[38;5;241m.\u001b[39mparent \u001b[38;5;28;01mif\u001b[39;00m filepath\u001b[38;5;241m.\u001b[39mparent\u001b[38;5;241m.\u001b[39mparts \u001b[38;5;28;01melse\u001b[39;00m \u001b[38;5;28;01mNone\u001b[39;00m,\n\u001b[0;32m    326\u001b[0m                   quiet\u001b[38;5;241m=\u001b[39mquiet,\n\u001b[0;32m    327\u001b[0m                   capture_output\u001b[38;5;241m=\u001b[39m\u001b[38;5;28;01mTrue\u001b[39;00m)\n\u001b[0;32m    329\u001b[0m \u001b[38;5;28;01mreturn\u001b[39;00m os\u001b[38;5;241m.\u001b[39mfspath(outfile)\n",
      "File \u001b[1;32m~\\anaconda3\\Lib\\site-packages\\graphviz\\backend\\execute.py:84\u001b[0m, in \u001b[0;36mrun_check\u001b[1;34m(cmd, input_lines, encoding, quiet, **kwargs)\u001b[0m\n\u001b[0;32m     82\u001b[0m \u001b[38;5;28;01mexcept\u001b[39;00m \u001b[38;5;167;01mOSError\u001b[39;00m \u001b[38;5;28;01mas\u001b[39;00m e:\n\u001b[0;32m     83\u001b[0m     \u001b[38;5;28;01mif\u001b[39;00m e\u001b[38;5;241m.\u001b[39merrno \u001b[38;5;241m==\u001b[39m errno\u001b[38;5;241m.\u001b[39mENOENT:\n\u001b[1;32m---> 84\u001b[0m         \u001b[38;5;28;01mraise\u001b[39;00m ExecutableNotFound(cmd) \u001b[38;5;28;01mfrom\u001b[39;00m \u001b[38;5;21;01me\u001b[39;00m\n\u001b[0;32m     85\u001b[0m     \u001b[38;5;28;01mraise\u001b[39;00m\n\u001b[0;32m     87\u001b[0m \u001b[38;5;28;01mif\u001b[39;00m \u001b[38;5;129;01mnot\u001b[39;00m quiet \u001b[38;5;129;01mand\u001b[39;00m proc\u001b[38;5;241m.\u001b[39mstderr:\n",
      "\u001b[1;31mExecutableNotFound\u001b[0m: failed to execute WindowsPath('dot'), make sure the Graphviz executables are on your systems' PATH"
     ]
    }
   ],
   "source": [
    "from sklearn import tree\n",
    "import graphviz\n",
    "\n",
    "# Assuming dt_clf is your decision tree classifier and col_names contains feature names\n",
    "\n",
    "dot_data = tree.export_graphviz(\n",
    "    dt_clf,\n",
    "    feature_names=col_names,\n",
    "    class_names=['0', '1'],\n",
    "    filled=True,\n",
    "    rounded=True,\n",
    "    special_characters=True\n",
    ")\n",
    "\n",
    "graph = graphviz.Source(dot_data)\n",
    "\n",
    "# To render the decision tree and save as a file (uncomment the line below)\n",
    "graph.render('DT_tree')\n",
    "\n",
    "# To view the decision tree in a window (uncomment the line below)\n",
    "graph.view()\n"
   ]
  },
  {
   "cell_type": "code",
   "execution_count": null,
   "id": "2279695b",
   "metadata": {},
   "outputs": [],
   "source": []
  }
 ],
 "metadata": {
  "kernelspec": {
   "display_name": "Python 3 (ipykernel)",
   "language": "python",
   "name": "python3"
  },
  "language_info": {
   "codemirror_mode": {
    "name": "ipython",
    "version": 3
   },
   "file_extension": ".py",
   "mimetype": "text/x-python",
   "name": "python",
   "nbconvert_exporter": "python",
   "pygments_lexer": "ipython3",
   "version": "3.11.5"
  }
 },
 "nbformat": 4,
 "nbformat_minor": 5
}
