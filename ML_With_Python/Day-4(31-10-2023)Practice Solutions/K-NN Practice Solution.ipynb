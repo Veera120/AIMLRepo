{
 "cells": [
  {
   "cell_type": "markdown",
   "id": "a5b021e5",
   "metadata": {},
   "source": [
    "# Medical Diagnosis with Naive Bayes"
   ]
  },
  {
   "cell_type": "markdown",
   "id": "3adebbde",
   "metadata": {},
   "source": [
    "# 1. Data Exploration:\n",
    "\n",
    "a. Load and explore the medical dataset using Python libraries like pandas. Describe the features, labels, and the distribution of diagnoses."
   ]
  },
  {
   "cell_type": "code",
   "execution_count": 1,
   "id": "9cc4d6bb",
   "metadata": {},
   "outputs": [
    {
     "data": {
      "text/html": [
       "<div>\n",
       "<style scoped>\n",
       "    .dataframe tbody tr th:only-of-type {\n",
       "        vertical-align: middle;\n",
       "    }\n",
       "\n",
       "    .dataframe tbody tr th {\n",
       "        vertical-align: top;\n",
       "    }\n",
       "\n",
       "    .dataframe thead th {\n",
       "        text-align: right;\n",
       "    }\n",
       "</style>\n",
       "<table border=\"1\" class=\"dataframe\">\n",
       "  <thead>\n",
       "    <tr style=\"text-align: right;\">\n",
       "      <th></th>\n",
       "      <th>Disease</th>\n",
       "      <th>Fever</th>\n",
       "      <th>Cough</th>\n",
       "      <th>Fatigue</th>\n",
       "      <th>Difficulty Breathing</th>\n",
       "      <th>Age</th>\n",
       "      <th>Gender</th>\n",
       "      <th>Blood Pressure</th>\n",
       "      <th>Cholesterol Level</th>\n",
       "      <th>Outcome Variable</th>\n",
       "    </tr>\n",
       "  </thead>\n",
       "  <tbody>\n",
       "    <tr>\n",
       "      <th>0</th>\n",
       "      <td>Influenza</td>\n",
       "      <td>Yes</td>\n",
       "      <td>No</td>\n",
       "      <td>Yes</td>\n",
       "      <td>Yes</td>\n",
       "      <td>19</td>\n",
       "      <td>Female</td>\n",
       "      <td>Low</td>\n",
       "      <td>Normal</td>\n",
       "      <td>Positive</td>\n",
       "    </tr>\n",
       "    <tr>\n",
       "      <th>1</th>\n",
       "      <td>Common Cold</td>\n",
       "      <td>No</td>\n",
       "      <td>Yes</td>\n",
       "      <td>Yes</td>\n",
       "      <td>No</td>\n",
       "      <td>25</td>\n",
       "      <td>Female</td>\n",
       "      <td>Normal</td>\n",
       "      <td>Normal</td>\n",
       "      <td>Negative</td>\n",
       "    </tr>\n",
       "    <tr>\n",
       "      <th>2</th>\n",
       "      <td>Eczema</td>\n",
       "      <td>No</td>\n",
       "      <td>Yes</td>\n",
       "      <td>Yes</td>\n",
       "      <td>No</td>\n",
       "      <td>25</td>\n",
       "      <td>Female</td>\n",
       "      <td>Normal</td>\n",
       "      <td>Normal</td>\n",
       "      <td>Negative</td>\n",
       "    </tr>\n",
       "    <tr>\n",
       "      <th>3</th>\n",
       "      <td>Asthma</td>\n",
       "      <td>Yes</td>\n",
       "      <td>Yes</td>\n",
       "      <td>No</td>\n",
       "      <td>Yes</td>\n",
       "      <td>25</td>\n",
       "      <td>Male</td>\n",
       "      <td>Normal</td>\n",
       "      <td>Normal</td>\n",
       "      <td>Positive</td>\n",
       "    </tr>\n",
       "    <tr>\n",
       "      <th>4</th>\n",
       "      <td>Asthma</td>\n",
       "      <td>Yes</td>\n",
       "      <td>Yes</td>\n",
       "      <td>No</td>\n",
       "      <td>Yes</td>\n",
       "      <td>25</td>\n",
       "      <td>Male</td>\n",
       "      <td>Normal</td>\n",
       "      <td>Normal</td>\n",
       "      <td>Positive</td>\n",
       "    </tr>\n",
       "  </tbody>\n",
       "</table>\n",
       "</div>"
      ],
      "text/plain": [
       "       Disease Fever Cough Fatigue Difficulty Breathing  Age  Gender  \\\n",
       "0    Influenza   Yes    No     Yes                  Yes   19  Female   \n",
       "1  Common Cold    No   Yes     Yes                   No   25  Female   \n",
       "2       Eczema    No   Yes     Yes                   No   25  Female   \n",
       "3       Asthma   Yes   Yes      No                  Yes   25    Male   \n",
       "4       Asthma   Yes   Yes      No                  Yes   25    Male   \n",
       "\n",
       "  Blood Pressure Cholesterol Level Outcome Variable  \n",
       "0            Low            Normal         Positive  \n",
       "1         Normal            Normal         Negative  \n",
       "2         Normal            Normal         Negative  \n",
       "3         Normal            Normal         Positive  \n",
       "4         Normal            Normal         Positive  "
      ]
     },
     "execution_count": 1,
     "metadata": {},
     "output_type": "execute_result"
    }
   ],
   "source": [
    "import pandas as pd\n",
    "\n",
    "# Load the dataset\n",
    "data = pd.read_csv('Disease.csv')\n",
    "\n",
    "data.head()"
   ]
  },
  {
   "cell_type": "markdown",
   "id": "e5cc1352",
   "metadata": {},
   "source": [
    "# 2. Data Preprocessing:\n",
    "\n",
    "a. Explain the necessary data preprocessing steps for preparing the medical data. This may include handling missing values, normalizing or scaling features, and encoding categorical variables.\n",
    "\n",
    "b. Calculate the prior probabilities P(Condition) and P(No Condition) based on the class distribution."
   ]
  },
  {
   "cell_type": "code",
   "execution_count": 2,
   "id": "eec09df4",
   "metadata": {},
   "outputs": [
    {
     "data": {
      "text/html": [
       "<div>\n",
       "<style scoped>\n",
       "    .dataframe tbody tr th:only-of-type {\n",
       "        vertical-align: middle;\n",
       "    }\n",
       "\n",
       "    .dataframe tbody tr th {\n",
       "        vertical-align: top;\n",
       "    }\n",
       "\n",
       "    .dataframe thead th {\n",
       "        text-align: right;\n",
       "    }\n",
       "</style>\n",
       "<table border=\"1\" class=\"dataframe\">\n",
       "  <thead>\n",
       "    <tr style=\"text-align: right;\">\n",
       "      <th></th>\n",
       "      <th>Disease</th>\n",
       "      <th>Fever</th>\n",
       "      <th>Cough</th>\n",
       "      <th>Fatigue</th>\n",
       "      <th>Difficulty Breathing</th>\n",
       "      <th>Age</th>\n",
       "      <th>Gender</th>\n",
       "      <th>Blood Pressure</th>\n",
       "      <th>Cholesterol Level</th>\n",
       "      <th>Outcome Variable</th>\n",
       "    </tr>\n",
       "  </thead>\n",
       "  <tbody>\n",
       "    <tr>\n",
       "      <th>0</th>\n",
       "      <td>56</td>\n",
       "      <td>1</td>\n",
       "      <td>0</td>\n",
       "      <td>1</td>\n",
       "      <td>1</td>\n",
       "      <td>19</td>\n",
       "      <td>0</td>\n",
       "      <td>1</td>\n",
       "      <td>2</td>\n",
       "      <td>1</td>\n",
       "    </tr>\n",
       "    <tr>\n",
       "      <th>1</th>\n",
       "      <td>24</td>\n",
       "      <td>0</td>\n",
       "      <td>1</td>\n",
       "      <td>1</td>\n",
       "      <td>0</td>\n",
       "      <td>25</td>\n",
       "      <td>0</td>\n",
       "      <td>2</td>\n",
       "      <td>2</td>\n",
       "      <td>0</td>\n",
       "    </tr>\n",
       "    <tr>\n",
       "      <th>2</th>\n",
       "      <td>37</td>\n",
       "      <td>0</td>\n",
       "      <td>1</td>\n",
       "      <td>1</td>\n",
       "      <td>0</td>\n",
       "      <td>25</td>\n",
       "      <td>0</td>\n",
       "      <td>2</td>\n",
       "      <td>2</td>\n",
       "      <td>0</td>\n",
       "    </tr>\n",
       "    <tr>\n",
       "      <th>3</th>\n",
       "      <td>6</td>\n",
       "      <td>1</td>\n",
       "      <td>1</td>\n",
       "      <td>0</td>\n",
       "      <td>1</td>\n",
       "      <td>25</td>\n",
       "      <td>1</td>\n",
       "      <td>2</td>\n",
       "      <td>2</td>\n",
       "      <td>1</td>\n",
       "    </tr>\n",
       "    <tr>\n",
       "      <th>4</th>\n",
       "      <td>6</td>\n",
       "      <td>1</td>\n",
       "      <td>1</td>\n",
       "      <td>0</td>\n",
       "      <td>1</td>\n",
       "      <td>25</td>\n",
       "      <td>1</td>\n",
       "      <td>2</td>\n",
       "      <td>2</td>\n",
       "      <td>1</td>\n",
       "    </tr>\n",
       "  </tbody>\n",
       "</table>\n",
       "</div>"
      ],
      "text/plain": [
       "   Disease  Fever  Cough  Fatigue  Difficulty Breathing  Age  Gender  \\\n",
       "0       56      1      0        1                     1   19       0   \n",
       "1       24      0      1        1                     0   25       0   \n",
       "2       37      0      1        1                     0   25       0   \n",
       "3        6      1      1        0                     1   25       1   \n",
       "4        6      1      1        0                     1   25       1   \n",
       "\n",
       "   Blood Pressure  Cholesterol Level  Outcome Variable  \n",
       "0               1                  2                 1  \n",
       "1               2                  2                 0  \n",
       "2               2                  2                 0  \n",
       "3               2                  2                 1  \n",
       "4               2                  2                 1  "
      ]
     },
     "execution_count": 2,
     "metadata": {},
     "output_type": "execute_result"
    }
   ],
   "source": [
    "#changing the values\n",
    "from sklearn.preprocessing import LabelEncoder\n",
    "le=LabelEncoder()\n",
    "\n",
    "data['Disease']=le.fit_transform(data['Disease'])\n",
    "data['Fever']=le.fit_transform(data['Fever'])\n",
    "data['Cough']=le.fit_transform(data['Cough'])\n",
    "data['Fatigue']=le.fit_transform(data['Fatigue'])\n",
    "data['Difficulty Breathing']=le.fit_transform(data['Difficulty Breathing'])\n",
    "data['Gender']=le.fit_transform(data['Gender'])\n",
    "data['Blood Pressure']=le.fit_transform(data['Blood Pressure'])\n",
    "data['Cholesterol Level']=le.fit_transform(data['Cholesterol Level'])\n",
    "data['Outcome Variable']=le.fit_transform(data['Outcome Variable'])\n",
    "\n",
    "data.head()"
   ]
  },
  {
   "cell_type": "code",
   "execution_count": 3,
   "id": "1b08ab65",
   "metadata": {},
   "outputs": [
    {
     "data": {
      "text/plain": [
       "Disease                 0\n",
       "Fever                   0\n",
       "Cough                   0\n",
       "Fatigue                 0\n",
       "Difficulty Breathing    0\n",
       "Age                     0\n",
       "Gender                  0\n",
       "Blood Pressure          0\n",
       "Cholesterol Level       0\n",
       "Outcome Variable        0\n",
       "dtype: int64"
      ]
     },
     "execution_count": 3,
     "metadata": {},
     "output_type": "execute_result"
    }
   ],
   "source": [
    "data=data.fillna(method=\"bfill\")\n",
    "data.isna().sum()"
   ]
  },
  {
   "cell_type": "code",
   "execution_count": 4,
   "id": "b21e84fa",
   "metadata": {},
   "outputs": [
    {
     "name": "stdout",
     "output_type": "stream",
     "text": [
      "Class Distribution:\n",
      "Positive: 0.5329512893982808 (53.30%)\n",
      "Negative: 0.4670487106017192 (46.70%)\n"
     ]
    }
   ],
   "source": [
    "Positive = data['Outcome Variable'].sum()\n",
    "Negative = len(data) - Positive\n",
    "\n",
    "# Calculate the proportion of positive or negative transactions\n",
    "Positive = Positive / len(data)\n",
    "Negative = Negative / len(data)\n",
    "\n",
    "print(\"Class Distribution:\")\n",
    "print(f\"Positive: {Positive} ({Positive * 100:.2f}%)\")\n",
    "print(f\"Negative: {Negative} ({Negative * 100:.2f}%)\")"
   ]
  },
  {
   "cell_type": "markdown",
   "id": "47cde72f",
   "metadata": {},
   "source": [
    "# 3. Feature Engineering:\n",
    "\n",
    "a. Describe how to convert the medical test results and patient Information into suitable features for the Naive Bayes model.\n",
    "b. Discuss the importance of feature selection or dimensionality reduction in medical diagnosis."
   ]
  },
  {
   "cell_type": "raw",
   "id": "1aa9d285",
   "metadata": {},
   "source": [
    "3(a)\n",
    "In Naive Bayes, you can use features as-is. If you have continuous features, the algorithm assumes that they follow a particular distribution (Gaussian, Multinomial, etc.), which is determined by the chosen Naive Bayes variant."
   ]
  },
  {
   "cell_type": "raw",
   "id": "c254915e",
   "metadata": {},
   "source": [
    "3(b)\n",
    "Feature selection or dimensionality reduction techniques like PCA or feature importance analysis can be valuable to:\n",
    "-Improve model performance by reducing noise.\n",
    "-Enhance model interpretability.\n",
    "-Decrease computation time, especially with high-dimensional data."
   ]
  },
  {
   "cell_type": "markdown",
   "id": "62aeb4cc",
   "metadata": {},
   "source": [
    "# 4. Implementing Naive Bayes:\n",
    "\n",
    "a. Choose the appropriate Naive Bayes variant (e.g., Gaussian, Multinomial, or Bernoulli Naive Bayes) for the medical diagnosis task and implement the classifier using Python libraries like scikit-learn.\n",
    "\n",
    "b. Split the dataset into training and testing sets."
   ]
  },
  {
   "cell_type": "code",
   "execution_count": 5,
   "id": "b6274794",
   "metadata": {},
   "outputs": [
    {
     "data": {
      "text/html": [
       "<div>\n",
       "<style scoped>\n",
       "    .dataframe tbody tr th:only-of-type {\n",
       "        vertical-align: middle;\n",
       "    }\n",
       "\n",
       "    .dataframe tbody tr th {\n",
       "        vertical-align: top;\n",
       "    }\n",
       "\n",
       "    .dataframe thead th {\n",
       "        text-align: right;\n",
       "    }\n",
       "</style>\n",
       "<table border=\"1\" class=\"dataframe\">\n",
       "  <thead>\n",
       "    <tr style=\"text-align: right;\">\n",
       "      <th></th>\n",
       "      <th>Disease</th>\n",
       "      <th>Fever</th>\n",
       "      <th>Cough</th>\n",
       "      <th>Fatigue</th>\n",
       "      <th>Difficulty Breathing</th>\n",
       "      <th>Age</th>\n",
       "      <th>Gender</th>\n",
       "      <th>Blood Pressure</th>\n",
       "      <th>Cholesterol Level</th>\n",
       "    </tr>\n",
       "  </thead>\n",
       "  <tbody>\n",
       "    <tr>\n",
       "      <th>0</th>\n",
       "      <td>56</td>\n",
       "      <td>1</td>\n",
       "      <td>0</td>\n",
       "      <td>1</td>\n",
       "      <td>1</td>\n",
       "      <td>19</td>\n",
       "      <td>0</td>\n",
       "      <td>1</td>\n",
       "      <td>2</td>\n",
       "    </tr>\n",
       "    <tr>\n",
       "      <th>1</th>\n",
       "      <td>24</td>\n",
       "      <td>0</td>\n",
       "      <td>1</td>\n",
       "      <td>1</td>\n",
       "      <td>0</td>\n",
       "      <td>25</td>\n",
       "      <td>0</td>\n",
       "      <td>2</td>\n",
       "      <td>2</td>\n",
       "    </tr>\n",
       "  </tbody>\n",
       "</table>\n",
       "</div>"
      ],
      "text/plain": [
       "   Disease  Fever  Cough  Fatigue  Difficulty Breathing  Age  Gender  \\\n",
       "0       56      1      0        1                     1   19       0   \n",
       "1       24      0      1        1                     0   25       0   \n",
       "\n",
       "   Blood Pressure  Cholesterol Level  \n",
       "0               1                  2  \n",
       "1               2                  2  "
      ]
     },
     "execution_count": 5,
     "metadata": {},
     "output_type": "execute_result"
    }
   ],
   "source": [
    "x=data.iloc[:,:-1]\n",
    "x.head(2)"
   ]
  },
  {
   "cell_type": "code",
   "execution_count": 6,
   "id": "ad55fcc0",
   "metadata": {},
   "outputs": [
    {
     "data": {
      "text/html": [
       "<div>\n",
       "<style scoped>\n",
       "    .dataframe tbody tr th:only-of-type {\n",
       "        vertical-align: middle;\n",
       "    }\n",
       "\n",
       "    .dataframe tbody tr th {\n",
       "        vertical-align: top;\n",
       "    }\n",
       "\n",
       "    .dataframe thead th {\n",
       "        text-align: right;\n",
       "    }\n",
       "</style>\n",
       "<table border=\"1\" class=\"dataframe\">\n",
       "  <thead>\n",
       "    <tr style=\"text-align: right;\">\n",
       "      <th></th>\n",
       "      <th>Outcome Variable</th>\n",
       "    </tr>\n",
       "  </thead>\n",
       "  <tbody>\n",
       "    <tr>\n",
       "      <th>0</th>\n",
       "      <td>1</td>\n",
       "    </tr>\n",
       "    <tr>\n",
       "      <th>1</th>\n",
       "      <td>0</td>\n",
       "    </tr>\n",
       "    <tr>\n",
       "      <th>2</th>\n",
       "      <td>0</td>\n",
       "    </tr>\n",
       "    <tr>\n",
       "      <th>3</th>\n",
       "      <td>1</td>\n",
       "    </tr>\n",
       "    <tr>\n",
       "      <th>4</th>\n",
       "      <td>1</td>\n",
       "    </tr>\n",
       "  </tbody>\n",
       "</table>\n",
       "</div>"
      ],
      "text/plain": [
       "   Outcome Variable\n",
       "0                 1\n",
       "1                 0\n",
       "2                 0\n",
       "3                 1\n",
       "4                 1"
      ]
     },
     "execution_count": 6,
     "metadata": {},
     "output_type": "execute_result"
    }
   ],
   "source": [
    "y=data.iloc[:,-1:]\n",
    "y.head()"
   ]
  },
  {
   "cell_type": "code",
   "execution_count": 9,
   "id": "4682493a",
   "metadata": {},
   "outputs": [
    {
     "name": "stdout",
     "output_type": "stream",
     "text": [
      "Training completed  $$$$$$$$$$$\n",
      "\n",
      "Predicted Lable for the input samples:\n",
      " [1 0 1 0 1 1 0 1 1 1 1 1 1 1 1 1 0 0 1 0 1 0 1 1 1 1 0 0 1 1 0 0 0 1 1 1 1\n",
      " 0 0 0 0 1 0 0 0 0 0 0 1 0 1 1 0 0 0 1 0 1 1 0 1 1 1 1 0 0 0 0 1 1]\n",
      "Testing is done\n"
     ]
    },
    {
     "name": "stderr",
     "output_type": "stream",
     "text": [
      "C:\\Users\\ADMIN\\anaconda3\\Lib\\site-packages\\sklearn\\utils\\validation.py:1183: DataConversionWarning: A column-vector y was passed when a 1d array was expected. Please change the shape of y to (n_samples, ), for example using ravel().\n",
      "  y = column_or_1d(y, warn=True)\n"
     ]
    }
   ],
   "source": [
    "from sklearn.model_selection import train_test_split\n",
    "\n",
    "xtrain,xtest,ytrain,ytest=train_test_split(x,y,test_size=0.2,random_state=2)\n",
    "\n",
    "from sklearn.naive_bayes import GaussianNB\n",
    "gauss_nb=GaussianNB()\n",
    "gauss_nb.fit(xtrain,ytrain)\n",
    "print('Training completed  $$$$$$$$$$$')\n",
    "print()\n",
    "ypred=gauss_nb.predict(xtest)\n",
    "print('Predicted Lable for the input samples:\\n',ypred)\n",
    "print('Testing is done')"
   ]
  },
  {
   "cell_type": "markdown",
   "id": "eeea44fa",
   "metadata": {},
   "source": [
    "# 5. Model Training:\n",
    "\n",
    "a. Train the Naive Bayes model using the feature-engineered dataset. Explain the probability estimation process in Naive Bayes for medical diagnosis."
   ]
  },
  {
   "cell_type": "raw",
   "id": "ba97581b",
   "metadata": {},
   "source": [
    "The probability estimation process in Naive Bayes involves calculating the conditional probabilities of each feature given the class and then using Bayes' theorem to estimate the probability of the class given the observed features. This is done for each class, and the class with the highest probability is chosen as the predicted class.\n",
    "\n",
    "The code for training is already provided in section 4 (a)."
   ]
  },
  {
   "cell_type": "markdown",
   "id": "ad8381c4",
   "metadata": {},
   "source": [
    "# 6. Model Evaluation:\n",
    "\n",
    "a. Assess the performance of the medical diagnosis model using relevant evaluation metrics, such as accuracy, precision, recall, and F1-score.\n",
    "b. Interpret the results and discuss the model's ability to accurately classify medical conditions."
   ]
  },
  {
   "cell_type": "code",
   "execution_count": 10,
   "id": "1456b11b",
   "metadata": {},
   "outputs": [
    {
     "name": "stdout",
     "output_type": "stream",
     "text": [
      "****Naive Bayes Model****\n",
      "Accuracy Score:\t\n",
      " 0.6428571428571429\n",
      "\n",
      "================================================================================\n",
      "Confussinon matrix:\n",
      " [[25 18]\n",
      " [ 7 20]]\n",
      "\n",
      "================================================================================\n",
      "Classificatino report: \n",
      "               precision    recall  f1-score   support\n",
      "\n",
      "           0       0.78      0.58      0.67        43\n",
      "           1       0.53      0.74      0.62        27\n",
      "\n",
      "    accuracy                           0.64        70\n",
      "   macro avg       0.65      0.66      0.64        70\n",
      "weighted avg       0.68      0.64      0.65        70\n",
      "\n",
      "================================================================================\n"
     ]
    }
   ],
   "source": [
    "from sklearn.metrics import accuracy_score\n",
    "from sklearn.metrics import confusion_matrix\n",
    "from sklearn.metrics import classification_report\n",
    "\n",
    "\n",
    "\n",
    "print('****Naive Bayes Model****')\n",
    "print('Accuracy Score:\\t\\n',accuracy_score(ytest,ypred))\n",
    "print()\n",
    "print('='*80)\n",
    "print('Confussinon matrix:\\n',confusion_matrix(ytest,ypred))\n",
    "print()\n",
    "print('='*80)\n",
    "print('Classificatino report: \\n',classification_report(ytest,ypred))\n",
    "print('='*80)"
   ]
  },
  {
   "cell_type": "raw",
   "id": "946dbf43",
   "metadata": {},
   "source": [
    "6(b)\n",
    "The evaluation metrics will provide insights into the model's performance. For example:\n",
    "\n",
    "-High accuracy indicates overall correctness.\n",
    "-Precision measures how many of the predicted \"Condition\" cases were actually \"Condition.\"\n",
    "-Recall measures how many of the actual \"Condition\" cases were correctly predicted.\n",
    "-F1-score balances precision and recall."
   ]
  },
  {
   "cell_type": "markdown",
   "id": "65a66402",
   "metadata": {},
   "source": [
    "# 7. Laplace Smoothing:\n",
    "\n",
    "a. Explain the concept of Laplace (add-one) smoothing and discuss its potential application in the context of medical diagnosis.\n",
    "b. Discuss the impact of Laplace smoothing on model performance.\n"
   ]
  },
  {
   "cell_type": "raw",
   "id": "62ff701b",
   "metadata": {},
   "source": [
    "7(a)\n",
    "Laplace smoothing is a technique to avoid zero probabilities when calculating conditional probabilities. In the context of Naive Bayes, it adds a small count (usually 1) to all feature counts for each class, which prevents division by zero.\n",
    "\n",
    "In medical diagnosis, Laplace smoothing can be applied to ensure that no feature has a probability of zero for a given class, which helps the model make predictions even when a feature is not observed in a particular class during training."
   ]
  },
  {
   "cell_type": "raw",
   "id": "e89b5d57",
   "metadata": {},
   "source": [
    "7(b)\n",
    "Laplace smoothing can make the model more robust by preventing zero probabilities, but it can also introduce some bias in probability estimates. The impact on model performance depends on the specific dataset and the degree of sparsity in the data. It may improve generalization but can slightly reduce the model's accuracy on the training data. The optimal degree of smoothing should be chosen empirically through cross-validation."
   ]
  },
  {
   "cell_type": "markdown",
   "id": "6876bd7d",
   "metadata": {},
   "source": [
    "# 8. Real-World Application:\n",
    "\n",
    "a. Describe the importance of accurate medical diagnosis in healthcare and research.\n",
    "b. Discuss the practical implications of implementing a diagnostic system based on Naive Bayes."
   ]
  },
  {
   "cell_type": "raw",
   "id": "bcd5d896",
   "metadata": {},
   "source": [
    "8(a)\n",
    "Accurate medical diagnosis is paramount in healthcare and research for several reasons:\n",
    "\n",
    "-Patient Health: Accurate diagnosis ensures that patients receive the right treatment and care, leading to better health outcomes and improved quality of life.\n",
    "-Public Health: Accurate diagnosis helps identify and control disease outbreaks, preventing their spread within communities."
   ]
  },
  {
   "cell_type": "raw",
   "id": "518b94a3",
   "metadata": {},
   "source": [
    "8(b)\n",
    "Cost-Effective: Naive Bayes is computationally efficient and requires relatively little data for training, making it a cost-effective choice for healthcare systems.\n",
    "Transparency: Naive Bayes provides transparent results, allowing healthcare professionals to understand why a particular diagnosis was made based on the features."
   ]
  },
  {
   "cell_type": "markdown",
   "id": "bb00589f",
   "metadata": {},
   "source": [
    "# 9. Model Limitations:\n",
    "\n",
    "a. Identify potential limitations of the Naive Bayes approach to medical diagnosis and discuss scenarios inwhich it may not perform well."
   ]
  },
  {
   "cell_type": "raw",
   "id": "74f659d7",
   "metadata": {},
   "source": [
    "Assumption of Independence: The \"naive\" assumption that features are independent might not hold in many medical scenarios. Features in medicine are often interrelated, and this can lead to suboptimal results.\n",
    "Sensitivity to Feature Engineering: The choice of features and their representation can significantly impact the model's performance. Inaccurate or irrelevant features can mislead the model.\n",
    "Small Sample Sizes: Naive Bayes may not perform well when the dataset is small, leading to unreliable probability estimates.\n",
    "Imbalanced Datasets: In cases where one class significantly outweighs the other, Naive Bayes can be biased towards the majority class."
   ]
  }
 ],
 "metadata": {
  "kernelspec": {
   "display_name": "Python 3 (ipykernel)",
   "language": "python",
   "name": "python3"
  },
  "language_info": {
   "codemirror_mode": {
    "name": "ipython",
    "version": 3
   },
   "file_extension": ".py",
   "mimetype": "text/x-python",
   "name": "python",
   "nbconvert_exporter": "python",
   "pygments_lexer": "ipython3",
   "version": "3.11.5"
  }
 },
 "nbformat": 4,
 "nbformat_minor": 5
}
