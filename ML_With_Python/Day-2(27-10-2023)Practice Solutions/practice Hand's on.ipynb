{
 "cells": [
  {
   "cell_type": "code",
   "execution_count": 3,
   "id": "470d6bf5",
   "metadata": {},
   "outputs": [],
   "source": [
    "import numpy as np\n",
    "import pandas as pd\n",
    "import matplotlib.pyplot as plt\n",
    "import seaborn as sns"
   ]
  },
  {
   "cell_type": "code",
   "execution_count": 4,
   "id": "408f751e",
   "metadata": {},
   "outputs": [
    {
     "data": {
      "text/html": [
       "<div>\n",
       "<style scoped>\n",
       "    .dataframe tbody tr th:only-of-type {\n",
       "        vertical-align: middle;\n",
       "    }\n",
       "\n",
       "    .dataframe tbody tr th {\n",
       "        vertical-align: top;\n",
       "    }\n",
       "\n",
       "    .dataframe thead th {\n",
       "        text-align: right;\n",
       "    }\n",
       "</style>\n",
       "<table border=\"1\" class=\"dataframe\">\n",
       "  <thead>\n",
       "    <tr style=\"text-align: right;\">\n",
       "      <th></th>\n",
       "      <th>Number of claims</th>\n",
       "      <th>Total Payment</th>\n",
       "    </tr>\n",
       "  </thead>\n",
       "  <tbody>\n",
       "    <tr>\n",
       "      <th>0</th>\n",
       "      <td>108</td>\n",
       "      <td>3925</td>\n",
       "    </tr>\n",
       "    <tr>\n",
       "      <th>1</th>\n",
       "      <td>19</td>\n",
       "      <td>462</td>\n",
       "    </tr>\n",
       "    <tr>\n",
       "      <th>2</th>\n",
       "      <td>13</td>\n",
       "      <td>157</td>\n",
       "    </tr>\n",
       "    <tr>\n",
       "      <th>3</th>\n",
       "      <td>124</td>\n",
       "      <td>4222</td>\n",
       "    </tr>\n",
       "    <tr>\n",
       "      <th>4</th>\n",
       "      <td>40</td>\n",
       "      <td>1194</td>\n",
       "    </tr>\n",
       "    <tr>\n",
       "      <th>...</th>\n",
       "      <td>...</td>\n",
       "      <td>...</td>\n",
       "    </tr>\n",
       "    <tr>\n",
       "      <th>58</th>\n",
       "      <td>9</td>\n",
       "      <td>874</td>\n",
       "    </tr>\n",
       "    <tr>\n",
       "      <th>59</th>\n",
       "      <td>31</td>\n",
       "      <td>2098</td>\n",
       "    </tr>\n",
       "    <tr>\n",
       "      <th>60</th>\n",
       "      <td>14</td>\n",
       "      <td>955</td>\n",
       "    </tr>\n",
       "    <tr>\n",
       "      <th>61</th>\n",
       "      <td>53</td>\n",
       "      <td>2446</td>\n",
       "    </tr>\n",
       "    <tr>\n",
       "      <th>62</th>\n",
       "      <td>26</td>\n",
       "      <td>1875</td>\n",
       "    </tr>\n",
       "  </tbody>\n",
       "</table>\n",
       "<p>63 rows × 2 columns</p>\n",
       "</div>"
      ],
      "text/plain": [
       "    Number of claims   Total Payment\n",
       "0                108            3925\n",
       "1                 19             462\n",
       "2                 13             157\n",
       "3                124            4222\n",
       "4                 40            1194\n",
       "..               ...             ...\n",
       "58                 9             874\n",
       "59                31            2098\n",
       "60                14             955\n",
       "61                53            2446\n",
       "62                26            1875\n",
       "\n",
       "[63 rows x 2 columns]"
      ]
     },
     "execution_count": 4,
     "metadata": {},
     "output_type": "execute_result"
    }
   ],
   "source": [
    "data=pd.read_csv('auto_insurance_payment.csv')\n",
    "data"
   ]
  },
  {
   "cell_type": "code",
   "execution_count": 5,
   "id": "4b5f7d09",
   "metadata": {},
   "outputs": [
    {
     "data": {
      "text/html": [
       "<div>\n",
       "<style scoped>\n",
       "    .dataframe tbody tr th:only-of-type {\n",
       "        vertical-align: middle;\n",
       "    }\n",
       "\n",
       "    .dataframe tbody tr th {\n",
       "        vertical-align: top;\n",
       "    }\n",
       "\n",
       "    .dataframe thead th {\n",
       "        text-align: right;\n",
       "    }\n",
       "</style>\n",
       "<table border=\"1\" class=\"dataframe\">\n",
       "  <thead>\n",
       "    <tr style=\"text-align: right;\">\n",
       "      <th></th>\n",
       "      <th>Number of claims</th>\n",
       "      <th>Total Payment</th>\n",
       "    </tr>\n",
       "  </thead>\n",
       "  <tbody>\n",
       "    <tr>\n",
       "      <th>0</th>\n",
       "      <td>108</td>\n",
       "      <td>3925</td>\n",
       "    </tr>\n",
       "    <tr>\n",
       "      <th>1</th>\n",
       "      <td>19</td>\n",
       "      <td>462</td>\n",
       "    </tr>\n",
       "    <tr>\n",
       "      <th>2</th>\n",
       "      <td>13</td>\n",
       "      <td>157</td>\n",
       "    </tr>\n",
       "    <tr>\n",
       "      <th>3</th>\n",
       "      <td>124</td>\n",
       "      <td>4222</td>\n",
       "    </tr>\n",
       "    <tr>\n",
       "      <th>4</th>\n",
       "      <td>40</td>\n",
       "      <td>1194</td>\n",
       "    </tr>\n",
       "  </tbody>\n",
       "</table>\n",
       "</div>"
      ],
      "text/plain": [
       "   Number of claims   Total Payment\n",
       "0               108            3925\n",
       "1                19             462\n",
       "2                13             157\n",
       "3               124            4222\n",
       "4                40            1194"
      ]
     },
     "execution_count": 5,
     "metadata": {},
     "output_type": "execute_result"
    }
   ],
   "source": [
    "data.head()"
   ]
  },
  {
   "cell_type": "code",
   "execution_count": 6,
   "id": "98e7dbc0",
   "metadata": {},
   "outputs": [
    {
     "data": {
      "text/html": [
       "<div>\n",
       "<style scoped>\n",
       "    .dataframe tbody tr th:only-of-type {\n",
       "        vertical-align: middle;\n",
       "    }\n",
       "\n",
       "    .dataframe tbody tr th {\n",
       "        vertical-align: top;\n",
       "    }\n",
       "\n",
       "    .dataframe thead th {\n",
       "        text-align: right;\n",
       "    }\n",
       "</style>\n",
       "<table border=\"1\" class=\"dataframe\">\n",
       "  <thead>\n",
       "    <tr style=\"text-align: right;\">\n",
       "      <th></th>\n",
       "      <th>Number of claims</th>\n",
       "      <th>Total Payment</th>\n",
       "    </tr>\n",
       "  </thead>\n",
       "  <tbody>\n",
       "    <tr>\n",
       "      <th>58</th>\n",
       "      <td>9</td>\n",
       "      <td>874</td>\n",
       "    </tr>\n",
       "    <tr>\n",
       "      <th>59</th>\n",
       "      <td>31</td>\n",
       "      <td>2098</td>\n",
       "    </tr>\n",
       "    <tr>\n",
       "      <th>60</th>\n",
       "      <td>14</td>\n",
       "      <td>955</td>\n",
       "    </tr>\n",
       "    <tr>\n",
       "      <th>61</th>\n",
       "      <td>53</td>\n",
       "      <td>2446</td>\n",
       "    </tr>\n",
       "    <tr>\n",
       "      <th>62</th>\n",
       "      <td>26</td>\n",
       "      <td>1875</td>\n",
       "    </tr>\n",
       "  </tbody>\n",
       "</table>\n",
       "</div>"
      ],
      "text/plain": [
       "    Number of claims   Total Payment\n",
       "58                 9             874\n",
       "59                31            2098\n",
       "60                14             955\n",
       "61                53            2446\n",
       "62                26            1875"
      ]
     },
     "execution_count": 6,
     "metadata": {},
     "output_type": "execute_result"
    }
   ],
   "source": [
    "data.tail()"
   ]
  },
  {
   "cell_type": "code",
   "execution_count": 7,
   "id": "969d361e",
   "metadata": {},
   "outputs": [
    {
     "data": {
      "text/plain": [
       "Number of claims    0\n",
       " Total Payment      0\n",
       "dtype: int64"
      ]
     },
     "execution_count": 7,
     "metadata": {},
     "output_type": "execute_result"
    }
   ],
   "source": [
    "data.isna().sum()"
   ]
  },
  {
   "cell_type": "code",
   "execution_count": 8,
   "id": "ae4ace5d",
   "metadata": {},
   "outputs": [
    {
     "data": {
      "text/plain": [
       "array([[<Axes: title={'center': 'Number of claims'}>,\n",
       "        <Axes: title={'center': ' Total Payment'}>]], dtype=object)"
      ]
     },
     "execution_count": 8,
     "metadata": {},
     "output_type": "execute_result"
    },
    {
     "data": {
      "image/png": "[encoded data removed]",
      "text/plain": [
       "<Figure size 640x480 with 2 Axes>"
      ]
     },
     "metadata": {},
     "output_type": "display_data"
    }
   ],
   "source": [
    "data.hist()"
   ]
  },
  {
   "cell_type": "code",
   "execution_count": 9,
   "id": "a2700aa7",
   "metadata": {},
   "outputs": [
    {
     "data": {
      "text/html": [
       "<div>\n",
       "<style scoped>\n",
       "    .dataframe tbody tr th:only-of-type {\n",
       "        vertical-align: middle;\n",
       "    }\n",
       "\n",
       "    .dataframe tbody tr th {\n",
       "        vertical-align: top;\n",
       "    }\n",
       "\n",
       "    .dataframe thead th {\n",
       "        text-align: right;\n",
       "    }\n",
       "</style>\n",
       "<table border=\"1\" class=\"dataframe\">\n",
       "  <thead>\n",
       "    <tr style=\"text-align: right;\">\n",
       "      <th></th>\n",
       "      <th>Number of claims</th>\n",
       "      <th>Total Payment</th>\n",
       "    </tr>\n",
       "  </thead>\n",
       "  <tbody>\n",
       "    <tr>\n",
       "      <th>count</th>\n",
       "      <td>63.000000</td>\n",
       "      <td>63.000000</td>\n",
       "    </tr>\n",
       "    <tr>\n",
       "      <th>mean</th>\n",
       "      <td>22.904762</td>\n",
       "      <td>921.873016</td>\n",
       "    </tr>\n",
       "    <tr>\n",
       "      <th>std</th>\n",
       "      <td>23.351946</td>\n",
       "      <td>878.266281</td>\n",
       "    </tr>\n",
       "    <tr>\n",
       "      <th>min</th>\n",
       "      <td>0.000000</td>\n",
       "      <td>0.000000</td>\n",
       "    </tr>\n",
       "    <tr>\n",
       "      <th>25%</th>\n",
       "      <td>7.500000</td>\n",
       "      <td>299.000000</td>\n",
       "    </tr>\n",
       "    <tr>\n",
       "      <th>50%</th>\n",
       "      <td>14.000000</td>\n",
       "      <td>596.000000</td>\n",
       "    </tr>\n",
       "    <tr>\n",
       "      <th>75%</th>\n",
       "      <td>29.000000</td>\n",
       "      <td>1364.000000</td>\n",
       "    </tr>\n",
       "    <tr>\n",
       "      <th>max</th>\n",
       "      <td>124.000000</td>\n",
       "      <td>4222.000000</td>\n",
       "    </tr>\n",
       "  </tbody>\n",
       "</table>\n",
       "</div>"
      ],
      "text/plain": [
       "       Number of claims   Total Payment\n",
       "count         63.000000       63.000000\n",
       "mean          22.904762      921.873016\n",
       "std           23.351946      878.266281\n",
       "min            0.000000        0.000000\n",
       "25%            7.500000      299.000000\n",
       "50%           14.000000      596.000000\n",
       "75%           29.000000     1364.000000\n",
       "max          124.000000     4222.000000"
      ]
     },
     "execution_count": 9,
     "metadata": {},
     "output_type": "execute_result"
    }
   ],
   "source": [
    "data.describe()"
   ]
  },
  {
   "cell_type": "markdown",
   "id": "9bae3a0e",
   "metadata": {},
   "source": [
    "# Assign X-inputfeatures & Y-Response"
   ]
  },
  {
   "cell_type": "code",
   "execution_count": 10,
   "id": "737c91f9",
   "metadata": {},
   "outputs": [
    {
     "data": {
      "text/html": [
       "<div>\n",
       "<style scoped>\n",
       "    .dataframe tbody tr th:only-of-type {\n",
       "        vertical-align: middle;\n",
       "    }\n",
       "\n",
       "    .dataframe tbody tr th {\n",
       "        vertical-align: top;\n",
       "    }\n",
       "\n",
       "    .dataframe thead th {\n",
       "        text-align: right;\n",
       "    }\n",
       "</style>\n",
       "<table border=\"1\" class=\"dataframe\">\n",
       "  <thead>\n",
       "    <tr style=\"text-align: right;\">\n",
       "      <th></th>\n",
       "      <th>Number of claims</th>\n",
       "      <th>Total Payment</th>\n",
       "    </tr>\n",
       "  </thead>\n",
       "  <tbody>\n",
       "    <tr>\n",
       "      <th>0</th>\n",
       "      <td>108</td>\n",
       "      <td>3925</td>\n",
       "    </tr>\n",
       "  </tbody>\n",
       "</table>\n",
       "</div>"
      ],
      "text/plain": [
       "   Number of claims   Total Payment\n",
       "0               108            3925"
      ]
     },
     "execution_count": 10,
     "metadata": {},
     "output_type": "execute_result"
    }
   ],
   "source": [
    "data.head(1)"
   ]
  },
  {
   "cell_type": "code",
   "execution_count": 11,
   "id": "57a6db33",
   "metadata": {},
   "outputs": [
    {
     "data": {
      "text/html": [
       "<div>\n",
       "<style scoped>\n",
       "    .dataframe tbody tr th:only-of-type {\n",
       "        vertical-align: middle;\n",
       "    }\n",
       "\n",
       "    .dataframe tbody tr th {\n",
       "        vertical-align: top;\n",
       "    }\n",
       "\n",
       "    .dataframe thead th {\n",
       "        text-align: right;\n",
       "    }\n",
       "</style>\n",
       "<table border=\"1\" class=\"dataframe\">\n",
       "  <thead>\n",
       "    <tr style=\"text-align: right;\">\n",
       "      <th></th>\n",
       "      <th>Number of claims</th>\n",
       "      <th>Total Payment</th>\n",
       "    </tr>\n",
       "  </thead>\n",
       "  <tbody>\n",
       "    <tr>\n",
       "      <th>62</th>\n",
       "      <td>26</td>\n",
       "      <td>1875</td>\n",
       "    </tr>\n",
       "  </tbody>\n",
       "</table>\n",
       "</div>"
      ],
      "text/plain": [
       "    Number of claims   Total Payment\n",
       "62                26            1875"
      ]
     },
     "execution_count": 11,
     "metadata": {},
     "output_type": "execute_result"
    }
   ],
   "source": [
    "data.tail(1)"
   ]
  },
  {
   "cell_type": "code",
   "execution_count": 12,
   "id": "32c4d039",
   "metadata": {},
   "outputs": [
    {
     "data": {
      "text/html": [
       "<div>\n",
       "<style scoped>\n",
       "    .dataframe tbody tr th:only-of-type {\n",
       "        vertical-align: middle;\n",
       "    }\n",
       "\n",
       "    .dataframe tbody tr th {\n",
       "        vertical-align: top;\n",
       "    }\n",
       "\n",
       "    .dataframe thead th {\n",
       "        text-align: right;\n",
       "    }\n",
       "</style>\n",
       "<table border=\"1\" class=\"dataframe\">\n",
       "  <thead>\n",
       "    <tr style=\"text-align: right;\">\n",
       "      <th></th>\n",
       "      <th>Number of claims</th>\n",
       "    </tr>\n",
       "  </thead>\n",
       "  <tbody>\n",
       "    <tr>\n",
       "      <th>0</th>\n",
       "      <td>108</td>\n",
       "    </tr>\n",
       "    <tr>\n",
       "      <th>1</th>\n",
       "      <td>19</td>\n",
       "    </tr>\n",
       "    <tr>\n",
       "      <th>2</th>\n",
       "      <td>13</td>\n",
       "    </tr>\n",
       "  </tbody>\n",
       "</table>\n",
       "</div>"
      ],
      "text/plain": [
       "   Number of claims\n",
       "0               108\n",
       "1                19\n",
       "2                13"
      ]
     },
     "execution_count": 12,
     "metadata": {},
     "output_type": "execute_result"
    }
   ],
   "source": [
    "x=data.iloc[:,:-1]\n",
    "x.head(3)"
   ]
  },
  {
   "cell_type": "code",
   "execution_count": 15,
   "id": "4dc8fbd2",
   "metadata": {},
   "outputs": [
    {
     "data": {
      "text/html": [
       "<div>\n",
       "<style scoped>\n",
       "    .dataframe tbody tr th:only-of-type {\n",
       "        vertical-align: middle;\n",
       "    }\n",
       "\n",
       "    .dataframe tbody tr th {\n",
       "        vertical-align: top;\n",
       "    }\n",
       "\n",
       "    .dataframe thead th {\n",
       "        text-align: right;\n",
       "    }\n",
       "</style>\n",
       "<table border=\"1\" class=\"dataframe\">\n",
       "  <thead>\n",
       "    <tr style=\"text-align: right;\">\n",
       "      <th></th>\n",
       "      <th>Total Payment</th>\n",
       "    </tr>\n",
       "  </thead>\n",
       "  <tbody>\n",
       "    <tr>\n",
       "      <th>0</th>\n",
       "      <td>3925</td>\n",
       "    </tr>\n",
       "    <tr>\n",
       "      <th>1</th>\n",
       "      <td>462</td>\n",
       "    </tr>\n",
       "    <tr>\n",
       "      <th>2</th>\n",
       "      <td>157</td>\n",
       "    </tr>\n",
       "  </tbody>\n",
       "</table>\n",
       "</div>"
      ],
      "text/plain": [
       "    Total Payment\n",
       "0            3925\n",
       "1             462\n",
       "2             157"
      ]
     },
     "execution_count": 15,
     "metadata": {},
     "output_type": "execute_result"
    }
   ],
   "source": [
    "y=data.iloc[:,-1:]\n",
    "y.head(3)"
   ]
  },
  {
   "cell_type": "code",
   "execution_count": 16,
   "id": "ad5160c3",
   "metadata": {},
   "outputs": [
    {
     "data": {
      "text/plain": [
       "pandas.core.frame.DataFrame"
      ]
     },
     "execution_count": 16,
     "metadata": {},
     "output_type": "execute_result"
    }
   ],
   "source": [
    "type(x)"
   ]
  },
  {
   "cell_type": "code",
   "execution_count": 17,
   "id": "c6e4895a",
   "metadata": {},
   "outputs": [
    {
     "data": {
      "text/plain": [
       "pandas.core.frame.DataFrame"
      ]
     },
     "execution_count": 17,
     "metadata": {},
     "output_type": "execute_result"
    }
   ],
   "source": [
    "type(y)"
   ]
  },
  {
   "cell_type": "code",
   "execution_count": 18,
   "id": "089f5649",
   "metadata": {},
   "outputs": [
    {
     "name": "stdout",
     "output_type": "stream",
     "text": [
      "<class 'numpy.ndarray'> <class 'numpy.ndarray'>\n"
     ]
    }
   ],
   "source": [
    "a=data.iloc[:,:-1].values\n",
    "b=data.iloc[:,-1].values\n",
    "print(type(a),type(b))"
   ]
  },
  {
   "cell_type": "code",
   "execution_count": 19,
   "id": "ec1805f1",
   "metadata": {},
   "outputs": [
    {
     "data": {
      "text/plain": [
       "array([3925,  462,  157, 4222, 1194, 1709,  569,  775,  214,  653,  209,\n",
       "       2481,  235,  396,  488,   66, 1349,  509,   44,  113,  148,  487,\n",
       "        521,  132, 1039,  775,  118,  981,  279,  381,    0,  692,  146,\n",
       "        403, 1615,  572, 2176,  581,  126,  596,  899, 2024, 1813, 1528,\n",
       "       1628,  734,  213,  926,  761,  399, 1421,   93,  319,  321,  556,\n",
       "       1333, 1945, 1379,  874, 2098,  955, 2446, 1875], dtype=int64)"
      ]
     },
     "execution_count": 19,
     "metadata": {},
     "output_type": "execute_result"
    }
   ],
   "source": [
    "b"
   ]
  },
  {
   "cell_type": "code",
   "execution_count": 20,
   "id": "da60910a",
   "metadata": {},
   "outputs": [
    {
     "data": {
      "text/html": [
       "<div>\n",
       "<style scoped>\n",
       "    .dataframe tbody tr th:only-of-type {\n",
       "        vertical-align: middle;\n",
       "    }\n",
       "\n",
       "    .dataframe tbody tr th {\n",
       "        vertical-align: top;\n",
       "    }\n",
       "\n",
       "    .dataframe thead th {\n",
       "        text-align: right;\n",
       "    }\n",
       "</style>\n",
       "<table border=\"1\" class=\"dataframe\">\n",
       "  <thead>\n",
       "    <tr style=\"text-align: right;\">\n",
       "      <th></th>\n",
       "      <th>Number of claims</th>\n",
       "      <th>Total Payment</th>\n",
       "    </tr>\n",
       "  </thead>\n",
       "  <tbody>\n",
       "    <tr>\n",
       "      <th>Number of claims</th>\n",
       "      <td>1.000000</td>\n",
       "      <td>0.880668</td>\n",
       "    </tr>\n",
       "    <tr>\n",
       "      <th>Total Payment</th>\n",
       "      <td>0.880668</td>\n",
       "      <td>1.000000</td>\n",
       "    </tr>\n",
       "  </tbody>\n",
       "</table>\n",
       "</div>"
      ],
      "text/plain": [
       "                  Number of claims   Total Payment\n",
       "Number of claims          1.000000        0.880668\n",
       " Total Payment            0.880668        1.000000"
      ]
     },
     "execution_count": 20,
     "metadata": {},
     "output_type": "execute_result"
    }
   ],
   "source": [
    "data.corr()"
   ]
  },
  {
   "cell_type": "code",
   "execution_count": 24,
   "id": "533cf26b",
   "metadata": {},
   "outputs": [
    {
     "data": {
      "image/png": "[encoded data removed]",
      "text/plain": [
       "<Figure size 640x480 with 1 Axes>"
      ]
     },
     "metadata": {},
     "output_type": "display_data"
    }
   ],
   "source": [
    "plt.scatter(x,y)\n",
    "plt.title('Swedish Automobile Insurance')\n",
    "plt.xlabel('Number of claims')\n",
    "plt.ylabel('Total Payment')\n",
    "plt.show()"
   ]
  },
  {
   "cell_type": "code",
   "execution_count": 25,
   "id": "0aa2d4d1",
   "metadata": {},
   "outputs": [
    {
     "ename": "NameError",
     "evalue": "name 'lin_reg' is not defined",
     "output_type": "error",
     "traceback": [
      "\u001b[1;31m---------------------------------------------------------------------------\u001b[0m",
      "\u001b[1;31mNameError\u001b[0m                                 Traceback (most recent call last)",
      "Cell \u001b[1;32mIn[25], line 3\u001b[0m\n\u001b[0;32m      1\u001b[0m \u001b[38;5;28;01mimport\u001b[39;00m \u001b[38;5;21;01mpickle\u001b[39;00m\n\u001b[0;32m      2\u001b[0m \u001b[38;5;28;01mwith\u001b[39;00m \u001b[38;5;28mopen\u001b[39m(\u001b[38;5;124m'\u001b[39m\u001b[38;5;124mmodel_pkl\u001b[39m\u001b[38;5;124m'\u001b[39m,\u001b[38;5;124m'\u001b[39m\u001b[38;5;124mwb\u001b[39m\u001b[38;5;124m'\u001b[39m)\u001b[38;5;28;01mas\u001b[39;00m file:\n\u001b[1;32m----> 3\u001b[0m     pickle\u001b[38;5;241m.\u001b[39mdump(lin_reg,file)\n",
      "\u001b[1;31mNameError\u001b[0m: name 'lin_reg' is not defined"
     ]
    }
   ],
   "source": [
    "import pickle\n",
    "with open('model_pkl','wb')as file:\n",
    "    pickle.dump(lin_reg,file)"
   ]
  },
  {
   "cell_type": "code",
   "execution_count": 26,
   "id": "4142c5f0",
   "metadata": {},
   "outputs": [
    {
     "ename": "UnsupportedOperation",
     "evalue": "read",
     "output_type": "error",
     "traceback": [
      "\u001b[1;31m---------------------------------------------------------------------------\u001b[0m",
      "\u001b[1;31mUnsupportedOperation\u001b[0m                      Traceback (most recent call last)",
      "Cell \u001b[1;32mIn[26], line 2\u001b[0m\n\u001b[0;32m      1\u001b[0m \u001b[38;5;28;01mwith\u001b[39;00m \u001b[38;5;28mopen\u001b[39m(\u001b[38;5;124m'\u001b[39m\u001b[38;5;124mmodel_pkl\u001b[39m\u001b[38;5;124m'\u001b[39m,\u001b[38;5;124m'\u001b[39m\u001b[38;5;124mwb\u001b[39m\u001b[38;5;124m'\u001b[39m)\u001b[38;5;28;01mas\u001b[39;00m f:\n\u001b[1;32m----> 2\u001b[0m     deploy_lr\u001b[38;5;241m=\u001b[39mpickle\u001b[38;5;241m.\u001b[39mload(f)\n",
      "\u001b[1;31mUnsupportedOperation\u001b[0m: read"
     ]
    }
   ],
   "source": [
    "with open('model_pkl','wb')as f:\n",
    "    deploy_lr=pickle.load(f)"
   ]
  },
  {
   "cell_type": "code",
   "execution_count": 28,
   "id": "3ca14dc2",
   "metadata": {},
   "outputs": [],
   "source": [
    "import pandas as pd\n",
    "\n",
    "# Assuming your dataset is in a CSV file, you can load it like this:\n",
    "data = pd.read_csv('Housing.csv')\n",
    "\n",
    "# You can also load from other file formats like Excel, SQL databases, etc.\n"
   ]
  },
  {
   "cell_type": "code",
   "execution_count": 1,
   "id": "d46ae678",
   "metadata": {},
   "outputs": [],
   "source": [
    "import pandas as pd\n",
    "\n",
    "# Assuming your dataset is in a CSV file, you can load it like this:\n",
    "data = pd.read_csv('Housing.csv')\n"
   ]
  },
  {
   "cell_type": "code",
   "execution_count": 2,
   "id": "e8dc1b26",
   "metadata": {},
   "outputs": [],
   "source": [
    "from sklearn.model_selection import train_test_split\n",
    "\n",
    "X = data[['area']]  # Independent variable\n",
    "y = data['price']      # Dependent variable\n",
    "\n",
    "X_train, X_test, y_train, y_test = train_test_split(X, y, test_size=0.2, random_state=42)"
   ]
  },
  {
   "cell_type": "code",
   "execution_count": 29,
   "id": "eda240de",
   "metadata": {},
   "outputs": [
    {
     "name": "stdout",
     "output_type": "stream",
     "text": [
      "      price  area  bedrooms  bathrooms  stories mainroad guestroom basement  \\\n",
      "0  13300000  7420         4          2        3      yes        no       no   \n",
      "1  12250000  8960         4          4        4      yes        no       no   \n",
      "2  12250000  9960         3          2        2      yes        no      yes   \n",
      "3  12215000  7500         4          2        2      yes        no      yes   \n",
      "4  11410000  7420         4          1        2      yes       yes      yes   \n",
      "\n",
      "  hotwaterheating airconditioning  parking prefarea furnishingstatus  \n",
      "0              no             yes        2      yes        furnished  \n",
      "1              no             yes        3       no        furnished  \n",
      "2              no              no        2      yes   semi-furnished  \n",
      "3              no             yes        3      yes        furnished  \n",
      "4              no             yes        2       no        furnished  \n"
     ]
    }
   ],
   "source": [
    "print(data.head())"
   ]
  },
  {
   "cell_type": "code",
   "execution_count": 30,
   "id": "0c92b8a0",
   "metadata": {},
   "outputs": [
    {
     "name": "stdout",
     "output_type": "stream",
     "text": [
      "<class 'pandas.core.frame.DataFrame'>\n",
      "RangeIndex: 545 entries, 0 to 544\n",
      "Data columns (total 13 columns):\n",
      " #   Column            Non-Null Count  Dtype \n",
      "---  ------            --------------  ----- \n",
      " 0   price             545 non-null    int64 \n",
      " 1   area              545 non-null    int64 \n",
      " 2   bedrooms          545 non-null    int64 \n",
      " 3   bathrooms         545 non-null    int64 \n",
      " 4   stories           545 non-null    int64 \n",
      " 5   mainroad          545 non-null    object\n",
      " 6   guestroom         545 non-null    object\n",
      " 7   basement          545 non-null    object\n",
      " 8   hotwaterheating   545 non-null    object\n",
      " 9   airconditioning   545 non-null    object\n",
      " 10  parking           545 non-null    int64 \n",
      " 11  prefarea          545 non-null    object\n",
      " 12  furnishingstatus  545 non-null    object\n",
      "dtypes: int64(6), object(7)\n",
      "memory usage: 55.5+ KB\n",
      "None\n"
     ]
    }
   ],
   "source": [
    "print(data.info())"
   ]
  },
  {
   "cell_type": "code",
   "execution_count": 31,
   "id": "9d20bec4",
   "metadata": {},
   "outputs": [
    {
     "name": "stdout",
     "output_type": "stream",
     "text": [
      "              price          area    bedrooms   bathrooms     stories  \\\n",
      "count  5.450000e+02    545.000000  545.000000  545.000000  545.000000   \n",
      "mean   4.766729e+06   5150.541284    2.965138    1.286239    1.805505   \n",
      "std    1.870440e+06   2170.141023    0.738064    0.502470    0.867492   \n",
      "min    1.750000e+06   1650.000000    1.000000    1.000000    1.000000   \n",
      "25%    3.430000e+06   3600.000000    2.000000    1.000000    1.000000   \n",
      "50%    4.340000e+06   4600.000000    3.000000    1.000000    2.000000   \n",
      "75%    5.740000e+06   6360.000000    3.000000    2.000000    2.000000   \n",
      "max    1.330000e+07  16200.000000    6.000000    4.000000    4.000000   \n",
      "\n",
      "          parking  \n",
      "count  545.000000  \n",
      "mean     0.693578  \n",
      "std      0.861586  \n",
      "min      0.000000  \n",
      "25%      0.000000  \n",
      "50%      0.000000  \n",
      "75%      1.000000  \n",
      "max      3.000000  \n"
     ]
    }
   ],
   "source": [
    "print(data.describe())"
   ]
  },
  {
   "cell_type": "code",
   "execution_count": 32,
   "id": "eda12608",
   "metadata": {},
   "outputs": [
    {
     "name": "stdout",
     "output_type": "stream",
     "text": [
      "      price  area  bedrooms  bathrooms  stories mainroad guestroom basement  \\\n",
      "0  13300000  7420         4          2        3      yes        no       no   \n",
      "1  12250000  8960         4          4        4      yes        no       no   \n",
      "2  12250000  9960         3          2        2      yes        no      yes   \n",
      "3  12215000  7500         4          2        2      yes        no      yes   \n",
      "4  11410000  7420         4          1        2      yes       yes      yes   \n",
      "\n",
      "  hotwaterheating airconditioning  parking prefarea furnishingstatus  \n",
      "0              no             yes        2      yes        furnished  \n",
      "1              no             yes        3       no        furnished  \n",
      "2              no              no        2      yes   semi-furnished  \n",
      "3              no             yes        3      yes        furnished  \n",
      "4              no             yes        2       no        furnished  \n",
      "<class 'pandas.core.frame.DataFrame'>\n",
      "RangeIndex: 545 entries, 0 to 544\n",
      "Data columns (total 13 columns):\n",
      " #   Column            Non-Null Count  Dtype \n",
      "---  ------            --------------  ----- \n",
      " 0   price             545 non-null    int64 \n",
      " 1   area              545 non-null    int64 \n",
      " 2   bedrooms          545 non-null    int64 \n",
      " 3   bathrooms         545 non-null    int64 \n",
      " 4   stories           545 non-null    int64 \n",
      " 5   mainroad          545 non-null    object\n",
      " 6   guestroom         545 non-null    object\n",
      " 7   basement          545 non-null    object\n",
      " 8   hotwaterheating   545 non-null    object\n",
      " 9   airconditioning   545 non-null    object\n",
      " 10  parking           545 non-null    int64 \n",
      " 11  prefarea          545 non-null    object\n",
      " 12  furnishingstatus  545 non-null    object\n",
      "dtypes: int64(6), object(7)\n",
      "memory usage: 55.5+ KB\n",
      "None\n",
      "              price          area    bedrooms   bathrooms     stories  \\\n",
      "count  5.450000e+02    545.000000  545.000000  545.000000  545.000000   \n",
      "mean   4.766729e+06   5150.541284    2.965138    1.286239    1.805505   \n",
      "std    1.870440e+06   2170.141023    0.738064    0.502470    0.867492   \n",
      "min    1.750000e+06   1650.000000    1.000000    1.000000    1.000000   \n",
      "25%    3.430000e+06   3600.000000    2.000000    1.000000    1.000000   \n",
      "50%    4.340000e+06   4600.000000    3.000000    1.000000    2.000000   \n",
      "75%    5.740000e+06   6360.000000    3.000000    2.000000    2.000000   \n",
      "max    1.330000e+07  16200.000000    6.000000    4.000000    4.000000   \n",
      "\n",
      "          parking  \n",
      "count  545.000000  \n",
      "mean     0.693578  \n",
      "std      0.861586  \n",
      "min      0.000000  \n",
      "25%      0.000000  \n",
      "50%      0.000000  \n",
      "75%      1.000000  \n",
      "max      3.000000  \n"
     ]
    }
   ],
   "source": [
    "# Display the first few rows of the dataset\n",
    "print(data.head())\n",
    "\n",
    "# Get a summary of the dataset\n",
    "print(data.info())\n",
    "\n",
    "# Get summary statistics of numerical columns\n",
    "print(data.describe())\n"
   ]
  },
  {
   "cell_type": "code",
   "execution_count": 33,
   "id": "288aa5f7",
   "metadata": {},
   "outputs": [
    {
     "ename": "TypeError",
     "evalue": "Could not convert ['yesyesyesyesyesyesyesyesyesyesyesyesyesyesyesyesyesyesyesyesyesyesyesyesyesyesyesyesyesyesyesyesyesyesyesyesyesyesyesyesyesyesyesyesyesyesyesyesyesyesyesyesyesyesyesyesyesyesyesyesyesyesyesyesyesyesyesyesyesyesyesyesyesyesyesyesyesyesyesyesyesyesyesyesyesyesyesyesyesyesyesyesyesyesyesyesyesyesyesyesyesyesyesyesyesyesyesyesyesyesyesyesyesyesyesyesyesyesyesyesyesyesyesyesyesyesyesyesyesyesyesyesyesyesyesyesyesyesyesyesyesyesyesnoyesyesyesyesyesyesyesyesyesyesyesyesyesnoyesyesyesyesyesyesyesyesyesyesyesnoyesyesyesyesyesyesyesyesyesyesnoyesnoyesyesyesyesyesyesnoyesyesyesyesyesyesyesnoyesyesyesnoyesyesyesyesyesyesyesyesyesyesyesyesyesyesyesyesyesyesyesyesyesyesyesyesyesyesyesyesyesyesyesyesyesyesyesyesyesyesyesyesyesyesyesyesyesyesyesyesyesyesyesyesyesyesyesyesyesyesyesyesyesnoyesyesyesyesyesyesyesnoyesyesyesyesyesyesyesyesyesyesnoyesyesyesyesyesyesyesnoyesnonononoyesyesyesyesyesyesyesyesyesyesyesyesyesyesyesyesyesyesyesyesnoyesyesyesyesyesyesyesnoyesnononoyesyesyesyesyesyesyesyesyesyesyesyesyesyesyesyesyesyesyesnoyesyesyesyesyesyesyesnonoyesyesyesyesyesyesnoyesyesyesnoyesyesyesnoyesyesyesyesnoyesyesyesyesyesyesnoyesyesyesyesyesnoyesyesnonoyesyesyesyesyesyesyesyesyesnoyesyesyesyesyesyesyesyesyesyesyesyesyesyesnoyesyesnoyesnoyesnoyesyesyesnoyesyesnoyesyesyesyesnonoyesyesyesnonoyesnonoyesnoyesyesyesyesyesyesyesnoyesyesyesyesnoyesyesyesnoyesyesyesnoyesyesyesnoyesyesyesnononononoyesnoyesyesyesyesnononoyesyesyesyesyesyesyesnoyesnoyesyesyesyesnoyesyesyesnonoyesyesnoyesnoyesyesyesyesnoyesyesyesyesyesnonoyesnononoyesyesyesnoyesyesnoyesnoyesnoyes'\n 'nonononoyesnononoyesyesnoyesnonononoyesnoyesnonoyesyesyesnoyesyesnonononononoyesyesnononoyesnonononononononononoyesnonoyesnoyesnonoyesyesyesyesnononononononononononononononononoyesyesnonononononononoyesnonoyesyesnonononoyesnoyesnonoyesyesyesnonononoyesyesnononoyesyesyesyesnonoyesyesnonononononoyesnoyesyesnononononononoyesnoyesnonoyesnononononoyesnoyesnononoyesyesnoyesyesyesyesyesyesyesnonononononoyesnoyesyesnonoyesnonoyesnonoyesnonononoyesnoyesyesyesyesnoyesnonononoyesnonoyesnoyesnononoyesnonononononononononononononononononoyesnononoyesnoyesyesnononononononoyesnononoyesyesnonononononononononononoyesnononononononononoyesnononononononononoyesnonoyesnononoyesnonononononononononononononononononononononononononononononononononononononononoyesyesyesnononononoyesnononononononoyesnonononononononononononononononononononononononononononoyesnononononononononononononononononononononononononononononononononononononononoyesnonononononononononononononononoyesnononononononononononononoyesnonononononononononononononononoyesnononononononononononononononononononononononononononononononononononoyesnonononononononononononononononoyesnoyesnononononononononononononononononononononononononono'\n 'nonoyesyesyesyesnonoyesnoyesyesnononoyesyesnononoyesyesyesyesnoyesyesnoyesyesnononoyesyesnononononoyesnononononononoyesyesnonononononoyesnononononononoyesyesyesnononoyesnonoyesyesnononoyesnonoyesyesnononoyesyesyesnonoyesnoyesnonoyesyesnoyesyesnononoyesnoyesyesnonoyesnonoyesyesyesyesnoyesyesyesyesyesnononoyesnononoyesnononoyesnonononoyesnoyesnoyesyesnonononoyesyesnoyesyesnoyesyesyesnoyesnonoyesyesyesyesyesnoyesnoyesnoyesnoyesnonoyesyesnoyesyesnonoyesyesnoyesnoyesnoyesyesyesyesyesyesyesnonoyesyesyesnoyesnoyesyesnonoyesnoyesyesyesnonononoyesyesnoyesyesnononoyesnoyesnonoyesyesyesnoyesyesyesnonononoyesyesnononoyesyesnoyesnononononononoyesnonoyesnoyesnonononononoyesyesnonoyesnonoyesnononoyesnononoyesnoyesyesnoyesnononononoyesnononononoyesyesnononoyesnoyesyesyesnononoyesnonoyesnonoyesnoyesnoyesnoyesnoyesyesyesnonoyesnoyesyesnonoyesnononoyesnonoyesnononononononoyesnononononononoyesnoyesnonononoyesyesnoyesyesnoyesnonononoyesyesnononononononoyesnonononononononononononononononononononoyesyesnoyesyesnononononononoyesyesnoyesnononoyesyesnononoyesnononoyesnononononoyesyesnoyesyesnonononoyesnononononoyesyesyesnonononononononononononoyesnononononononononononononononoyesnonononononononononononononononoyesnononononoyesnononononononononononoyesnoyesnonononononononononoyesnononono'\n 'nononononononononononoyesnoyesnonononononoyesnononononononoyesnononononononoyesnononononononononononononononononononononononononononononoyesnononononononoyesyesnonononoyesnononoyesnonononononononononononononononononononononononoyesnononononononononononononononononononononononononononononononononoyesnononononononononononononononononononononoyesnonononononononononononononononononononononononononononononoyesnononononononononononononononononononononononononononononononononononononononononononononononononononononononononononononononononononononononononoyesnononononononononononononononononononononononononononoyesnonononononononononononononononononononononoyesnonononononononononononoyesnononononononononononononononoyesnonononononononononononoyesyesnononononononononononononoyesnononononononononononononononononononononononononononononononononononononononononononononononononononononononononononononononononononononononononononononononononononononoyesnononononononononononononononononononononononononoyesnononononononononononononononononononononononononononononononononononononononoyesnononononononononononononono'\n 'yesyesnoyesyesyesyesnoyesyesyesnoyesnononoyesyesyesyesnoyesyesyesyesyesyesnonoyesyesyesyesnoyesyesnoyesyesyesyesyesyesnoyesyesyesyesnoyesnoyesyesyesyesyesnoyesyesyesnoyesyesyesyesyesnonoyesnoyesyesyesnononoyesyesyesyesnoyesyesyesnoyesnonoyesnoyesnoyesyesnoyesnoyesyesnoyesnoyesyesnoyesyesnonononoyesnononoyesnoyesyesyesnoyesnononoyesnoyesyesnononoyesyesnoyesyesnoyesyesyesnononoyesnononononoyesyesyesnonononononoyesyesyesnoyesnonoyesyesyesyesnonoyesyesnonoyesnononoyesnoyesnonononoyesyesnoyesnonononononoyesyesnoyesyesnononoyesyesyesnonononoyesnonononoyesyesnoyesnoyesyesyesyesyesyesnononononoyesnoyesnonononononoyesnononononononononononoyesyesnononoyesyesnononononononoyesnonononononononononononoyesyesnonononoyesyesnonoyesnonononoyesnonononononononononononoyesnonoyesnonoyesnononoyesnonoyesnoyesyesnoyesyesnonononononoyesyesnononononoyesnononononononononononononoyesnonononononononononoyesnonoyesnonoyesnonononoyesnonononononononoyesnonononononoyesnonononononononononononononononononononoyesnonoyesnononoyesnononononononoyesyesnonononononononononoyesnononononononononononoyesnonoyesnononoyesnonononononononononononononononononononononononononononononononononononononononononoyesyesnononononononononononononononononononononononononoyesnonononononononononononono'\n 'yesnoyesyesnoyesyesnoyesyesyesnoyesnoyesnoyesnonoyesnononononoyesyesnonoyesnonoyesnononoyesnononoyesyesnononononoyesnoyesyesnononononoyesyesnononononoyesyesnonononoyesyesnoyesyesnonoyesyesyesnoyesnoyesnononoyesnoyesnonoyesnonononoyesyesyesyesyesyesnonoyesnoyesyesnonoyesnonoyesnoyesyesnoyesyesyesyesyesnononoyesnonoyesnonononoyesnonononoyesnoyesnonononononoyesyesyesyesyesnonoyesyesnonononoyesyesyesyesnoyesnonononoyesyesyesyesnonoyesyesnonoyesnoyesnonoyesyesyesnononoyesnononononononononononononononononononononononoyesyesyesnononononoyesnononononoyesyesnonononoyesnononoyesnononoyesyesyesnonoyesnononoyesnononononononononononoyesyesnonononononononononoyesyesnononononononoyesnonononononononononononononoyesyesnononononononononoyesnononononononoyesnononononononononoyesnonononononoyesnononononononoyesyesnonononononoyesnonononoyesnonononononononononononononononononoyesyesyesnoyesnonononononononononononononononononoyesyesnonononoyesyesnononoyesyesyesnononononononononononononoyesnonononononononoyesnononononononononononononononononononoyesnonononononononononononononononononononononononononononononononononononononononononononononononononononononononononononononononononononononononononoyesnonononononononononononono'\n 'furnishedfurnishedsemi-furnishedfurnishedfurnishedsemi-furnishedsemi-furnishedunfurnishedfurnishedunfurnishedfurnishedsemi-furnishedsemi-furnishedfurnishedsemi-furnishedsemi-furnishedunfurnishedfurnishedfurnishedsemi-furnishedsemi-furnishedunfurnishedfurnishedfurnishedfurnishedfurnishedsemi-furnishedsemi-furnishedunfurnishedsemi-furnishedunfurnishedsemi-furnishedfurnishedunfurnishedfurnishedfurnishedfurnishedfurnishedunfurnishedsemi-furnishedfurnishedfurnishedunfurnishedsemi-furnishedfurnishedsemi-furnishedfurnishedfurnishedunfurnishedsemi-furnishedunfurnishedunfurnishedfurnishedsemi-furnishedsemi-furnishedunfurnishedsemi-furnishedfurnishedsemi-furnishedfurnishedsemi-furnishedsemi-furnishedfurnishedfurnishedfurnishedfurnishedfurnishedunfurnishedfurnishedfurnishedsemi-furnishedunfurnishedunfurnishedfurnishedfurnishedsemi-furnishedfurnishedfurnishedfurnishedfurnishedsemi-furnishedsemi-furnishedfurnishedsemi-furnishedsemi-furnishedfurnishedunfurnishedsemi-furnishedunfurnishedfurnishedsemi-furnishedfurnishedfurnishedsemi-furnishedsemi-furnishedsemi-furnishedfurnishedsemi-furnishedunfurnishedunfurnishedunfurnishedunfurnishedsemi-furnishedfurnishedfurnishedunfurnishedsemi-furnishedunfurnishedsemi-furnishedsemi-furnishedsemi-furnishedunfurnishedfurnishedfurnishedfurnishedsemi-furnishedunfurnishedfurnishedfurnishedsemi-furnishedfurnishedsemi-furnishedsemi-furnishedfurnishedfurnishedsemi-furnishedunfurnishedunfurnishedfurnishedsemi-furnishedunfurnishedsemi-furnishedsemi-furnishedunfurnishedsemi-furnishedunfurnishedunfurnishedsemi-furnishedsemi-furnishedfurnishedunfurnishedsemi-furnishedsemi-furnishedunfurnishedfurnishedfurnishedsemi-furnishedsemi-furnishedsemi-furnishedsemi-furnishedunfurnishedsemi-furnishedfurnishedsemi-furnishedsemi-furnishedfurnishedsemi-furnishedfurnishedsemi-furnishedfurnishedfurnishedsemi-furnishedsemi-furnishedsemi-furnishedfurnishedunfurnishedunfurnishedsemi-furnishedfurnishedsemi-furnishedsemi-furnishedsemi-furnishedunfurnishedunfurnishedunfurnishedsemi-furnishedfurnishedsemi-furnishedsemi-furnishedsemi-furnishedsemi-furnishedfurnishedsemi-furnishedsemi-furnishedfurnishedunfurnishedfurnishedsemi-furnishedunfurnishedsemi-furnishedfurnishedsemi-furnishedfurnishedsemi-furnishedsemi-furnishedsemi-furnishedsemi-furnishedsemi-furnishedsemi-furnishedfurnishedsemi-furnishedsemi-furnishedsemi-furnishedsemi-furnishedsemi-furnishedsemi-furnishedsemi-furnishedsemi-furnishedsemi-furnishedunfurnishedsemi-furnishedfurnishedsemi-furnishedsemi-furnishedunfurnishedunfurnishedsemi-furnishedfurnishedsemi-furnishedunfurnishedsemi-furnishedsemi-furnishedsemi-furnishedfurnishedunfurnishedsemi-furnishedsemi-furnishedfurnishedsemi-furnishedsemi-furnishedsemi-furnishedsemi-furnishedfurnishedunfurnishedsemi-furnishedsemi-furnishedsemi-furnishedsemi-furnishedsemi-furnishedfurnishedsemi-furnishedsemi-furnishedfurnishedfurnishedsemi-furnishedunfurnishedsemi-furnishedunfurnishedsemi-furnishedfurnishedsemi-furnishedsemi-furnishedsemi-furnishedfurnishedsemi-furnishedunfurnishedfurnishedfurnishedsemi-furnishedfurnishedfurnishedsemi-furnishedsemi-furnishedsemi-furnishedsemi-furnishedsemi-furnishedunfurnishedsemi-furnishedsemi-furnishedunfurnishedfurnishedsemi-furnishedsemi-furnishedfurnishedsemi-furnishedfurnishedsemi-furnishedsemi-furnishedsemi-furnishedfurnishedunfurnishedfurnishedunfurnishedfurnishedfurnishedsemi-furnishedfurnishedunfurnishedunfurnishedsemi-furnishedsemi-furnishedunfurnishedsemi-furnishedunfurnishedsemi-furnishedsemi-furnishedsemi-furnishedunfurnishedsemi-furnishedfurnishedsemi-furnishedsemi-furnishedunfurnishedfurnishedsemi-furnishedsemi-furnishedsemi-furnishedsemi-furnishedsemi-furnishedsemi-furnishedsemi-furnishedsemi-furnishedfurnishedsemi-furnishedsemi-furnishedsemi-furnishedunfurnishedunfurnishedsemi-furnishedsemi-furnishedfurnishedsemi-furnishedfurnishedsemi-furnishedsemi-furnishedsemi-furnishedunfurnishedsemi-furnishedsemi-furnishedfurnishedunfurnishedfurnishedsemi-furnishedsemi-furnishedfurnishedfurnishedsemi-furnishedunfurnishedsemi-furnishedfurnishedsemi-furnishedsemi-furnishedfurnishedsemi-furnishedsemi-furnishedsemi-furnishedsemi-furnishedunfurnishedsemi-furnishedsemi-furnishedsemi-furnishedsemi-furnishedunfurnishedfurnishedfurnishedfurnishedfurnishedfurnishedsemi-furnishedunfurnishedsemi-furnishedsemi-furnishedfurnishedsemi-furnishedsemi-furnishedfurnishedfurnishedunfurnishedsemi-furnishedfurnishedsemi-furnishedsemi-furnishedsemi-furnishedfurnishedsemi-furnishedunfurnishedsemi-furnishedunfurnishedsemi-furnishedunfurnishedsemi-furnishedsemi-furnishedfurnishedfurnishedfurnishedunfurnishedunfurnishedsemi-furnishedunfurnishedsemi-furnishedunfurnishedsemi-furnishedsemi-furnishedunfurnishedunfurnishedunfurnishedsemi-furnishedfurnishedunfurnishedsemi-furnishedunfurnishedunfurnishedunfurnishedunfurnishedunfurnishedunfurnishedunfurnishedfurnishedunfurnishedunfurnishedunfurnishedfurnishedunfurnishedunfurnishedunfurnishedfurnishedunfurnishedfurnishedunfurnishedsemi-furnishedunfurnishedunfurnishedunfurnishedunfurnishedsemi-furnishedfurnishedfurnishedfurnishedunfurnishedunfurnishedunfurnishedunfurnishedfurnishedsemi-furnishedsemi-furnishedunfurnishedfurnishedunfurnishedsemi-furnishedunfurnishedunfurnishedunfurnishedunfurnishedunfurnishedfurnishedfurnishedunfurnishedsemi-furnishedsemi-furnishedunfurnishedsemi-furnishedsemi-furnishedsemi-furnishedunfurnishedunfurnishedunfurnishedsemi-furnishedunfurnishedunfurnishedunfurnishedunfurnishedunfurnishedsemi-furnishedunfurnishedsemi-furnishedunfurnishedsemi-furnishedsemi-furnishedsemi-furnishedfurnishedunfurnishedunfurnishedsemi-furnishedunfurnishedunfurnishedsemi-furnishedunfurnishedunfurnishedunfurnishedunfurnishedsemi-furnishedfurnishedunfurnishedsemi-furnishedunfurnishedunfurnishedsemi-furnishedunfurnishedunfurnishedsemi-furnishedunfurnishedfurnishedunfurnishedfurnishedunfurnishedunfurnishedunfurnishedunfurnishedsemi-furnishedunfurnishedunfurnishedunfurnishedsemi-furnishedsemi-furnishedunfurnishedunfurnishedunfurnishedunfurnishedunfurnishedfurnishedunfurnishedunfurnishedfurnishedunfurnishedsemi-furnishedunfurnishedunfurnishedunfurnishedunfurnishedunfurnishedunfurnishedunfurnishedfurnishedfurnishedunfurnishedunfurnishedunfurnishedsemi-furnishedunfurnishedunfurnishedunfurnishedunfurnishedunfurnishedunfurnishedunfurnishedunfurnishedunfurnishedunfurnishedunfurnishedunfurnishedunfurnishedsemi-furnishedunfurnishedfurnishedunfurnished'] to numeric",
     "output_type": "error",
     "traceback": [
      "\u001b[1;31m---------------------------------------------------------------------------\u001b[0m",
      "\u001b[1;31mValueError\u001b[0m                                Traceback (most recent call last)",
      "File \u001b[1;32m~\\anaconda3\\Lib\\site-packages\\pandas\\core\\nanops.py:1680\u001b[0m, in \u001b[0;36m_ensure_numeric\u001b[1;34m(x)\u001b[0m\n\u001b[0;32m   1679\u001b[0m \u001b[38;5;28;01mtry\u001b[39;00m:\n\u001b[1;32m-> 1680\u001b[0m     x \u001b[38;5;241m=\u001b[39m x\u001b[38;5;241m.\u001b[39mastype(np\u001b[38;5;241m.\u001b[39mcomplex128)\n\u001b[0;32m   1681\u001b[0m \u001b[38;5;28;01mexcept\u001b[39;00m (\u001b[38;5;167;01mTypeError\u001b[39;00m, \u001b[38;5;167;01mValueError\u001b[39;00m):\n",
      "\u001b[1;31mValueError\u001b[0m: complex() arg is a malformed string",
      "\nDuring handling of the above exception, another exception occurred:\n",
      "\u001b[1;31mValueError\u001b[0m                                Traceback (most recent call last)",
      "File \u001b[1;32m~\\anaconda3\\Lib\\site-packages\\pandas\\core\\nanops.py:1683\u001b[0m, in \u001b[0;36m_ensure_numeric\u001b[1;34m(x)\u001b[0m\n\u001b[0;32m   1682\u001b[0m \u001b[38;5;28;01mtry\u001b[39;00m:\n\u001b[1;32m-> 1683\u001b[0m     x \u001b[38;5;241m=\u001b[39m x\u001b[38;5;241m.\u001b[39mastype(np\u001b[38;5;241m.\u001b[39mfloat64)\n\u001b[0;32m   1684\u001b[0m \u001b[38;5;28;01mexcept\u001b[39;00m \u001b[38;5;167;01mValueError\u001b[39;00m \u001b[38;5;28;01mas\u001b[39;00m err:\n\u001b[0;32m   1685\u001b[0m     \u001b[38;5;66;03m# GH#29941 we get here with object arrays containing strs\u001b[39;00m\n",
      "\u001b[1;31mValueError\u001b[0m: could not convert string to float: 'yesyesyesyesyesyesyesyesyesyesyesyesyesyesyesyesyesyesyesyesyesyesyesyesyesyesyesyesyesyesyesyesyesyesyesyesyesyesyesyesyesyesyesyesyesyesyesyesyesyesyesyesyesyesyesyesyesyesyesyesyesyesyesyesyesyesyesyesyesyesyesyesyesyesyesyesyesyesyesyesyesyesyesyesyesyesyesyesyesyesyesyesyesyesyesyesyesyesyesyesyesyesyesyesyesyesyesyesyesyesyesyesyesyesyesyesyesyesyesyesyesyesyesyesyesyesyesyesyesyesyesyesyesyesyesyesyesyesyesyesyesyesyesnoyesyesyesyesyesyesyesyesyesyesyesyesyesnoyesyesyesyesyesyesyesyesyesyesyesnoyesyesyesyesyesyesyesyesyesyesnoyesnoyesyesyesyesyesyesnoyesyesyesyesyesyesyesnoyesyesyesnoyesyesyesyesyesyesyesyesyesyesyesyesyesyesyesyesyesyesyesyesyesyesyesyesyesyesyesyesyesyesyesyesyesyesyesyesyesyesyesyesyesyesyesyesyesyesyesyesyesyesyesyesyesyesyesyesyesyesyesyesyesnoyesyesyesyesyesyesyesnoyesyesyesyesyesyesyesyesyesyesnoyesyesyesyesyesyesyesnoyesnonononoyesyesyesyesyesyesyesyesyesyesyesyesyesyesyesyesyesyesyesyesnoyesyesyesyesyesyesyesnoyesnononoyesyesyesyesyesyesyesyesyesyesyesyesyesyesyesyesyesyesyesnoyesyesyesyesyesyesyesnonoyesyesyesyesyesyesnoyesyesyesnoyesyesyesnoyesyesyesyesnoyesyesyesyesyesyesnoyesyesyesyesyesnoyesyesnonoyesyesyesyesyesyesyesyesyesnoyesyesyesyesyesyesyesyesyesyesyesyesyesyesnoyesyesnoyesnoyesnoyesyesyesnoyesyesnoyesyesyesyesnonoyesyesyesnonoyesnonoyesnoyesyesyesyesyesyesyesnoyesyesyesyesnoyesyesyesnoyesyesyesnoyesyesyesnoyesyesyesnononononoyesnoyesyesyesyesnononoyesyesyesyesyesyesyesnoyesnoyesyesyesyesnoyesyesyesnonoyesyesnoyesnoyesyesyesyesnoyesyesyesyesyesnonoyesnononoyesyesyesnoyesyesnoyesnoyesnoyes'",
      "\nThe above exception was the direct cause of the following exception:\n",
      "\u001b[1;31mTypeError\u001b[0m                                 Traceback (most recent call last)",
      "Cell \u001b[1;32mIn[33], line 2\u001b[0m\n\u001b[0;32m      1\u001b[0m \u001b[38;5;66;03m# Fill missing values with the mean of the column\u001b[39;00m\n\u001b[1;32m----> 2\u001b[0m data\u001b[38;5;241m.\u001b[39mfillna(data\u001b[38;5;241m.\u001b[39mmean(), inplace\u001b[38;5;241m=\u001b[39m\u001b[38;5;28;01mTrue\u001b[39;00m)\n",
      "File \u001b[1;32m~\\anaconda3\\Lib\\site-packages\\pandas\\core\\generic.py:11556\u001b[0m, in \u001b[0;36mNDFrame._add_numeric_operations.<locals>.mean\u001b[1;34m(self, axis, skipna, numeric_only, **kwargs)\u001b[0m\n\u001b[0;32m  11539\u001b[0m \u001b[38;5;129m@doc\u001b[39m(\n\u001b[0;32m  11540\u001b[0m     _num_doc,\n\u001b[0;32m  11541\u001b[0m     desc\u001b[38;5;241m=\u001b[39m\u001b[38;5;124m\"\u001b[39m\u001b[38;5;124mReturn the mean of the values over the requested axis.\u001b[39m\u001b[38;5;124m\"\u001b[39m,\n\u001b[1;32m   (...)\u001b[0m\n\u001b[0;32m  11554\u001b[0m     \u001b[38;5;241m*\u001b[39m\u001b[38;5;241m*\u001b[39mkwargs,\n\u001b[0;32m  11555\u001b[0m ):\n\u001b[1;32m> 11556\u001b[0m     \u001b[38;5;28;01mreturn\u001b[39;00m NDFrame\u001b[38;5;241m.\u001b[39mmean(\u001b[38;5;28mself\u001b[39m, axis, skipna, numeric_only, \u001b[38;5;241m*\u001b[39m\u001b[38;5;241m*\u001b[39mkwargs)\n",
      "File \u001b[1;32m~\\anaconda3\\Lib\\site-packages\\pandas\\core\\generic.py:11201\u001b[0m, in \u001b[0;36mNDFrame.mean\u001b[1;34m(self, axis, skipna, numeric_only, **kwargs)\u001b[0m\n\u001b[0;32m  11194\u001b[0m \u001b[38;5;28;01mdef\u001b[39;00m \u001b[38;5;21mmean\u001b[39m(\n\u001b[0;32m  11195\u001b[0m     \u001b[38;5;28mself\u001b[39m,\n\u001b[0;32m  11196\u001b[0m     axis: Axis \u001b[38;5;241m|\u001b[39m \u001b[38;5;28;01mNone\u001b[39;00m \u001b[38;5;241m=\u001b[39m \u001b[38;5;241m0\u001b[39m,\n\u001b[1;32m   (...)\u001b[0m\n\u001b[0;32m  11199\u001b[0m     \u001b[38;5;241m*\u001b[39m\u001b[38;5;241m*\u001b[39mkwargs,\n\u001b[0;32m  11200\u001b[0m ) \u001b[38;5;241m-\u001b[39m\u001b[38;5;241m>\u001b[39m Series \u001b[38;5;241m|\u001b[39m \u001b[38;5;28mfloat\u001b[39m:\n\u001b[1;32m> 11201\u001b[0m     \u001b[38;5;28;01mreturn\u001b[39;00m \u001b[38;5;28mself\u001b[39m\u001b[38;5;241m.\u001b[39m_stat_function(\n\u001b[0;32m  11202\u001b[0m         \u001b[38;5;124m\"\u001b[39m\u001b[38;5;124mmean\u001b[39m\u001b[38;5;124m\"\u001b[39m, nanops\u001b[38;5;241m.\u001b[39mnanmean, axis, skipna, numeric_only, \u001b[38;5;241m*\u001b[39m\u001b[38;5;241m*\u001b[39mkwargs\n\u001b[0;32m  11203\u001b[0m     )\n",
      "File \u001b[1;32m~\\anaconda3\\Lib\\site-packages\\pandas\\core\\generic.py:11158\u001b[0m, in \u001b[0;36mNDFrame._stat_function\u001b[1;34m(self, name, func, axis, skipna, numeric_only, **kwargs)\u001b[0m\n\u001b[0;32m  11154\u001b[0m     nv\u001b[38;5;241m.\u001b[39mvalidate_stat_func((), kwargs, fname\u001b[38;5;241m=\u001b[39mname)\n\u001b[0;32m  11156\u001b[0m validate_bool_kwarg(skipna, \u001b[38;5;124m\"\u001b[39m\u001b[38;5;124mskipna\u001b[39m\u001b[38;5;124m\"\u001b[39m, none_allowed\u001b[38;5;241m=\u001b[39m\u001b[38;5;28;01mFalse\u001b[39;00m)\n\u001b[1;32m> 11158\u001b[0m \u001b[38;5;28;01mreturn\u001b[39;00m \u001b[38;5;28mself\u001b[39m\u001b[38;5;241m.\u001b[39m_reduce(\n\u001b[0;32m  11159\u001b[0m     func, name\u001b[38;5;241m=\u001b[39mname, axis\u001b[38;5;241m=\u001b[39maxis, skipna\u001b[38;5;241m=\u001b[39mskipna, numeric_only\u001b[38;5;241m=\u001b[39mnumeric_only\n\u001b[0;32m  11160\u001b[0m )\n",
      "File \u001b[1;32m~\\anaconda3\\Lib\\site-packages\\pandas\\core\\frame.py:10519\u001b[0m, in \u001b[0;36mDataFrame._reduce\u001b[1;34m(self, op, name, axis, skipna, numeric_only, filter_type, **kwds)\u001b[0m\n\u001b[0;32m  10515\u001b[0m     df \u001b[38;5;241m=\u001b[39m df\u001b[38;5;241m.\u001b[39mT\n\u001b[0;32m  10517\u001b[0m \u001b[38;5;66;03m# After possibly _get_data and transposing, we are now in the\u001b[39;00m\n\u001b[0;32m  10518\u001b[0m \u001b[38;5;66;03m#  simple case where we can use BlockManager.reduce\u001b[39;00m\n\u001b[1;32m> 10519\u001b[0m res \u001b[38;5;241m=\u001b[39m df\u001b[38;5;241m.\u001b[39m_mgr\u001b[38;5;241m.\u001b[39mreduce(blk_func)\n\u001b[0;32m  10520\u001b[0m out \u001b[38;5;241m=\u001b[39m df\u001b[38;5;241m.\u001b[39m_constructor(res)\u001b[38;5;241m.\u001b[39miloc[\u001b[38;5;241m0\u001b[39m]\n\u001b[0;32m  10521\u001b[0m \u001b[38;5;28;01mif\u001b[39;00m out_dtype \u001b[38;5;129;01mis\u001b[39;00m \u001b[38;5;129;01mnot\u001b[39;00m \u001b[38;5;28;01mNone\u001b[39;00m:\n",
      "File \u001b[1;32m~\\anaconda3\\Lib\\site-packages\\pandas\\core\\internals\\managers.py:1534\u001b[0m, in \u001b[0;36mBlockManager.reduce\u001b[1;34m(self, func)\u001b[0m\n\u001b[0;32m   1532\u001b[0m res_blocks: \u001b[38;5;28mlist\u001b[39m[Block] \u001b[38;5;241m=\u001b[39m []\n\u001b[0;32m   1533\u001b[0m \u001b[38;5;28;01mfor\u001b[39;00m blk \u001b[38;5;129;01min\u001b[39;00m \u001b[38;5;28mself\u001b[39m\u001b[38;5;241m.\u001b[39mblocks:\n\u001b[1;32m-> 1534\u001b[0m     nbs \u001b[38;5;241m=\u001b[39m blk\u001b[38;5;241m.\u001b[39mreduce(func)\n\u001b[0;32m   1535\u001b[0m     res_blocks\u001b[38;5;241m.\u001b[39mextend(nbs)\n\u001b[0;32m   1537\u001b[0m index \u001b[38;5;241m=\u001b[39m Index([\u001b[38;5;28;01mNone\u001b[39;00m])  \u001b[38;5;66;03m# placeholder\u001b[39;00m\n",
      "File \u001b[1;32m~\\anaconda3\\Lib\\site-packages\\pandas\\core\\internals\\blocks.py:339\u001b[0m, in \u001b[0;36mBlock.reduce\u001b[1;34m(self, func)\u001b[0m\n\u001b[0;32m    333\u001b[0m \u001b[38;5;129m@final\u001b[39m\n\u001b[0;32m    334\u001b[0m \u001b[38;5;28;01mdef\u001b[39;00m \u001b[38;5;21mreduce\u001b[39m(\u001b[38;5;28mself\u001b[39m, func) \u001b[38;5;241m-\u001b[39m\u001b[38;5;241m>\u001b[39m \u001b[38;5;28mlist\u001b[39m[Block]:\n\u001b[0;32m    335\u001b[0m     \u001b[38;5;66;03m# We will apply the function and reshape the result into a single-row\u001b[39;00m\n\u001b[0;32m    336\u001b[0m     \u001b[38;5;66;03m#  Block with the same mgr_locs; squeezing will be done at a higher level\u001b[39;00m\n\u001b[0;32m    337\u001b[0m     \u001b[38;5;28;01massert\u001b[39;00m \u001b[38;5;28mself\u001b[39m\u001b[38;5;241m.\u001b[39mndim \u001b[38;5;241m==\u001b[39m \u001b[38;5;241m2\u001b[39m\n\u001b[1;32m--> 339\u001b[0m     result \u001b[38;5;241m=\u001b[39m func(\u001b[38;5;28mself\u001b[39m\u001b[38;5;241m.\u001b[39mvalues)\n\u001b[0;32m    341\u001b[0m     \u001b[38;5;28;01mif\u001b[39;00m \u001b[38;5;28mself\u001b[39m\u001b[38;5;241m.\u001b[39mvalues\u001b[38;5;241m.\u001b[39mndim \u001b[38;5;241m==\u001b[39m \u001b[38;5;241m1\u001b[39m:\n\u001b[0;32m    342\u001b[0m         \u001b[38;5;66;03m# TODO(EA2D): special case not needed with 2D EAs\u001b[39;00m\n\u001b[0;32m    343\u001b[0m         res_values \u001b[38;5;241m=\u001b[39m np\u001b[38;5;241m.\u001b[39marray([[result]])\n",
      "File \u001b[1;32m~\\anaconda3\\Lib\\site-packages\\pandas\\core\\frame.py:10482\u001b[0m, in \u001b[0;36mDataFrame._reduce.<locals>.blk_func\u001b[1;34m(values, axis)\u001b[0m\n\u001b[0;32m  10480\u001b[0m     \u001b[38;5;28;01mreturn\u001b[39;00m values\u001b[38;5;241m.\u001b[39m_reduce(name, skipna\u001b[38;5;241m=\u001b[39mskipna, \u001b[38;5;241m*\u001b[39m\u001b[38;5;241m*\u001b[39mkwds)\n\u001b[0;32m  10481\u001b[0m \u001b[38;5;28;01melse\u001b[39;00m:\n\u001b[1;32m> 10482\u001b[0m     \u001b[38;5;28;01mreturn\u001b[39;00m op(values, axis\u001b[38;5;241m=\u001b[39maxis, skipna\u001b[38;5;241m=\u001b[39mskipna, \u001b[38;5;241m*\u001b[39m\u001b[38;5;241m*\u001b[39mkwds)\n",
      "File \u001b[1;32m~\\anaconda3\\Lib\\site-packages\\pandas\\core\\nanops.py:96\u001b[0m, in \u001b[0;36mdisallow.__call__.<locals>._f\u001b[1;34m(*args, **kwargs)\u001b[0m\n\u001b[0;32m     94\u001b[0m \u001b[38;5;28;01mtry\u001b[39;00m:\n\u001b[0;32m     95\u001b[0m     \u001b[38;5;28;01mwith\u001b[39;00m np\u001b[38;5;241m.\u001b[39merrstate(invalid\u001b[38;5;241m=\u001b[39m\u001b[38;5;124m\"\u001b[39m\u001b[38;5;124mignore\u001b[39m\u001b[38;5;124m\"\u001b[39m):\n\u001b[1;32m---> 96\u001b[0m         \u001b[38;5;28;01mreturn\u001b[39;00m f(\u001b[38;5;241m*\u001b[39margs, \u001b[38;5;241m*\u001b[39m\u001b[38;5;241m*\u001b[39mkwargs)\n\u001b[0;32m     97\u001b[0m \u001b[38;5;28;01mexcept\u001b[39;00m \u001b[38;5;167;01mValueError\u001b[39;00m \u001b[38;5;28;01mas\u001b[39;00m e:\n\u001b[0;32m     98\u001b[0m     \u001b[38;5;66;03m# we want to transform an object array\u001b[39;00m\n\u001b[0;32m     99\u001b[0m     \u001b[38;5;66;03m# ValueError message to the more typical TypeError\u001b[39;00m\n\u001b[0;32m    100\u001b[0m     \u001b[38;5;66;03m# e.g. this is normally a disallowed function on\u001b[39;00m\n\u001b[0;32m    101\u001b[0m     \u001b[38;5;66;03m# object arrays that contain strings\u001b[39;00m\n\u001b[0;32m    102\u001b[0m     \u001b[38;5;28;01mif\u001b[39;00m is_object_dtype(args[\u001b[38;5;241m0\u001b[39m]):\n",
      "File \u001b[1;32m~\\anaconda3\\Lib\\site-packages\\pandas\\core\\nanops.py:158\u001b[0m, in \u001b[0;36mbottleneck_switch.__call__.<locals>.f\u001b[1;34m(values, axis, skipna, **kwds)\u001b[0m\n\u001b[0;32m    156\u001b[0m         result \u001b[38;5;241m=\u001b[39m alt(values, axis\u001b[38;5;241m=\u001b[39maxis, skipna\u001b[38;5;241m=\u001b[39mskipna, \u001b[38;5;241m*\u001b[39m\u001b[38;5;241m*\u001b[39mkwds)\n\u001b[0;32m    157\u001b[0m \u001b[38;5;28;01melse\u001b[39;00m:\n\u001b[1;32m--> 158\u001b[0m     result \u001b[38;5;241m=\u001b[39m alt(values, axis\u001b[38;5;241m=\u001b[39maxis, skipna\u001b[38;5;241m=\u001b[39mskipna, \u001b[38;5;241m*\u001b[39m\u001b[38;5;241m*\u001b[39mkwds)\n\u001b[0;32m    160\u001b[0m \u001b[38;5;28;01mreturn\u001b[39;00m result\n",
      "File \u001b[1;32m~\\anaconda3\\Lib\\site-packages\\pandas\\core\\nanops.py:421\u001b[0m, in \u001b[0;36m_datetimelike_compat.<locals>.new_func\u001b[1;34m(values, axis, skipna, mask, **kwargs)\u001b[0m\n\u001b[0;32m    418\u001b[0m \u001b[38;5;28;01mif\u001b[39;00m datetimelike \u001b[38;5;129;01mand\u001b[39;00m mask \u001b[38;5;129;01mis\u001b[39;00m \u001b[38;5;28;01mNone\u001b[39;00m:\n\u001b[0;32m    419\u001b[0m     mask \u001b[38;5;241m=\u001b[39m isna(values)\n\u001b[1;32m--> 421\u001b[0m result \u001b[38;5;241m=\u001b[39m func(values, axis\u001b[38;5;241m=\u001b[39maxis, skipna\u001b[38;5;241m=\u001b[39mskipna, mask\u001b[38;5;241m=\u001b[39mmask, \u001b[38;5;241m*\u001b[39m\u001b[38;5;241m*\u001b[39mkwargs)\n\u001b[0;32m    423\u001b[0m \u001b[38;5;28;01mif\u001b[39;00m datetimelike:\n\u001b[0;32m    424\u001b[0m     result \u001b[38;5;241m=\u001b[39m _wrap_results(result, orig_values\u001b[38;5;241m.\u001b[39mdtype, fill_value\u001b[38;5;241m=\u001b[39miNaT)\n",
      "File \u001b[1;32m~\\anaconda3\\Lib\\site-packages\\pandas\\core\\nanops.py:727\u001b[0m, in \u001b[0;36mnanmean\u001b[1;34m(values, axis, skipna, mask)\u001b[0m\n\u001b[0;32m    724\u001b[0m     dtype_count \u001b[38;5;241m=\u001b[39m dtype\n\u001b[0;32m    726\u001b[0m count \u001b[38;5;241m=\u001b[39m _get_counts(values\u001b[38;5;241m.\u001b[39mshape, mask, axis, dtype\u001b[38;5;241m=\u001b[39mdtype_count)\n\u001b[1;32m--> 727\u001b[0m the_sum \u001b[38;5;241m=\u001b[39m _ensure_numeric(values\u001b[38;5;241m.\u001b[39msum(axis, dtype\u001b[38;5;241m=\u001b[39mdtype_sum))\n\u001b[0;32m    729\u001b[0m \u001b[38;5;28;01mif\u001b[39;00m axis \u001b[38;5;129;01mis\u001b[39;00m \u001b[38;5;129;01mnot\u001b[39;00m \u001b[38;5;28;01mNone\u001b[39;00m \u001b[38;5;129;01mand\u001b[39;00m \u001b[38;5;28mgetattr\u001b[39m(the_sum, \u001b[38;5;124m\"\u001b[39m\u001b[38;5;124mndim\u001b[39m\u001b[38;5;124m\"\u001b[39m, \u001b[38;5;28;01mFalse\u001b[39;00m):\n\u001b[0;32m    730\u001b[0m     count \u001b[38;5;241m=\u001b[39m cast(np\u001b[38;5;241m.\u001b[39mndarray, count)\n",
      "File \u001b[1;32m~\\anaconda3\\Lib\\site-packages\\pandas\\core\\nanops.py:1686\u001b[0m, in \u001b[0;36m_ensure_numeric\u001b[1;34m(x)\u001b[0m\n\u001b[0;32m   1683\u001b[0m         x \u001b[38;5;241m=\u001b[39m x\u001b[38;5;241m.\u001b[39mastype(np\u001b[38;5;241m.\u001b[39mfloat64)\n\u001b[0;32m   1684\u001b[0m     \u001b[38;5;28;01mexcept\u001b[39;00m \u001b[38;5;167;01mValueError\u001b[39;00m \u001b[38;5;28;01mas\u001b[39;00m err:\n\u001b[0;32m   1685\u001b[0m         \u001b[38;5;66;03m# GH#29941 we get here with object arrays containing strs\u001b[39;00m\n\u001b[1;32m-> 1686\u001b[0m         \u001b[38;5;28;01mraise\u001b[39;00m \u001b[38;5;167;01mTypeError\u001b[39;00m(\u001b[38;5;124mf\u001b[39m\u001b[38;5;124m\"\u001b[39m\u001b[38;5;124mCould not convert \u001b[39m\u001b[38;5;132;01m{\u001b[39;00mx\u001b[38;5;132;01m}\u001b[39;00m\u001b[38;5;124m to numeric\u001b[39m\u001b[38;5;124m\"\u001b[39m) \u001b[38;5;28;01mfrom\u001b[39;00m \u001b[38;5;21;01merr\u001b[39;00m\n\u001b[0;32m   1687\u001b[0m \u001b[38;5;28;01melse\u001b[39;00m:\n\u001b[0;32m   1688\u001b[0m     \u001b[38;5;28;01mif\u001b[39;00m \u001b[38;5;129;01mnot\u001b[39;00m np\u001b[38;5;241m.\u001b[39many(np\u001b[38;5;241m.\u001b[39mimag(x)):\n",
      "\u001b[1;31mTypeError\u001b[0m: Could not convert ['yesyesyesyesyesyesyesyesyesyesyesyesyesyesyesyesyesyesyesyesyesyesyesyesyesyesyesyesyesyesyesyesyesyesyesyesyesyesyesyesyesyesyesyesyesyesyesyesyesyesyesyesyesyesyesyesyesyesyesyesyesyesyesyesyesyesyesyesyesyesyesyesyesyesyesyesyesyesyesyesyesyesyesyesyesyesyesyesyesyesyesyesyesyesyesyesyesyesyesyesyesyesyesyesyesyesyesyesyesyesyesyesyesyesyesyesyesyesyesyesyesyesyesyesyesyesyesyesyesyesyesyesyesyesyesyesyesyesyesyesyesyesyesnoyesyesyesyesyesyesyesyesyesyesyesyesyesnoyesyesyesyesyesyesyesyesyesyesyesnoyesyesyesyesyesyesyesyesyesyesnoyesnoyesyesyesyesyesyesnoyesyesyesyesyesyesyesnoyesyesyesnoyesyesyesyesyesyesyesyesyesyesyesyesyesyesyesyesyesyesyesyesyesyesyesyesyesyesyesyesyesyesyesyesyesyesyesyesyesyesyesyesyesyesyesyesyesyesyesyesyesyesyesyesyesyesyesyesyesyesyesyesyesnoyesyesyesyesyesyesyesnoyesyesyesyesyesyesyesyesyesyesnoyesyesyesyesyesyesyesnoyesnonononoyesyesyesyesyesyesyesyesyesyesyesyesyesyesyesyesyesyesyesyesnoyesyesyesyesyesyesyesnoyesnononoyesyesyesyesyesyesyesyesyesyesyesyesyesyesyesyesyesyesyesnoyesyesyesyesyesyesyesnonoyesyesyesyesyesyesnoyesyesyesnoyesyesyesnoyesyesyesyesnoyesyesyesyesyesyesnoyesyesyesyesyesnoyesyesnonoyesyesyesyesyesyesyesyesyesnoyesyesyesyesyesyesyesyesyesyesyesyesyesyesnoyesyesnoyesnoyesnoyesyesyesnoyesyesnoyesyesyesyesnonoyesyesyesnonoyesnonoyesnoyesyesyesyesyesyesyesnoyesyesyesyesnoyesyesyesnoyesyesyesnoyesyesyesnoyesyesyesnononononoyesnoyesyesyesyesnononoyesyesyesyesyesyesyesnoyesnoyesyesyesyesnoyesyesyesnonoyesyesnoyesnoyesyesyesyesnoyesyesyesyesyesnonoyesnononoyesyesyesnoyesyesnoyesnoyesnoyes'\n 'nonononoyesnononoyesyesnoyesnonononoyesnoyesnonoyesyesyesnoyesyesnonononononoyesyesnononoyesnonononononononononoyesnonoyesnoyesnonoyesyesyesyesnononononononononononononononononoyesyesnonononononononoyesnonoyesyesnonononoyesnoyesnonoyesyesyesnonononoyesyesnononoyesyesyesyesnonoyesyesnonononononoyesnoyesyesnononononononoyesnoyesnonoyesnononononoyesnoyesnononoyesyesnoyesyesyesyesyesyesyesnonononononoyesnoyesyesnonoyesnonoyesnonoyesnonononoyesnoyesyesyesyesnoyesnonononoyesnonoyesnoyesnononoyesnonononononononononononononononononoyesnononoyesnoyesyesnononononononoyesnononoyesyesnonononononononononononoyesnononononononononoyesnononononononononoyesnonoyesnononoyesnonononononononononononononononononononononononononononononononononononononononoyesyesyesnononononoyesnononononononoyesnonononononononononononononononononononononononononononoyesnononononononononononononononononononononononononononononononononononononononoyesnonononononononononononononononoyesnononononononononononononoyesnonononononononononononononononoyesnononononononononononononononononononononononononononononononononononoyesnonononononononononononononononoyesnoyesnononononononononononononononononononononononononono'\n 'nonoyesyesyesyesnonoyesnoyesyesnononoyesyesnononoyesyesyesyesnoyesyesnoyesyesnononoyesyesnononononoyesnononononononoyesyesnonononononoyesnononononononoyesyesyesnononoyesnonoyesyesnononoyesnonoyesyesnononoyesyesyesnonoyesnoyesnonoyesyesnoyesyesnononoyesnoyesyesnonoyesnonoyesyesyesyesnoyesyesyesyesyesnononoyesnononoyesnononoyesnonononoyesnoyesnoyesyesnonononoyesyesnoyesyesnoyesyesyesnoyesnonoyesyesyesyesyesnoyesnoyesnoyesnoyesnonoyesyesnoyesyesnonoyesyesnoyesnoyesnoyesyesyesyesyesyesyesnonoyesyesyesnoyesnoyesyesnonoyesnoyesyesyesnonononoyesyesnoyesyesnononoyesnoyesnonoyesyesyesnoyesyesyesnonononoyesyesnononoyesyesnoyesnononononononoyesnonoyesnoyesnonononononoyesyesnonoyesnonoyesnononoyesnononoyesnoyesyesnoyesnononononoyesnononononoyesyesnononoyesnoyesyesyesnononoyesnonoyesnonoyesnoyesnoyesnoyesnoyesyesyesnonoyesnoyesyesnonoyesnononoyesnonoyesnononononononoyesnononononononoyesnoyesnonononoyesyesnoyesyesnoyesnonononoyesyesnononononononoyesnonononononononononononononononononononoyesyesnoyesyesnononononononoyesyesnoyesnononoyesyesnononoyesnononoyesnononononoyesyesnoyesyesnonononoyesnononononoyesyesyesnonononononononononononoyesnononononononononononononononoyesnonononononononononononononononoyesnononononoyesnononononononononononoyesnoyesnonononononononononoyesnononono'\n 'nononononononononononoyesnoyesnonononononoyesnononononononoyesnononononononoyesnononononononononononononononononononononononononononononoyesnononononononoyesyesnonononoyesnononoyesnonononononononononononononononononononononononoyesnononononononononononononononononononononononononononononononononoyesnononononononononononononononononononononoyesnonononononononononononononononononononononononononononononoyesnononononononononononononononononononononononononononononononononononononononononononononononononononononononononononononononononononononononononoyesnononononononononononononononononononononononononononoyesnonononononononononononononononononononononoyesnonononononononononononoyesnononononononononononononononoyesnonononononononononononoyesyesnononononononononononononoyesnononononononononononononononononononononononononononononononononononononononononononononononononononononononononononononononononononononononononononononononononononononoyesnononononononononononononononononononononononononoyesnononononononononononononononononononononononononononononononononononononononoyesnononononononononononononono'\n 'yesyesnoyesyesyesyesnoyesyesyesnoyesnononoyesyesyesyesnoyesyesyesyesyesyesnonoyesyesyesyesnoyesyesnoyesyesyesyesyesyesnoyesyesyesyesnoyesnoyesyesyesyesyesnoyesyesyesnoyesyesyesyesyesnonoyesnoyesyesyesnononoyesyesyesyesnoyesyesyesnoyesnonoyesnoyesnoyesyesnoyesnoyesyesnoyesnoyesyesnoyesyesnonononoyesnononoyesnoyesyesyesnoyesnononoyesnoyesyesnononoyesyesnoyesyesnoyesyesyesnononoyesnononononoyesyesyesnonononononoyesyesyesnoyesnonoyesyesyesyesnonoyesyesnonoyesnononoyesnoyesnonononoyesyesnoyesnonononononoyesyesnoyesyesnononoyesyesyesnonononoyesnonononoyesyesnoyesnoyesyesyesyesyesyesnononononoyesnoyesnonononononoyesnononononononononononoyesyesnononoyesyesnononononononoyesnonononononononononononoyesyesnonononoyesyesnonoyesnonononoyesnonononononononononononoyesnonoyesnonoyesnononoyesnonoyesnoyesyesnoyesyesnonononononoyesyesnononononoyesnononononononononononononoyesnonononononononononoyesnonoyesnonoyesnonononoyesnonononononononoyesnonononononoyesnonononononononononononononononononononoyesnonoyesnononoyesnononononononoyesyesnonononononononononoyesnononononononononononoyesnonoyesnononoyesnonononononononononononononononononononononononononononononononononononononononononoyesyesnononononononononononononononononononononononononoyesnonononononononononononono'\n 'yesnoyesyesnoyesyesnoyesyesyesnoyesnoyesnoyesnonoyesnononononoyesyesnonoyesnonoyesnononoyesnononoyesyesnononononoyesnoyesyesnononononoyesyesnononononoyesyesnonononoyesyesnoyesyesnonoyesyesyesnoyesnoyesnononoyesnoyesnonoyesnonononoyesyesyesyesyesyesnonoyesnoyesyesnonoyesnonoyesnoyesyesnoyesyesyesyesyesnononoyesnonoyesnonononoyesnonononoyesnoyesnonononononoyesyesyesyesyesnonoyesyesnonononoyesyesyesyesnoyesnonononoyesyesyesyesnonoyesyesnonoyesnoyesnonoyesyesyesnononoyesnononononononononononononononononononononononoyesyesyesnononononoyesnononononoyesyesnonononoyesnononoyesnononoyesyesyesnonoyesnononoyesnononononononononononoyesyesnonononononononononoyesyesnononononononoyesnonononononononononononononoyesyesnononononononononoyesnononononononoyesnononononononononoyesnonononononoyesnononononononoyesyesnonononononoyesnonononoyesnonononononononononononononononononoyesyesyesnoyesnonononononononononononononononononoyesyesnonononoyesyesnononoyesyesyesnononononononononononononoyesnonononononononoyesnononononononononononononononononononoyesnonononononononononononononononononononononononononononononononononononononononononononononononononononononononononononononononononononononononononoyesnonononononononononononono'\n 'furnishedfurnishedsemi-furnishedfurnishedfurnishedsemi-furnishedsemi-furnishedunfurnishedfurnishedunfurnishedfurnishedsemi-furnishedsemi-furnishedfurnishedsemi-furnishedsemi-furnishedunfurnishedfurnishedfurnishedsemi-furnishedsemi-furnishedunfurnishedfurnishedfurnishedfurnishedfurnishedsemi-furnishedsemi-furnishedunfurnishedsemi-furnishedunfurnishedsemi-furnishedfurnishedunfurnishedfurnishedfurnishedfurnishedfurnishedunfurnishedsemi-furnishedfurnishedfurnishedunfurnishedsemi-furnishedfurnishedsemi-furnishedfurnishedfurnishedunfurnishedsemi-furnishedunfurnishedunfurnishedfurnishedsemi-furnishedsemi-furnishedunfurnishedsemi-furnishedfurnishedsemi-furnishedfurnishedsemi-furnishedsemi-furnishedfurnishedfurnishedfurnishedfurnishedfurnishedunfurnishedfurnishedfurnishedsemi-furnishedunfurnishedunfurnishedfurnishedfurnishedsemi-furnishedfurnishedfurnishedfurnishedfurnishedsemi-furnishedsemi-furnishedfurnishedsemi-furnishedsemi-furnishedfurnishedunfurnishedsemi-furnishedunfurnishedfurnishedsemi-furnishedfurnishedfurnishedsemi-furnishedsemi-furnishedsemi-furnishedfurnishedsemi-furnishedunfurnishedunfurnishedunfurnishedunfurnishedsemi-furnishedfurnishedfurnishedunfurnishedsemi-furnishedunfurnishedsemi-furnishedsemi-furnishedsemi-furnishedunfurnishedfurnishedfurnishedfurnishedsemi-furnishedunfurnishedfurnishedfurnishedsemi-furnishedfurnishedsemi-furnishedsemi-furnishedfurnishedfurnishedsemi-furnishedunfurnishedunfurnishedfurnishedsemi-furnishedunfurnishedsemi-furnishedsemi-furnishedunfurnishedsemi-furnishedunfurnishedunfurnishedsemi-furnishedsemi-furnishedfurnishedunfurnishedsemi-furnishedsemi-furnishedunfurnishedfurnishedfurnishedsemi-furnishedsemi-furnishedsemi-furnishedsemi-furnishedunfurnishedsemi-furnishedfurnishedsemi-furnishedsemi-furnishedfurnishedsemi-furnishedfurnishedsemi-furnishedfurnishedfurnishedsemi-furnishedsemi-furnishedsemi-furnishedfurnishedunfurnishedunfurnishedsemi-furnishedfurnishedsemi-furnishedsemi-furnishedsemi-furnishedunfurnishedunfurnishedunfurnishedsemi-furnishedfurnishedsemi-furnishedsemi-furnishedsemi-furnishedsemi-furnishedfurnishedsemi-furnishedsemi-furnishedfurnishedunfurnishedfurnishedsemi-furnishedunfurnishedsemi-furnishedfurnishedsemi-furnishedfurnishedsemi-furnishedsemi-furnishedsemi-furnishedsemi-furnishedsemi-furnishedsemi-furnishedfurnishedsemi-furnishedsemi-furnishedsemi-furnishedsemi-furnishedsemi-furnishedsemi-furnishedsemi-furnishedsemi-furnishedsemi-furnishedunfurnishedsemi-furnishedfurnishedsemi-furnishedsemi-furnishedunfurnishedunfurnishedsemi-furnishedfurnishedsemi-furnishedunfurnishedsemi-furnishedsemi-furnishedsemi-furnishedfurnishedunfurnishedsemi-furnishedsemi-furnishedfurnishedsemi-furnishedsemi-furnishedsemi-furnishedsemi-furnishedfurnishedunfurnishedsemi-furnishedsemi-furnishedsemi-furnishedsemi-furnishedsemi-furnishedfurnishedsemi-furnishedsemi-furnishedfurnishedfurnishedsemi-furnishedunfurnishedsemi-furnishedunfurnishedsemi-furnishedfurnishedsemi-furnishedsemi-furnishedsemi-furnishedfurnishedsemi-furnishedunfurnishedfurnishedfurnishedsemi-furnishedfurnishedfurnishedsemi-furnishedsemi-furnishedsemi-furnishedsemi-furnishedsemi-furnishedunfurnishedsemi-furnishedsemi-furnishedunfurnishedfurnishedsemi-furnishedsemi-furnishedfurnishedsemi-furnishedfurnishedsemi-furnishedsemi-furnishedsemi-furnishedfurnishedunfurnishedfurnishedunfurnishedfurnishedfurnishedsemi-furnishedfurnishedunfurnishedunfurnishedsemi-furnishedsemi-furnishedunfurnishedsemi-furnishedunfurnishedsemi-furnishedsemi-furnishedsemi-furnishedunfurnishedsemi-furnishedfurnishedsemi-furnishedsemi-furnishedunfurnishedfurnishedsemi-furnishedsemi-furnishedsemi-furnishedsemi-furnishedsemi-furnishedsemi-furnishedsemi-furnishedsemi-furnishedfurnishedsemi-furnishedsemi-furnishedsemi-furnishedunfurnishedunfurnishedsemi-furnishedsemi-furnishedfurnishedsemi-furnishedfurnishedsemi-furnishedsemi-furnishedsemi-furnishedunfurnishedsemi-furnishedsemi-furnishedfurnishedunfurnishedfurnishedsemi-furnishedsemi-furnishedfurnishedfurnishedsemi-furnishedunfurnishedsemi-furnishedfurnishedsemi-furnishedsemi-furnishedfurnishedsemi-furnishedsemi-furnishedsemi-furnishedsemi-furnishedunfurnishedsemi-furnishedsemi-furnishedsemi-furnishedsemi-furnishedunfurnishedfurnishedfurnishedfurnishedfurnishedfurnishedsemi-furnishedunfurnishedsemi-furnishedsemi-furnishedfurnishedsemi-furnishedsemi-furnishedfurnishedfurnishedunfurnishedsemi-furnishedfurnishedsemi-furnishedsemi-furnishedsemi-furnishedfurnishedsemi-furnishedunfurnishedsemi-furnishedunfurnishedsemi-furnishedunfurnishedsemi-furnishedsemi-furnishedfurnishedfurnishedfurnishedunfurnishedunfurnishedsemi-furnishedunfurnishedsemi-furnishedunfurnishedsemi-furnishedsemi-furnishedunfurnishedunfurnishedunfurnishedsemi-furnishedfurnishedunfurnishedsemi-furnishedunfurnishedunfurnishedunfurnishedunfurnishedunfurnishedunfurnishedunfurnishedfurnishedunfurnishedunfurnishedunfurnishedfurnishedunfurnishedunfurnishedunfurnishedfurnishedunfurnishedfurnishedunfurnishedsemi-furnishedunfurnishedunfurnishedunfurnishedunfurnishedsemi-furnishedfurnishedfurnishedfurnishedunfurnishedunfurnishedunfurnishedunfurnishedfurnishedsemi-furnishedsemi-furnishedunfurnishedfurnishedunfurnishedsemi-furnishedunfurnishedunfurnishedunfurnishedunfurnishedunfurnishedfurnishedfurnishedunfurnishedsemi-furnishedsemi-furnishedunfurnishedsemi-furnishedsemi-furnishedsemi-furnishedunfurnishedunfurnishedunfurnishedsemi-furnishedunfurnishedunfurnishedunfurnishedunfurnishedunfurnishedsemi-furnishedunfurnishedsemi-furnishedunfurnishedsemi-furnishedsemi-furnishedsemi-furnishedfurnishedunfurnishedunfurnishedsemi-furnishedunfurnishedunfurnishedsemi-furnishedunfurnishedunfurnishedunfurnishedunfurnishedsemi-furnishedfurnishedunfurnishedsemi-furnishedunfurnishedunfurnishedsemi-furnishedunfurnishedunfurnishedsemi-furnishedunfurnishedfurnishedunfurnishedfurnishedunfurnishedunfurnishedunfurnishedunfurnishedsemi-furnishedunfurnishedunfurnishedunfurnishedsemi-furnishedsemi-furnishedunfurnishedunfurnishedunfurnishedunfurnishedunfurnishedfurnishedunfurnishedunfurnishedfurnishedunfurnishedsemi-furnishedunfurnishedunfurnishedunfurnishedunfurnishedunfurnishedunfurnishedunfurnishedfurnishedfurnishedunfurnishedunfurnishedunfurnishedsemi-furnishedunfurnishedunfurnishedunfurnishedunfurnishedunfurnishedunfurnishedunfurnishedunfurnishedunfurnishedunfurnishedunfurnishedunfurnishedunfurnishedsemi-furnishedunfurnishedfurnishedunfurnished'] to numeric"
     ]
    }
   ],
   "source": [
    "# Fill missing values with the mean of the column\n",
    "data.fillna(data.mean(), inplace=True)\n"
   ]
  },
  {
   "cell_type": "code",
   "execution_count": 35,
   "id": "a01ec01e",
   "metadata": {},
   "outputs": [
    {
     "name": "stdout",
     "output_type": "stream",
     "text": [
      "price               0\n",
      "area                0\n",
      "bedrooms            0\n",
      "bathrooms           0\n",
      "stories             0\n",
      "mainroad            0\n",
      "guestroom           0\n",
      "basement            0\n",
      "hotwaterheating     0\n",
      "airconditioning     0\n",
      "parking             0\n",
      "prefarea            0\n",
      "furnishingstatus    0\n",
      "dtype: int64\n"
     ]
    },
    {
     "ename": "TypeError",
     "evalue": "Could not convert ['yesyesyesyesyesyesyesyesyesyesyesyesyesyesyesyesyesyesyesyesyesyesyesyesyesyesyesyesyesyesyesyesyesyesyesyesyesyesyesyesyesyesyesyesyesyesyesyesyesyesyesyesyesyesyesyesyesyesyesyesyesyesyesyesyesyesyesyesyesyesyesyesyesyesyesyesyesyesyesyesyesyesyesyesyesyesyesyesyesyesyesyesyesyesyesyesyesyesyesyesyesyesyesyesyesyesyesyesyesyesyesyesyesyesyesyesyesyesyesyesyesyesyesyesyesyesyesyesyesyesyesyesyesyesyesyesyesyesyesyesyesyesyesnoyesyesyesyesyesyesyesyesyesyesyesyesyesnoyesyesyesyesyesyesyesyesyesyesyesnoyesyesyesyesyesyesyesyesyesyesnoyesnoyesyesyesyesyesyesnoyesyesyesyesyesyesyesnoyesyesyesnoyesyesyesyesyesyesyesyesyesyesyesyesyesyesyesyesyesyesyesyesyesyesyesyesyesyesyesyesyesyesyesyesyesyesyesyesyesyesyesyesyesyesyesyesyesyesyesyesyesyesyesyesyesyesyesyesyesyesyesyesyesnoyesyesyesyesyesyesyesnoyesyesyesyesyesyesyesyesyesyesnoyesyesyesyesyesyesyesnoyesnonononoyesyesyesyesyesyesyesyesyesyesyesyesyesyesyesyesyesyesyesyesnoyesyesyesyesyesyesyesnoyesnononoyesyesyesyesyesyesyesyesyesyesyesyesyesyesyesyesyesyesyesnoyesyesyesyesyesyesyesnonoyesyesyesyesyesyesnoyesyesyesnoyesyesyesnoyesyesyesyesnoyesyesyesyesyesyesnoyesyesyesyesyesnoyesyesnonoyesyesyesyesyesyesyesyesyesnoyesyesyesyesyesyesyesyesyesyesyesyesyesyesnoyesyesnoyesnoyesnoyesyesyesnoyesyesnoyesyesyesyesnonoyesyesyesnonoyesnonoyesnoyesyesyesyesyesyesyesnoyesyesyesyesnoyesyesyesnoyesyesyesnoyesyesyesnoyesyesyesnononononoyesnoyesyesyesyesnononoyesyesyesyesyesyesyesnoyesnoyesyesyesyesnoyesyesyesnonoyesyesnoyesnoyesyesyesyesnoyesyesyesyesyesnonoyesnononoyesyesyesnoyesyesnoyesnoyesnoyes'\n 'nonononoyesnononoyesyesnoyesnonononoyesnoyesnonoyesyesyesnoyesyesnonononononoyesyesnononoyesnonononononononononoyesnonoyesnoyesnonoyesyesyesyesnononononononononononononononononoyesyesnonononononononoyesnonoyesyesnonononoyesnoyesnonoyesyesyesnonononoyesyesnononoyesyesyesyesnonoyesyesnonononononoyesnoyesyesnononononononoyesnoyesnonoyesnononononoyesnoyesnononoyesyesnoyesyesyesyesyesyesyesnonononononoyesnoyesyesnonoyesnonoyesnonoyesnonononoyesnoyesyesyesyesnoyesnonononoyesnonoyesnoyesnononoyesnonononononononononononononononononoyesnononoyesnoyesyesnononononononoyesnononoyesyesnonononononononononononoyesnononononononononoyesnononononononononoyesnonoyesnononoyesnonononononononononononononononononononononononononononononononononononononononoyesyesyesnononononoyesnononononononoyesnonononononononononononononononononononononononononononoyesnononononononononononononononononononononononononononononononononononononononoyesnonononononononononononononononoyesnononononononononononononoyesnonononononononononononononononoyesnononononononononononononononononononononononononononononononononononoyesnonononononononononononononononoyesnoyesnononononononononononononononononononononononononono'\n 'nonoyesyesyesyesnonoyesnoyesyesnononoyesyesnononoyesyesyesyesnoyesyesnoyesyesnononoyesyesnononononoyesnononononononoyesyesnonononononoyesnononononononoyesyesyesnononoyesnonoyesyesnononoyesnonoyesyesnononoyesyesyesnonoyesnoyesnonoyesyesnoyesyesnononoyesnoyesyesnonoyesnonoyesyesyesyesnoyesyesyesyesyesnononoyesnononoyesnononoyesnonononoyesnoyesnoyesyesnonononoyesyesnoyesyesnoyesyesyesnoyesnonoyesyesyesyesyesnoyesnoyesnoyesnoyesnonoyesyesnoyesyesnonoyesyesnoyesnoyesnoyesyesyesyesyesyesyesnonoyesyesyesnoyesnoyesyesnonoyesnoyesyesyesnonononoyesyesnoyesyesnononoyesnoyesnonoyesyesyesnoyesyesyesnonononoyesyesnononoyesyesnoyesnononononononoyesnonoyesnoyesnonononononoyesyesnonoyesnonoyesnononoyesnononoyesnoyesyesnoyesnononononoyesnononononoyesyesnononoyesnoyesyesyesnononoyesnonoyesnonoyesnoyesnoyesnoyesnoyesyesyesnonoyesnoyesyesnonoyesnononoyesnonoyesnononononononoyesnononononononoyesnoyesnonononoyesyesnoyesyesnoyesnonononoyesyesnononononononoyesnonononononononononononononononononononoyesyesnoyesyesnononononononoyesyesnoyesnononoyesyesnononoyesnononoyesnononononoyesyesnoyesyesnonononoyesnononononoyesyesyesnonononononononononononoyesnononononononononononononononoyesnonononononononononononononononoyesnononononoyesnononononononononononoyesnoyesnonononononononononoyesnononono'\n 'nononononononononononoyesnoyesnonononononoyesnononononononoyesnononononononoyesnononononononononononononononononononononononononononononoyesnononononononoyesyesnonononoyesnononoyesnonononononononononononononononononononononononoyesnononononononononononononononononononononononononononononononononoyesnononononononononononononononononononononoyesnonononononononononononononononononononononononononononononoyesnononononononononononononononononononononononononononononononononononononononononononononononononononononononononononononononononononononononononoyesnononononononononononononononononononononononononononoyesnonononononononononononononononononononononoyesnonononononononononononoyesnononononononononononononononoyesnonononononononononononoyesyesnononononononononononononoyesnononononononononononononononononononononononononononononononononononononononononononononononononononononononononononononononononononononononononononononononononononononoyesnononononononononononononononononononononononononoyesnononononononononononononononononononononononononononononononononononononononoyesnononononononononononononono'\n 'yesyesnoyesyesyesyesnoyesyesyesnoyesnononoyesyesyesyesnoyesyesyesyesyesyesnonoyesyesyesyesnoyesyesnoyesyesyesyesyesyesnoyesyesyesyesnoyesnoyesyesyesyesyesnoyesyesyesnoyesyesyesyesyesnonoyesnoyesyesyesnononoyesyesyesyesnoyesyesyesnoyesnonoyesnoyesnoyesyesnoyesnoyesyesnoyesnoyesyesnoyesyesnonononoyesnononoyesnoyesyesyesnoyesnononoyesnoyesyesnononoyesyesnoyesyesnoyesyesyesnononoyesnononononoyesyesyesnonononononoyesyesyesnoyesnonoyesyesyesyesnonoyesyesnonoyesnononoyesnoyesnonononoyesyesnoyesnonononononoyesyesnoyesyesnononoyesyesyesnonononoyesnonononoyesyesnoyesnoyesyesyesyesyesyesnononononoyesnoyesnonononononoyesnononononononononononoyesyesnononoyesyesnononononononoyesnonononononononononononoyesyesnonononoyesyesnonoyesnonononoyesnonononononononononononoyesnonoyesnonoyesnononoyesnonoyesnoyesyesnoyesyesnonononononoyesyesnononononoyesnononononononononononononoyesnonononononononononoyesnonoyesnonoyesnonononoyesnonononononononoyesnonononononoyesnonononononononononononononononononononoyesnonoyesnononoyesnononononononoyesyesnonononononononononoyesnononononononononononoyesnonoyesnononoyesnonononononononononononononononononononononononononononononononononononononononononoyesyesnononononononononononononononononononononononononoyesnonononononononononononono'\n 'yesnoyesyesnoyesyesnoyesyesyesnoyesnoyesnoyesnonoyesnononononoyesyesnonoyesnonoyesnononoyesnononoyesyesnononononoyesnoyesyesnononononoyesyesnononononoyesyesnonononoyesyesnoyesyesnonoyesyesyesnoyesnoyesnononoyesnoyesnonoyesnonononoyesyesyesyesyesyesnonoyesnoyesyesnonoyesnonoyesnoyesyesnoyesyesyesyesyesnononoyesnonoyesnonononoyesnonononoyesnoyesnonononononoyesyesyesyesyesnonoyesyesnonononoyesyesyesyesnoyesnonononoyesyesyesyesnonoyesyesnonoyesnoyesnonoyesyesyesnononoyesnononononononononononononononononononononononoyesyesyesnononononoyesnononononoyesyesnonononoyesnononoyesnononoyesyesyesnonoyesnononoyesnononononononononononoyesyesnonononononononononoyesyesnononononononoyesnonononononononononononononoyesyesnononononononononoyesnononononononoyesnononononononononoyesnonononononoyesnononononononoyesyesnonononononoyesnonononoyesnonononononononononononononononononoyesyesyesnoyesnonononononononononononononononononoyesyesnonononoyesyesnononoyesyesyesnononononononononononononoyesnonononononononoyesnononononononononononononononononononoyesnonononononononononononononononononononononononononononononononononononononononononononononononononononononononononononononononononononononononononoyesnonononononononononononono'\n 'furnishedfurnishedsemi-furnishedfurnishedfurnishedsemi-furnishedsemi-furnishedunfurnishedfurnishedunfurnishedfurnishedsemi-furnishedsemi-furnishedfurnishedsemi-furnishedsemi-furnishedunfurnishedfurnishedfurnishedsemi-furnishedsemi-furnishedunfurnishedfurnishedfurnishedfurnishedfurnishedsemi-furnishedsemi-furnishedunfurnishedsemi-furnishedunfurnishedsemi-furnishedfurnishedunfurnishedfurnishedfurnishedfurnishedfurnishedunfurnishedsemi-furnishedfurnishedfurnishedunfurnishedsemi-furnishedfurnishedsemi-furnishedfurnishedfurnishedunfurnishedsemi-furnishedunfurnishedunfurnishedfurnishedsemi-furnishedsemi-furnishedunfurnishedsemi-furnishedfurnishedsemi-furnishedfurnishedsemi-furnishedsemi-furnishedfurnishedfurnishedfurnishedfurnishedfurnishedunfurnishedfurnishedfurnishedsemi-furnishedunfurnishedunfurnishedfurnishedfurnishedsemi-furnishedfurnishedfurnishedfurnishedfurnishedsemi-furnishedsemi-furnishedfurnishedsemi-furnishedsemi-furnishedfurnishedunfurnishedsemi-furnishedunfurnishedfurnishedsemi-furnishedfurnishedfurnishedsemi-furnishedsemi-furnishedsemi-furnishedfurnishedsemi-furnishedunfurnishedunfurnishedunfurnishedunfurnishedsemi-furnishedfurnishedfurnishedunfurnishedsemi-furnishedunfurnishedsemi-furnishedsemi-furnishedsemi-furnishedunfurnishedfurnishedfurnishedfurnishedsemi-furnishedunfurnishedfurnishedfurnishedsemi-furnishedfurnishedsemi-furnishedsemi-furnishedfurnishedfurnishedsemi-furnishedunfurnishedunfurnishedfurnishedsemi-furnishedunfurnishedsemi-furnishedsemi-furnishedunfurnishedsemi-furnishedunfurnishedunfurnishedsemi-furnishedsemi-furnishedfurnishedunfurnishedsemi-furnishedsemi-furnishedunfurnishedfurnishedfurnishedsemi-furnishedsemi-furnishedsemi-furnishedsemi-furnishedunfurnishedsemi-furnishedfurnishedsemi-furnishedsemi-furnishedfurnishedsemi-furnishedfurnishedsemi-furnishedfurnishedfurnishedsemi-furnishedsemi-furnishedsemi-furnishedfurnishedunfurnishedunfurnishedsemi-furnishedfurnishedsemi-furnishedsemi-furnishedsemi-furnishedunfurnishedunfurnishedunfurnishedsemi-furnishedfurnishedsemi-furnishedsemi-furnishedsemi-furnishedsemi-furnishedfurnishedsemi-furnishedsemi-furnishedfurnishedunfurnishedfurnishedsemi-furnishedunfurnishedsemi-furnishedfurnishedsemi-furnishedfurnishedsemi-furnishedsemi-furnishedsemi-furnishedsemi-furnishedsemi-furnishedsemi-furnishedfurnishedsemi-furnishedsemi-furnishedsemi-furnishedsemi-furnishedsemi-furnishedsemi-furnishedsemi-furnishedsemi-furnishedsemi-furnishedunfurnishedsemi-furnishedfurnishedsemi-furnishedsemi-furnishedunfurnishedunfurnishedsemi-furnishedfurnishedsemi-furnishedunfurnishedsemi-furnishedsemi-furnishedsemi-furnishedfurnishedunfurnishedsemi-furnishedsemi-furnishedfurnishedsemi-furnishedsemi-furnishedsemi-furnishedsemi-furnishedfurnishedunfurnishedsemi-furnishedsemi-furnishedsemi-furnishedsemi-furnishedsemi-furnishedfurnishedsemi-furnishedsemi-furnishedfurnishedfurnishedsemi-furnishedunfurnishedsemi-furnishedunfurnishedsemi-furnishedfurnishedsemi-furnishedsemi-furnishedsemi-furnishedfurnishedsemi-furnishedunfurnishedfurnishedfurnishedsemi-furnishedfurnishedfurnishedsemi-furnishedsemi-furnishedsemi-furnishedsemi-furnishedsemi-furnishedunfurnishedsemi-furnishedsemi-furnishedunfurnishedfurnishedsemi-furnishedsemi-furnishedfurnishedsemi-furnishedfurnishedsemi-furnishedsemi-furnishedsemi-furnishedfurnishedunfurnishedfurnishedunfurnishedfurnishedfurnishedsemi-furnishedfurnishedunfurnishedunfurnishedsemi-furnishedsemi-furnishedunfurnishedsemi-furnishedunfurnishedsemi-furnishedsemi-furnishedsemi-furnishedunfurnishedsemi-furnishedfurnishedsemi-furnishedsemi-furnishedunfurnishedfurnishedsemi-furnishedsemi-furnishedsemi-furnishedsemi-furnishedsemi-furnishedsemi-furnishedsemi-furnishedsemi-furnishedfurnishedsemi-furnishedsemi-furnishedsemi-furnishedunfurnishedunfurnishedsemi-furnishedsemi-furnishedfurnishedsemi-furnishedfurnishedsemi-furnishedsemi-furnishedsemi-furnishedunfurnishedsemi-furnishedsemi-furnishedfurnishedunfurnishedfurnishedsemi-furnishedsemi-furnishedfurnishedfurnishedsemi-furnishedunfurnishedsemi-furnishedfurnishedsemi-furnishedsemi-furnishedfurnishedsemi-furnishedsemi-furnishedsemi-furnishedsemi-furnishedunfurnishedsemi-furnishedsemi-furnishedsemi-furnishedsemi-furnishedunfurnishedfurnishedfurnishedfurnishedfurnishedfurnishedsemi-furnishedunfurnishedsemi-furnishedsemi-furnishedfurnishedsemi-furnishedsemi-furnishedfurnishedfurnishedunfurnishedsemi-furnishedfurnishedsemi-furnishedsemi-furnishedsemi-furnishedfurnishedsemi-furnishedunfurnishedsemi-furnishedunfurnishedsemi-furnishedunfurnishedsemi-furnishedsemi-furnishedfurnishedfurnishedfurnishedunfurnishedunfurnishedsemi-furnishedunfurnishedsemi-furnishedunfurnishedsemi-furnishedsemi-furnishedunfurnishedunfurnishedunfurnishedsemi-furnishedfurnishedunfurnishedsemi-furnishedunfurnishedunfurnishedunfurnishedunfurnishedunfurnishedunfurnishedunfurnishedfurnishedunfurnishedunfurnishedunfurnishedfurnishedunfurnishedunfurnishedunfurnishedfurnishedunfurnishedfurnishedunfurnishedsemi-furnishedunfurnishedunfurnishedunfurnishedunfurnishedsemi-furnishedfurnishedfurnishedfurnishedunfurnishedunfurnishedunfurnishedunfurnishedfurnishedsemi-furnishedsemi-furnishedunfurnishedfurnishedunfurnishedsemi-furnishedunfurnishedunfurnishedunfurnishedunfurnishedunfurnishedfurnishedfurnishedunfurnishedsemi-furnishedsemi-furnishedunfurnishedsemi-furnishedsemi-furnishedsemi-furnishedunfurnishedunfurnishedunfurnishedsemi-furnishedunfurnishedunfurnishedunfurnishedunfurnishedunfurnishedsemi-furnishedunfurnishedsemi-furnishedunfurnishedsemi-furnishedsemi-furnishedsemi-furnishedfurnishedunfurnishedunfurnishedsemi-furnishedunfurnishedunfurnishedsemi-furnishedunfurnishedunfurnishedunfurnishedunfurnishedsemi-furnishedfurnishedunfurnishedsemi-furnishedunfurnishedunfurnishedsemi-furnishedunfurnishedunfurnishedsemi-furnishedunfurnishedfurnishedunfurnishedfurnishedunfurnishedunfurnishedunfurnishedunfurnishedsemi-furnishedunfurnishedunfurnishedunfurnishedsemi-furnishedsemi-furnishedunfurnishedunfurnishedunfurnishedunfurnishedunfurnishedfurnishedunfurnishedunfurnishedfurnishedunfurnishedsemi-furnishedunfurnishedunfurnishedunfurnishedunfurnishedunfurnishedunfurnishedunfurnishedfurnishedfurnishedunfurnishedunfurnishedunfurnishedsemi-furnishedunfurnishedunfurnishedunfurnishedunfurnishedunfurnishedunfurnishedunfurnishedunfurnishedunfurnishedunfurnishedunfurnishedunfurnishedunfurnishedsemi-furnishedunfurnishedfurnishedunfurnished'] to numeric",
     "output_type": "error",
     "traceback": [
      "\u001b[1;31m---------------------------------------------------------------------------\u001b[0m",
      "\u001b[1;31mValueError\u001b[0m                                Traceback (most recent call last)",
      "File \u001b[1;32m~\\anaconda3\\Lib\\site-packages\\pandas\\core\\nanops.py:1680\u001b[0m, in \u001b[0;36m_ensure_numeric\u001b[1;34m(x)\u001b[0m\n\u001b[0;32m   1679\u001b[0m \u001b[38;5;28;01mtry\u001b[39;00m:\n\u001b[1;32m-> 1680\u001b[0m     x \u001b[38;5;241m=\u001b[39m x\u001b[38;5;241m.\u001b[39mastype(np\u001b[38;5;241m.\u001b[39mcomplex128)\n\u001b[0;32m   1681\u001b[0m \u001b[38;5;28;01mexcept\u001b[39;00m (\u001b[38;5;167;01mTypeError\u001b[39;00m, \u001b[38;5;167;01mValueError\u001b[39;00m):\n",
      "\u001b[1;31mValueError\u001b[0m: complex() arg is a malformed string",
      "\nDuring handling of the above exception, another exception occurred:\n",
      "\u001b[1;31mValueError\u001b[0m                                Traceback (most recent call last)",
      "File \u001b[1;32m~\\anaconda3\\Lib\\site-packages\\pandas\\core\\nanops.py:1683\u001b[0m, in \u001b[0;36m_ensure_numeric\u001b[1;34m(x)\u001b[0m\n\u001b[0;32m   1682\u001b[0m \u001b[38;5;28;01mtry\u001b[39;00m:\n\u001b[1;32m-> 1683\u001b[0m     x \u001b[38;5;241m=\u001b[39m x\u001b[38;5;241m.\u001b[39mastype(np\u001b[38;5;241m.\u001b[39mfloat64)\n\u001b[0;32m   1684\u001b[0m \u001b[38;5;28;01mexcept\u001b[39;00m \u001b[38;5;167;01mValueError\u001b[39;00m \u001b[38;5;28;01mas\u001b[39;00m err:\n\u001b[0;32m   1685\u001b[0m     \u001b[38;5;66;03m# GH#29941 we get here with object arrays containing strs\u001b[39;00m\n",
      "\u001b[1;31mValueError\u001b[0m: could not convert string to float: 'yesyesyesyesyesyesyesyesyesyesyesyesyesyesyesyesyesyesyesyesyesyesyesyesyesyesyesyesyesyesyesyesyesyesyesyesyesyesyesyesyesyesyesyesyesyesyesyesyesyesyesyesyesyesyesyesyesyesyesyesyesyesyesyesyesyesyesyesyesyesyesyesyesyesyesyesyesyesyesyesyesyesyesyesyesyesyesyesyesyesyesyesyesyesyesyesyesyesyesyesyesyesyesyesyesyesyesyesyesyesyesyesyesyesyesyesyesyesyesyesyesyesyesyesyesyesyesyesyesyesyesyesyesyesyesyesyesyesyesyesyesyesyesnoyesyesyesyesyesyesyesyesyesyesyesyesyesnoyesyesyesyesyesyesyesyesyesyesyesnoyesyesyesyesyesyesyesyesyesyesnoyesnoyesyesyesyesyesyesnoyesyesyesyesyesyesyesnoyesyesyesnoyesyesyesyesyesyesyesyesyesyesyesyesyesyesyesyesyesyesyesyesyesyesyesyesyesyesyesyesyesyesyesyesyesyesyesyesyesyesyesyesyesyesyesyesyesyesyesyesyesyesyesyesyesyesyesyesyesyesyesyesyesnoyesyesyesyesyesyesyesnoyesyesyesyesyesyesyesyesyesyesnoyesyesyesyesyesyesyesnoyesnonononoyesyesyesyesyesyesyesyesyesyesyesyesyesyesyesyesyesyesyesyesnoyesyesyesyesyesyesyesnoyesnononoyesyesyesyesyesyesyesyesyesyesyesyesyesyesyesyesyesyesyesnoyesyesyesyesyesyesyesnonoyesyesyesyesyesyesnoyesyesyesnoyesyesyesnoyesyesyesyesnoyesyesyesyesyesyesnoyesyesyesyesyesnoyesyesnonoyesyesyesyesyesyesyesyesyesnoyesyesyesyesyesyesyesyesyesyesyesyesyesyesnoyesyesnoyesnoyesnoyesyesyesnoyesyesnoyesyesyesyesnonoyesyesyesnonoyesnonoyesnoyesyesyesyesyesyesyesnoyesyesyesyesnoyesyesyesnoyesyesyesnoyesyesyesnoyesyesyesnononononoyesnoyesyesyesyesnononoyesyesyesyesyesyesyesnoyesnoyesyesyesyesnoyesyesyesnonoyesyesnoyesnoyesyesyesyesnoyesyesyesyesyesnonoyesnononoyesyesyesnoyesyesnoyesnoyesnoyes'",
      "\nThe above exception was the direct cause of the following exception:\n",
      "\u001b[1;31mTypeError\u001b[0m                                 Traceback (most recent call last)",
      "Cell \u001b[1;32mIn[35], line 6\u001b[0m\n\u001b[0;32m      2\u001b[0m \u001b[38;5;28mprint\u001b[39m(data\u001b[38;5;241m.\u001b[39misnull()\u001b[38;5;241m.\u001b[39msum())\n\u001b[0;32m      4\u001b[0m \u001b[38;5;66;03m# To handle missing values, you can either drop rows with missing data or fill them with a specific value or strategy.\u001b[39;00m\n\u001b[0;32m      5\u001b[0m \u001b[38;5;66;03m# For example, to fill missing values with the mean:\u001b[39;00m\n\u001b[1;32m----> 6\u001b[0m data\u001b[38;5;241m.\u001b[39mfillna(data\u001b[38;5;241m.\u001b[39mmean(), inplace\u001b[38;5;241m=\u001b[39m\u001b[38;5;28;01mTrue\u001b[39;00m)\n",
      "File \u001b[1;32m~\\anaconda3\\Lib\\site-packages\\pandas\\core\\generic.py:11556\u001b[0m, in \u001b[0;36mNDFrame._add_numeric_operations.<locals>.mean\u001b[1;34m(self, axis, skipna, numeric_only, **kwargs)\u001b[0m\n\u001b[0;32m  11539\u001b[0m \u001b[38;5;129m@doc\u001b[39m(\n\u001b[0;32m  11540\u001b[0m     _num_doc,\n\u001b[0;32m  11541\u001b[0m     desc\u001b[38;5;241m=\u001b[39m\u001b[38;5;124m\"\u001b[39m\u001b[38;5;124mReturn the mean of the values over the requested axis.\u001b[39m\u001b[38;5;124m\"\u001b[39m,\n\u001b[1;32m   (...)\u001b[0m\n\u001b[0;32m  11554\u001b[0m     \u001b[38;5;241m*\u001b[39m\u001b[38;5;241m*\u001b[39mkwargs,\n\u001b[0;32m  11555\u001b[0m ):\n\u001b[1;32m> 11556\u001b[0m     \u001b[38;5;28;01mreturn\u001b[39;00m NDFrame\u001b[38;5;241m.\u001b[39mmean(\u001b[38;5;28mself\u001b[39m, axis, skipna, numeric_only, \u001b[38;5;241m*\u001b[39m\u001b[38;5;241m*\u001b[39mkwargs)\n",
      "File \u001b[1;32m~\\anaconda3\\Lib\\site-packages\\pandas\\core\\generic.py:11201\u001b[0m, in \u001b[0;36mNDFrame.mean\u001b[1;34m(self, axis, skipna, numeric_only, **kwargs)\u001b[0m\n\u001b[0;32m  11194\u001b[0m \u001b[38;5;28;01mdef\u001b[39;00m \u001b[38;5;21mmean\u001b[39m(\n\u001b[0;32m  11195\u001b[0m     \u001b[38;5;28mself\u001b[39m,\n\u001b[0;32m  11196\u001b[0m     axis: Axis \u001b[38;5;241m|\u001b[39m \u001b[38;5;28;01mNone\u001b[39;00m \u001b[38;5;241m=\u001b[39m \u001b[38;5;241m0\u001b[39m,\n\u001b[1;32m   (...)\u001b[0m\n\u001b[0;32m  11199\u001b[0m     \u001b[38;5;241m*\u001b[39m\u001b[38;5;241m*\u001b[39mkwargs,\n\u001b[0;32m  11200\u001b[0m ) \u001b[38;5;241m-\u001b[39m\u001b[38;5;241m>\u001b[39m Series \u001b[38;5;241m|\u001b[39m \u001b[38;5;28mfloat\u001b[39m:\n\u001b[1;32m> 11201\u001b[0m     \u001b[38;5;28;01mreturn\u001b[39;00m \u001b[38;5;28mself\u001b[39m\u001b[38;5;241m.\u001b[39m_stat_function(\n\u001b[0;32m  11202\u001b[0m         \u001b[38;5;124m\"\u001b[39m\u001b[38;5;124mmean\u001b[39m\u001b[38;5;124m\"\u001b[39m, nanops\u001b[38;5;241m.\u001b[39mnanmean, axis, skipna, numeric_only, \u001b[38;5;241m*\u001b[39m\u001b[38;5;241m*\u001b[39mkwargs\n\u001b[0;32m  11203\u001b[0m     )\n",
      "File \u001b[1;32m~\\anaconda3\\Lib\\site-packages\\pandas\\core\\generic.py:11158\u001b[0m, in \u001b[0;36mNDFrame._stat_function\u001b[1;34m(self, name, func, axis, skipna, numeric_only, **kwargs)\u001b[0m\n\u001b[0;32m  11154\u001b[0m     nv\u001b[38;5;241m.\u001b[39mvalidate_stat_func((), kwargs, fname\u001b[38;5;241m=\u001b[39mname)\n\u001b[0;32m  11156\u001b[0m validate_bool_kwarg(skipna, \u001b[38;5;124m\"\u001b[39m\u001b[38;5;124mskipna\u001b[39m\u001b[38;5;124m\"\u001b[39m, none_allowed\u001b[38;5;241m=\u001b[39m\u001b[38;5;28;01mFalse\u001b[39;00m)\n\u001b[1;32m> 11158\u001b[0m \u001b[38;5;28;01mreturn\u001b[39;00m \u001b[38;5;28mself\u001b[39m\u001b[38;5;241m.\u001b[39m_reduce(\n\u001b[0;32m  11159\u001b[0m     func, name\u001b[38;5;241m=\u001b[39mname, axis\u001b[38;5;241m=\u001b[39maxis, skipna\u001b[38;5;241m=\u001b[39mskipna, numeric_only\u001b[38;5;241m=\u001b[39mnumeric_only\n\u001b[0;32m  11160\u001b[0m )\n",
      "File \u001b[1;32m~\\anaconda3\\Lib\\site-packages\\pandas\\core\\frame.py:10519\u001b[0m, in \u001b[0;36mDataFrame._reduce\u001b[1;34m(self, op, name, axis, skipna, numeric_only, filter_type, **kwds)\u001b[0m\n\u001b[0;32m  10515\u001b[0m     df \u001b[38;5;241m=\u001b[39m df\u001b[38;5;241m.\u001b[39mT\n\u001b[0;32m  10517\u001b[0m \u001b[38;5;66;03m# After possibly _get_data and transposing, we are now in the\u001b[39;00m\n\u001b[0;32m  10518\u001b[0m \u001b[38;5;66;03m#  simple case where we can use BlockManager.reduce\u001b[39;00m\n\u001b[1;32m> 10519\u001b[0m res \u001b[38;5;241m=\u001b[39m df\u001b[38;5;241m.\u001b[39m_mgr\u001b[38;5;241m.\u001b[39mreduce(blk_func)\n\u001b[0;32m  10520\u001b[0m out \u001b[38;5;241m=\u001b[39m df\u001b[38;5;241m.\u001b[39m_constructor(res)\u001b[38;5;241m.\u001b[39miloc[\u001b[38;5;241m0\u001b[39m]\n\u001b[0;32m  10521\u001b[0m \u001b[38;5;28;01mif\u001b[39;00m out_dtype \u001b[38;5;129;01mis\u001b[39;00m \u001b[38;5;129;01mnot\u001b[39;00m \u001b[38;5;28;01mNone\u001b[39;00m:\n",
      "File \u001b[1;32m~\\anaconda3\\Lib\\site-packages\\pandas\\core\\internals\\managers.py:1534\u001b[0m, in \u001b[0;36mBlockManager.reduce\u001b[1;34m(self, func)\u001b[0m\n\u001b[0;32m   1532\u001b[0m res_blocks: \u001b[38;5;28mlist\u001b[39m[Block] \u001b[38;5;241m=\u001b[39m []\n\u001b[0;32m   1533\u001b[0m \u001b[38;5;28;01mfor\u001b[39;00m blk \u001b[38;5;129;01min\u001b[39;00m \u001b[38;5;28mself\u001b[39m\u001b[38;5;241m.\u001b[39mblocks:\n\u001b[1;32m-> 1534\u001b[0m     nbs \u001b[38;5;241m=\u001b[39m blk\u001b[38;5;241m.\u001b[39mreduce(func)\n\u001b[0;32m   1535\u001b[0m     res_blocks\u001b[38;5;241m.\u001b[39mextend(nbs)\n\u001b[0;32m   1537\u001b[0m index \u001b[38;5;241m=\u001b[39m Index([\u001b[38;5;28;01mNone\u001b[39;00m])  \u001b[38;5;66;03m# placeholder\u001b[39;00m\n",
      "File \u001b[1;32m~\\anaconda3\\Lib\\site-packages\\pandas\\core\\internals\\blocks.py:339\u001b[0m, in \u001b[0;36mBlock.reduce\u001b[1;34m(self, func)\u001b[0m\n\u001b[0;32m    333\u001b[0m \u001b[38;5;129m@final\u001b[39m\n\u001b[0;32m    334\u001b[0m \u001b[38;5;28;01mdef\u001b[39;00m \u001b[38;5;21mreduce\u001b[39m(\u001b[38;5;28mself\u001b[39m, func) \u001b[38;5;241m-\u001b[39m\u001b[38;5;241m>\u001b[39m \u001b[38;5;28mlist\u001b[39m[Block]:\n\u001b[0;32m    335\u001b[0m     \u001b[38;5;66;03m# We will apply the function and reshape the result into a single-row\u001b[39;00m\n\u001b[0;32m    336\u001b[0m     \u001b[38;5;66;03m#  Block with the same mgr_locs; squeezing will be done at a higher level\u001b[39;00m\n\u001b[0;32m    337\u001b[0m     \u001b[38;5;28;01massert\u001b[39;00m \u001b[38;5;28mself\u001b[39m\u001b[38;5;241m.\u001b[39mndim \u001b[38;5;241m==\u001b[39m \u001b[38;5;241m2\u001b[39m\n\u001b[1;32m--> 339\u001b[0m     result \u001b[38;5;241m=\u001b[39m func(\u001b[38;5;28mself\u001b[39m\u001b[38;5;241m.\u001b[39mvalues)\n\u001b[0;32m    341\u001b[0m     \u001b[38;5;28;01mif\u001b[39;00m \u001b[38;5;28mself\u001b[39m\u001b[38;5;241m.\u001b[39mvalues\u001b[38;5;241m.\u001b[39mndim \u001b[38;5;241m==\u001b[39m \u001b[38;5;241m1\u001b[39m:\n\u001b[0;32m    342\u001b[0m         \u001b[38;5;66;03m# TODO(EA2D): special case not needed with 2D EAs\u001b[39;00m\n\u001b[0;32m    343\u001b[0m         res_values \u001b[38;5;241m=\u001b[39m np\u001b[38;5;241m.\u001b[39marray([[result]])\n",
      "File \u001b[1;32m~\\anaconda3\\Lib\\site-packages\\pandas\\core\\frame.py:10482\u001b[0m, in \u001b[0;36mDataFrame._reduce.<locals>.blk_func\u001b[1;34m(values, axis)\u001b[0m\n\u001b[0;32m  10480\u001b[0m     \u001b[38;5;28;01mreturn\u001b[39;00m values\u001b[38;5;241m.\u001b[39m_reduce(name, skipna\u001b[38;5;241m=\u001b[39mskipna, \u001b[38;5;241m*\u001b[39m\u001b[38;5;241m*\u001b[39mkwds)\n\u001b[0;32m  10481\u001b[0m \u001b[38;5;28;01melse\u001b[39;00m:\n\u001b[1;32m> 10482\u001b[0m     \u001b[38;5;28;01mreturn\u001b[39;00m op(values, axis\u001b[38;5;241m=\u001b[39maxis, skipna\u001b[38;5;241m=\u001b[39mskipna, \u001b[38;5;241m*\u001b[39m\u001b[38;5;241m*\u001b[39mkwds)\n",
      "File \u001b[1;32m~\\anaconda3\\Lib\\site-packages\\pandas\\core\\nanops.py:96\u001b[0m, in \u001b[0;36mdisallow.__call__.<locals>._f\u001b[1;34m(*args, **kwargs)\u001b[0m\n\u001b[0;32m     94\u001b[0m \u001b[38;5;28;01mtry\u001b[39;00m:\n\u001b[0;32m     95\u001b[0m     \u001b[38;5;28;01mwith\u001b[39;00m np\u001b[38;5;241m.\u001b[39merrstate(invalid\u001b[38;5;241m=\u001b[39m\u001b[38;5;124m\"\u001b[39m\u001b[38;5;124mignore\u001b[39m\u001b[38;5;124m\"\u001b[39m):\n\u001b[1;32m---> 96\u001b[0m         \u001b[38;5;28;01mreturn\u001b[39;00m f(\u001b[38;5;241m*\u001b[39margs, \u001b[38;5;241m*\u001b[39m\u001b[38;5;241m*\u001b[39mkwargs)\n\u001b[0;32m     97\u001b[0m \u001b[38;5;28;01mexcept\u001b[39;00m \u001b[38;5;167;01mValueError\u001b[39;00m \u001b[38;5;28;01mas\u001b[39;00m e:\n\u001b[0;32m     98\u001b[0m     \u001b[38;5;66;03m# we want to transform an object array\u001b[39;00m\n\u001b[0;32m     99\u001b[0m     \u001b[38;5;66;03m# ValueError message to the more typical TypeError\u001b[39;00m\n\u001b[0;32m    100\u001b[0m     \u001b[38;5;66;03m# e.g. this is normally a disallowed function on\u001b[39;00m\n\u001b[0;32m    101\u001b[0m     \u001b[38;5;66;03m# object arrays that contain strings\u001b[39;00m\n\u001b[0;32m    102\u001b[0m     \u001b[38;5;28;01mif\u001b[39;00m is_object_dtype(args[\u001b[38;5;241m0\u001b[39m]):\n",
      "File \u001b[1;32m~\\anaconda3\\Lib\\site-packages\\pandas\\core\\nanops.py:158\u001b[0m, in \u001b[0;36mbottleneck_switch.__call__.<locals>.f\u001b[1;34m(values, axis, skipna, **kwds)\u001b[0m\n\u001b[0;32m    156\u001b[0m         result \u001b[38;5;241m=\u001b[39m alt(values, axis\u001b[38;5;241m=\u001b[39maxis, skipna\u001b[38;5;241m=\u001b[39mskipna, \u001b[38;5;241m*\u001b[39m\u001b[38;5;241m*\u001b[39mkwds)\n\u001b[0;32m    157\u001b[0m \u001b[38;5;28;01melse\u001b[39;00m:\n\u001b[1;32m--> 158\u001b[0m     result \u001b[38;5;241m=\u001b[39m alt(values, axis\u001b[38;5;241m=\u001b[39maxis, skipna\u001b[38;5;241m=\u001b[39mskipna, \u001b[38;5;241m*\u001b[39m\u001b[38;5;241m*\u001b[39mkwds)\n\u001b[0;32m    160\u001b[0m \u001b[38;5;28;01mreturn\u001b[39;00m result\n",
      "File \u001b[1;32m~\\anaconda3\\Lib\\site-packages\\pandas\\core\\nanops.py:421\u001b[0m, in \u001b[0;36m_datetimelike_compat.<locals>.new_func\u001b[1;34m(values, axis, skipna, mask, **kwargs)\u001b[0m\n\u001b[0;32m    418\u001b[0m \u001b[38;5;28;01mif\u001b[39;00m datetimelike \u001b[38;5;129;01mand\u001b[39;00m mask \u001b[38;5;129;01mis\u001b[39;00m \u001b[38;5;28;01mNone\u001b[39;00m:\n\u001b[0;32m    419\u001b[0m     mask \u001b[38;5;241m=\u001b[39m isna(values)\n\u001b[1;32m--> 421\u001b[0m result \u001b[38;5;241m=\u001b[39m func(values, axis\u001b[38;5;241m=\u001b[39maxis, skipna\u001b[38;5;241m=\u001b[39mskipna, mask\u001b[38;5;241m=\u001b[39mmask, \u001b[38;5;241m*\u001b[39m\u001b[38;5;241m*\u001b[39mkwargs)\n\u001b[0;32m    423\u001b[0m \u001b[38;5;28;01mif\u001b[39;00m datetimelike:\n\u001b[0;32m    424\u001b[0m     result \u001b[38;5;241m=\u001b[39m _wrap_results(result, orig_values\u001b[38;5;241m.\u001b[39mdtype, fill_value\u001b[38;5;241m=\u001b[39miNaT)\n",
      "File \u001b[1;32m~\\anaconda3\\Lib\\site-packages\\pandas\\core\\nanops.py:727\u001b[0m, in \u001b[0;36mnanmean\u001b[1;34m(values, axis, skipna, mask)\u001b[0m\n\u001b[0;32m    724\u001b[0m     dtype_count \u001b[38;5;241m=\u001b[39m dtype\n\u001b[0;32m    726\u001b[0m count \u001b[38;5;241m=\u001b[39m _get_counts(values\u001b[38;5;241m.\u001b[39mshape, mask, axis, dtype\u001b[38;5;241m=\u001b[39mdtype_count)\n\u001b[1;32m--> 727\u001b[0m the_sum \u001b[38;5;241m=\u001b[39m _ensure_numeric(values\u001b[38;5;241m.\u001b[39msum(axis, dtype\u001b[38;5;241m=\u001b[39mdtype_sum))\n\u001b[0;32m    729\u001b[0m \u001b[38;5;28;01mif\u001b[39;00m axis \u001b[38;5;129;01mis\u001b[39;00m \u001b[38;5;129;01mnot\u001b[39;00m \u001b[38;5;28;01mNone\u001b[39;00m \u001b[38;5;129;01mand\u001b[39;00m \u001b[38;5;28mgetattr\u001b[39m(the_sum, \u001b[38;5;124m\"\u001b[39m\u001b[38;5;124mndim\u001b[39m\u001b[38;5;124m\"\u001b[39m, \u001b[38;5;28;01mFalse\u001b[39;00m):\n\u001b[0;32m    730\u001b[0m     count \u001b[38;5;241m=\u001b[39m cast(np\u001b[38;5;241m.\u001b[39mndarray, count)\n",
      "File \u001b[1;32m~\\anaconda3\\Lib\\site-packages\\pandas\\core\\nanops.py:1686\u001b[0m, in \u001b[0;36m_ensure_numeric\u001b[1;34m(x)\u001b[0m\n\u001b[0;32m   1683\u001b[0m         x \u001b[38;5;241m=\u001b[39m x\u001b[38;5;241m.\u001b[39mastype(np\u001b[38;5;241m.\u001b[39mfloat64)\n\u001b[0;32m   1684\u001b[0m     \u001b[38;5;28;01mexcept\u001b[39;00m \u001b[38;5;167;01mValueError\u001b[39;00m \u001b[38;5;28;01mas\u001b[39;00m err:\n\u001b[0;32m   1685\u001b[0m         \u001b[38;5;66;03m# GH#29941 we get here with object arrays containing strs\u001b[39;00m\n\u001b[1;32m-> 1686\u001b[0m         \u001b[38;5;28;01mraise\u001b[39;00m \u001b[38;5;167;01mTypeError\u001b[39;00m(\u001b[38;5;124mf\u001b[39m\u001b[38;5;124m\"\u001b[39m\u001b[38;5;124mCould not convert \u001b[39m\u001b[38;5;132;01m{\u001b[39;00mx\u001b[38;5;132;01m}\u001b[39;00m\u001b[38;5;124m to numeric\u001b[39m\u001b[38;5;124m\"\u001b[39m) \u001b[38;5;28;01mfrom\u001b[39;00m \u001b[38;5;21;01merr\u001b[39;00m\n\u001b[0;32m   1687\u001b[0m \u001b[38;5;28;01melse\u001b[39;00m:\n\u001b[0;32m   1688\u001b[0m     \u001b[38;5;28;01mif\u001b[39;00m \u001b[38;5;129;01mnot\u001b[39;00m np\u001b[38;5;241m.\u001b[39many(np\u001b[38;5;241m.\u001b[39mimag(x)):\n",
      "\u001b[1;31mTypeError\u001b[0m: Could not convert ['yesyesyesyesyesyesyesyesyesyesyesyesyesyesyesyesyesyesyesyesyesyesyesyesyesyesyesyesyesyesyesyesyesyesyesyesyesyesyesyesyesyesyesyesyesyesyesyesyesyesyesyesyesyesyesyesyesyesyesyesyesyesyesyesyesyesyesyesyesyesyesyesyesyesyesyesyesyesyesyesyesyesyesyesyesyesyesyesyesyesyesyesyesyesyesyesyesyesyesyesyesyesyesyesyesyesyesyesyesyesyesyesyesyesyesyesyesyesyesyesyesyesyesyesyesyesyesyesyesyesyesyesyesyesyesyesyesyesyesyesyesyesyesnoyesyesyesyesyesyesyesyesyesyesyesyesyesnoyesyesyesyesyesyesyesyesyesyesyesnoyesyesyesyesyesyesyesyesyesyesnoyesnoyesyesyesyesyesyesnoyesyesyesyesyesyesyesnoyesyesyesnoyesyesyesyesyesyesyesyesyesyesyesyesyesyesyesyesyesyesyesyesyesyesyesyesyesyesyesyesyesyesyesyesyesyesyesyesyesyesyesyesyesyesyesyesyesyesyesyesyesyesyesyesyesyesyesyesyesyesyesyesyesnoyesyesyesyesyesyesyesnoyesyesyesyesyesyesyesyesyesyesnoyesyesyesyesyesyesyesnoyesnonononoyesyesyesyesyesyesyesyesyesyesyesyesyesyesyesyesyesyesyesyesnoyesyesyesyesyesyesyesnoyesnononoyesyesyesyesyesyesyesyesyesyesyesyesyesyesyesyesyesyesyesnoyesyesyesyesyesyesyesnonoyesyesyesyesyesyesnoyesyesyesnoyesyesyesnoyesyesyesyesnoyesyesyesyesyesyesnoyesyesyesyesyesnoyesyesnonoyesyesyesyesyesyesyesyesyesnoyesyesyesyesyesyesyesyesyesyesyesyesyesyesnoyesyesnoyesnoyesnoyesyesyesnoyesyesnoyesyesyesyesnonoyesyesyesnonoyesnonoyesnoyesyesyesyesyesyesyesnoyesyesyesyesnoyesyesyesnoyesyesyesnoyesyesyesnoyesyesyesnononononoyesnoyesyesyesyesnononoyesyesyesyesyesyesyesnoyesnoyesyesyesyesnoyesyesyesnonoyesyesnoyesnoyesyesyesyesnoyesyesyesyesyesnonoyesnononoyesyesyesnoyesyesnoyesnoyesnoyes'\n 'nonononoyesnononoyesyesnoyesnonononoyesnoyesnonoyesyesyesnoyesyesnonononononoyesyesnononoyesnonononononononononoyesnonoyesnoyesnonoyesyesyesyesnononononononononononononononononoyesyesnonononononononoyesnonoyesyesnonononoyesnoyesnonoyesyesyesnonononoyesyesnononoyesyesyesyesnonoyesyesnonononononoyesnoyesyesnononononononoyesnoyesnonoyesnononononoyesnoyesnononoyesyesnoyesyesyesyesyesyesyesnonononononoyesnoyesyesnonoyesnonoyesnonoyesnonononoyesnoyesyesyesyesnoyesnonononoyesnonoyesnoyesnononoyesnonononononononononononononononononoyesnononoyesnoyesyesnononononononoyesnononoyesyesnonononononononononononoyesnononononononononoyesnononononononononoyesnonoyesnononoyesnonononononononononononononononononononononononononononononononononononononononoyesyesyesnononononoyesnononononononoyesnonononononononononononononononononononononononononononoyesnononononononononononononononononononononononononononononononononononononononoyesnonononononononononononononononoyesnononononononononononononoyesnonononononononononononononononoyesnononononononononononononononononononononononononononononononononononoyesnonononononononononononononononoyesnoyesnononononononononononononononononononononononononono'\n 'nonoyesyesyesyesnonoyesnoyesyesnononoyesyesnononoyesyesyesyesnoyesyesnoyesyesnononoyesyesnononononoyesnononononononoyesyesnonononononoyesnononononononoyesyesyesnononoyesnonoyesyesnononoyesnonoyesyesnononoyesyesyesnonoyesnoyesnonoyesyesnoyesyesnononoyesnoyesyesnonoyesnonoyesyesyesyesnoyesyesyesyesyesnononoyesnononoyesnononoyesnonononoyesnoyesnoyesyesnonononoyesyesnoyesyesnoyesyesyesnoyesnonoyesyesyesyesyesnoyesnoyesnoyesnoyesnonoyesyesnoyesyesnonoyesyesnoyesnoyesnoyesyesyesyesyesyesyesnonoyesyesyesnoyesnoyesyesnonoyesnoyesyesyesnonononoyesyesnoyesyesnononoyesnoyesnonoyesyesyesnoyesyesyesnonononoyesyesnononoyesyesnoyesnononononononoyesnonoyesnoyesnonononononoyesyesnonoyesnonoyesnononoyesnononoyesnoyesyesnoyesnononononoyesnononononoyesyesnononoyesnoyesyesyesnononoyesnonoyesnonoyesnoyesnoyesnoyesnoyesyesyesnonoyesnoyesyesnonoyesnononoyesnonoyesnononononononoyesnononononononoyesnoyesnonononoyesyesnoyesyesnoyesnonononoyesyesnononononononoyesnonononononononononononononononononononoyesyesnoyesyesnononononononoyesyesnoyesnononoyesyesnononoyesnononoyesnononononoyesyesnoyesyesnonononoyesnononononoyesyesyesnonononononononononononoyesnononononononononononononononoyesnonononononononononononononononoyesnononononoyesnononononononononononoyesnoyesnonononononononononoyesnononono'\n 'nononononononononononoyesnoyesnonononononoyesnononononononoyesnononononononoyesnononononononononononononononononononononononononononononoyesnononononononoyesyesnonononoyesnononoyesnonononononononononononononononononononononononoyesnononononononononononononononononononononononononononononononononoyesnononononononononononononononononononononoyesnonononononononononononononononononononononononononononononoyesnononononononononononononononononononononononononononononononononononononononononononononononononononononononononononononononononononononononononoyesnononononononononononononononononononononononononononoyesnonononononononononononononononononononononoyesnonononononononononononoyesnononononononononononononononoyesnonononononononononononoyesyesnononononononononononononoyesnononononononononononononononononononononononononononononononononononononononononononononononononononononononononononononononononononononononononononononononononononononoyesnononononononononononononononononononononononononoyesnononononononononononononononononononononononononononononononononononononononoyesnononononononononononononono'\n 'yesyesnoyesyesyesyesnoyesyesyesnoyesnononoyesyesyesyesnoyesyesyesyesyesyesnonoyesyesyesyesnoyesyesnoyesyesyesyesyesyesnoyesyesyesyesnoyesnoyesyesyesyesyesnoyesyesyesnoyesyesyesyesyesnonoyesnoyesyesyesnononoyesyesyesyesnoyesyesyesnoyesnonoyesnoyesnoyesyesnoyesnoyesyesnoyesnoyesyesnoyesyesnonononoyesnononoyesnoyesyesyesnoyesnononoyesnoyesyesnononoyesyesnoyesyesnoyesyesyesnononoyesnononononoyesyesyesnonononononoyesyesyesnoyesnonoyesyesyesyesnonoyesyesnonoyesnononoyesnoyesnonononoyesyesnoyesnonononononoyesyesnoyesyesnononoyesyesyesnonononoyesnonononoyesyesnoyesnoyesyesyesyesyesyesnononononoyesnoyesnonononononoyesnononononononononononoyesyesnononoyesyesnononononononoyesnonononononononononononoyesyesnonononoyesyesnonoyesnonononoyesnonononononononononononoyesnonoyesnonoyesnononoyesnonoyesnoyesyesnoyesyesnonononononoyesyesnononononoyesnononononononononononononoyesnonononononononononoyesnonoyesnonoyesnonononoyesnonononononononoyesnonononononoyesnonononononononononononononononononononoyesnonoyesnononoyesnononononononoyesyesnonononononononononoyesnononononononononononoyesnonoyesnononoyesnonononononononononononononononononononononononononononononononononononononononononoyesyesnononononononononononononononononononononononononoyesnonononononononononononono'\n 'yesnoyesyesnoyesyesnoyesyesyesnoyesnoyesnoyesnonoyesnononononoyesyesnonoyesnonoyesnononoyesnononoyesyesnononononoyesnoyesyesnononononoyesyesnononononoyesyesnonononoyesyesnoyesyesnonoyesyesyesnoyesnoyesnononoyesnoyesnonoyesnonononoyesyesyesyesyesyesnonoyesnoyesyesnonoyesnonoyesnoyesyesnoyesyesyesyesyesnononoyesnonoyesnonononoyesnonononoyesnoyesnonononononoyesyesyesyesyesnonoyesyesnonononoyesyesyesyesnoyesnonononoyesyesyesyesnonoyesyesnonoyesnoyesnonoyesyesyesnononoyesnononononononononononononononononononononononoyesyesyesnononononoyesnononononoyesyesnonononoyesnononoyesnononoyesyesyesnonoyesnononoyesnononononononononononoyesyesnonononononononononoyesyesnononononononoyesnonononononononononononononoyesyesnononononononononoyesnononononononoyesnononononononononoyesnonononononoyesnononononononoyesyesnonononononoyesnonononoyesnonononononononononononononononononoyesyesyesnoyesnonononononononononononononononononoyesyesnonononoyesyesnononoyesyesyesnononononononononononononoyesnonononononononoyesnononononononononononononononononononoyesnonononononononononononononononononononononononononononononononononononononononononononononononononononononononononononononononononononononononononoyesnonononononononononononono'\n 'furnishedfurnishedsemi-furnishedfurnishedfurnishedsemi-furnishedsemi-furnishedunfurnishedfurnishedunfurnishedfurnishedsemi-furnishedsemi-furnishedfurnishedsemi-furnishedsemi-furnishedunfurnishedfurnishedfurnishedsemi-furnishedsemi-furnishedunfurnishedfurnishedfurnishedfurnishedfurnishedsemi-furnishedsemi-furnishedunfurnishedsemi-furnishedunfurnishedsemi-furnishedfurnishedunfurnishedfurnishedfurnishedfurnishedfurnishedunfurnishedsemi-furnishedfurnishedfurnishedunfurnishedsemi-furnishedfurnishedsemi-furnishedfurnishedfurnishedunfurnishedsemi-furnishedunfurnishedunfurnishedfurnishedsemi-furnishedsemi-furnishedunfurnishedsemi-furnishedfurnishedsemi-furnishedfurnishedsemi-furnishedsemi-furnishedfurnishedfurnishedfurnishedfurnishedfurnishedunfurnishedfurnishedfurnishedsemi-furnishedunfurnishedunfurnishedfurnishedfurnishedsemi-furnishedfurnishedfurnishedfurnishedfurnishedsemi-furnishedsemi-furnishedfurnishedsemi-furnishedsemi-furnishedfurnishedunfurnishedsemi-furnishedunfurnishedfurnishedsemi-furnishedfurnishedfurnishedsemi-furnishedsemi-furnishedsemi-furnishedfurnishedsemi-furnishedunfurnishedunfurnishedunfurnishedunfurnishedsemi-furnishedfurnishedfurnishedunfurnishedsemi-furnishedunfurnishedsemi-furnishedsemi-furnishedsemi-furnishedunfurnishedfurnishedfurnishedfurnishedsemi-furnishedunfurnishedfurnishedfurnishedsemi-furnishedfurnishedsemi-furnishedsemi-furnishedfurnishedfurnishedsemi-furnishedunfurnishedunfurnishedfurnishedsemi-furnishedunfurnishedsemi-furnishedsemi-furnishedunfurnishedsemi-furnishedunfurnishedunfurnishedsemi-furnishedsemi-furnishedfurnishedunfurnishedsemi-furnishedsemi-furnishedunfurnishedfurnishedfurnishedsemi-furnishedsemi-furnishedsemi-furnishedsemi-furnishedunfurnishedsemi-furnishedfurnishedsemi-furnishedsemi-furnishedfurnishedsemi-furnishedfurnishedsemi-furnishedfurnishedfurnishedsemi-furnishedsemi-furnishedsemi-furnishedfurnishedunfurnishedunfurnishedsemi-furnishedfurnishedsemi-furnishedsemi-furnishedsemi-furnishedunfurnishedunfurnishedunfurnishedsemi-furnishedfurnishedsemi-furnishedsemi-furnishedsemi-furnishedsemi-furnishedfurnishedsemi-furnishedsemi-furnishedfurnishedunfurnishedfurnishedsemi-furnishedunfurnishedsemi-furnishedfurnishedsemi-furnishedfurnishedsemi-furnishedsemi-furnishedsemi-furnishedsemi-furnishedsemi-furnishedsemi-furnishedfurnishedsemi-furnishedsemi-furnishedsemi-furnishedsemi-furnishedsemi-furnishedsemi-furnishedsemi-furnishedsemi-furnishedsemi-furnishedunfurnishedsemi-furnishedfurnishedsemi-furnishedsemi-furnishedunfurnishedunfurnishedsemi-furnishedfurnishedsemi-furnishedunfurnishedsemi-furnishedsemi-furnishedsemi-furnishedfurnishedunfurnishedsemi-furnishedsemi-furnishedfurnishedsemi-furnishedsemi-furnishedsemi-furnishedsemi-furnishedfurnishedunfurnishedsemi-furnishedsemi-furnishedsemi-furnishedsemi-furnishedsemi-furnishedfurnishedsemi-furnishedsemi-furnishedfurnishedfurnishedsemi-furnishedunfurnishedsemi-furnishedunfurnishedsemi-furnishedfurnishedsemi-furnishedsemi-furnishedsemi-furnishedfurnishedsemi-furnishedunfurnishedfurnishedfurnishedsemi-furnishedfurnishedfurnishedsemi-furnishedsemi-furnishedsemi-furnishedsemi-furnishedsemi-furnishedunfurnishedsemi-furnishedsemi-furnishedunfurnishedfurnishedsemi-furnishedsemi-furnishedfurnishedsemi-furnishedfurnishedsemi-furnishedsemi-furnishedsemi-furnishedfurnishedunfurnishedfurnishedunfurnishedfurnishedfurnishedsemi-furnishedfurnishedunfurnishedunfurnishedsemi-furnishedsemi-furnishedunfurnishedsemi-furnishedunfurnishedsemi-furnishedsemi-furnishedsemi-furnishedunfurnishedsemi-furnishedfurnishedsemi-furnishedsemi-furnishedunfurnishedfurnishedsemi-furnishedsemi-furnishedsemi-furnishedsemi-furnishedsemi-furnishedsemi-furnishedsemi-furnishedsemi-furnishedfurnishedsemi-furnishedsemi-furnishedsemi-furnishedunfurnishedunfurnishedsemi-furnishedsemi-furnishedfurnishedsemi-furnishedfurnishedsemi-furnishedsemi-furnishedsemi-furnishedunfurnishedsemi-furnishedsemi-furnishedfurnishedunfurnishedfurnishedsemi-furnishedsemi-furnishedfurnishedfurnishedsemi-furnishedunfurnishedsemi-furnishedfurnishedsemi-furnishedsemi-furnishedfurnishedsemi-furnishedsemi-furnishedsemi-furnishedsemi-furnishedunfurnishedsemi-furnishedsemi-furnishedsemi-furnishedsemi-furnishedunfurnishedfurnishedfurnishedfurnishedfurnishedfurnishedsemi-furnishedunfurnishedsemi-furnishedsemi-furnishedfurnishedsemi-furnishedsemi-furnishedfurnishedfurnishedunfurnishedsemi-furnishedfurnishedsemi-furnishedsemi-furnishedsemi-furnishedfurnishedsemi-furnishedunfurnishedsemi-furnishedunfurnishedsemi-furnishedunfurnishedsemi-furnishedsemi-furnishedfurnishedfurnishedfurnishedunfurnishedunfurnishedsemi-furnishedunfurnishedsemi-furnishedunfurnishedsemi-furnishedsemi-furnishedunfurnishedunfurnishedunfurnishedsemi-furnishedfurnishedunfurnishedsemi-furnishedunfurnishedunfurnishedunfurnishedunfurnishedunfurnishedunfurnishedunfurnishedfurnishedunfurnishedunfurnishedunfurnishedfurnishedunfurnishedunfurnishedunfurnishedfurnishedunfurnishedfurnishedunfurnishedsemi-furnishedunfurnishedunfurnishedunfurnishedunfurnishedsemi-furnishedfurnishedfurnishedfurnishedunfurnishedunfurnishedunfurnishedunfurnishedfurnishedsemi-furnishedsemi-furnishedunfurnishedfurnishedunfurnishedsemi-furnishedunfurnishedunfurnishedunfurnishedunfurnishedunfurnishedfurnishedfurnishedunfurnishedsemi-furnishedsemi-furnishedunfurnishedsemi-furnishedsemi-furnishedsemi-furnishedunfurnishedunfurnishedunfurnishedsemi-furnishedunfurnishedunfurnishedunfurnishedunfurnishedunfurnishedsemi-furnishedunfurnishedsemi-furnishedunfurnishedsemi-furnishedsemi-furnishedsemi-furnishedfurnishedunfurnishedunfurnishedsemi-furnishedunfurnishedunfurnishedsemi-furnishedunfurnishedunfurnishedunfurnishedunfurnishedsemi-furnishedfurnishedunfurnishedsemi-furnishedunfurnishedunfurnishedsemi-furnishedunfurnishedunfurnishedsemi-furnishedunfurnishedfurnishedunfurnishedfurnishedunfurnishedunfurnishedunfurnishedunfurnishedsemi-furnishedunfurnishedunfurnishedunfurnishedsemi-furnishedsemi-furnishedunfurnishedunfurnishedunfurnishedunfurnishedunfurnishedfurnishedunfurnishedunfurnishedfurnishedunfurnishedsemi-furnishedunfurnishedunfurnishedunfurnishedunfurnishedunfurnishedunfurnishedunfurnishedfurnishedfurnishedunfurnishedunfurnishedunfurnishedsemi-furnishedunfurnishedunfurnishedunfurnishedunfurnishedunfurnishedunfurnishedunfurnishedunfurnishedunfurnishedunfurnishedunfurnishedunfurnishedunfurnishedsemi-furnishedunfurnishedfurnishedunfurnished'] to numeric"
     ]
    }
   ],
   "source": [
    "# Check for missing values in the dataset\n",
    "print(data.isnull().sum())\n",
    "\n",
    "# To handle missing values, you can either drop rows with missing data or fill them with a specific value or strategy.\n",
    "# For example, to fill missing values with the mean:\n",
    "data.fillna(data.mean(), inplace=True)\n"
   ]
  },
  {
   "cell_type": "code",
   "execution_count": 36,
   "id": "d94d7816",
   "metadata": {},
   "outputs": [
    {
     "ename": "TypeError",
     "evalue": "unsupported operand type(s) for /: 'str' and 'int'",
     "output_type": "error",
     "traceback": [
      "\u001b[1;31m---------------------------------------------------------------------------\u001b[0m",
      "\u001b[1;31mTypeError\u001b[0m                                 Traceback (most recent call last)",
      "Cell \u001b[1;32mIn[36], line 3\u001b[0m\n\u001b[0;32m      1\u001b[0m \u001b[38;5;28;01mfrom\u001b[39;00m \u001b[38;5;21;01mscipy\u001b[39;00m \u001b[38;5;28;01mimport\u001b[39;00m stats\n\u001b[1;32m----> 3\u001b[0m z_scores \u001b[38;5;241m=\u001b[39m np\u001b[38;5;241m.\u001b[39mabs(stats\u001b[38;5;241m.\u001b[39mzscore(data))\n\u001b[0;32m      4\u001b[0m threshold \u001b[38;5;241m=\u001b[39m \u001b[38;5;241m3\u001b[39m\n\u001b[0;32m      5\u001b[0m data_no_outliers \u001b[38;5;241m=\u001b[39m data[(z_scores \u001b[38;5;241m<\u001b[39m threshold)\u001b[38;5;241m.\u001b[39mall(axis\u001b[38;5;241m=\u001b[39m\u001b[38;5;241m1\u001b[39m)]\n",
      "File \u001b[1;32m~\\anaconda3\\Lib\\site-packages\\scipy\\stats\\_stats_py.py:2973\u001b[0m, in \u001b[0;36mzscore\u001b[1;34m(a, axis, ddof, nan_policy)\u001b[0m\n\u001b[0;32m   2891\u001b[0m \u001b[38;5;28;01mdef\u001b[39;00m \u001b[38;5;21mzscore\u001b[39m(a, axis\u001b[38;5;241m=\u001b[39m\u001b[38;5;241m0\u001b[39m, ddof\u001b[38;5;241m=\u001b[39m\u001b[38;5;241m0\u001b[39m, nan_policy\u001b[38;5;241m=\u001b[39m\u001b[38;5;124m'\u001b[39m\u001b[38;5;124mpropagate\u001b[39m\u001b[38;5;124m'\u001b[39m):\n\u001b[0;32m   2892\u001b[0m \u001b[38;5;250m    \u001b[39m\u001b[38;5;124;03m\"\"\"\u001b[39;00m\n\u001b[0;32m   2893\u001b[0m \u001b[38;5;124;03m    Compute the z score.\u001b[39;00m\n\u001b[0;32m   2894\u001b[0m \n\u001b[1;32m   (...)\u001b[0m\n\u001b[0;32m   2971\u001b[0m \u001b[38;5;124;03m           [-0.91611681, -0.89090508,  1.4983032 ,  0.88731639, -0.5785977 ]])\u001b[39;00m\n\u001b[0;32m   2972\u001b[0m \u001b[38;5;124;03m    \"\"\"\u001b[39;00m\n\u001b[1;32m-> 2973\u001b[0m     \u001b[38;5;28;01mreturn\u001b[39;00m zmap(a, a, axis\u001b[38;5;241m=\u001b[39maxis, ddof\u001b[38;5;241m=\u001b[39mddof, nan_policy\u001b[38;5;241m=\u001b[39mnan_policy)\n",
      "File \u001b[1;32m~\\anaconda3\\Lib\\site-packages\\scipy\\stats\\_stats_py.py:3137\u001b[0m, in \u001b[0;36mzmap\u001b[1;34m(scores, compare, axis, ddof, nan_policy)\u001b[0m\n\u001b[0;32m   3135\u001b[0m         isconst \u001b[38;5;241m=\u001b[39m np\u001b[38;5;241m.\u001b[39mapply_along_axis(_isconst, axis, a)\n\u001b[0;32m   3136\u001b[0m \u001b[38;5;28;01melse\u001b[39;00m:\n\u001b[1;32m-> 3137\u001b[0m     mn \u001b[38;5;241m=\u001b[39m a\u001b[38;5;241m.\u001b[39mmean(axis\u001b[38;5;241m=\u001b[39maxis, keepdims\u001b[38;5;241m=\u001b[39m\u001b[38;5;28;01mTrue\u001b[39;00m)\n\u001b[0;32m   3138\u001b[0m     std \u001b[38;5;241m=\u001b[39m a\u001b[38;5;241m.\u001b[39mstd(axis\u001b[38;5;241m=\u001b[39maxis, ddof\u001b[38;5;241m=\u001b[39mddof, keepdims\u001b[38;5;241m=\u001b[39m\u001b[38;5;28;01mTrue\u001b[39;00m)\n\u001b[0;32m   3139\u001b[0m     \u001b[38;5;28;01mif\u001b[39;00m axis \u001b[38;5;129;01mis\u001b[39;00m \u001b[38;5;28;01mNone\u001b[39;00m:\n",
      "File \u001b[1;32m~\\anaconda3\\Lib\\site-packages\\numpy\\core\\_methods.py:184\u001b[0m, in \u001b[0;36m_mean\u001b[1;34m(a, axis, dtype, out, keepdims, where)\u001b[0m\n\u001b[0;32m    182\u001b[0m \u001b[38;5;28;01mif\u001b[39;00m \u001b[38;5;28misinstance\u001b[39m(ret, mu\u001b[38;5;241m.\u001b[39mndarray):\n\u001b[0;32m    183\u001b[0m     \u001b[38;5;28;01mwith\u001b[39;00m _no_nep50_warning():\n\u001b[1;32m--> 184\u001b[0m         ret \u001b[38;5;241m=\u001b[39m um\u001b[38;5;241m.\u001b[39mtrue_divide(\n\u001b[0;32m    185\u001b[0m                 ret, rcount, out\u001b[38;5;241m=\u001b[39mret, casting\u001b[38;5;241m=\u001b[39m\u001b[38;5;124m'\u001b[39m\u001b[38;5;124munsafe\u001b[39m\u001b[38;5;124m'\u001b[39m, subok\u001b[38;5;241m=\u001b[39m\u001b[38;5;28;01mFalse\u001b[39;00m)\n\u001b[0;32m    186\u001b[0m     \u001b[38;5;28;01mif\u001b[39;00m is_float16_result \u001b[38;5;129;01mand\u001b[39;00m out \u001b[38;5;129;01mis\u001b[39;00m \u001b[38;5;28;01mNone\u001b[39;00m:\n\u001b[0;32m    187\u001b[0m         ret \u001b[38;5;241m=\u001b[39m arr\u001b[38;5;241m.\u001b[39mdtype\u001b[38;5;241m.\u001b[39mtype(ret)\n",
      "\u001b[1;31mTypeError\u001b[0m: unsupported operand type(s) for /: 'str' and 'int'"
     ]
    }
   ],
   "source": [
    "from scipy import stats\n",
    "\n",
    "z_scores = np.abs(stats.zscore(data))\n",
    "threshold = 3\n",
    "data_no_outliers = data[(z_scores < threshold).all(axis=1)]\n"
   ]
  },
  {
   "cell_type": "code",
   "execution_count": 34,
   "id": "c86a63d2",
   "metadata": {},
   "outputs": [
    {
     "ename": "KeyError",
     "evalue": "\"['target_column'] not found in axis\"",
     "output_type": "error",
     "traceback": [
      "\u001b[1;31m---------------------------------------------------------------------------\u001b[0m",
      "\u001b[1;31mKeyError\u001b[0m                                  Traceback (most recent call last)",
      "Cell \u001b[1;32mIn[34], line 4\u001b[0m\n\u001b[0;32m      1\u001b[0m \u001b[38;5;28;01mfrom\u001b[39;00m \u001b[38;5;21;01msklearn\u001b[39;00m\u001b[38;5;21;01m.\u001b[39;00m\u001b[38;5;21;01mmodel_selection\u001b[39;00m \u001b[38;5;28;01mimport\u001b[39;00m train_test_split\n\u001b[0;32m      3\u001b[0m \u001b[38;5;66;03m# Define your features (X) and target variable (y)\u001b[39;00m\n\u001b[1;32m----> 4\u001b[0m X \u001b[38;5;241m=\u001b[39m data\u001b[38;5;241m.\u001b[39mdrop(\u001b[38;5;124m'\u001b[39m\u001b[38;5;124mtarget_column\u001b[39m\u001b[38;5;124m'\u001b[39m, axis\u001b[38;5;241m=\u001b[39m\u001b[38;5;241m1\u001b[39m)  \u001b[38;5;66;03m# Replace 'target_column' with the actual target column name\u001b[39;00m\n\u001b[0;32m      5\u001b[0m y \u001b[38;5;241m=\u001b[39m data[\u001b[38;5;124m'\u001b[39m\u001b[38;5;124mtarget_column\u001b[39m\u001b[38;5;124m'\u001b[39m]\n\u001b[0;32m      7\u001b[0m \u001b[38;5;66;03m# Split the data into training and testing sets (e.g., 80% train, 20% test)\u001b[39;00m\n",
      "File \u001b[1;32m~\\anaconda3\\Lib\\site-packages\\pandas\\core\\frame.py:5258\u001b[0m, in \u001b[0;36mDataFrame.drop\u001b[1;34m(self, labels, axis, index, columns, level, inplace, errors)\u001b[0m\n\u001b[0;32m   5110\u001b[0m \u001b[38;5;28;01mdef\u001b[39;00m \u001b[38;5;21mdrop\u001b[39m(\n\u001b[0;32m   5111\u001b[0m     \u001b[38;5;28mself\u001b[39m,\n\u001b[0;32m   5112\u001b[0m     labels: IndexLabel \u001b[38;5;241m=\u001b[39m \u001b[38;5;28;01mNone\u001b[39;00m,\n\u001b[1;32m   (...)\u001b[0m\n\u001b[0;32m   5119\u001b[0m     errors: IgnoreRaise \u001b[38;5;241m=\u001b[39m \u001b[38;5;124m\"\u001b[39m\u001b[38;5;124mraise\u001b[39m\u001b[38;5;124m\"\u001b[39m,\n\u001b[0;32m   5120\u001b[0m ) \u001b[38;5;241m-\u001b[39m\u001b[38;5;241m>\u001b[39m DataFrame \u001b[38;5;241m|\u001b[39m \u001b[38;5;28;01mNone\u001b[39;00m:\n\u001b[0;32m   5121\u001b[0m \u001b[38;5;250m    \u001b[39m\u001b[38;5;124;03m\"\"\"\u001b[39;00m\n\u001b[0;32m   5122\u001b[0m \u001b[38;5;124;03m    Drop specified labels from rows or columns.\u001b[39;00m\n\u001b[0;32m   5123\u001b[0m \n\u001b[1;32m   (...)\u001b[0m\n\u001b[0;32m   5256\u001b[0m \u001b[38;5;124;03m            weight  1.0     0.8\u001b[39;00m\n\u001b[0;32m   5257\u001b[0m \u001b[38;5;124;03m    \"\"\"\u001b[39;00m\n\u001b[1;32m-> 5258\u001b[0m     \u001b[38;5;28;01mreturn\u001b[39;00m \u001b[38;5;28msuper\u001b[39m()\u001b[38;5;241m.\u001b[39mdrop(\n\u001b[0;32m   5259\u001b[0m         labels\u001b[38;5;241m=\u001b[39mlabels,\n\u001b[0;32m   5260\u001b[0m         axis\u001b[38;5;241m=\u001b[39maxis,\n\u001b[0;32m   5261\u001b[0m         index\u001b[38;5;241m=\u001b[39mindex,\n\u001b[0;32m   5262\u001b[0m         columns\u001b[38;5;241m=\u001b[39mcolumns,\n\u001b[0;32m   5263\u001b[0m         level\u001b[38;5;241m=\u001b[39mlevel,\n\u001b[0;32m   5264\u001b[0m         inplace\u001b[38;5;241m=\u001b[39minplace,\n\u001b[0;32m   5265\u001b[0m         errors\u001b[38;5;241m=\u001b[39merrors,\n\u001b[0;32m   5266\u001b[0m     )\n",
      "File \u001b[1;32m~\\anaconda3\\Lib\\site-packages\\pandas\\core\\generic.py:4549\u001b[0m, in \u001b[0;36mNDFrame.drop\u001b[1;34m(self, labels, axis, index, columns, level, inplace, errors)\u001b[0m\n\u001b[0;32m   4547\u001b[0m \u001b[38;5;28;01mfor\u001b[39;00m axis, labels \u001b[38;5;129;01min\u001b[39;00m axes\u001b[38;5;241m.\u001b[39mitems():\n\u001b[0;32m   4548\u001b[0m     \u001b[38;5;28;01mif\u001b[39;00m labels \u001b[38;5;129;01mis\u001b[39;00m \u001b[38;5;129;01mnot\u001b[39;00m \u001b[38;5;28;01mNone\u001b[39;00m:\n\u001b[1;32m-> 4549\u001b[0m         obj \u001b[38;5;241m=\u001b[39m obj\u001b[38;5;241m.\u001b[39m_drop_axis(labels, axis, level\u001b[38;5;241m=\u001b[39mlevel, errors\u001b[38;5;241m=\u001b[39merrors)\n\u001b[0;32m   4551\u001b[0m \u001b[38;5;28;01mif\u001b[39;00m inplace:\n\u001b[0;32m   4552\u001b[0m     \u001b[38;5;28mself\u001b[39m\u001b[38;5;241m.\u001b[39m_update_inplace(obj)\n",
      "File \u001b[1;32m~\\anaconda3\\Lib\\site-packages\\pandas\\core\\generic.py:4591\u001b[0m, in \u001b[0;36mNDFrame._drop_axis\u001b[1;34m(self, labels, axis, level, errors, only_slice)\u001b[0m\n\u001b[0;32m   4589\u001b[0m         new_axis \u001b[38;5;241m=\u001b[39m axis\u001b[38;5;241m.\u001b[39mdrop(labels, level\u001b[38;5;241m=\u001b[39mlevel, errors\u001b[38;5;241m=\u001b[39merrors)\n\u001b[0;32m   4590\u001b[0m     \u001b[38;5;28;01melse\u001b[39;00m:\n\u001b[1;32m-> 4591\u001b[0m         new_axis \u001b[38;5;241m=\u001b[39m axis\u001b[38;5;241m.\u001b[39mdrop(labels, errors\u001b[38;5;241m=\u001b[39merrors)\n\u001b[0;32m   4592\u001b[0m     indexer \u001b[38;5;241m=\u001b[39m axis\u001b[38;5;241m.\u001b[39mget_indexer(new_axis)\n\u001b[0;32m   4594\u001b[0m \u001b[38;5;66;03m# Case for non-unique axis\u001b[39;00m\n\u001b[0;32m   4595\u001b[0m \u001b[38;5;28;01melse\u001b[39;00m:\n",
      "File \u001b[1;32m~\\anaconda3\\Lib\\site-packages\\pandas\\core\\indexes\\base.py:6699\u001b[0m, in \u001b[0;36mIndex.drop\u001b[1;34m(self, labels, errors)\u001b[0m\n\u001b[0;32m   6697\u001b[0m \u001b[38;5;28;01mif\u001b[39;00m mask\u001b[38;5;241m.\u001b[39many():\n\u001b[0;32m   6698\u001b[0m     \u001b[38;5;28;01mif\u001b[39;00m errors \u001b[38;5;241m!=\u001b[39m \u001b[38;5;124m\"\u001b[39m\u001b[38;5;124mignore\u001b[39m\u001b[38;5;124m\"\u001b[39m:\n\u001b[1;32m-> 6699\u001b[0m         \u001b[38;5;28;01mraise\u001b[39;00m \u001b[38;5;167;01mKeyError\u001b[39;00m(\u001b[38;5;124mf\u001b[39m\u001b[38;5;124m\"\u001b[39m\u001b[38;5;132;01m{\u001b[39;00m\u001b[38;5;28mlist\u001b[39m(labels[mask])\u001b[38;5;132;01m}\u001b[39;00m\u001b[38;5;124m not found in axis\u001b[39m\u001b[38;5;124m\"\u001b[39m)\n\u001b[0;32m   6700\u001b[0m     indexer \u001b[38;5;241m=\u001b[39m indexer[\u001b[38;5;241m~\u001b[39mmask]\n\u001b[0;32m   6701\u001b[0m \u001b[38;5;28;01mreturn\u001b[39;00m \u001b[38;5;28mself\u001b[39m\u001b[38;5;241m.\u001b[39mdelete(indexer)\n",
      "\u001b[1;31mKeyError\u001b[0m: \"['target_column'] not found in axis\""
     ]
    }
   ],
   "source": [
    "from sklearn.model_selection import train_test_split\n",
    "\n",
    "# Define your features (X) and target variable (y)\n",
    "X = data.drop('target_column', axis=1)  # Replace 'target_column' with the actual target column name\n",
    "y = data['target_column']\n",
    "\n",
    "# Split the data into training and testing sets (e.g., 80% train, 20% test)\n",
    "X_train, X_test, y_train, y_test = train_test_split(X, y, test_size=0.2, random_state=42)\n",
    "\n",
    "# random_state is set to a fixed value to ensure reproducibility\n"
   ]
  },
  {
   "cell_type": "code",
   "execution_count": 39,
   "id": "08c5f29b",
   "metadata": {},
   "outputs": [
    {
     "data": {
      "image/png": "[encoded data removed]",
      "text/plain": [
       "<Figure size 640x480 with 1 Axes>"
      ]
     },
     "metadata": {},
     "output_type": "display_data"
    },
    {
     "name": "stdout",
     "output_type": "stream",
     "text": [
      "Intercept (b0): 2387308.4823964313\n",
      "Slope (b1): 461.97489427278316\n"
     ]
    }
   ],
   "source": [
    "import numpy as np\n",
    "import pandas as pd\n",
    "import matplotlib.pyplot as plt\n",
    "from sklearn.linear_model import LinearRegression\n",
    "\n",
    "# Load your dataset into a Pandas DataFrame\n",
    "data = pd.read_csv('Housing.csv')\n",
    "\n",
    "# Choose the relevant columns for the independent variable (X) and dependent variable (y)\n",
    "X = data['area'].values.reshape(-1, 1)  # Replace 'Square_Footage' with the actual column name\n",
    "y = data['price'].values  # Replace 'House_Price' with the actual column name\n",
    "\n",
    "# Create and fit the linear regression model\n",
    "model = LinearRegression()\n",
    "model.fit(X, y)\n",
    "\n",
    "# Predict house prices using the model\n",
    "predicted_prices = model.predict(X)\n",
    "\n",
    "# Visualize the data and the regression line\n",
    "plt.scatter(X, y, label='Actual Data')\n",
    "plt.plot(X, predicted_prices, color='red', label='Regression Line')\n",
    "plt.xlabel('area')\n",
    "plt.ylabel('price')\n",
    "plt.title('Simple Linear Regression')\n",
    "plt.legend()\n",
    "plt.show()\n",
    "\n",
    "# Get the regression coefficients\n",
    "intercept = model.intercept_\n",
    "slope = model.coef_[0]\n",
    "\n",
    "print(f\"Intercept (b0): {intercept}\")\n",
    "print(f\"Slope (b1): {slope}\")\n"
   ]
  },
  {
   "cell_type": "code",
   "execution_count": 40,
   "id": "a6858984",
   "metadata": {},
   "outputs": [
    {
     "name": "stdout",
     "output_type": "stream",
     "text": [
      "R-squared value: 0.2872931546811469\n"
     ]
    }
   ],
   "source": [
    "from sklearn.metrics import r2_score\n",
    "\n",
    "# Assuming you have actual prices (y) and predicted prices (predicted_prices)\n",
    "r_squared = r2_score(y, predicted_prices)\n",
    "\n",
    "print(f\"R-squared value: {r_squared}\")\n"
   ]
  },
  {
   "cell_type": "code",
   "execution_count": 43,
   "id": "0c6467dc",
   "metadata": {},
   "outputs": [],
   "source": [
    "import numpy as np\n",
    "import pandas as pd\n",
    "from sklearn.model_selection import train_test_split\n",
    "from sklearn.linear_model import LinearRegression\n",
    "from sklearn.metrics import mean_squared_error\n",
    "\n",
    "# Load your dataset into a Pandas DataFrame\n",
    "data = pd.read_csv('Housing.csv')\n",
    "\n",
    "# Select multiple independent variables\n",
    "X = data[['area', 'bedrooms', 'bathrooms']]  # Replace with actual column names\n",
    "y = data['price']  # Replace with actual column name\n",
    "\n",
    "# Split the data into training and testing sets (optional but recommended)\n",
    "X_train, X_test, y_train, y_test = train_test_split(X, y, test_size=0.2, random_state=42)\n",
    "\n",
    "# Create and fit the multiple linear regression model\n",
    "model_multi = LinearRegression()\n",
    "model_multi.fit(X_train, y_train)\n",
    "\n",
    "# Predict house prices using the multiple regression model\n",
    "predicted_prices_multi = model_multi.predict(X_test)\n"
   ]
  },
  {
   "cell_type": "code",
   "execution_count": 44,
   "id": "c62440bd",
   "metadata": {},
   "outputs": [
    {
     "name": "stdout",
     "output_type": "stream",
     "text": [
      "Mean Squared Error: 2750040479309.0513\n"
     ]
    }
   ],
   "source": [
    "mse = mean_squared_error(y_test, predicted_prices_multi)\n",
    "print(f\"Mean Squared Error: {mse}\")\n"
   ]
  },
  {
   "cell_type": "code",
   "execution_count": 45,
   "id": "0a505c0f",
   "metadata": {},
   "outputs": [
    {
     "name": "stdout",
     "output_type": "stream",
     "text": [
      "Mean Absolute Error (MAE): 1265275.6699454375\n",
      "Mean Squared Error (MSE): 2750040479309.0513\n",
      "Root Mean Squared Error (RMSE): 1658324.6001036863\n"
     ]
    }
   ],
   "source": [
    "from sklearn.metrics import mean_absolute_error, mean_squared_error\n",
    "\n",
    "# Calculate Mean Absolute Error (MAE)\n",
    "mae = mean_absolute_error(y_test, predicted_prices_multi)\n",
    "\n",
    "# Calculate Mean Squared Error (MSE)\n",
    "mse = mean_squared_error(y_test, predicted_prices_multi)\n",
    "\n",
    "# Calculate Root Mean Squared Error (RMSE)\n",
    "rmse = np.sqrt(mse)\n",
    "\n",
    "print(f\"Mean Absolute Error (MAE): {mae}\")\n",
    "print(f\"Mean Squared Error (MSE): {mse}\")\n",
    "print(f\"Root Mean Squared Error (RMSE): {rmse}\")\n"
   ]
  },
  {
   "cell_type": "markdown",
   "id": "545e8065",
   "metadata": {},
   "source": [
    "# day 2"
   ]
  },
  {
   "cell_type": "code",
   "execution_count": 1,
   "id": "8e78a11c",
   "metadata": {},
   "outputs": [],
   "source": [
    "import pandas as pd\n",
    "\n",
    "# Assuming your dataset is in a CSV file, you can load it like this:\n",
    "data = pd.read_csv('Housing.csv')\n"
   ]
  },
  {
   "cell_type": "code",
   "execution_count": 7,
   "id": "2dc5002b",
   "metadata": {},
   "outputs": [
    {
     "name": "stdout",
     "output_type": "stream",
     "text": [
      "      price  area  bedrooms  bathrooms  stories mainroad guestroom basement  \\\n",
      "0  13300000  7420         4          2        3      yes        no       no   \n",
      "1  12250000  8960         4          4        4      yes        no       no   \n",
      "2  12250000  9960         3          2        2      yes        no      yes   \n",
      "3  12215000  7500         4          2        2      yes        no      yes   \n",
      "4  11410000  7420         4          1        2      yes       yes      yes   \n",
      "\n",
      "  hotwaterheating airconditioning  parking prefarea furnishingstatus  \n",
      "0              no             yes        2      yes        furnished  \n",
      "1              no             yes        3       no        furnished  \n",
      "2              no              no        2      yes   semi-furnished  \n",
      "3              no             yes        3      yes        furnished  \n",
      "4              no             yes        2       no        furnished  \n",
      "price               0\n",
      "area                0\n",
      "bedrooms            0\n",
      "bathrooms           0\n",
      "stories             0\n",
      "mainroad            0\n",
      "guestroom           0\n",
      "basement            0\n",
      "hotwaterheating     0\n",
      "airconditioning     0\n",
      "parking             0\n",
      "prefarea            0\n",
      "furnishingstatus    0\n",
      "dtype: int64\n",
      "              price          area    bedrooms   bathrooms     stories  \\\n",
      "count  5.450000e+02    545.000000  545.000000  545.000000  545.000000   \n",
      "mean   4.766729e+06   5150.541284    2.965138    1.286239    1.805505   \n",
      "std    1.870440e+06   2170.141023    0.738064    0.502470    0.867492   \n",
      "min    1.750000e+06   1650.000000    1.000000    1.000000    1.000000   \n",
      "25%    3.430000e+06   3600.000000    2.000000    1.000000    1.000000   \n",
      "50%    4.340000e+06   4600.000000    3.000000    1.000000    2.000000   \n",
      "75%    5.740000e+06   6360.000000    3.000000    2.000000    2.000000   \n",
      "max    1.330000e+07  16200.000000    6.000000    4.000000    4.000000   \n",
      "\n",
      "          parking  \n",
      "count  545.000000  \n",
      "mean     0.693578  \n",
      "std      0.861586  \n",
      "min      0.000000  \n",
      "25%      0.000000  \n",
      "50%      0.000000  \n",
      "75%      1.000000  \n",
      "max      3.000000  \n",
      "[2 3 0 1]\n"
     ]
    }
   ],
   "source": [
    "print(data.head())\n",
    "print(data.isnull().sum())\n",
    "data = data.dropna() \n",
    "print(data.describe())\n",
    "print(data['parking'].unique())\n"
   ]
  },
  {
   "cell_type": "code",
   "execution_count": 8,
   "id": "8afadea1",
   "metadata": {},
   "outputs": [
    {
     "name": "stdout",
     "output_type": "stream",
     "text": [
      "X_train shape: (436, 12)\n",
      "X_test shape: (109, 12)\n",
      "y_train shape: (436,)\n",
      "y_test shape: (109,)\n"
     ]
    }
   ],
   "source": [
    "from sklearn.model_selection import train_test_split\n",
    "\n",
    "# Define your target variable (house prices) and feature columns\n",
    "X = data.drop('price', axis=1)\n",
    "y = data['price']\n",
    "\n",
    "# Split the data into training and testing sets (e.g., 80% for training, 20% for testing)\n",
    "X_train, X_test, y_train, y_test = train_test_split(X, y, test_size=0.2, random_state=42)\n",
    "\n",
    "# Check the shape of the training and testing sets\n",
    "print(\"X_train shape:\", X_train.shape)\n",
    "print(\"X_test shape:\", X_test.shape)\n",
    "print(\"y_train shape:\", y_train.shape)\n",
    "print(\"y_test shape:\", y_test.shape)\n"
   ]
  },
  {
   "cell_type": "code",
   "execution_count": 11,
   "id": "7495bf9f",
   "metadata": {},
   "outputs": [],
   "source": [
    "from sklearn.datasets import load_boston \n",
    "from sklearn.model_selection import train_test_split \n",
    "from sklearn.linear_model import LinearRegression \n",
    "from sklearn.linear_model import Ridge \n",
    "from sklearn.linear_model import Lasso"
   ]
  },
  {
   "cell_type": "code",
   "execution_count": 12,
   "id": "3dba61ca",
   "metadata": {
    "scrolled": true
   },
   "outputs": [
    {
     "ename": "ValueError",
     "evalue": "could not convert string to float: 'yes'",
     "output_type": "error",
     "traceback": [
      "\u001b[1;31m---------------------------------------------------------------------------\u001b[0m",
      "\u001b[1;31mValueError\u001b[0m                                Traceback (most recent call last)",
      "\u001b[1;32m~\\AppData\\Local\\Temp\\ipykernel_12816\\2910418781.py\u001b[0m in \u001b[0;36m?\u001b[1;34m()\u001b[0m\n\u001b[0;32m      4\u001b[0m \u001b[1;31m# Create a Lasso regression model\u001b[0m\u001b[1;33m\u001b[0m\u001b[1;33m\u001b[0m\u001b[0m\n\u001b[0;32m      5\u001b[0m \u001b[0mlasso_model\u001b[0m \u001b[1;33m=\u001b[0m \u001b[0mLasso\u001b[0m\u001b[1;33m(\u001b[0m\u001b[0malpha\u001b[0m\u001b[1;33m=\u001b[0m\u001b[1;36m1.0\u001b[0m\u001b[1;33m)\u001b[0m  \u001b[1;31m# You can adjust the alpha (regularization strength)\u001b[0m\u001b[1;33m\u001b[0m\u001b[1;33m\u001b[0m\u001b[0m\n\u001b[0;32m      6\u001b[0m \u001b[1;33m\u001b[0m\u001b[0m\n\u001b[0;32m      7\u001b[0m \u001b[1;31m# Fit the model on the training data\u001b[0m\u001b[1;33m\u001b[0m\u001b[1;33m\u001b[0m\u001b[0m\n\u001b[1;32m----> 8\u001b[1;33m \u001b[0mlasso_model\u001b[0m\u001b[1;33m.\u001b[0m\u001b[0mfit\u001b[0m\u001b[1;33m(\u001b[0m\u001b[0mX_train\u001b[0m\u001b[1;33m,\u001b[0m \u001b[0my_train\u001b[0m\u001b[1;33m)\u001b[0m\u001b[1;33m\u001b[0m\u001b[1;33m\u001b[0m\u001b[0m\n\u001b[0m\u001b[0;32m      9\u001b[0m \u001b[1;33m\u001b[0m\u001b[0m\n\u001b[0;32m     10\u001b[0m \u001b[1;31m# Make predictions on the test data\u001b[0m\u001b[1;33m\u001b[0m\u001b[1;33m\u001b[0m\u001b[0m\n\u001b[0;32m     11\u001b[0m \u001b[0my_pred\u001b[0m \u001b[1;33m=\u001b[0m \u001b[0mlasso_model\u001b[0m\u001b[1;33m.\u001b[0m\u001b[0mpredict\u001b[0m\u001b[1;33m(\u001b[0m\u001b[0mX_test\u001b[0m\u001b[1;33m)\u001b[0m\u001b[1;33m\u001b[0m\u001b[1;33m\u001b[0m\u001b[0m\n",
      "\u001b[1;32m~\\anaconda3\\Lib\\site-packages\\sklearn\\linear_model\\_coordinate_descent.py\u001b[0m in \u001b[0;36m?\u001b[1;34m(self, X, y, sample_weight, check_input)\u001b[0m\n\u001b[0;32m    951\u001b[0m         \u001b[1;31m# We expect X and y to be float64 or float32 Fortran ordered arrays\u001b[0m\u001b[1;33m\u001b[0m\u001b[1;33m\u001b[0m\u001b[0m\n\u001b[0;32m    952\u001b[0m         \u001b[1;31m# when bypassing checks\u001b[0m\u001b[1;33m\u001b[0m\u001b[1;33m\u001b[0m\u001b[0m\n\u001b[0;32m    953\u001b[0m         \u001b[1;32mif\u001b[0m \u001b[0mcheck_input\u001b[0m\u001b[1;33m:\u001b[0m\u001b[1;33m\u001b[0m\u001b[1;33m\u001b[0m\u001b[0m\n\u001b[0;32m    954\u001b[0m             \u001b[0mX_copied\u001b[0m \u001b[1;33m=\u001b[0m \u001b[0mself\u001b[0m\u001b[1;33m.\u001b[0m\u001b[0mcopy_X\u001b[0m \u001b[1;32mand\u001b[0m \u001b[0mself\u001b[0m\u001b[1;33m.\u001b[0m\u001b[0mfit_intercept\u001b[0m\u001b[1;33m\u001b[0m\u001b[1;33m\u001b[0m\u001b[0m\n\u001b[1;32m--> 955\u001b[1;33m             X, y = self._validate_data(\n\u001b[0m\u001b[0;32m    956\u001b[0m                 \u001b[0mX\u001b[0m\u001b[1;33m,\u001b[0m\u001b[1;33m\u001b[0m\u001b[1;33m\u001b[0m\u001b[0m\n\u001b[0;32m    957\u001b[0m                 \u001b[0my\u001b[0m\u001b[1;33m,\u001b[0m\u001b[1;33m\u001b[0m\u001b[1;33m\u001b[0m\u001b[0m\n\u001b[0;32m    958\u001b[0m                 \u001b[0maccept_sparse\u001b[0m\u001b[1;33m=\u001b[0m\u001b[1;34m\"csc\"\u001b[0m\u001b[1;33m,\u001b[0m\u001b[1;33m\u001b[0m\u001b[1;33m\u001b[0m\u001b[0m\n",
      "\u001b[1;32m~\\anaconda3\\Lib\\site-packages\\sklearn\\base.py\u001b[0m in \u001b[0;36m?\u001b[1;34m(self, X, y, reset, validate_separately, **check_params)\u001b[0m\n\u001b[0;32m    592\u001b[0m                 \u001b[1;32mif\u001b[0m \u001b[1;34m\"estimator\"\u001b[0m \u001b[1;32mnot\u001b[0m \u001b[1;32min\u001b[0m \u001b[0mcheck_y_params\u001b[0m\u001b[1;33m:\u001b[0m\u001b[1;33m\u001b[0m\u001b[1;33m\u001b[0m\u001b[0m\n\u001b[0;32m    593\u001b[0m                     \u001b[0mcheck_y_params\u001b[0m \u001b[1;33m=\u001b[0m \u001b[1;33m{\u001b[0m\u001b[1;33m**\u001b[0m\u001b[0mdefault_check_params\u001b[0m\u001b[1;33m,\u001b[0m \u001b[1;33m**\u001b[0m\u001b[0mcheck_y_params\u001b[0m\u001b[1;33m}\u001b[0m\u001b[1;33m\u001b[0m\u001b[1;33m\u001b[0m\u001b[0m\n\u001b[0;32m    594\u001b[0m                 \u001b[0my\u001b[0m \u001b[1;33m=\u001b[0m \u001b[0mcheck_array\u001b[0m\u001b[1;33m(\u001b[0m\u001b[0my\u001b[0m\u001b[1;33m,\u001b[0m \u001b[0minput_name\u001b[0m\u001b[1;33m=\u001b[0m\u001b[1;34m\"y\"\u001b[0m\u001b[1;33m,\u001b[0m \u001b[1;33m**\u001b[0m\u001b[0mcheck_y_params\u001b[0m\u001b[1;33m)\u001b[0m\u001b[1;33m\u001b[0m\u001b[1;33m\u001b[0m\u001b[0m\n\u001b[0;32m    595\u001b[0m             \u001b[1;32melse\u001b[0m\u001b[1;33m:\u001b[0m\u001b[1;33m\u001b[0m\u001b[1;33m\u001b[0m\u001b[0m\n\u001b[1;32m--> 596\u001b[1;33m                 \u001b[0mX\u001b[0m\u001b[1;33m,\u001b[0m \u001b[0my\u001b[0m \u001b[1;33m=\u001b[0m \u001b[0mcheck_X_y\u001b[0m\u001b[1;33m(\u001b[0m\u001b[0mX\u001b[0m\u001b[1;33m,\u001b[0m \u001b[0my\u001b[0m\u001b[1;33m,\u001b[0m \u001b[1;33m**\u001b[0m\u001b[0mcheck_params\u001b[0m\u001b[1;33m)\u001b[0m\u001b[1;33m\u001b[0m\u001b[1;33m\u001b[0m\u001b[0m\n\u001b[0m\u001b[0;32m    597\u001b[0m             \u001b[0mout\u001b[0m \u001b[1;33m=\u001b[0m \u001b[0mX\u001b[0m\u001b[1;33m,\u001b[0m \u001b[0my\u001b[0m\u001b[1;33m\u001b[0m\u001b[1;33m\u001b[0m\u001b[0m\n\u001b[0;32m    598\u001b[0m \u001b[1;33m\u001b[0m\u001b[0m\n\u001b[0;32m    599\u001b[0m         \u001b[1;32mif\u001b[0m \u001b[1;32mnot\u001b[0m \u001b[0mno_val_X\u001b[0m \u001b[1;32mand\u001b[0m \u001b[0mcheck_params\u001b[0m\u001b[1;33m.\u001b[0m\u001b[0mget\u001b[0m\u001b[1;33m(\u001b[0m\u001b[1;34m\"ensure_2d\"\u001b[0m\u001b[1;33m,\u001b[0m \u001b[1;32mTrue\u001b[0m\u001b[1;33m)\u001b[0m\u001b[1;33m:\u001b[0m\u001b[1;33m\u001b[0m\u001b[1;33m\u001b[0m\u001b[0m\n",
      "\u001b[1;32m~\\anaconda3\\Lib\\site-packages\\sklearn\\utils\\validation.py\u001b[0m in \u001b[0;36m?\u001b[1;34m(X, y, accept_sparse, accept_large_sparse, dtype, order, copy, force_all_finite, ensure_2d, allow_nd, multi_output, ensure_min_samples, ensure_min_features, y_numeric, estimator)\u001b[0m\n\u001b[0;32m   1070\u001b[0m         raise ValueError(\n\u001b[0;32m   1071\u001b[0m             \u001b[1;34mf\"{estimator_name} requires y to be passed, but the target y is None\"\u001b[0m\u001b[1;33m\u001b[0m\u001b[1;33m\u001b[0m\u001b[0m\n\u001b[0;32m   1072\u001b[0m         )\n\u001b[0;32m   1073\u001b[0m \u001b[1;33m\u001b[0m\u001b[0m\n\u001b[1;32m-> 1074\u001b[1;33m     X = check_array(\n\u001b[0m\u001b[0;32m   1075\u001b[0m         \u001b[0mX\u001b[0m\u001b[1;33m,\u001b[0m\u001b[1;33m\u001b[0m\u001b[1;33m\u001b[0m\u001b[0m\n\u001b[0;32m   1076\u001b[0m         \u001b[0maccept_sparse\u001b[0m\u001b[1;33m=\u001b[0m\u001b[0maccept_sparse\u001b[0m\u001b[1;33m,\u001b[0m\u001b[1;33m\u001b[0m\u001b[1;33m\u001b[0m\u001b[0m\n\u001b[0;32m   1077\u001b[0m         \u001b[0maccept_large_sparse\u001b[0m\u001b[1;33m=\u001b[0m\u001b[0maccept_large_sparse\u001b[0m\u001b[1;33m,\u001b[0m\u001b[1;33m\u001b[0m\u001b[1;33m\u001b[0m\u001b[0m\n",
      "\u001b[1;32m~\\anaconda3\\Lib\\site-packages\\sklearn\\utils\\validation.py\u001b[0m in \u001b[0;36m?\u001b[1;34m(array, accept_sparse, accept_large_sparse, dtype, order, copy, force_all_finite, ensure_2d, allow_nd, ensure_min_samples, ensure_min_features, estimator, input_name)\u001b[0m\n\u001b[0;32m    853\u001b[0m                         )\n\u001b[0;32m    854\u001b[0m                     \u001b[0marray\u001b[0m \u001b[1;33m=\u001b[0m \u001b[0marray\u001b[0m\u001b[1;33m.\u001b[0m\u001b[0mastype\u001b[0m\u001b[1;33m(\u001b[0m\u001b[0mdtype\u001b[0m\u001b[1;33m,\u001b[0m \u001b[0mcasting\u001b[0m\u001b[1;33m=\u001b[0m\u001b[1;34m\"unsafe\"\u001b[0m\u001b[1;33m,\u001b[0m \u001b[0mcopy\u001b[0m\u001b[1;33m=\u001b[0m\u001b[1;32mFalse\u001b[0m\u001b[1;33m)\u001b[0m\u001b[1;33m\u001b[0m\u001b[1;33m\u001b[0m\u001b[0m\n\u001b[0;32m    855\u001b[0m                 \u001b[1;32melse\u001b[0m\u001b[1;33m:\u001b[0m\u001b[1;33m\u001b[0m\u001b[1;33m\u001b[0m\u001b[0m\n\u001b[0;32m    856\u001b[0m                     \u001b[0marray\u001b[0m \u001b[1;33m=\u001b[0m \u001b[0mnp\u001b[0m\u001b[1;33m.\u001b[0m\u001b[0masarray\u001b[0m\u001b[1;33m(\u001b[0m\u001b[0marray\u001b[0m\u001b[1;33m,\u001b[0m \u001b[0morder\u001b[0m\u001b[1;33m=\u001b[0m\u001b[0morder\u001b[0m\u001b[1;33m,\u001b[0m \u001b[0mdtype\u001b[0m\u001b[1;33m=\u001b[0m\u001b[0mdtype\u001b[0m\u001b[1;33m)\u001b[0m\u001b[1;33m\u001b[0m\u001b[1;33m\u001b[0m\u001b[0m\n\u001b[1;32m--> 857\u001b[1;33m             \u001b[1;32mexcept\u001b[0m \u001b[0mComplexWarning\u001b[0m \u001b[1;32mas\u001b[0m \u001b[0mcomplex_warning\u001b[0m\u001b[1;33m:\u001b[0m\u001b[1;33m\u001b[0m\u001b[1;33m\u001b[0m\u001b[0m\n\u001b[0m\u001b[0;32m    858\u001b[0m                 raise ValueError(\n\u001b[0;32m    859\u001b[0m                     \u001b[1;34m\"Complex data not supported\\n{}\\n\"\u001b[0m\u001b[1;33m.\u001b[0m\u001b[0mformat\u001b[0m\u001b[1;33m(\u001b[0m\u001b[0marray\u001b[0m\u001b[1;33m)\u001b[0m\u001b[1;33m\u001b[0m\u001b[1;33m\u001b[0m\u001b[0m\n\u001b[0;32m    860\u001b[0m                 ) from complex_warning\n",
      "\u001b[1;32m~\\anaconda3\\Lib\\site-packages\\pandas\\core\\generic.py\u001b[0m in \u001b[0;36m?\u001b[1;34m(self, dtype)\u001b[0m\n\u001b[0;32m   1996\u001b[0m     \u001b[1;32mdef\u001b[0m \u001b[0m__array__\u001b[0m\u001b[1;33m(\u001b[0m\u001b[0mself\u001b[0m\u001b[1;33m,\u001b[0m \u001b[0mdtype\u001b[0m\u001b[1;33m:\u001b[0m \u001b[0mnpt\u001b[0m\u001b[1;33m.\u001b[0m\u001b[0mDTypeLike\u001b[0m \u001b[1;33m|\u001b[0m \u001b[1;32mNone\u001b[0m \u001b[1;33m=\u001b[0m \u001b[1;32mNone\u001b[0m\u001b[1;33m)\u001b[0m \u001b[1;33m->\u001b[0m \u001b[0mnp\u001b[0m\u001b[1;33m.\u001b[0m\u001b[0mndarray\u001b[0m\u001b[1;33m:\u001b[0m\u001b[1;33m\u001b[0m\u001b[1;33m\u001b[0m\u001b[0m\n\u001b[0;32m   1997\u001b[0m         \u001b[0mvalues\u001b[0m \u001b[1;33m=\u001b[0m \u001b[0mself\u001b[0m\u001b[1;33m.\u001b[0m\u001b[0m_values\u001b[0m\u001b[1;33m\u001b[0m\u001b[1;33m\u001b[0m\u001b[0m\n\u001b[1;32m-> 1998\u001b[1;33m         \u001b[0marr\u001b[0m \u001b[1;33m=\u001b[0m \u001b[0mnp\u001b[0m\u001b[1;33m.\u001b[0m\u001b[0masarray\u001b[0m\u001b[1;33m(\u001b[0m\u001b[0mvalues\u001b[0m\u001b[1;33m,\u001b[0m \u001b[0mdtype\u001b[0m\u001b[1;33m=\u001b[0m\u001b[0mdtype\u001b[0m\u001b[1;33m)\u001b[0m\u001b[1;33m\u001b[0m\u001b[1;33m\u001b[0m\u001b[0m\n\u001b[0m\u001b[0;32m   1999\u001b[0m         if (\n\u001b[0;32m   2000\u001b[0m             \u001b[0mastype_is_view\u001b[0m\u001b[1;33m(\u001b[0m\u001b[0mvalues\u001b[0m\u001b[1;33m.\u001b[0m\u001b[0mdtype\u001b[0m\u001b[1;33m,\u001b[0m \u001b[0marr\u001b[0m\u001b[1;33m.\u001b[0m\u001b[0mdtype\u001b[0m\u001b[1;33m)\u001b[0m\u001b[1;33m\u001b[0m\u001b[1;33m\u001b[0m\u001b[0m\n\u001b[0;32m   2001\u001b[0m             \u001b[1;32mand\u001b[0m \u001b[0musing_copy_on_write\u001b[0m\u001b[1;33m(\u001b[0m\u001b[1;33m)\u001b[0m\u001b[1;33m\u001b[0m\u001b[1;33m\u001b[0m\u001b[0m\n",
      "\u001b[1;31mValueError\u001b[0m: could not convert string to float: 'yes'"
     ]
    }
   ],
   "source": [
    "from sklearn.linear_model import Lasso\n",
    "from sklearn.metrics import mean_squared_error\n",
    "\n",
    "# Create a Lasso regression model\n",
    "lasso_model = Lasso(alpha=1.0)  # You can adjust the alpha (regularization strength)\n",
    "\n",
    "# Fit the model on the training data\n",
    "lasso_model.fit(X_train, y_train)\n",
    "\n",
    "# Make predictions on the test data\n",
    "y_pred = lasso_model.predict(X_test)\n",
    "\n",
    "# Calculate the Mean Squared Error (MSE) to evaluate the model's performance\n",
    "mse = mean_squared_error(y_test, y_pred)\n",
    "print(\"Mean Squared Error:\", mse)\n"
   ]
  },
  {
   "cell_type": "code",
   "execution_count": 14,
   "id": "7f3ecdc3",
   "metadata": {},
   "outputs": [
    {
     "ename": "KeyError",
     "evalue": "\"None of [Index(['price'], dtype='object')] are in the [columns]\"",
     "output_type": "error",
     "traceback": [
      "\u001b[1;31m---------------------------------------------------------------------------\u001b[0m",
      "\u001b[1;31mKeyError\u001b[0m                                  Traceback (most recent call last)",
      "Cell \u001b[1;32mIn[14], line 2\u001b[0m\n\u001b[0;32m      1\u001b[0m \u001b[38;5;66;03m# Assuming 'categorical_column' is the column with categorical values\u001b[39;00m\n\u001b[1;32m----> 2\u001b[0m data \u001b[38;5;241m=\u001b[39m pd\u001b[38;5;241m.\u001b[39mget_dummies(data, columns\u001b[38;5;241m=\u001b[39m[\u001b[38;5;124m'\u001b[39m\u001b[38;5;124mprice\u001b[39m\u001b[38;5;124m'\u001b[39m], drop_first\u001b[38;5;241m=\u001b[39m\u001b[38;5;28;01mTrue\u001b[39;00m)\n",
      "File \u001b[1;32m~\\anaconda3\\Lib\\site-packages\\pandas\\core\\reshape\\encoding.py:158\u001b[0m, in \u001b[0;36mget_dummies\u001b[1;34m(data, prefix, prefix_sep, dummy_na, columns, sparse, drop_first, dtype)\u001b[0m\n\u001b[0;32m    156\u001b[0m     \u001b[38;5;28;01mraise\u001b[39;00m \u001b[38;5;167;01mTypeError\u001b[39;00m(\u001b[38;5;124m\"\u001b[39m\u001b[38;5;124mInput must be a list-like for parameter `columns`\u001b[39m\u001b[38;5;124m\"\u001b[39m)\n\u001b[0;32m    157\u001b[0m \u001b[38;5;28;01melse\u001b[39;00m:\n\u001b[1;32m--> 158\u001b[0m     data_to_encode \u001b[38;5;241m=\u001b[39m data[columns]\n\u001b[0;32m    160\u001b[0m \u001b[38;5;66;03m# validate prefixes and separator to avoid silently dropping cols\u001b[39;00m\n\u001b[0;32m    161\u001b[0m \u001b[38;5;28;01mdef\u001b[39;00m \u001b[38;5;21mcheck_len\u001b[39m(item, name):\n",
      "File \u001b[1;32m~\\anaconda3\\Lib\\site-packages\\pandas\\core\\frame.py:3767\u001b[0m, in \u001b[0;36mDataFrame.__getitem__\u001b[1;34m(self, key)\u001b[0m\n\u001b[0;32m   3765\u001b[0m     \u001b[38;5;28;01mif\u001b[39;00m is_iterator(key):\n\u001b[0;32m   3766\u001b[0m         key \u001b[38;5;241m=\u001b[39m \u001b[38;5;28mlist\u001b[39m(key)\n\u001b[1;32m-> 3767\u001b[0m     indexer \u001b[38;5;241m=\u001b[39m \u001b[38;5;28mself\u001b[39m\u001b[38;5;241m.\u001b[39mcolumns\u001b[38;5;241m.\u001b[39m_get_indexer_strict(key, \u001b[38;5;124m\"\u001b[39m\u001b[38;5;124mcolumns\u001b[39m\u001b[38;5;124m\"\u001b[39m)[\u001b[38;5;241m1\u001b[39m]\n\u001b[0;32m   3769\u001b[0m \u001b[38;5;66;03m# take() does not accept boolean indexers\u001b[39;00m\n\u001b[0;32m   3770\u001b[0m \u001b[38;5;28;01mif\u001b[39;00m \u001b[38;5;28mgetattr\u001b[39m(indexer, \u001b[38;5;124m\"\u001b[39m\u001b[38;5;124mdtype\u001b[39m\u001b[38;5;124m\"\u001b[39m, \u001b[38;5;28;01mNone\u001b[39;00m) \u001b[38;5;241m==\u001b[39m \u001b[38;5;28mbool\u001b[39m:\n",
      "File \u001b[1;32m~\\anaconda3\\Lib\\site-packages\\pandas\\core\\indexes\\base.py:5877\u001b[0m, in \u001b[0;36mIndex._get_indexer_strict\u001b[1;34m(self, key, axis_name)\u001b[0m\n\u001b[0;32m   5874\u001b[0m \u001b[38;5;28;01melse\u001b[39;00m:\n\u001b[0;32m   5875\u001b[0m     keyarr, indexer, new_indexer \u001b[38;5;241m=\u001b[39m \u001b[38;5;28mself\u001b[39m\u001b[38;5;241m.\u001b[39m_reindex_non_unique(keyarr)\n\u001b[1;32m-> 5877\u001b[0m \u001b[38;5;28mself\u001b[39m\u001b[38;5;241m.\u001b[39m_raise_if_missing(keyarr, indexer, axis_name)\n\u001b[0;32m   5879\u001b[0m keyarr \u001b[38;5;241m=\u001b[39m \u001b[38;5;28mself\u001b[39m\u001b[38;5;241m.\u001b[39mtake(indexer)\n\u001b[0;32m   5880\u001b[0m \u001b[38;5;28;01mif\u001b[39;00m \u001b[38;5;28misinstance\u001b[39m(key, Index):\n\u001b[0;32m   5881\u001b[0m     \u001b[38;5;66;03m# GH 42790 - Preserve name from an Index\u001b[39;00m\n",
      "File \u001b[1;32m~\\anaconda3\\Lib\\site-packages\\pandas\\core\\indexes\\base.py:5938\u001b[0m, in \u001b[0;36mIndex._raise_if_missing\u001b[1;34m(self, key, indexer, axis_name)\u001b[0m\n\u001b[0;32m   5936\u001b[0m     \u001b[38;5;28;01mif\u001b[39;00m use_interval_msg:\n\u001b[0;32m   5937\u001b[0m         key \u001b[38;5;241m=\u001b[39m \u001b[38;5;28mlist\u001b[39m(key)\n\u001b[1;32m-> 5938\u001b[0m     \u001b[38;5;28;01mraise\u001b[39;00m \u001b[38;5;167;01mKeyError\u001b[39;00m(\u001b[38;5;124mf\u001b[39m\u001b[38;5;124m\"\u001b[39m\u001b[38;5;124mNone of [\u001b[39m\u001b[38;5;132;01m{\u001b[39;00mkey\u001b[38;5;132;01m}\u001b[39;00m\u001b[38;5;124m] are in the [\u001b[39m\u001b[38;5;132;01m{\u001b[39;00maxis_name\u001b[38;5;132;01m}\u001b[39;00m\u001b[38;5;124m]\u001b[39m\u001b[38;5;124m\"\u001b[39m)\n\u001b[0;32m   5940\u001b[0m not_found \u001b[38;5;241m=\u001b[39m \u001b[38;5;28mlist\u001b[39m(ensure_index(key)[missing_mask\u001b[38;5;241m.\u001b[39mnonzero()[\u001b[38;5;241m0\u001b[39m]]\u001b[38;5;241m.\u001b[39munique())\n\u001b[0;32m   5941\u001b[0m \u001b[38;5;28;01mraise\u001b[39;00m \u001b[38;5;167;01mKeyError\u001b[39;00m(\u001b[38;5;124mf\u001b[39m\u001b[38;5;124m\"\u001b[39m\u001b[38;5;132;01m{\u001b[39;00mnot_found\u001b[38;5;132;01m}\u001b[39;00m\u001b[38;5;124m not in index\u001b[39m\u001b[38;5;124m\"\u001b[39m)\n",
      "\u001b[1;31mKeyError\u001b[0m: \"None of [Index(['price'], dtype='object')] are in the [columns]\""
     ]
    }
   ],
   "source": [
    "# Assuming 'categorical_column' is the column with categorical values\n",
    "data = pd.get_dummies(data, columns=['price'], drop_first=True)\n"
   ]
  },
  {
   "cell_type": "code",
   "execution_count": 16,
   "id": "a7c2a13d",
   "metadata": {},
   "outputs": [
    {
     "name": "stderr",
     "output_type": "stream",
     "text": [
      "C:\\Users\\ADMIN\\anaconda3\\Lib\\site-packages\\sklearn\\utils\\deprecation.py:87: FutureWarning: Function load_boston is deprecated; `load_boston` is deprecated in 1.0 and will be removed in 1.2.\n",
      "\n",
      "    The Boston housing prices dataset has an ethical problem. You can refer to\n",
      "    the documentation of this function for further details.\n",
      "\n",
      "    The scikit-learn maintainers therefore strongly discourage the use of this\n",
      "    dataset unless the purpose of the code is to study and educate about\n",
      "    ethical issues in data science and machine learning.\n",
      "\n",
      "    In this special case, you can fetch the dataset from the original\n",
      "    source::\n",
      "\n",
      "        import pandas as pd\n",
      "        import numpy as np\n",
      "\n",
      "        data_url = \"http://lib.stat.cmu.edu/datasets/boston\"\n",
      "        raw_df = pd.read_csv(data_url, sep=\"\\s+\", skiprows=22, header=None)\n",
      "        data = np.hstack([raw_df.values[::2, :], raw_df.values[1::2, :2]])\n",
      "        target = raw_df.values[1::2, 2]\n",
      "\n",
      "    Alternative datasets include the California housing dataset (i.e.\n",
      "    :func:`~sklearn.datasets.fetch_california_housing`) and the Ames housing\n",
      "    dataset. You can load the datasets as follows::\n",
      "\n",
      "        from sklearn.datasets import fetch_california_housing\n",
      "        housing = fetch_california_housing()\n",
      "\n",
      "    for the California housing dataset and::\n",
      "\n",
      "        from sklearn.datasets import fetch_openml\n",
      "        housing = fetch_openml(name=\"house_prices\", as_frame=True)\n",
      "\n",
      "    for the Ames housing dataset.\n",
      "  warnings.warn(msg, category=FutureWarning)\n"
     ]
    }
   ],
   "source": [
    "boston=load_boston()\n",
    "df=pd.DataFrame(boston.data,columns=boston.feature_names)\n",
    "df['price']=boston.target"
   ]
  },
  {
   "cell_type": "code",
   "execution_count": 17,
   "id": "42945187",
   "metadata": {},
   "outputs": [
    {
     "data": {
      "text/html": [
       "<div>\n",
       "<style scoped>\n",
       "    .dataframe tbody tr th:only-of-type {\n",
       "        vertical-align: middle;\n",
       "    }\n",
       "\n",
       "    .dataframe tbody tr th {\n",
       "        vertical-align: top;\n",
       "    }\n",
       "\n",
       "    .dataframe thead th {\n",
       "        text-align: right;\n",
       "    }\n",
       "</style>\n",
       "<table border=\"1\" class=\"dataframe\">\n",
       "  <thead>\n",
       "    <tr style=\"text-align: right;\">\n",
       "      <th></th>\n",
       "      <th>CRIM</th>\n",
       "      <th>ZN</th>\n",
       "      <th>INDUS</th>\n",
       "      <th>CHAS</th>\n",
       "      <th>NOX</th>\n",
       "      <th>RM</th>\n",
       "      <th>AGE</th>\n",
       "      <th>DIS</th>\n",
       "      <th>RAD</th>\n",
       "      <th>TAX</th>\n",
       "      <th>PTRATIO</th>\n",
       "      <th>B</th>\n",
       "      <th>LSTAT</th>\n",
       "      <th>price</th>\n",
       "    </tr>\n",
       "  </thead>\n",
       "  <tbody>\n",
       "    <tr>\n",
       "      <th>0</th>\n",
       "      <td>0.00632</td>\n",
       "      <td>18.0</td>\n",
       "      <td>2.31</td>\n",
       "      <td>0.0</td>\n",
       "      <td>0.538</td>\n",
       "      <td>6.575</td>\n",
       "      <td>65.2</td>\n",
       "      <td>4.0900</td>\n",
       "      <td>1.0</td>\n",
       "      <td>296.0</td>\n",
       "      <td>15.3</td>\n",
       "      <td>396.90</td>\n",
       "      <td>4.98</td>\n",
       "      <td>24.0</td>\n",
       "    </tr>\n",
       "    <tr>\n",
       "      <th>1</th>\n",
       "      <td>0.02731</td>\n",
       "      <td>0.0</td>\n",
       "      <td>7.07</td>\n",
       "      <td>0.0</td>\n",
       "      <td>0.469</td>\n",
       "      <td>6.421</td>\n",
       "      <td>78.9</td>\n",
       "      <td>4.9671</td>\n",
       "      <td>2.0</td>\n",
       "      <td>242.0</td>\n",
       "      <td>17.8</td>\n",
       "      <td>396.90</td>\n",
       "      <td>9.14</td>\n",
       "      <td>21.6</td>\n",
       "    </tr>\n",
       "    <tr>\n",
       "      <th>2</th>\n",
       "      <td>0.02729</td>\n",
       "      <td>0.0</td>\n",
       "      <td>7.07</td>\n",
       "      <td>0.0</td>\n",
       "      <td>0.469</td>\n",
       "      <td>7.185</td>\n",
       "      <td>61.1</td>\n",
       "      <td>4.9671</td>\n",
       "      <td>2.0</td>\n",
       "      <td>242.0</td>\n",
       "      <td>17.8</td>\n",
       "      <td>392.83</td>\n",
       "      <td>4.03</td>\n",
       "      <td>34.7</td>\n",
       "    </tr>\n",
       "    <tr>\n",
       "      <th>3</th>\n",
       "      <td>0.03237</td>\n",
       "      <td>0.0</td>\n",
       "      <td>2.18</td>\n",
       "      <td>0.0</td>\n",
       "      <td>0.458</td>\n",
       "      <td>6.998</td>\n",
       "      <td>45.8</td>\n",
       "      <td>6.0622</td>\n",
       "      <td>3.0</td>\n",
       "      <td>222.0</td>\n",
       "      <td>18.7</td>\n",
       "      <td>394.63</td>\n",
       "      <td>2.94</td>\n",
       "      <td>33.4</td>\n",
       "    </tr>\n",
       "    <tr>\n",
       "      <th>4</th>\n",
       "      <td>0.06905</td>\n",
       "      <td>0.0</td>\n",
       "      <td>2.18</td>\n",
       "      <td>0.0</td>\n",
       "      <td>0.458</td>\n",
       "      <td>7.147</td>\n",
       "      <td>54.2</td>\n",
       "      <td>6.0622</td>\n",
       "      <td>3.0</td>\n",
       "      <td>222.0</td>\n",
       "      <td>18.7</td>\n",
       "      <td>396.90</td>\n",
       "      <td>5.33</td>\n",
       "      <td>36.2</td>\n",
       "    </tr>\n",
       "  </tbody>\n",
       "</table>\n",
       "</div>"
      ],
      "text/plain": [
       "      CRIM    ZN  INDUS  CHAS    NOX     RM   AGE     DIS  RAD    TAX  \\\n",
       "0  0.00632  18.0   2.31   0.0  0.538  6.575  65.2  4.0900  1.0  296.0   \n",
       "1  0.02731   0.0   7.07   0.0  0.469  6.421  78.9  4.9671  2.0  242.0   \n",
       "2  0.02729   0.0   7.07   0.0  0.469  7.185  61.1  4.9671  2.0  242.0   \n",
       "3  0.03237   0.0   2.18   0.0  0.458  6.998  45.8  6.0622  3.0  222.0   \n",
       "4  0.06905   0.0   2.18   0.0  0.458  7.147  54.2  6.0622  3.0  222.0   \n",
       "\n",
       "   PTRATIO       B  LSTAT  price  \n",
       "0     15.3  396.90   4.98   24.0  \n",
       "1     17.8  396.90   9.14   21.6  \n",
       "2     17.8  392.83   4.03   34.7  \n",
       "3     18.7  394.63   2.94   33.4  \n",
       "4     18.7  396.90   5.33   36.2  "
      ]
     },
     "execution_count": 17,
     "metadata": {},
     "output_type": "execute_result"
    }
   ],
   "source": [
    "df.head()"
   ]
  },
  {
   "cell_type": "code",
   "execution_count": 18,
   "id": "e765fc81",
   "metadata": {},
   "outputs": [],
   "source": [
    "x=df.drop('price',axis=1)\n",
    "y=df['price']"
   ]
  },
  {
   "cell_type": "code",
   "execution_count": 19,
   "id": "848f56fe",
   "metadata": {},
   "outputs": [
    {
     "data": {
      "text/html": [
       "<div>\n",
       "<style scoped>\n",
       "    .dataframe tbody tr th:only-of-type {\n",
       "        vertical-align: middle;\n",
       "    }\n",
       "\n",
       "    .dataframe tbody tr th {\n",
       "        vertical-align: top;\n",
       "    }\n",
       "\n",
       "    .dataframe thead th {\n",
       "        text-align: right;\n",
       "    }\n",
       "</style>\n",
       "<table border=\"1\" class=\"dataframe\">\n",
       "  <thead>\n",
       "    <tr style=\"text-align: right;\">\n",
       "      <th></th>\n",
       "      <th>CRIM</th>\n",
       "      <th>ZN</th>\n",
       "      <th>INDUS</th>\n",
       "      <th>CHAS</th>\n",
       "      <th>NOX</th>\n",
       "      <th>RM</th>\n",
       "      <th>AGE</th>\n",
       "      <th>DIS</th>\n",
       "      <th>RAD</th>\n",
       "      <th>TAX</th>\n",
       "      <th>PTRATIO</th>\n",
       "      <th>B</th>\n",
       "      <th>LSTAT</th>\n",
       "    </tr>\n",
       "  </thead>\n",
       "  <tbody>\n",
       "    <tr>\n",
       "      <th>0</th>\n",
       "      <td>0.00632</td>\n",
       "      <td>18.0</td>\n",
       "      <td>2.31</td>\n",
       "      <td>0.0</td>\n",
       "      <td>0.538</td>\n",
       "      <td>6.575</td>\n",
       "      <td>65.2</td>\n",
       "      <td>4.0900</td>\n",
       "      <td>1.0</td>\n",
       "      <td>296.0</td>\n",
       "      <td>15.3</td>\n",
       "      <td>396.90</td>\n",
       "      <td>4.98</td>\n",
       "    </tr>\n",
       "    <tr>\n",
       "      <th>1</th>\n",
       "      <td>0.02731</td>\n",
       "      <td>0.0</td>\n",
       "      <td>7.07</td>\n",
       "      <td>0.0</td>\n",
       "      <td>0.469</td>\n",
       "      <td>6.421</td>\n",
       "      <td>78.9</td>\n",
       "      <td>4.9671</td>\n",
       "      <td>2.0</td>\n",
       "      <td>242.0</td>\n",
       "      <td>17.8</td>\n",
       "      <td>396.90</td>\n",
       "      <td>9.14</td>\n",
       "    </tr>\n",
       "    <tr>\n",
       "      <th>2</th>\n",
       "      <td>0.02729</td>\n",
       "      <td>0.0</td>\n",
       "      <td>7.07</td>\n",
       "      <td>0.0</td>\n",
       "      <td>0.469</td>\n",
       "      <td>7.185</td>\n",
       "      <td>61.1</td>\n",
       "      <td>4.9671</td>\n",
       "      <td>2.0</td>\n",
       "      <td>242.0</td>\n",
       "      <td>17.8</td>\n",
       "      <td>392.83</td>\n",
       "      <td>4.03</td>\n",
       "    </tr>\n",
       "    <tr>\n",
       "      <th>3</th>\n",
       "      <td>0.03237</td>\n",
       "      <td>0.0</td>\n",
       "      <td>2.18</td>\n",
       "      <td>0.0</td>\n",
       "      <td>0.458</td>\n",
       "      <td>6.998</td>\n",
       "      <td>45.8</td>\n",
       "      <td>6.0622</td>\n",
       "      <td>3.0</td>\n",
       "      <td>222.0</td>\n",
       "      <td>18.7</td>\n",
       "      <td>394.63</td>\n",
       "      <td>2.94</td>\n",
       "    </tr>\n",
       "    <tr>\n",
       "      <th>4</th>\n",
       "      <td>0.06905</td>\n",
       "      <td>0.0</td>\n",
       "      <td>2.18</td>\n",
       "      <td>0.0</td>\n",
       "      <td>0.458</td>\n",
       "      <td>7.147</td>\n",
       "      <td>54.2</td>\n",
       "      <td>6.0622</td>\n",
       "      <td>3.0</td>\n",
       "      <td>222.0</td>\n",
       "      <td>18.7</td>\n",
       "      <td>396.90</td>\n",
       "      <td>5.33</td>\n",
       "    </tr>\n",
       "    <tr>\n",
       "      <th>...</th>\n",
       "      <td>...</td>\n",
       "      <td>...</td>\n",
       "      <td>...</td>\n",
       "      <td>...</td>\n",
       "      <td>...</td>\n",
       "      <td>...</td>\n",
       "      <td>...</td>\n",
       "      <td>...</td>\n",
       "      <td>...</td>\n",
       "      <td>...</td>\n",
       "      <td>...</td>\n",
       "      <td>...</td>\n",
       "      <td>...</td>\n",
       "    </tr>\n",
       "    <tr>\n",
       "      <th>501</th>\n",
       "      <td>0.06263</td>\n",
       "      <td>0.0</td>\n",
       "      <td>11.93</td>\n",
       "      <td>0.0</td>\n",
       "      <td>0.573</td>\n",
       "      <td>6.593</td>\n",
       "      <td>69.1</td>\n",
       "      <td>2.4786</td>\n",
       "      <td>1.0</td>\n",
       "      <td>273.0</td>\n",
       "      <td>21.0</td>\n",
       "      <td>391.99</td>\n",
       "      <td>9.67</td>\n",
       "    </tr>\n",
       "    <tr>\n",
       "      <th>502</th>\n",
       "      <td>0.04527</td>\n",
       "      <td>0.0</td>\n",
       "      <td>11.93</td>\n",
       "      <td>0.0</td>\n",
       "      <td>0.573</td>\n",
       "      <td>6.120</td>\n",
       "      <td>76.7</td>\n",
       "      <td>2.2875</td>\n",
       "      <td>1.0</td>\n",
       "      <td>273.0</td>\n",
       "      <td>21.0</td>\n",
       "      <td>396.90</td>\n",
       "      <td>9.08</td>\n",
       "    </tr>\n",
       "    <tr>\n",
       "      <th>503</th>\n",
       "      <td>0.06076</td>\n",
       "      <td>0.0</td>\n",
       "      <td>11.93</td>\n",
       "      <td>0.0</td>\n",
       "      <td>0.573</td>\n",
       "      <td>6.976</td>\n",
       "      <td>91.0</td>\n",
       "      <td>2.1675</td>\n",
       "      <td>1.0</td>\n",
       "      <td>273.0</td>\n",
       "      <td>21.0</td>\n",
       "      <td>396.90</td>\n",
       "      <td>5.64</td>\n",
       "    </tr>\n",
       "    <tr>\n",
       "      <th>504</th>\n",
       "      <td>0.10959</td>\n",
       "      <td>0.0</td>\n",
       "      <td>11.93</td>\n",
       "      <td>0.0</td>\n",
       "      <td>0.573</td>\n",
       "      <td>6.794</td>\n",
       "      <td>89.3</td>\n",
       "      <td>2.3889</td>\n",
       "      <td>1.0</td>\n",
       "      <td>273.0</td>\n",
       "      <td>21.0</td>\n",
       "      <td>393.45</td>\n",
       "      <td>6.48</td>\n",
       "    </tr>\n",
       "    <tr>\n",
       "      <th>505</th>\n",
       "      <td>0.04741</td>\n",
       "      <td>0.0</td>\n",
       "      <td>11.93</td>\n",
       "      <td>0.0</td>\n",
       "      <td>0.573</td>\n",
       "      <td>6.030</td>\n",
       "      <td>80.8</td>\n",
       "      <td>2.5050</td>\n",
       "      <td>1.0</td>\n",
       "      <td>273.0</td>\n",
       "      <td>21.0</td>\n",
       "      <td>396.90</td>\n",
       "      <td>7.88</td>\n",
       "    </tr>\n",
       "  </tbody>\n",
       "</table>\n",
       "<p>506 rows × 13 columns</p>\n",
       "</div>"
      ],
      "text/plain": [
       "        CRIM    ZN  INDUS  CHAS    NOX     RM   AGE     DIS  RAD    TAX  \\\n",
       "0    0.00632  18.0   2.31   0.0  0.538  6.575  65.2  4.0900  1.0  296.0   \n",
       "1    0.02731   0.0   7.07   0.0  0.469  6.421  78.9  4.9671  2.0  242.0   \n",
       "2    0.02729   0.0   7.07   0.0  0.469  7.185  61.1  4.9671  2.0  242.0   \n",
       "3    0.03237   0.0   2.18   0.0  0.458  6.998  45.8  6.0622  3.0  222.0   \n",
       "4    0.06905   0.0   2.18   0.0  0.458  7.147  54.2  6.0622  3.0  222.0   \n",
       "..       ...   ...    ...   ...    ...    ...   ...     ...  ...    ...   \n",
       "501  0.06263   0.0  11.93   0.0  0.573  6.593  69.1  2.4786  1.0  273.0   \n",
       "502  0.04527   0.0  11.93   0.0  0.573  6.120  76.7  2.2875  1.0  273.0   \n",
       "503  0.06076   0.0  11.93   0.0  0.573  6.976  91.0  2.1675  1.0  273.0   \n",
       "504  0.10959   0.0  11.93   0.0  0.573  6.794  89.3  2.3889  1.0  273.0   \n",
       "505  0.04741   0.0  11.93   0.0  0.573  6.030  80.8  2.5050  1.0  273.0   \n",
       "\n",
       "     PTRATIO       B  LSTAT  \n",
       "0       15.3  396.90   4.98  \n",
       "1       17.8  396.90   9.14  \n",
       "2       17.8  392.83   4.03  \n",
       "3       18.7  394.63   2.94  \n",
       "4       18.7  396.90   5.33  \n",
       "..       ...     ...    ...  \n",
       "501     21.0  391.99   9.67  \n",
       "502     21.0  396.90   9.08  \n",
       "503     21.0  396.90   5.64  \n",
       "504     21.0  393.45   6.48  \n",
       "505     21.0  396.90   7.88  \n",
       "\n",
       "[506 rows x 13 columns]"
      ]
     },
     "execution_count": 19,
     "metadata": {},
     "output_type": "execute_result"
    }
   ],
   "source": [
    "x"
   ]
  },
  {
   "cell_type": "code",
   "execution_count": 20,
   "id": "f17e2998",
   "metadata": {},
   "outputs": [
    {
     "data": {
      "text/plain": [
       "0      24.0\n",
       "1      21.6\n",
       "2      34.7\n",
       "3      33.4\n",
       "4      36.2\n",
       "       ... \n",
       "501    22.4\n",
       "502    20.6\n",
       "503    23.9\n",
       "504    22.0\n",
       "505    11.9\n",
       "Name: price, Length: 506, dtype: float64"
      ]
     },
     "execution_count": 20,
     "metadata": {},
     "output_type": "execute_result"
    }
   ],
   "source": [
    "y"
   ]
  },
  {
   "cell_type": "code",
   "execution_count": 21,
   "id": "da641d4f",
   "metadata": {},
   "outputs": [
    {
     "data": {
      "text/plain": [
       "array([[<Axes: title={'center': 'CRIM'}>, <Axes: title={'center': 'ZN'}>,\n",
       "        <Axes: title={'center': 'INDUS'}>,\n",
       "        <Axes: title={'center': 'CHAS'}>],\n",
       "       [<Axes: title={'center': 'NOX'}>, <Axes: title={'center': 'RM'}>,\n",
       "        <Axes: title={'center': 'AGE'}>, <Axes: title={'center': 'DIS'}>],\n",
       "       [<Axes: title={'center': 'RAD'}>, <Axes: title={'center': 'TAX'}>,\n",
       "        <Axes: title={'center': 'PTRATIO'}>,\n",
       "        <Axes: title={'center': 'B'}>],\n",
       "       [<Axes: title={'center': 'LSTAT'}>,\n",
       "        <Axes: title={'center': 'price'}>, <Axes: >, <Axes: >]],\n",
       "      dtype=object)"
      ]
     },
     "execution_count": 21,
     "metadata": {},
     "output_type": "execute_result"
    },
    {
     "data": {
      "image/png": "[encoded data removed]",
      "text/plain": [
       "<Figure size 1200x1000 with 16 Axes>"
      ]
     },
     "metadata": {},
     "output_type": "display_data"
    }
   ],
   "source": [
    "df.hist(figsize=(12,10))"
   ]
  },
  {
   "cell_type": "code",
   "execution_count": null,
   "id": "e59bd62f",
   "metadata": {},
   "outputs": [],
   "source": []
  }
 ],
 "metadata": {
  "kernelspec": {
   "display_name": "Python 3 (ipykernel)",
   "language": "python",
   "name": "python3"
  },
  "language_info": {
   "codemirror_mode": {
    "name": "ipython",
    "version": 3
   },
   "file_extension": ".py",
   "mimetype": "text/x-python",
   "name": "python",
   "nbconvert_exporter": "python",
   "pygments_lexer": "ipython3",
   "version": "3.11.5"
  }
 },
 "nbformat": 4,
 "nbformat_minor": 5
}
