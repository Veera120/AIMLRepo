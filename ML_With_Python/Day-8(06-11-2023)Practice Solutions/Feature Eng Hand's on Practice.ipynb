{
 "cells": [
  {
   "cell_type": "code",
   "execution_count": 1,
   "id": "ee7b2c3f",
   "metadata": {},
   "outputs": [],
   "source": [
    "import numpy as np\n",
    "import pandas as pd\n",
    "import matplotlib.pyplot as plt\n",
    "import seaborn as sns"
   ]
  },
  {
   "cell_type": "code",
   "execution_count": 2,
   "id": "f10ef3e9",
   "metadata": {},
   "outputs": [
    {
     "data": {
      "text/html": [
       "<div>\n",
       "<style scoped>\n",
       "    .dataframe tbody tr th:only-of-type {\n",
       "        vertical-align: middle;\n",
       "    }\n",
       "\n",
       "    .dataframe tbody tr th {\n",
       "        vertical-align: top;\n",
       "    }\n",
       "\n",
       "    .dataframe thead th {\n",
       "        text-align: right;\n",
       "    }\n",
       "</style>\n",
       "<table border=\"1\" class=\"dataframe\">\n",
       "  <thead>\n",
       "    <tr style=\"text-align: right;\">\n",
       "      <th></th>\n",
       "      <th>Pregnancies</th>\n",
       "      <th>Glucose</th>\n",
       "      <th>BloodPressure</th>\n",
       "      <th>SkinThickness</th>\n",
       "      <th>Insulin</th>\n",
       "      <th>BMI</th>\n",
       "      <th>DiabetesPedigreeFunction</th>\n",
       "      <th>Age</th>\n",
       "      <th>Outcome</th>\n",
       "    </tr>\n",
       "  </thead>\n",
       "  <tbody>\n",
       "    <tr>\n",
       "      <th>0</th>\n",
       "      <td>6.0</td>\n",
       "      <td>148</td>\n",
       "      <td>72</td>\n",
       "      <td>35.0</td>\n",
       "      <td>0</td>\n",
       "      <td>33.6</td>\n",
       "      <td>0.627</td>\n",
       "      <td>50.0</td>\n",
       "      <td>1</td>\n",
       "    </tr>\n",
       "    <tr>\n",
       "      <th>1</th>\n",
       "      <td>NaN</td>\n",
       "      <td>85</td>\n",
       "      <td>66</td>\n",
       "      <td>29.0</td>\n",
       "      <td>0</td>\n",
       "      <td>26.6</td>\n",
       "      <td>0.351</td>\n",
       "      <td>NaN</td>\n",
       "      <td>0</td>\n",
       "    </tr>\n",
       "    <tr>\n",
       "      <th>2</th>\n",
       "      <td>8.0</td>\n",
       "      <td>183</td>\n",
       "      <td>64</td>\n",
       "      <td>0.0</td>\n",
       "      <td>0</td>\n",
       "      <td>NaN</td>\n",
       "      <td>0.672</td>\n",
       "      <td>32.0</td>\n",
       "      <td>1</td>\n",
       "    </tr>\n",
       "    <tr>\n",
       "      <th>3</th>\n",
       "      <td>1.0</td>\n",
       "      <td>89</td>\n",
       "      <td>66</td>\n",
       "      <td>23.0</td>\n",
       "      <td>94</td>\n",
       "      <td>28.1</td>\n",
       "      <td>0.167</td>\n",
       "      <td>21.0</td>\n",
       "      <td>0</td>\n",
       "    </tr>\n",
       "    <tr>\n",
       "      <th>4</th>\n",
       "      <td>0.0</td>\n",
       "      <td>137</td>\n",
       "      <td>40</td>\n",
       "      <td>35.0</td>\n",
       "      <td>168</td>\n",
       "      <td>43.1</td>\n",
       "      <td>2.288</td>\n",
       "      <td>33.0</td>\n",
       "      <td>1</td>\n",
       "    </tr>\n",
       "  </tbody>\n",
       "</table>\n",
       "</div>"
      ],
      "text/plain": [
       "   Pregnancies  Glucose  BloodPressure  SkinThickness  Insulin   BMI  \\\n",
       "0          6.0      148             72           35.0        0  33.6   \n",
       "1          NaN       85             66           29.0        0  26.6   \n",
       "2          8.0      183             64            0.0        0   NaN   \n",
       "3          1.0       89             66           23.0       94  28.1   \n",
       "4          0.0      137             40           35.0      168  43.1   \n",
       "\n",
       "   DiabetesPedigreeFunction   Age  Outcome  \n",
       "0                     0.627  50.0        1  \n",
       "1                     0.351   NaN        0  \n",
       "2                     0.672  32.0        1  \n",
       "3                     0.167  21.0        0  \n",
       "4                     2.288  33.0        1  "
      ]
     },
     "execution_count": 2,
     "metadata": {},
     "output_type": "execute_result"
    }
   ],
   "source": [
    "data=pd.read_csv('diabetes_na.csv')\n",
    "data.head()"
   ]
  },
  {
   "cell_type": "markdown",
   "id": "4c414649",
   "metadata": {},
   "source": [
    "# Handling Missing values"
   ]
  },
  {
   "cell_type": "code",
   "execution_count": 3,
   "id": "a7ae5451",
   "metadata": {},
   "outputs": [
    {
     "data": {
      "text/plain": [
       "Pregnancies                 2\n",
       "Glucose                     0\n",
       "BloodPressure               0\n",
       "SkinThickness               1\n",
       "Insulin                     0\n",
       "BMI                         1\n",
       "DiabetesPedigreeFunction    0\n",
       "Age                         1\n",
       "Outcome                     0\n",
       "dtype: int64"
      ]
     },
     "execution_count": 3,
     "metadata": {},
     "output_type": "execute_result"
    }
   ],
   "source": [
    "data.isna().sum()"
   ]
  },
  {
   "cell_type": "code",
   "execution_count": 4,
   "id": "fc495cbc",
   "metadata": {},
   "outputs": [
    {
     "data": {
      "text/plain": [
       "Pregnancies                 0\n",
       "Glucose                     0\n",
       "BloodPressure               0\n",
       "SkinThickness               0\n",
       "Insulin                     0\n",
       "BMI                         0\n",
       "DiabetesPedigreeFunction    0\n",
       "Age                         0\n",
       "Outcome                     0\n",
       "dtype: int64"
      ]
     },
     "execution_count": 4,
     "metadata": {},
     "output_type": "execute_result"
    }
   ],
   "source": [
    "data=data.fillna(method='bfill')\n",
    "data.isna().sum()"
   ]
  },
  {
   "cell_type": "markdown",
   "id": "a20c64b3",
   "metadata": {},
   "source": [
    "# Split the data for Training & Testing"
   ]
  },
  {
   "cell_type": "code",
   "execution_count": 5,
   "id": "3de7ba19",
   "metadata": {},
   "outputs": [],
   "source": [
    "x=data.iloc[:,:-1]\n",
    "y=data.iloc[:,-1:]"
   ]
  },
  {
   "cell_type": "code",
   "execution_count": 6,
   "id": "e880bb75",
   "metadata": {},
   "outputs": [
    {
     "name": "stdout",
     "output_type": "stream",
     "text": [
      "****************Training Data Shape********************\n",
      "\n",
      "Training data-X- Shape:\t (576, 8)\n",
      "\n",
      "Training data-y- Shape:\t (576, 1)\n",
      "\n",
      "****************Testing Data Shape********************\n",
      "\n",
      "Testing data(x-Input) Shape:\t (192, 8)\n",
      "\n",
      "Testing data(y-Outcome) Shape:\t (192, 1)\n"
     ]
    }
   ],
   "source": [
    "from sklearn.model_selection import train_test_split\n",
    "xtrain,xtest,ytrain,ytest=train_test_split(x,y,test_size=.25,random_state=2)\n",
    "print('****************Training Data Shape********************\\n')\n",
    "print('Training data-X- Shape:\\t',xtrain.shape)\n",
    "print()\n",
    "print('Training data-y- Shape:\\t',ytrain.shape)\n",
    "print()\n",
    "print('****************Testing Data Shape********************\\n')\n",
    "print('Testing data(x-Input) Shape:\\t',xtest.shape)\n",
    "print()\n",
    "print('Testing data(y-Outcome) Shape:\\t',ytest.shape)"
   ]
  },
  {
   "cell_type": "markdown",
   "id": "f7050d1b",
   "metadata": {},
   "source": [
    "# Model Development with Logistic RegressionAlgorithm"
   ]
  },
  {
   "cell_type": "code",
   "execution_count": 7,
   "id": "e92e4a21",
   "metadata": {},
   "outputs": [
    {
     "name": "stdout",
     "output_type": "stream",
     "text": [
      "Training the model\n",
      "\n",
      "[LibLinear]Predicted Label for the input samples:\n",
      " [0 0 0 0 0 0 0 0 0 1 0 0 1 0 0 1 1 0 0 1 1 1 0 0 0 0 1 0 0 0 0 0 0 0 0 1 0\n",
      " 1 0 0 0 0 1 0 0 0 0 0 0 0 1 0 0 1 0 0 1 0 0 0 0 1 1 1 0 0 1 0 0 0 0 0 0 0\n",
      " 0 1 0 0 0 0 0 0 0 0 1 0 0 0 0 0 0 0 0 0 0 1 0 1 1 0 0 1 0 0 0 0 1 0 0 0 0\n",
      " 0 0 0 0 1 0 0 0 0 0 0 0 0 0 1 0 0 0 0 1 0 0 0 1 1 0 0 0 1 0 1 0 0 0 0 0 0\n",
      " 0 0 0 0 0 0 0 0 0 1 0 1 0 0 0 0 0 0 0 1 0 0 0 1 0 0 0 0 0 0 0 0 0 0 1 0 0\n",
      " 0 0 0 0 1 0 0]\n",
      "\n",
      "Testing is completed\n",
      "\n",
      "Testing samples are: \t 192\n",
      "********************Performance Measures for Logistic Regression Classfication****\n",
      "Accuracy Score:\t\n",
      " 0.7604166666666666\n",
      "\n",
      "================================================================================\n",
      "Confusion Matrix:\n",
      " [[121  13]\n",
      " [ 33  25]]\n",
      "\n",
      "================================================================================\n",
      "Classification Report:\n",
      "               precision    recall  f1-score   support\n",
      "\n",
      "           0       0.79      0.90      0.84       134\n",
      "           1       0.66      0.43      0.52        58\n",
      "\n",
      "    accuracy                           0.76       192\n",
      "   macro avg       0.72      0.67      0.68       192\n",
      "weighted avg       0.75      0.76      0.74       192\n",
      "\n",
      "================================================================================\n"
     ]
    },
    {
     "name": "stderr",
     "output_type": "stream",
     "text": [
      "C:\\Users\\ADMIN\\anaconda3\\Lib\\site-packages\\sklearn\\utils\\validation.py:1183: DataConversionWarning: A column-vector y was passed when a 1d array was expected. Please change the shape of y to (n_samples, ), for example using ravel().\n",
      "  y = column_or_1d(y, warn=True)\n"
     ]
    }
   ],
   "source": [
    "from sklearn.linear_model import LogisticRegression\n",
    "from sklearn.metrics import accuracy_score\n",
    "from sklearn.metrics import confusion_matrix\n",
    "from sklearn.metrics import classification_report\n",
    "#invoke the log reg algorithm from sklearn\n",
    "log_reg=LogisticRegression(solver='liblinear',verbose=2)\n",
    "#Train the model\n",
    "print('Training the model\\n')\n",
    "log_reg.fit(xtrain,ytrain)\n",
    "#Test the model\n",
    "ypred=log_reg.predict(xtest)\n",
    "print('Predicted Label for the input samples:\\n',ypred)\n",
    "print()\n",
    "print('Testing is completed\\n')\n",
    "print('Testing samples are: \\t',len(ypred))\n",
    "print('********************Performance Measures for Logistic Regression Classfication****')\n",
    "print('Accuracy Score:\\t\\n',accuracy_score(ytest,ypred))\n",
    "print()\n",
    "print('='*80)\n",
    "print('Confusion Matrix:\\n',confusion_matrix(ytest,ypred))\n",
    "print()\n",
    "print('='*80)\n",
    "print('Classification Report:\\n',classification_report(ytest,ypred))\n",
    "print('='*80)"
   ]
  },
  {
   "cell_type": "code",
   "execution_count": 8,
   "id": "e8fe79b1",
   "metadata": {},
   "outputs": [
    {
     "data": {
      "text/plain": [
       "{'C': 1.0,\n",
       " 'class_weight': None,\n",
       " 'dual': False,\n",
       " 'fit_intercept': True,\n",
       " 'intercept_scaling': 1,\n",
       " 'l1_ratio': None,\n",
       " 'max_iter': 100,\n",
       " 'multi_class': 'auto',\n",
       " 'n_jobs': None,\n",
       " 'penalty': 'l2',\n",
       " 'random_state': None,\n",
       " 'solver': 'liblinear',\n",
       " 'tol': 0.0001,\n",
       " 'verbose': 2,\n",
       " 'warm_start': False}"
      ]
     },
     "execution_count": 8,
     "metadata": {},
     "output_type": "execute_result"
    }
   ],
   "source": [
    "log_reg.get_params()"
   ]
  },
  {
   "cell_type": "markdown",
   "id": "a4cc9bfa",
   "metadata": {},
   "source": [
    "# 1. Feature Engineering Techniques - Scaling\n",
    " 1. Do we need to scale the data?\n",
    " 2. If yes, which scaling method - need to adapt"
   ]
  },
  {
   "cell_type": "code",
   "execution_count": 9,
   "id": "24b57e80",
   "metadata": {},
   "outputs": [
    {
     "data": {
      "text/html": [
       "<div>\n",
       "<style scoped>\n",
       "    .dataframe tbody tr th:only-of-type {\n",
       "        vertical-align: middle;\n",
       "    }\n",
       "\n",
       "    .dataframe tbody tr th {\n",
       "        vertical-align: top;\n",
       "    }\n",
       "\n",
       "    .dataframe thead th {\n",
       "        text-align: right;\n",
       "    }\n",
       "</style>\n",
       "<table border=\"1\" class=\"dataframe\">\n",
       "  <thead>\n",
       "    <tr style=\"text-align: right;\">\n",
       "      <th></th>\n",
       "      <th>Pregnancies</th>\n",
       "      <th>Glucose</th>\n",
       "      <th>BloodPressure</th>\n",
       "      <th>SkinThickness</th>\n",
       "      <th>Insulin</th>\n",
       "      <th>BMI</th>\n",
       "      <th>DiabetesPedigreeFunction</th>\n",
       "      <th>Age</th>\n",
       "    </tr>\n",
       "  </thead>\n",
       "  <tbody>\n",
       "    <tr>\n",
       "      <th>0</th>\n",
       "      <td>6.0</td>\n",
       "      <td>148</td>\n",
       "      <td>72</td>\n",
       "      <td>35.0</td>\n",
       "      <td>0</td>\n",
       "      <td>33.6</td>\n",
       "      <td>0.627</td>\n",
       "      <td>50.0</td>\n",
       "    </tr>\n",
       "    <tr>\n",
       "      <th>1</th>\n",
       "      <td>8.0</td>\n",
       "      <td>85</td>\n",
       "      <td>66</td>\n",
       "      <td>29.0</td>\n",
       "      <td>0</td>\n",
       "      <td>26.6</td>\n",
       "      <td>0.351</td>\n",
       "      <td>32.0</td>\n",
       "    </tr>\n",
       "    <tr>\n",
       "      <th>2</th>\n",
       "      <td>8.0</td>\n",
       "      <td>183</td>\n",
       "      <td>64</td>\n",
       "      <td>0.0</td>\n",
       "      <td>0</td>\n",
       "      <td>28.1</td>\n",
       "      <td>0.672</td>\n",
       "      <td>32.0</td>\n",
       "    </tr>\n",
       "    <tr>\n",
       "      <th>3</th>\n",
       "      <td>1.0</td>\n",
       "      <td>89</td>\n",
       "      <td>66</td>\n",
       "      <td>23.0</td>\n",
       "      <td>94</td>\n",
       "      <td>28.1</td>\n",
       "      <td>0.167</td>\n",
       "      <td>21.0</td>\n",
       "    </tr>\n",
       "    <tr>\n",
       "      <th>4</th>\n",
       "      <td>0.0</td>\n",
       "      <td>137</td>\n",
       "      <td>40</td>\n",
       "      <td>35.0</td>\n",
       "      <td>168</td>\n",
       "      <td>43.1</td>\n",
       "      <td>2.288</td>\n",
       "      <td>33.0</td>\n",
       "    </tr>\n",
       "  </tbody>\n",
       "</table>\n",
       "</div>"
      ],
      "text/plain": [
       "   Pregnancies  Glucose  BloodPressure  SkinThickness  Insulin   BMI  \\\n",
       "0          6.0      148             72           35.0        0  33.6   \n",
       "1          8.0       85             66           29.0        0  26.6   \n",
       "2          8.0      183             64            0.0        0  28.1   \n",
       "3          1.0       89             66           23.0       94  28.1   \n",
       "4          0.0      137             40           35.0      168  43.1   \n",
       "\n",
       "   DiabetesPedigreeFunction   Age  \n",
       "0                     0.627  50.0  \n",
       "1                     0.351  32.0  \n",
       "2                     0.672  32.0  \n",
       "3                     0.167  21.0  \n",
       "4                     2.288  33.0  "
      ]
     },
     "execution_count": 9,
     "metadata": {},
     "output_type": "execute_result"
    }
   ],
   "source": [
    "x.head(5)"
   ]
  },
  {
   "cell_type": "code",
   "execution_count": 10,
   "id": "22e7406f",
   "metadata": {},
   "outputs": [],
   "source": [
    "from sklearn.preprocessing import StandardScaler\n",
    "std_sc=StandardScaler()\n",
    "sc_x=std_sc.fit_transform(x)"
   ]
  },
  {
   "cell_type": "code",
   "execution_count": 11,
   "id": "3e63c361",
   "metadata": {},
   "outputs": [
    {
     "data": {
      "text/plain": [
       "array([[ 0.63286155,  0.84832379,  0.14964075, ...,  0.20334846,\n",
       "         0.46849198,  1.42590802],\n",
       "       [ 1.22522922, -1.12339636, -0.16054575, ..., -0.68564992,\n",
       "        -0.36506078, -0.10569668],\n",
       "       [ 1.22522922,  1.94372388, -0.26394125, ..., -0.49515027,\n",
       "         0.60439732, -0.10569668],\n",
       "       ...,\n",
       "       [ 0.33667772,  0.00330087,  0.14964075, ..., -0.73644983,\n",
       "        -0.68519336, -0.27587498],\n",
       "       [-0.84805762,  0.1597866 , -0.47073225, ..., -0.24115073,\n",
       "        -0.37110101,  1.17064057],\n",
       "       [-0.84805762, -0.8730192 ,  0.04624525, ..., -0.2030508 ,\n",
       "        -0.47378505, -0.87149903]])"
      ]
     },
     "execution_count": 11,
     "metadata": {},
     "output_type": "execute_result"
    }
   ],
   "source": [
    "sc_x"
   ]
  },
  {
   "cell_type": "code",
   "execution_count": 12,
   "id": "2a6c7a1a",
   "metadata": {},
   "outputs": [
    {
     "name": "stdout",
     "output_type": "stream",
     "text": [
      "****************Training Data Shape********************\n",
      "\n",
      "Training data-X- Shape:\t (576, 8)\n",
      "\n",
      "Training data-y- Shape:\t (576, 1)\n",
      "\n",
      "****************Testing Data Shape********************\n",
      "\n",
      "Testing data(x-Input) Shape:\t (192, 8)\n",
      "\n",
      "Testing data(y-Outcome) Shape:\t (192, 1)\n"
     ]
    }
   ],
   "source": [
    "from sklearn.model_selection import train_test_split\n",
    "xtrain,xtest,ytrain,ytest=train_test_split(sc_x,y,test_size=.25,random_state=2)\n",
    "print('****************Training Data Shape********************\\n')\n",
    "print('Training data-X- Shape:\\t',xtrain.shape)\n",
    "print()\n",
    "print('Training data-y- Shape:\\t',ytrain.shape)\n",
    "print()\n",
    "print('****************Testing Data Shape********************\\n')\n",
    "print('Testing data(x-Input) Shape:\\t',xtest.shape)\n",
    "print()\n",
    "print('Testing data(y-Outcome) Shape:\\t',ytest.shape)"
   ]
  },
  {
   "cell_type": "code",
   "execution_count": 13,
   "id": "e2a08e63",
   "metadata": {},
   "outputs": [
    {
     "name": "stdout",
     "output_type": "stream",
     "text": [
      "Training the model\n",
      "\n",
      "[LibLinear]Predicted Label for the input samples:\n",
      " [0 0 0 0 1 0 0 0 0 1 0 0 1 0 0 1 1 0 0 1 1 1 0 0 0 0 1 0 0 0 0 0 0 0 0 1 0\n",
      " 1 0 0 0 0 0 0 0 0 0 0 0 0 1 0 0 1 0 0 1 0 0 0 0 1 1 1 0 0 1 0 0 0 0 0 0 0\n",
      " 0 1 0 0 0 0 0 0 0 0 1 0 0 0 0 1 0 0 0 0 0 1 0 1 1 0 0 1 0 0 0 0 1 0 0 0 0\n",
      " 0 0 0 0 1 0 0 0 0 0 0 0 0 0 1 0 0 0 0 1 0 0 0 1 1 0 0 0 1 0 1 0 0 0 0 0 0\n",
      " 0 0 0 0 1 0 0 0 0 1 0 1 0 0 0 0 0 0 0 1 0 0 0 1 0 0 0 0 0 0 0 0 0 0 1 0 0\n",
      " 0 0 0 0 1 0 0]\n",
      "\n",
      "Testing is completed\n",
      "\n",
      "Testing samples are: \t 192\n",
      "********************Performance Measures for Logistic Regression Cla**\n",
      "Accuracy Score:\t\n",
      " 0.7604166666666666\n",
      "\n",
      "================================================================================\n",
      "Confusion Matrix:\n",
      " [[120  14]\n",
      " [ 32  26]]\n",
      "\n",
      "================================================================================\n",
      "Classification Report:\n",
      "               precision    recall  f1-score   support\n",
      "\n",
      "           0       0.79      0.90      0.84       134\n",
      "           1       0.65      0.45      0.53        58\n",
      "\n",
      "    accuracy                           0.76       192\n",
      "   macro avg       0.72      0.67      0.68       192\n",
      "weighted avg       0.75      0.76      0.75       192\n",
      "\n",
      "================================================================================\n"
     ]
    },
    {
     "name": "stderr",
     "output_type": "stream",
     "text": [
      "C:\\Users\\ADMIN\\anaconda3\\Lib\\site-packages\\sklearn\\utils\\validation.py:1183: DataConversionWarning: A column-vector y was passed when a 1d array was expected. Please change the shape of y to (n_samples, ), for example using ravel().\n",
      "  y = column_or_1d(y, warn=True)\n"
     ]
    }
   ],
   "source": [
    "from sklearn.linear_model import LogisticRegression\n",
    "from sklearn.metrics import accuracy_score\n",
    "from sklearn.metrics import confusion_matrix\n",
    "from sklearn.metrics import classification_report\n",
    " #invoke the log reg algorithm from sklearn\n",
    "log_reg=LogisticRegression(solver='liblinear',verbose=2)\n",
    " #Train the model\n",
    "print('Training the model\\n')\n",
    "log_reg.fit(xtrain,ytrain)\n",
    "#Test the model\n",
    "ypred=log_reg.predict(xtest)\n",
    "print('Predicted Label for the input samples:\\n',ypred)\n",
    "print()\n",
    "print('Testing is completed\\n')\n",
    "print('Testing samples are: \\t',len(ypred))\n",
    "print('********************Performance Measures for Logistic Regression Cla**')\n",
    "print('Accuracy Score:\\t\\n',accuracy_score(ytest,ypred))\n",
    "print()\n",
    "print('='*80)\n",
    "print('Confusion Matrix:\\n',confusion_matrix(ytest,ypred))\n",
    "print()\n",
    "print('='*80)\n",
    "print('Classification Report:\\n',classification_report(ytest,ypred))\n",
    "print('='*80)"
   ]
  },
  {
   "cell_type": "code",
   "execution_count": 14,
   "id": "55c9982a",
   "metadata": {},
   "outputs": [
    {
     "name": "stdout",
     "output_type": "stream",
     "text": [
      "****************Training Data Shape********************\n",
      "\n",
      "Training data-X- Shape:\t (576, 8)\n",
      "\n",
      "Training data-y- Shape:\t (576, 1)\n",
      "\n",
      "****************Testing Data Shape********************\n",
      "\n",
      "Testing data(x-Input) Shape:\t (192, 8)\n",
      "\n",
      "Testing data(y-Outcome) Shape:\t (192, 1)\n"
     ]
    }
   ],
   "source": [
    "from sklearn.preprocessing import MinMaxScaler\n",
    "mm_sc=MinMaxScaler()\n",
    "mm_x=mm_sc.fit_transform(x)\n",
    "from sklearn.model_selection import train_test_split\n",
    "xtrain,xtest,ytrain,ytest=train_test_split(mm_x,y,test_size=.25,random_state=2)\n",
    "print('****************Training Data Shape********************\\n')\n",
    "print('Training data-X- Shape:\\t',xtrain.shape)\n",
    "print()\n",
    "print('Training data-y- Shape:\\t',ytrain.shape)\n",
    "print()\n",
    "print('****************Testing Data Shape********************\\n')\n",
    "print('Testing data(x-Input) Shape:\\t',xtest.shape)\n",
    "print()\n",
    "print('Testing data(y-Outcome) Shape:\\t',ytest.shape)"
   ]
  },
  {
   "cell_type": "code",
   "execution_count": 15,
   "id": "271aaad8",
   "metadata": {},
   "outputs": [
    {
     "name": "stdout",
     "output_type": "stream",
     "text": [
      "Training the model\n",
      "\n",
      "[LibLinear]Predicted Label for the input samples:\n",
      " [0 0 0 0 1 0 0 0 0 0 0 0 1 0 0 1 1 0 0 1 1 1 0 0 0 0 1 0 0 0 0 0 0 0 0 1 0\n",
      " 1 0 0 0 0 0 0 0 0 0 0 0 0 1 0 0 1 0 0 1 0 0 0 0 1 1 1 0 0 1 0 0 0 0 0 0 0\n",
      " 0 0 0 0 0 0 0 0 0 0 1 0 0 0 0 1 0 0 0 0 0 1 0 1 1 0 0 1 0 0 0 0 1 0 0 0 0\n",
      " 0 0 0 0 1 0 0 0 0 0 0 0 0 0 1 0 0 0 0 0 0 0 0 1 0 0 0 0 0 0 0 0 0 0 0 0 1\n",
      " 0 0 0 0 0 0 0 0 0 1 0 1 0 0 0 0 0 0 0 1 0 0 0 1 0 0 0 0 0 0 0 0 0 0 1 0 0\n",
      " 0 0 0 0 0 0 0]\n",
      "\n",
      "Testing is completed\n",
      "\n",
      "Testing samples are: \t 192\n",
      "********************Performance Measures for Logistic Regression Cla*\n",
      "Accuracy Score:\t\n",
      " 0.7552083333333334\n",
      "\n",
      "================================================================================\n",
      "Confusion Matrix:\n",
      " [[123  11]\n",
      " [ 36  22]]\n",
      "\n",
      "================================================================================\n",
      "Classification Report:\n",
      "               precision    recall  f1-score   support\n",
      "\n",
      "           0       0.77      0.92      0.84       134\n",
      "           1       0.67      0.38      0.48        58\n",
      "\n",
      "    accuracy                           0.76       192\n",
      "   macro avg       0.72      0.65      0.66       192\n",
      "weighted avg       0.74      0.76      0.73       192\n",
      "\n",
      "================================================================================\n"
     ]
    },
    {
     "name": "stderr",
     "output_type": "stream",
     "text": [
      "C:\\Users\\ADMIN\\anaconda3\\Lib\\site-packages\\sklearn\\utils\\validation.py:1183: DataConversionWarning: A column-vector y was passed when a 1d array was expected. Please change the shape of y to (n_samples, ), for example using ravel().\n",
      "  y = column_or_1d(y, warn=True)\n"
     ]
    }
   ],
   "source": [
    "from sklearn.linear_model import LogisticRegression\n",
    "from sklearn.metrics import accuracy_score\n",
    "from sklearn.metrics import confusion_matrix\n",
    "from sklearn.metrics import classification_report\n",
    "#invoke the log reg algorithm from sklearn\n",
    "log_reg=LogisticRegression(solver='liblinear',verbose=2)\n",
    "#Train the model\n",
    "print('Training the model\\n')\n",
    "log_reg.fit(xtrain,ytrain)\n",
    "#Test the model\n",
    "ypred=log_reg.predict(xtest)\n",
    "print('Predicted Label for the input samples:\\n',ypred)\n",
    "print()\n",
    "print('Testing is completed\\n')\n",
    "print('Testing samples are: \\t',len(ypred))\n",
    "print('********************Performance Measures for Logistic Regression Cla*')\n",
    "print('Accuracy Score:\\t\\n',accuracy_score(ytest,ypred))\n",
    "print()\n",
    "print('='*80)\n",
    "print('Confusion Matrix:\\n',confusion_matrix(ytest,ypred))\n",
    "print()\n",
    "print('='*80)\n",
    "print('Classification Report:\\n',classification_report(ytest,ypred))\n",
    "print('='*80)"
   ]
  },
  {
   "cell_type": "markdown",
   "id": "af7efa6f",
   "metadata": {},
   "source": [
    "# Feature Engineering Techniques - Handling the imbalance data"
   ]
  },
  {
   "cell_type": "code",
   "execution_count": 16,
   "id": "b54d6738",
   "metadata": {},
   "outputs": [
    {
     "data": {
      "text/plain": [
       "<Axes: ylabel='count'>"
      ]
     },
     "execution_count": 16,
     "metadata": {},
     "output_type": "execute_result"
    },
    {
     "data": {
      "image/png": "[encoded data removed]",
      "text/plain": [
       "<Figure size 640x480 with 1 Axes>"
      ]
     },
     "metadata": {},
     "output_type": "display_data"
    }
   ],
   "source": [
    " sns.countplot(data['Outcome'])"
   ]
  },
  {
   "cell_type": "markdown",
   "id": "cfc71e69",
   "metadata": {},
   "source": [
    "# UPsample"
   ]
  },
  {
   "cell_type": "code",
   "execution_count": 17,
   "id": "b27a591b",
   "metadata": {},
   "outputs": [
    {
     "name": "stdout",
     "output_type": "stream",
     "text": [
      "Majority lenght:\t 500\n",
      "\n",
      "Minority Length:\t 268\n",
      "====================================================================================================\n",
      "(1000, 9)\n",
      "\n",
      "Axes(0.125,0.11;0.775x0.77)\n"
     ]
    },
    {
     "data": {
      "image/png": "[encoded data removed]",
      "text/plain": [
       "<Figure size 640x480 with 1 Axes>"
      ]
     },
     "metadata": {},
     "output_type": "display_data"
    }
   ],
   "source": [
    "from sklearn.utils import resample\n",
    "df_majority=data[data.Outcome==0]\n",
    "df_minority=data[data.Outcome==1]\n",
    "print('Majority lenght:\\t',len(df_majority))\n",
    "print()\n",
    "print('Minority Length:\\t',len(df_minority))\n",
    "print('='*100)\n",
    "#Upsample\n",
    "df_minority_upsampled=resample(df_minority,replace=True,n_samples=500,random_state=12)\n",
    "df_upsampled=pd.concat([df_majority,df_minority_upsampled])\n",
    "print(df_upsampled.shape)\n",
    "print()\n",
    "print(sns.countplot(df_upsampled['Outcome']))"
   ]
  },
  {
   "cell_type": "code",
   "execution_count": 18,
   "id": "f8c581b5",
   "metadata": {},
   "outputs": [
    {
     "data": {
      "text/html": [
       "<div>\n",
       "<style scoped>\n",
       "    .dataframe tbody tr th:only-of-type {\n",
       "        vertical-align: middle;\n",
       "    }\n",
       "\n",
       "    .dataframe tbody tr th {\n",
       "        vertical-align: top;\n",
       "    }\n",
       "\n",
       "    .dataframe thead th {\n",
       "        text-align: right;\n",
       "    }\n",
       "</style>\n",
       "<table border=\"1\" class=\"dataframe\">\n",
       "  <thead>\n",
       "    <tr style=\"text-align: right;\">\n",
       "      <th></th>\n",
       "      <th>Pregnancies</th>\n",
       "      <th>Glucose</th>\n",
       "      <th>BloodPressure</th>\n",
       "      <th>SkinThickness</th>\n",
       "      <th>Insulin</th>\n",
       "      <th>BMI</th>\n",
       "      <th>DiabetesPedigreeFunction</th>\n",
       "      <th>Age</th>\n",
       "      <th>Outcome</th>\n",
       "    </tr>\n",
       "  </thead>\n",
       "  <tbody>\n",
       "    <tr>\n",
       "      <th>1</th>\n",
       "      <td>8.0</td>\n",
       "      <td>85</td>\n",
       "      <td>66</td>\n",
       "      <td>29.0</td>\n",
       "      <td>0</td>\n",
       "      <td>26.6</td>\n",
       "      <td>0.351</td>\n",
       "      <td>32.0</td>\n",
       "      <td>0</td>\n",
       "    </tr>\n",
       "    <tr>\n",
       "      <th>3</th>\n",
       "      <td>1.0</td>\n",
       "      <td>89</td>\n",
       "      <td>66</td>\n",
       "      <td>23.0</td>\n",
       "      <td>94</td>\n",
       "      <td>28.1</td>\n",
       "      <td>0.167</td>\n",
       "      <td>21.0</td>\n",
       "      <td>0</td>\n",
       "    </tr>\n",
       "    <tr>\n",
       "      <th>5</th>\n",
       "      <td>5.0</td>\n",
       "      <td>116</td>\n",
       "      <td>74</td>\n",
       "      <td>0.0</td>\n",
       "      <td>0</td>\n",
       "      <td>25.6</td>\n",
       "      <td>0.201</td>\n",
       "      <td>30.0</td>\n",
       "      <td>0</td>\n",
       "    </tr>\n",
       "    <tr>\n",
       "      <th>7</th>\n",
       "      <td>10.0</td>\n",
       "      <td>115</td>\n",
       "      <td>0</td>\n",
       "      <td>0.0</td>\n",
       "      <td>0</td>\n",
       "      <td>35.3</td>\n",
       "      <td>0.134</td>\n",
       "      <td>29.0</td>\n",
       "      <td>0</td>\n",
       "    </tr>\n",
       "    <tr>\n",
       "      <th>10</th>\n",
       "      <td>4.0</td>\n",
       "      <td>110</td>\n",
       "      <td>92</td>\n",
       "      <td>0.0</td>\n",
       "      <td>0</td>\n",
       "      <td>37.6</td>\n",
       "      <td>0.191</td>\n",
       "      <td>30.0</td>\n",
       "      <td>0</td>\n",
       "    </tr>\n",
       "  </tbody>\n",
       "</table>\n",
       "</div>"
      ],
      "text/plain": [
       "    Pregnancies  Glucose  BloodPressure  SkinThickness  Insulin   BMI  \\\n",
       "1           8.0       85             66           29.0        0  26.6   \n",
       "3           1.0       89             66           23.0       94  28.1   \n",
       "5           5.0      116             74            0.0        0  25.6   \n",
       "7          10.0      115              0            0.0        0  35.3   \n",
       "10          4.0      110             92            0.0        0  37.6   \n",
       "\n",
       "    DiabetesPedigreeFunction   Age  Outcome  \n",
       "1                      0.351  32.0        0  \n",
       "3                      0.167  21.0        0  \n",
       "5                      0.201  30.0        0  \n",
       "7                      0.134  29.0        0  \n",
       "10                     0.191  30.0        0  "
      ]
     },
     "execution_count": 18,
     "metadata": {},
     "output_type": "execute_result"
    }
   ],
   "source": [
    "df_upsampled.head()"
   ]
  },
  {
   "cell_type": "code",
   "execution_count": 19,
   "id": "495ec494",
   "metadata": {},
   "outputs": [
    {
     "data": {
      "text/plain": [
       "(1000, 9)"
      ]
     },
     "execution_count": 19,
     "metadata": {},
     "output_type": "execute_result"
    }
   ],
   "source": [
    "df_upsampled.shape"
   ]
  },
  {
   "cell_type": "code",
   "execution_count": 20,
   "id": "b7371ebd",
   "metadata": {},
   "outputs": [
    {
     "name": "stdout",
     "output_type": "stream",
     "text": [
      "****************Training Data Shape********************\n",
      "\n",
      "Training data-X- Shape:\t (750, 8)\n",
      "\n",
      "Training data-y- Shape:\t (750, 1)\n",
      "\n",
      "****************Testing Data Shape********************\n",
      "\n",
      "Testing data(x-Input) Shape:\t (250, 8)\n",
      "\n",
      "Testing data(y-Outcome) Shape:\t (250, 1)\n"
     ]
    }
   ],
   "source": [
    "x=df_upsampled.iloc[:,:-1]\n",
    "y=df_upsampled.iloc[:,-1:]\n",
    "xtrain,xtest,ytrain,ytest=train_test_split(x,y,test_size=.25,random_state=2)\n",
    "print('****************Training Data Shape********************\\n')\n",
    "print('Training data-X- Shape:\\t',xtrain.shape)\n",
    "print()\n",
    "print('Training data-y- Shape:\\t',ytrain.shape)\n",
    "print()\n",
    "print('****************Testing Data Shape********************\\n')\n",
    "print('Testing data(x-Input) Shape:\\t',xtest.shape)\n",
    "print()\n",
    "print('Testing data(y-Outcome) Shape:\\t',ytest.shape)"
   ]
  },
  {
   "cell_type": "code",
   "execution_count": 21,
   "id": "886b58c9",
   "metadata": {},
   "outputs": [
    {
     "name": "stdout",
     "output_type": "stream",
     "text": [
      "Training the model\n",
      "\n",
      "[LibLinear]Predicted Label for the input samples:\n",
      " [1 1 1 0 1 1 1 0 0 0 1 1 1 1 1 1 0 1 1 0 1 0 1 0 0 1 0 0 1 1 1 0 1 1 0 0 0\n",
      " 1 0 0 1 1 1 0 1 0 0 1 0 1 1 0 0 1 0 1 0 1 0 1 1 1 0 1 1 0 1 0 0 0 0 0 0 1\n",
      " 0 1 0 0 0 1 1 0 1 0 1 0 1 0 1 0 0 1 1 0 1 0 1 1 0 1 1 0 1 0 1 0 0 0 1 1 1\n",
      " 1 1 1 1 0 0 1 0 0 0 0 1 0 0 1 1 1 1 1 1 1 1 1 1 0 1 0 0 0 0 0 0 0 0 0 0 1\n",
      " 1 1 1 1 1 0 0 1 0 0 0 0 0 0 0 1 1 0 0 1 1 0 1 1 0 1 1 0 1 0 1 1 1 0 0 1 0\n",
      " 0 1 0 0 0 0 0 1 0 0 1 1 1 1 0 1 1 1 1 0 1 0 1 1 1 0 1 1 1 1 0 0 1 0 1 1 0\n",
      " 1 0 1 0 0 1 1 1 1 1 0 1 1 1 0 1 1 0 0 0 0 1 0 1 0 0 0 0]\n",
      "\n",
      "Testing is completed\n",
      "\n",
      "Testing samples are: \t 250\n",
      "********************Performance Measures for Logistic Regression Classification***************\n",
      "Accuracy Score:\t\n",
      " 0.736\n",
      "\n",
      "================================================================================\n",
      "Confusion Matrix:\n",
      " [[87 34]\n",
      " [32 97]]\n",
      "\n",
      "================================================================================\n",
      "Classification Report:\n",
      "               precision    recall  f1-score   support\n",
      "\n",
      "           0       0.73      0.72      0.72       121\n",
      "           1       0.74      0.75      0.75       129\n",
      "\n",
      "    accuracy                           0.74       250\n",
      "   macro avg       0.74      0.74      0.74       250\n",
      "weighted avg       0.74      0.74      0.74       250\n",
      "\n",
      "================================================================================\n"
     ]
    },
    {
     "name": "stderr",
     "output_type": "stream",
     "text": [
      "C:\\Users\\ADMIN\\anaconda3\\Lib\\site-packages\\sklearn\\utils\\validation.py:1183: DataConversionWarning: A column-vector y was passed when a 1d array was expected. Please change the shape of y to (n_samples, ), for example using ravel().\n",
      "  y = column_or_1d(y, warn=True)\n"
     ]
    }
   ],
   "source": [
    "from sklearn.linear_model import LogisticRegression\n",
    "from sklearn.metrics import accuracy_score\n",
    "from sklearn.metrics import confusion_matrix\n",
    "from sklearn.metrics import classification_report\n",
    "#invoke the log reg algorithm from sklearn\n",
    "log_reg=LogisticRegression(solver='liblinear',verbose=2)\n",
    "#Train the model\n",
    "print('Training the model\\n')\n",
    "log_reg.fit(xtrain,ytrain)\n",
    "#Test the model\n",
    "ypred=log_reg.predict(xtest)\n",
    "print('Predicted Label for the input samples:\\n',ypred)\n",
    "print()\n",
    "print('Testing is completed\\n')\n",
    "print('Testing samples are: \\t',len(ypred))\n",
    "print('********************Performance Measures for Logistic Regression Classification***************')\n",
    "print('Accuracy Score:\\t\\n',accuracy_score(ytest,ypred))\n",
    "print() \n",
    "print('='*80)\n",
    "print('Confusion Matrix:\\n',confusion_matrix(ytest,ypred))\n",
    "print()\n",
    "print('='*80)\n",
    "print('Classification Report:\\n',classification_report(ytest,ypred))\n",
    "print('='*80)"
   ]
  },
  {
   "cell_type": "markdown",
   "id": "3c43cb1c",
   "metadata": {},
   "source": [
    "# Downsample"
   ]
  },
  {
   "cell_type": "code",
   "execution_count": 22,
   "id": "402c19c0",
   "metadata": {},
   "outputs": [
    {
     "name": "stdout",
     "output_type": "stream",
     "text": [
      "Majority lenght:\t 500\n",
      "\n",
      "Minority Length:\t 268\n",
      "====================================================================================================\n",
      "(536, 9)\n",
      "\n",
      "Axes(0.125,0.11;0.775x0.77)\n"
     ]
    },
    {
     "data": {
      "image/png": "[encoded data removed]",
      "text/plain": [
       "<Figure size 640x480 with 1 Axes>"
      ]
     },
     "metadata": {},
     "output_type": "display_data"
    }
   ],
   "source": [
    "from sklearn.utils import resample\n",
    "df_majority=data[data.Outcome==0]\n",
    "df_minority=data[data.Outcome==1]\n",
    "print('Majority lenght:\\t',len(df_majority))\n",
    "print()\n",
    "print('Minority Length:\\t',len(df_minority))\n",
    "print('='*100)\n",
    "#Upsample\n",
    "df_majority_downsampled=resample(df_majority,replace=False,n_samples=268,random_state=12)\n",
    "df_downsampled=pd.concat([df_majority_downsampled,df_minority])\n",
    "print(df_downsampled.shape)\n",
    "print()\n",
    "print(sns.countplot(df_downsampled['Outcome']))"
   ]
  },
  {
   "cell_type": "code",
   "execution_count": 23,
   "id": "38b7f560",
   "metadata": {},
   "outputs": [
    {
     "name": "stdout",
     "output_type": "stream",
     "text": [
      "****************Training Data Shape********************\n",
      "\n",
      "Training data-X- Shape:\t (402, 8)\n",
      "\n",
      "Training data-y- Shape:\t (402, 1)\n",
      "\n",
      "****************Testing Data Shape********************\n",
      "\n",
      "Testing data(x-Input) Shape:\t (134, 8)\n",
      "\n",
      "Testing data(y-Outcome) Shape:\t (134, 1)\n"
     ]
    }
   ],
   "source": [
    "x=df_downsampled.iloc[:,:-1]\n",
    "y=df_downsampled.iloc[:,-1:]\n",
    "xtrain,xtest,ytrain,ytest=train_test_split(x,y,test_size=.25,random_state=2)\n",
    "print('****************Training Data Shape********************\\n')\n",
    "print('Training data-X- Shape:\\t',xtrain.shape)\n",
    "print()\n",
    "print('Training data-y- Shape:\\t',ytrain.shape)\n",
    "print()\n",
    "print('****************Testing Data Shape********************\\n')\n",
    "print('Testing data(x-Input) Shape:\\t',xtest.shape)\n",
    "print()\n",
    "print('Testing data(y-Outcome) Shape:\\t',ytest.shape)"
   ]
  },
  {
   "cell_type": "code",
   "execution_count": 24,
   "id": "748d9258",
   "metadata": {},
   "outputs": [
    {
     "name": "stdout",
     "output_type": "stream",
     "text": [
      "Training the model\n",
      "\n",
      "Predicted Label for the input samples:\n",
      " [0 1 0 1 1 0 1 1 0 1 1 1 1 0 0 1 0 1 0 1 0 1 0 1 1 1 0 1 0 1 1 1 0 0 1 1 1\n",
      " 1 0 0 0 0 1 0 0 0 1 0 0 1 1 0 1 1 1 1 0 1 1 1 0 1 0 0 1 1 0 1 1 0 0 0 1 1\n",
      " 0 1 0 1 1 1 0 1 0 0 0 0 0 0 1 0 0 0 1 0 1 0 1 1 1 1 0 0 0 0 1 0 1 0 1 0 1\n",
      " 0 1 1 0 1 0 1 1 0 0 0 1 0 1 1 0 0 0 0 0 1 1 1]\n",
      "\n",
      "Testing is completed\n",
      "\n",
      "Testing samples are: \t 134\n",
      "********************Performance Measures for Logistic Regression Classification**************************\n",
      "Accuracy Score:\t\n",
      " 0.7761194029850746\n",
      "\n",
      "================================================================================\n",
      "Confusion Matrix:\n",
      " [[53 18]\n",
      " [12 51]]\n",
      "\n",
      "================================================================================\n",
      "Classification Report:\n",
      "               precision    recall  f1-score   support\n",
      "\n",
      "           0       0.82      0.75      0.78        71\n",
      "           1       0.74      0.81      0.77        63\n",
      "\n",
      "    accuracy                           0.78       134\n",
      "   macro avg       0.78      0.78      0.78       134\n",
      "weighted avg       0.78      0.78      0.78       134\n",
      "\n",
      "================================================================================\n"
     ]
    },
    {
     "name": "stderr",
     "output_type": "stream",
     "text": [
      "C:\\Users\\ADMIN\\anaconda3\\Lib\\site-packages\\sklearn\\utils\\validation.py:1183: DataConversionWarning: A column-vector y was passed when a 1d array was expected. Please change the shape of y to (n_samples, ), for example using ravel().\n",
      "  y = column_or_1d(y, warn=True)\n",
      "C:\\Users\\ADMIN\\anaconda3\\Lib\\site-packages\\sklearn\\linear_model\\_logistic.py:460: ConvergenceWarning: lbfgs failed to converge (status=1):\n",
      "STOP: TOTAL NO. of ITERATIONS REACHED LIMIT.\n",
      "\n",
      "Increase the number of iterations (max_iter) or scale the data as shown in:\n",
      "    https://scikit-learn.org/stable/modules/preprocessing.html\n",
      "Please also refer to the documentation for alternative solver options:\n",
      "    https://scikit-learn.org/stable/modules/linear_model.html#logistic-regression\n",
      "  n_iter_i = _check_optimize_result(\n"
     ]
    }
   ],
   "source": [
    "from sklearn.linear_model import LogisticRegression\n",
    "from sklearn.metrics import accuracy_score\n",
    "from sklearn.metrics import confusion_matrix\n",
    "from sklearn.metrics import classification_report\n",
    "#invoke the log reg algorithm from sklearn\n",
    "log_reg=LogisticRegression()\n",
    "#Train the model\n",
    "print('Training the model\\n')\n",
    "log_reg.fit(xtrain,ytrain)\n",
    "#Test the model\n",
    "ypred=log_reg.predict(xtest)\n",
    "print('Predicted Label for the input samples:\\n',ypred)\n",
    "print()\n",
    "print('Testing is completed\\n')\n",
    "print('Testing samples are: \\t',len(ypred))\n",
    "print('********************Performance Measures for Logistic Regression Classification**************************')\n",
    "print('Accuracy Score:\\t\\n',accuracy_score(ytest,ypred))\n",
    "print()\n",
    "print('='*80)\n",
    "print('Confusion Matrix:\\n',confusion_matrix(ytest,ypred))\n",
    "print()\n",
    "print('='*80)\n",
    "print('Classification Report:\\n',classification_report(ytest,ypred))\n",
    "print('='*80)"
   ]
  },
  {
   "cell_type": "code",
   "execution_count": null,
   "id": "dd7b6b35",
   "metadata": {},
   "outputs": [],
   "source": []
  }
 ],
 "metadata": {
  "kernelspec": {
   "display_name": "Python 3 (ipykernel)",
   "language": "python",
   "name": "python3"
  },
  "language_info": {
   "codemirror_mode": {
    "name": "ipython",
    "version": 3
   },
   "file_extension": ".py",
   "mimetype": "text/x-python",
   "name": "python",
   "nbconvert_exporter": "python",
   "pygments_lexer": "ipython3",
   "version": "3.11.5"
  }
 },
 "nbformat": 4,
 "nbformat_minor": 5
}
