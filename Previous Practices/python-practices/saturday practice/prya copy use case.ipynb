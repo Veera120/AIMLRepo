{
 "cells": [
  {
   "cell_type": "code",
   "execution_count": 1,
   "id": "9858f2bb",
   "metadata": {},
   "outputs": [
    {
     "name": "stdout",
     "output_type": "stream",
     "text": [
      "Error: Email already exists\n"
     ]
    }
   ],
   "source": [
    "import mysql.connector\n",
    "\n",
    "def register_customer(name, email, password):\n",
    "    try:\n",
    "        # Establish a database connection\n",
    "        conn = mysql.connector.connect(\n",
    "            host=\"127.0.0.1\",\n",
    "            user=\"root\",\n",
    "            password=\"Amma12345@\",\n",
    "            database=\"online_bookstore\"\n",
    "        )\n",
    "\n",
    "        cursor = conn.cursor()\n",
    "\n",
    "        # Check for duplicate email address\n",
    "        cursor.execute(\"SELECT * FROM customers WHERE email = %s\", (email,))\n",
    "        existing_customer = cursor.fetchone()\n",
    "\n",
    "        if existing_customer:\n",
    "            raise Exception(\"Email already exists\")\n",
    "\n",
    "        # Insert new customer into the database\n",
    "        cursor.execute(\"INSERT INTO customers (name, email, password) VALUES (%s, %s, %s)\",\n",
    "                       (name, email, password))\n",
    "        conn.commit()\n",
    "\n",
    "        print(\"Registration successful\")\n",
    "\n",
    "    except mysql.connector.Error as err:\n",
    "        print(f\"Database Error: {err}\")\n",
    "    except Exception as e:\n",
    "        print(f\"Error: {e}\")\n",
    "    finally:\n",
    "        if conn.is_connected():\n",
    "            cursor.close()\n",
    "            conn.close()\n",
    "\n",
    "# Example usage\n",
    "register_customer(\"veera\", \"veera@example.com\", \"password123\")"
   ]
  },
  {
   "cell_type": "code",
   "execution_count": 2,
   "id": "aee17688",
   "metadata": {},
   "outputs": [
    {
     "name": "stdout",
     "output_type": "stream",
     "text": [
      "Book added to inventory\n"
     ]
    }
   ],
   "source": [
    "import mysql.connector\n",
    "\n",
    "def add_book(title, author, quantity):\n",
    "    try:\n",
    "        conn = mysql.connector.connect(\n",
    "            host=\"127.0.0.1\",\n",
    "            user=\"root\",\n",
    "            password=\"Amma12345@\",\n",
    "            database=\"online_bookstore\" \n",
    "        )\n",
    "\n",
    "        cursor = conn.cursor()\n",
    "\n",
    "        # Insert new book into the inventory\n",
    "        cursor.execute(\"INSERT INTO books (title, author, quantity) VALUES (%s, %s, %s)\",\n",
    "                       (title, author, quantity))\n",
    "        conn.commit()\n",
    "\n",
    "        print(\"Book added to inventory\")\n",
    "\n",
    "    except mysql.connector.Error as err:\n",
    "        print(f\"Database Error: {err}\")\n",
    "    except Exception as e:\n",
    "        print(f\"Error: {e}\")\n",
    "    finally:\n",
    "        if conn.is_connected():\n",
    "            cursor.close()\n",
    "            conn.close()\n",
    "\n",
    "# Example usage\n",
    "add_book(\"java\", \"John\", 10)"
   ]
  },
  {
   "cell_type": "code",
   "execution_count": 3,
   "id": "0c5a707f",
   "metadata": {},
   "outputs": [
    {
     "name": "stdout",
     "output_type": "stream",
     "text": [
      "Order placed successfully\n"
     ]
    }
   ],
   "source": [
    "import mysql.connector\n",
    "\n",
    "def place_order(customer_id, book_ids):\n",
    "    try:\n",
    "        conn = mysql.connector.connect(\n",
    "            host=\"127.0.0.1\",\n",
    "            user=\"root\",\n",
    "            password=\"Amma12345@\",\n",
    "            database=\"online_bookstore\" \n",
    "        )\n",
    "\n",
    "        cursor = conn.cursor()\n",
    "\n",
    "        # Check if there is sufficient stock for each book\n",
    "        for book_id in book_ids:\n",
    "            cursor.execute(\"SELECT quantity FROM books WHERE book_id = %s\", (book_id,))\n",
    "            quantity = cursor.fetchone()[0]\n",
    "            if quantity <= 0:\n",
    "                raise Exception(f\"Insufficient stock for book with ID {book_id}\")\n",
    "\n",
    "        # Insert order details into the Orders table\n",
    "        cursor.execute(\"INSERT INTO orders (customer_id) VALUES (%s)\", (customer_id,))\n",
    "        order_id = cursor.lastrowid\n",
    "\n",
    "        # Insert individual book items into the Order_Items table\n",
    "        for book_id in book_ids:\n",
    "            cursor.execute(\"INSERT INTO order_items (order_id, book_id) VALUES (%s, %s)\",\n",
    "                           (order_id, book_id))\n",
    "\n",
    "        conn.commit()\n",
    "\n",
    "        print(\"Order placed successfully\")\n",
    "\n",
    "    except mysql.connector.Error as err:\n",
    "        print(f\"Database Error: {err}\")\n",
    "    except Exception as e:\n",
    "        print(f\"Error: {e}\")\n",
    "    finally:\n",
    "        if conn.is_connected():\n",
    "            cursor.close()\n",
    "            conn.close()\n",
    "\n",
    "# Example usage\n",
    "place_order(1, [1, 2, 3])  # Customer ID 1 orders books with IDs 1, 2, and 3"
   ]
  },
  {
   "cell_type": "code",
   "execution_count": 4,
   "id": "f6c2b37c",
   "metadata": {},
   "outputs": [
    {
     "name": "stdout",
     "output_type": "stream",
     "text": [
      "Order ID: 1, Date: 2023-09-17 22:13:01\n",
      "Order ID: 3, Date: 2023-09-17 22:23:29\n"
     ]
    }
   ],
   "source": [
    "\n",
    "import mysql.connector\n",
    "\n",
    "def get_order_history(customer_id):\n",
    "    try:\n",
    "        conn = mysql.connector.connect(\n",
    "            host=\"127.0.0.1\",\n",
    "            user=\"root\",\n",
    "            password=\"Amma12345@\",\n",
    "            database=\"online_bookstore\"\n",
    "        )\n",
    "\n",
    "        cursor = conn.cursor()\n",
    "\n",
    "        # Retrieve order history for the customer\n",
    "        cursor.execute(\"SELECT order_id, order_date FROM orders \"\n",
    "                       \"WHERE customer_id = %s\", (customer_id,))\n",
    "        order_history = cursor.fetchall()\n",
    "\n",
    "        if not order_history:\n",
    "            raise Exception(\"No orders found for this customer\")\n",
    "\n",
    "        for order in order_history:\n",
    "            print(f\"Order ID: {order[0]}, Date: {order[1]}\")\n",
    "\n",
    "    except mysql.connector.Error as err:\n",
    "        print(f\"Database Error: {err}\")\n",
    "    except Exception as e:\n",
    "        print(f\"Error: {e}\")\n",
    "    finally:\n",
    "        if conn.is_connected():\n",
    "            cursor.close()\n",
    "            conn.close()\n",
    "\n",
    "# Example usage\n",
    "get_order_history(1) "
   ]
  },
  {
   "cell_type": "code",
   "execution_count": 5,
   "id": "78750a03",
   "metadata": {},
   "outputs": [
    {
     "ename": "IndentationError",
     "evalue": "expected an indented block after 'try' statement on line 1 (3268483097.py, line 3)",
     "output_type": "error",
     "traceback": [
      "\u001b[1;36m  Cell \u001b[1;32mIn[5], line 3\u001b[1;36m\u001b[0m\n\u001b[1;33m    except SpecificException as e:\u001b[0m\n\u001b[1;37m    ^\u001b[0m\n\u001b[1;31mIndentationError\u001b[0m\u001b[1;31m:\u001b[0m expected an indented block after 'try' statement on line 1\n"
     ]
    }
   ],
   "source": [
    "try:\n",
    "    # Database interaction code\n",
    "except SpecificException as e:\n",
    "    # Handle the specific exception (e.g., duplicate email, insufficient stock)\n",
    "    print(f\"Error: {e}\")\n",
    "except DatabaseError as db_err:\n",
    "    # Handle database connection or query errors\n",
    "    print(f\"Database Error: {db_err}\")\n",
    "except Exception as ex:\n",
    "    # Handle other unexpected exceptions\n",
    "    print(f\"Unexpected Error: {ex}\")\n",
    "finally:\n",
    "    # Close database connections or perform cleanup as needed"
   ]
  },
  {
   "cell_type": "markdown",
   "id": "8243b280",
   "metadata": {},
   "source": [
    "# 6"
   ]
  },
  {
   "cell_type": "code",
   "execution_count": 10,
   "id": "d02aa0c1",
   "metadata": {},
   "outputs": [
    {
     "name": "stdout",
     "output_type": "stream",
     "text": [
      "Data sorted and saved to 'sorted_data.txt'.\n"
     ]
    }
   ],
   "source": [
    "def read_file(file_path):\n",
    "    with open(file_path, 'r') as file:\n",
    "        return file.readlines()\n",
    "\n",
    "# Function to write a list of lines to a text file\n",
    "def write_file(file_path, lines):\n",
    "    with open(file_path, 'w') as file:\n",
    "        file.writelines(lines)\n",
    "\n",
    "# Path to the input text file with unsorted data\n",
    "input_file_path = 'unsorted_data.txt'\n",
    "\n",
    "# Path to the output text file where sorted data will be written\n",
    "output_file_path = 'sorted_data.txt'\n",
    "\n",
    "# Read the data from the input file\n",
    "data = read_file(input_file_path)\n",
    "\n",
    "# Sort the data (assuming it's a list of strings or numbers)\n",
    "sorted_data = sorted(data)\n",
    "\n",
    "# Write the sorted data to the output file\n",
    "write_file(output_file_path, sorted_data)\n",
    "\n",
    "print(f\"Data sorted and saved to '{output_file_path}'.\")\n"
   ]
  },
  {
   "cell_type": "code",
   "execution_count": null,
   "id": "12d430fb",
   "metadata": {},
   "outputs": [],
   "source": []
  },
  {
   "cell_type": "code",
   "execution_count": 2,
   "id": "8d4101dc",
   "metadata": {},
   "outputs": [
    {
     "ename": "NameError",
     "evalue": "name 'difflib' is not defined",
     "output_type": "error",
     "traceback": [
      "\u001b[1;31m---------------------------------------------------------------------------\u001b[0m",
      "\u001b[1;31mNameError\u001b[0m                                 Traceback (most recent call last)",
      "Cell \u001b[1;32mIn[2], line 14\u001b[0m\n\u001b[0;32m     11\u001b[0m file2_lines \u001b[38;5;241m=\u001b[39m read_file(file2_path)\n\u001b[0;32m     13\u001b[0m \u001b[38;5;66;03m# Perform a line-by-line comparison\u001b[39;00m\n\u001b[1;32m---> 14\u001b[0m differ \u001b[38;5;241m=\u001b[39m difflib\u001b[38;5;241m.\u001b[39mDiffer()\n\u001b[0;32m     15\u001b[0m diff \u001b[38;5;241m=\u001b[39m \u001b[38;5;28mlist\u001b[39m(differ\u001b[38;5;241m.\u001b[39mcompare(file1_lines, file2_lines))\n\u001b[0;32m     17\u001b[0m \u001b[38;5;66;03m# Display the differences\u001b[39;00m\n",
      "\u001b[1;31mNameError\u001b[0m: name 'difflib' is not defined"
     ]
    }
   ],
   "source": [
    "def read_file(file_path):\n",
    "    with open(file_path, 'r') as file:\n",
    "        return file.readlines()\n",
    "\n",
    "# Paths to the two text files to be compared\n",
    "file1_path = 'source.txt'\n",
    "file2_path = 'combined.txt'\n",
    "\n",
    "# Read the contents of the two files\n",
    "file1_lines = read_file(file1_path)\n",
    "file2_lines = read_file(file2_path)\n",
    "\n",
    "# Perform a line-by-line comparison\n",
    "differ = difflib.Differ()\n",
    "diff = list(differ.compare(file1_lines, file2_lines))\n",
    "\n",
    "# Display the differences\n",
    "print(\"Differences between file1 and file2:\")\n",
    "for line in diff:\n",
    "    if line.startswith(' '):  # Lines that are identical in both files\n",
    "        continue\n",
    "    elif line.startswith('- '):  # Lines present in file1 but not in file2 (deleted)\n",
    "        print(f\"Deleted: {line[2:]}\")\n",
    "    elif line.startswith('+ '):  # Lines present in file2 but not in file1 (added)\n",
    "        print(f\"Added: {line[2:]}\")\n",
    "    elif line.startswith('? '):  # Lines that are different between the files (modified)\n",
    "        print(f\"Modified: {line[2:]}\")"
   ]
  },
  {
   "cell_type": "code",
   "execution_count": null,
   "id": "29d3fbf7",
   "metadata": {},
   "outputs": [],
   "source": []
  },
  {
   "cell_type": "code",
   "execution_count": 1,
   "id": "91ff607d",
   "metadata": {},
   "outputs": [
    {
     "ename": "NameError",
     "evalue": "name 'difflib' is not defined",
     "output_type": "error",
     "traceback": [
      "\u001b[1;31m---------------------------------------------------------------------------\u001b[0m",
      "\u001b[1;31mNameError\u001b[0m                                 Traceback (most recent call last)",
      "Cell \u001b[1;32mIn[1], line 14\u001b[0m\n\u001b[0;32m     11\u001b[0m file2_lines \u001b[38;5;241m=\u001b[39m read_file(file2_path)\n\u001b[0;32m     13\u001b[0m \u001b[38;5;66;03m# Perform a line-by-line comparison\u001b[39;00m\n\u001b[1;32m---> 14\u001b[0m differ \u001b[38;5;241m=\u001b[39m difflib\u001b[38;5;241m.\u001b[39mDiffer()\n\u001b[0;32m     15\u001b[0m diff \u001b[38;5;241m=\u001b[39m \u001b[38;5;28mlist\u001b[39m(differ\u001b[38;5;241m.\u001b[39mcompare(file1_lines, file2_lines))\n\u001b[0;32m     17\u001b[0m \u001b[38;5;66;03m# Display the differences\u001b[39;00m\n",
      "\u001b[1;31mNameError\u001b[0m: name 'difflib' is not defined"
     ]
    }
   ],
   "source": [
    "def read_file(file_path):\n",
    "    with open(file_path, 'r') as file:\n",
    "        return file.readlines()\n",
    "\n",
    "# Paths to the two text files to be compared\n",
    "file1_path = 'source.txt'\n",
    "file2_path = 'combined.txt'\n",
    "\n",
    "# Read the contents of the two files\n",
    "file1_lines = read_file(file1_path)\n",
    "file2_lines = read_file(file2_path)\n",
    "\n",
    "# Perform a line-by-line comparison\n",
    "differ = difflib.Differ()\n",
    "diff = list(differ.compare(file1_lines, file2_lines))\n",
    "\n",
    "# Display the differences\n",
    "print(\"Differences between file1 and file2:\")\n",
    "for line in diff:\n",
    "    if line.startswith(' '):  # Lines that are identical in both files\n",
    "        continue\n",
    "    elif line.startswith('- '):  # Lines present in file1 but not in file2 (deleted)\n",
    "        print(f\"Deleted: {line[2:]}\")\n",
    "    elif line.startswith('+ '):  # Lines present in file2 but not in file1 (added)\n",
    "        print(f\"Added: {line[2:]}\")\n",
    "    elif line.startswith('? '):  # Lines that are different between the files (modified)\n",
    "        print(f\"Modified: {line[2:]}\")"
   ]
  },
  {
   "cell_type": "code",
   "execution_count": null,
   "id": "f9da7a1d",
   "metadata": {},
   "outputs": [],
   "source": []
  },
  {
   "cell_type": "code",
   "execution_count": 13,
   "id": "a90c6614",
   "metadata": {},
   "outputs": [
    {
     "ename": "NameError",
     "evalue": "name 'gz' is not defined",
     "output_type": "error",
     "traceback": [
      "\u001b[1;31m---------------------------------------------------------------------------\u001b[0m",
      "\u001b[1;31mNameError\u001b[0m                                 Traceback (most recent call last)",
      "Cell \u001b[1;32mIn[13], line 18\u001b[0m\n\u001b[0;32m     15\u001b[0m decompressed_file \u001b[38;5;241m=\u001b[39m \u001b[38;5;124m\"\u001b[39m\u001b[38;5;124mdecompressed_text_file.txt\u001b[39m\u001b[38;5;124m\"\u001b[39m\n\u001b[0;32m     17\u001b[0m \u001b[38;5;66;03m# Compress the input text file\u001b[39;00m\n\u001b[1;32m---> 18\u001b[0m compress_file(input_file, compressed_file)\n\u001b[0;32m     20\u001b[0m \u001b[38;5;66;03m# Decompress the compressed file back to its original form\u001b[39;00m\n\u001b[0;32m     21\u001b[0m decompress_file(compressed_file, decompressed_file)\n",
      "Cell \u001b[1;32mIn[13], line 2\u001b[0m, in \u001b[0;36mcompress_file\u001b[1;34m(input_file, compressed_file)\u001b[0m\n\u001b[0;32m      1\u001b[0m \u001b[38;5;28;01mdef\u001b[39;00m \u001b[38;5;21mcompress_file\u001b[39m(input_file, compressed_file):\n\u001b[1;32m----> 2\u001b[0m     \u001b[38;5;28;01mwith\u001b[39;00m \u001b[38;5;28mopen\u001b[39m(input_file, \u001b[38;5;124m'\u001b[39m\u001b[38;5;124mrb\u001b[39m\u001b[38;5;124m'\u001b[39m) \u001b[38;5;28;01mas\u001b[39;00m f_in, gz\u001b[38;5;241m.\u001b[39mopen(compressed_file, \u001b[38;5;124m'\u001b[39m\u001b[38;5;124mwb\u001b[39m\u001b[38;5;124m'\u001b[39m) \u001b[38;5;28;01mas\u001b[39;00m f_out:\n\u001b[0;32m      3\u001b[0m         shutil\u001b[38;5;241m.\u001b[39mcopyfileobj(f_in, f_out)\n\u001b[0;32m      4\u001b[0m     \u001b[38;5;28mprint\u001b[39m(\u001b[38;5;124mf\u001b[39m\u001b[38;5;124m\"\u001b[39m\u001b[38;5;124mFile \u001b[39m\u001b[38;5;124m'\u001b[39m\u001b[38;5;132;01m{\u001b[39;00minput_file\u001b[38;5;132;01m}\u001b[39;00m\u001b[38;5;124m'\u001b[39m\u001b[38;5;124m compressed to \u001b[39m\u001b[38;5;124m'\u001b[39m\u001b[38;5;132;01m{\u001b[39;00mcompressed_file\u001b[38;5;132;01m}\u001b[39;00m\u001b[38;5;124m'\u001b[39m\u001b[38;5;124m\"\u001b[39m)\n",
      "\u001b[1;31mNameError\u001b[0m: name 'gz' is not defined"
     ]
    }
   ],
   "source": [
    "def compress_file(input_file, compressed_file):\n",
    "    with open(input_file, 'rb') as f_in, gzip.open(compressed_file, 'wb') as f_out:\n",
    "        shutil.copyfileobj(f_in, f_out)\n",
    "    print(f\"File '{input_file}' compressed to '{compressed_file}'\")\n",
    "\n",
    "# Function to decompress a compressed text file\n",
    "def decompress_file(compressed_file, decompressed_file):\n",
    "    with gzip.open(compressed_file, 'rb') as f_in, open(decompressed_file, 'wb') as f_out:\n",
    "        shutil.copyfileobj(f_in, f_out)\n",
    "    print(f\"File '{compressed_file}' decompressed to '{decompressed_file}'\")\n",
    "\n",
    "# Specify the input text file and compressed file names\n",
    "input_file = \"source.txt\"\n",
    "compressed_file = \"compressed_text_file.gz\"\n",
    "decompressed_file = \"decompressed_text_file.txt\"\n",
    "\n",
    "# Compress the input text file\n",
    "compress_file(input_file, compressed_file)\n",
    "\n",
    "# Decompress the compressed file back to its original form\n",
    "decompress_file(compressed_file, decompressed_file)"
   ]
  },
  {
   "cell_type": "code",
   "execution_count": null,
   "id": "07bc1c5e",
   "metadata": {},
   "outputs": [],
   "source": []
  },
  {
   "cell_type": "code",
   "execution_count": 1,
   "id": "b0c52530",
   "metadata": {},
   "outputs": [
    {
     "name": "stdout",
     "output_type": "stream",
     "text": [
      "An error occurred: name 'Image' is not defined\n"
     ]
    }
   ],
   "source": [
    "input_image_path = \"input_image.jpg\"\n",
    "output_image_path = \"output_image.jpg\"\n",
    "\n",
    "try:\n",
    "    with Image.open(input_image_path) as img:\n",
    "        # Resize the image\n",
    "        new_size = (300, 300)  # Specify the new size (width, height)\n",
    "        resized_img = img.resize(new_size)\n",
    "        resized_img.save(output_image_path)\n",
    "        print(f\"Image resized and saved to {output_image_path}\")\n",
    "except Exception as e:\n",
    "    print(f\"An error occurred: {e}\")"
   ]
  },
  {
   "cell_type": "code",
   "execution_count": 7,
   "id": "bf7e4177",
   "metadata": {},
   "outputs": [
    {
     "name": "stdout",
     "output_type": "stream",
     "text": [
      "An error occurred: '_io.TextIOWrapper' object has no attribute 'resize'\n"
     ]
    }
   ],
   "source": [
    "input_image_path = \"input_image.jpg\"\n",
    "output_image_path = \"output_image.jpg\"\n",
    "\n",
    "try:\n",
    "    with Image.open(input_image_path) as img:\n",
    "        # Resize the image\n",
    "        new_size = (300, 300)  # Specify the new size (width, height)\n",
    "        resized_img = img.resize(new_size)\n",
    "        resized_img.save(output_image_path)\n",
    "        print(f\" resized and saved to {output_image.jpg}\")\n",
    "except Exception as e:\n",
    "    print(f\"An error occurred: {e}\")"
   ]
  },
  {
   "cell_type": "code",
   "execution_count": null,
   "id": "a6926b5e",
   "metadata": {},
   "outputs": [],
   "source": []
  },
  {
   "cell_type": "code",
   "execution_count": 8,
   "id": "3e65bc79",
   "metadata": {},
   "outputs": [
    {
     "name": "stdout",
     "output_type": "stream",
     "text": [
      "Appended 'C:\\Users\\ADMIN\\AppData\\Roaming\\jupyter\\runtime\\kernel-c7a39b4b-180b-45d0-a9e1-dc1d6967c00d.json' to '-f'\n",
      "Combined contents of input files into '-f'.\n"
     ]
    }
   ],
   "source": [
    "import sys\n",
    "\n",
    "# Check if the correct number of command-line arguments is provided\n",
    "if len(sys.argv) < 3:\n",
    "    print(\"Usage: python combine_text_files.py <output_file> <input_file1> <input_file2> ...\")\n",
    "    sys.exit(1)\n",
    "\n",
    "# Get the output file path from the command line\n",
    "output_file = sys.argv[1]\n",
    "\n",
    "# Open the output file for appending\n",
    "with open(output_file, 'a') as output:\n",
    "    # Iterate over input files starting from the third command-line argument\n",
    "    for input_file in sys.argv[2:]:\n",
    "        try:\n",
    "            with open(input_file, 'r') as input:\n",
    "                content = input.read()\n",
    "                # Append the content to the output file\n",
    "                output.write(content)\n",
    "                print(f\"Appended '{input_file}' to '{output_file}'\")\n",
    "        except FileNotFoundError:\n",
    "            print(f\"File '{input_file}' not found.\")\n",
    "        except Exception as e:\n",
    "            print(f\"An error occurred while processing '{input_file}': {e}\")\n",
    "\n",
    "print(f\"Combined contents of input files into '{output_file}'.\")\n"
   ]
  },
  {
   "cell_type": "code",
   "execution_count": 9,
   "id": "403630c2",
   "metadata": {},
   "outputs": [
    {
     "name": "stdout",
     "output_type": "stream",
     "text": [
      "Usage: python count_text_file.py <file_path>\n"
     ]
    },
    {
     "ename": "SystemExit",
     "evalue": "1",
     "output_type": "error",
     "traceback": [
      "An exception has occurred, use %tb to see the full traceback.\n",
      "\u001b[1;31mSystemExit\u001b[0m\u001b[1;31m:\u001b[0m 1\n"
     ]
    },
    {
     "name": "stderr",
     "output_type": "stream",
     "text": [
      "C:\\ProgramData\\anaconda3\\Lib\\site-packages\\IPython\\core\\interactiveshell.py:3513: UserWarning: To exit: use 'exit', 'quit', or Ctrl-D.\n",
      "  warn(\"To exit: use 'exit', 'quit', or Ctrl-D.\", stacklevel=1)\n"
     ]
    }
   ],
   "source": [
    "import sys\n",
    "\n",
    "# Check if the correct number of command-line arguments is provided\n",
    "if len(sys.argv) != 2:\n",
    "    print(\"Usage: python count_text_file.py <file_path>\")\n",
    "    sys.exit(1)\n",
    "\n",
    "# Get the file path from the command line\n",
    "file_path = sys.argv[1]\n",
    "\n",
    "try:\n",
    "    with open(file_path, 'r') as file:\n",
    "        content = file.read()\n",
    "\n",
    "    # Count words, lines, and characters\n",
    "    word_count = len(content.split())\n",
    "    line_count = content.count('\\n') + 1  # Add 1 for the last line\n",
    "    char_count = len(content)\n",
    "\n",
    "    print(f\"File: {file_path}\")\n",
    "    print(f\"Number of words: {word_count}\")\n",
    "    print(f\"Number of lines: {line_count}\")\n",
    "    print(f\"Number of characters: {char_count}\")\n",
    "\n",
    "except FileNotFoundError:\n",
    "    print(f\"File '{file_path}' not found.\")\n",
    "except Exception as e:\n",
    "    print(\"An error occurred:\", e)\n"
   ]
  },
  {
   "cell_type": "code",
   "execution_count": 10,
   "id": "730cdd65",
   "metadata": {},
   "outputs": [
    {
     "name": "stdout",
     "output_type": "stream",
     "text": [
      "Usage: python calculator.py <math_expression>\n"
     ]
    },
    {
     "ename": "SystemExit",
     "evalue": "1",
     "output_type": "error",
     "traceback": [
      "An exception has occurred, use %tb to see the full traceback.\n",
      "\u001b[1;31mSystemExit\u001b[0m\u001b[1;31m:\u001b[0m 1\n"
     ]
    }
   ],
   "source": [
    "import sys\n",
    "\n",
    "# Check if the correct number of command-line arguments is provided\n",
    "if len(sys.argv) != 2:\n",
    "    print(\"Usage: python calculator.py <math_expression>\")\n",
    "    sys.exit(1)\n",
    "\n",
    "# Get the mathematical expression from the command line\n",
    "math_expression = sys.argv[1]\n",
    "\n",
    "try:\n",
    "    # Evaluate the mathematical expression\n",
    "    result = eval(math_expression)\n",
    "    print(\"Result:\", result)\n",
    "except Exception as e:\n",
    "    print(\"Error:\", e)\n",
    "\n",
    "#python calculator1.py \"2 + 3 * 5\""
   ]
  },
  {
   "cell_type": "code",
   "execution_count": 11,
   "id": "c0993611",
   "metadata": {},
   "outputs": [],
   "source": [
    "def add(x, y):\n",
    "    \"\"\"Return the result of addition.\"\"\"\n",
    "    return x + y\n",
    "\n",
    "def subtract(x, y):\n",
    "    \"\"\"Return the result of subtraction.\"\"\"\n",
    "    return x - y\n",
    "\n",
    "def multiply(x, y):\n",
    "    \"\"\"Return the result of multiplication.\"\"\"\n",
    "    return x * y\n",
    "\n",
    "def divide(x, y):\n",
    "    \"\"\"Return the result of division.\"\"\"\n",
    "    if y == 0:\n",
    "        raise ValueError(\"Division by zero is not allowed.\")\n",
    "    return x / y"
   ]
  },
  {
   "cell_type": "code",
   "execution_count": null,
   "id": "d355d7a0",
   "metadata": {},
   "outputs": [],
   "source": []
  },
  {
   "cell_type": "code",
   "execution_count": null,
   "id": "9a5269a1",
   "metadata": {},
   "outputs": [],
   "source": []
  },
  {
   "cell_type": "code",
   "execution_count": 12,
   "id": "b6906b52",
   "metadata": {},
   "outputs": [
    {
     "ename": "ModuleNotFoundError",
     "evalue": "No module named 'math_operations'",
     "output_type": "error",
     "traceback": [
      "\u001b[1;31m---------------------------------------------------------------------------\u001b[0m",
      "\u001b[1;31mModuleNotFoundError\u001b[0m                       Traceback (most recent call last)",
      "Cell \u001b[1;32mIn[12], line 30\u001b[0m\n\u001b[0;32m     26\u001b[0m     \u001b[38;5;28;01mreturn\u001b[39;00m \u001b[38;5;28;01mTrue\u001b[39;00m\n\u001b[0;32m     28\u001b[0m \u001b[38;5;66;03m# main1.py\u001b[39;00m\n\u001b[1;32m---> 30\u001b[0m \u001b[38;5;28;01mimport\u001b[39;00m \u001b[38;5;21;01mmath_operations\u001b[39;00m\n\u001b[0;32m     32\u001b[0m num \u001b[38;5;241m=\u001b[39m \u001b[38;5;241m5\u001b[39m\n\u001b[0;32m     34\u001b[0m \u001b[38;5;66;03m# Calculate the factorial of num\u001b[39;00m\n",
      "\u001b[1;31mModuleNotFoundError\u001b[0m: No module named 'math_operations'"
     ]
    }
   ],
   "source": [
    "def factorial(n):\n",
    "    \"\"\"Calculate the factorial of a non-negative integer n.\"\"\"\n",
    "    if n < 0:\n",
    "        raise ValueError(\"Factorial is not defined for negative numbers.\")\n",
    "    if n == 0:\n",
    "        return 1\n",
    "    else:\n",
    "        result = 1\n",
    "        for i in range(1, n + 1):\n",
    "            result *= i\n",
    "        return result\n",
    "\n",
    "def is_prime(num):\n",
    "    \"\"\"Check if a positive integer num is prime.\"\"\"\n",
    "    if num <= 1:\n",
    "        return False\n",
    "    if num <= 3:\n",
    "        return True\n",
    "    if num % 2 == 0 or num % 3 == 0:\n",
    "        return False\n",
    "    i = 5\n",
    "    while i * i <= num:\n",
    "        if num % i == 0 or num % (i + 2) == 0:\n",
    "            return False\n",
    "        i += 6\n",
    "    return True\n",
    "\n",
    "# main1.py\n",
    "\n",
    "import math_operations\n",
    "\n",
    "num = 5\n",
    "\n",
    "# Calculate the factorial of num\n",
    "fact = math_operations.factorial(num)\n",
    "print(f\"The factorial of {num} is {fact}\")\n",
    "\n",
    "# Check if num is prime\n",
    "if math_operations.is_prime(num):\n",
    "    print(f\"{num} is a prime number.\")\n",
    "else:\n",
    "    print(f\"{num} is not a prime number.\")"
   ]
  },
  {
   "cell_type": "code",
   "execution_count": null,
   "id": "8a5fc64a",
   "metadata": {},
   "outputs": [],
   "source": []
  }
 ],
 "metadata": {
  "kernelspec": {
   "display_name": "Python 3 (ipykernel)",
   "language": "python",
   "name": "python3"
  },
  "language_info": {
   "codemirror_mode": {
    "name": "ipython",
    "version": 3
   },
   "file_extension": ".py",
   "mimetype": "text/x-python",
   "name": "python",
   "nbconvert_exporter": "python",
   "pygments_lexer": "ipython3",
   "version": "3.11.4"
  }
 },
 "nbformat": 4,
 "nbformat_minor": 5
}
