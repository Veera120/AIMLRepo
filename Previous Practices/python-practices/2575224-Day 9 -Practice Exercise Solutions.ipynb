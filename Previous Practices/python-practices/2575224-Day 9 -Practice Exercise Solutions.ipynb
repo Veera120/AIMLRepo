{
 "cells": [
  {
   "cell_type": "markdown",
   "id": "98144797",
   "metadata": {},
   "source": [
    "# 1. create a 3*3*3 array with random values "
   ]
  },
  {
   "cell_type": "code",
   "execution_count": 1,
   "id": "60ebe3c8",
   "metadata": {},
   "outputs": [
    {
     "name": "stdout",
     "output_type": "stream",
     "text": [
      "[[[0.49803739 0.52184393 0.97198442]\n",
      "  [0.20759299 0.11649374 0.07926312]\n",
      "  [0.70315237 0.93173701 0.5232127 ]]\n",
      "\n",
      " [[0.29558181 0.93708311 0.15302356]\n",
      "  [0.64615364 0.43933578 0.70914175]\n",
      "  [0.85169194 0.1741202  0.75988347]]\n",
      "\n",
      " [[0.24290208 0.84199888 0.06557643]\n",
      "  [0.97214594 0.81744342 0.14264378]\n",
      "  [0.50872618 0.3687214  0.29783248]]]\n"
     ]
    }
   ],
   "source": [
    "import numpy as np\n",
    "\n",
    "# Create a 3x3x3 array with random values between 0 and 1\n",
    "random_array = np.random.rand(3, 3, 3)\n",
    "\n",
    "# Print the random array\n",
    "print(random_array)\n"
   ]
  },
  {
   "cell_type": "markdown",
   "id": "8d2aed45",
   "metadata": {},
   "source": [
    "# 2.Create a 5x5 matrix with values 1,2,3,4 just below the diagonal"
   ]
  },
  {
   "cell_type": "code",
   "execution_count": 2,
   "id": "a6825fb8",
   "metadata": {},
   "outputs": [
    {
     "name": "stdout",
     "output_type": "stream",
     "text": [
      "[[0. 0. 0. 0. 0.]\n",
      " [1. 0. 0. 0. 0.]\n",
      " [0. 2. 0. 0. 0.]\n",
      " [0. 0. 3. 0. 0.]\n",
      " [0. 0. 0. 4. 0.]]\n"
     ]
    }
   ],
   "source": [
    "import numpy as np\n",
    "\n",
    "# Create a 5x5 matrix filled with zeros\n",
    "matrix = np.zeros((5, 5))\n",
    "\n",
    "# Fill the values 1, 2, 3, and 4 just below the diagonal\n",
    "values = [1, 2, 3, 4]\n",
    "for i in range(1, 5):\n",
    "    matrix[i, i - 1] = values[i - 1]\n",
    "\n",
    "# Print the resulting matrix\n",
    "print(matrix)\n"
   ]
  },
  {
   "cell_type": "markdown",
   "id": "a8426eef",
   "metadata": {},
   "source": [
    "# 3.Create a 8x8 matrix and fill it with a checkerboard pattern"
   ]
  },
  {
   "cell_type": "code",
   "execution_count": 3,
   "id": "1736b978",
   "metadata": {},
   "outputs": [
    {
     "name": "stdout",
     "output_type": "stream",
     "text": [
      "[[0 1 0 1 0 1 0 1]\n",
      " [1 0 1 0 1 0 1 0]\n",
      " [0 1 0 1 0 1 0 1]\n",
      " [1 0 1 0 1 0 1 0]\n",
      " [0 1 0 1 0 1 0 1]\n",
      " [1 0 1 0 1 0 1 0]\n",
      " [0 1 0 1 0 1 0 1]\n",
      " [1 0 1 0 1 0 1 0]]\n"
     ]
    }
   ],
   "source": [
    "import numpy as np\n",
    "\n",
    "# Create an 8x8 matrix filled with zeros\n",
    "matrix = np.zeros((8, 8), dtype=int)\n",
    "\n",
    "# Fill the checkerboard pattern with alternating 1s\n",
    "matrix[1::2, ::2] = 1\n",
    "matrix[::2, 1::2] = 1\n",
    "\n",
    "# Print the resulting checkerboard matrix\n",
    "print(matrix)"
   ]
  },
  {
   "cell_type": "markdown",
   "id": "73a6d071",
   "metadata": {},
   "source": [
    "# 4. Normalize a 5x5 random matrix"
   ]
  },
  {
   "cell_type": "code",
   "execution_count": 4,
   "id": "7b971ca3",
   "metadata": {},
   "outputs": [
    {
     "name": "stdout",
     "output_type": "stream",
     "text": [
      "Original Random Matrix:\n",
      "[[0.82371446 0.98034393 0.52835942 0.41596246 0.06484087]\n",
      " [0.6968814  0.59674286 0.06074115 0.62425011 0.90989303]\n",
      " [0.61960027 0.40309919 0.01605726 0.02187731 0.45097124]\n",
      " [0.33163866 0.43777244 0.26661857 0.80295109 0.70800384]\n",
      " [0.48935003 0.77771817 0.23089425 0.44787232 0.22351094]]\n",
      "\n",
      "Normalized Matrix:\n",
      "[[ 1.26241142  1.83301728  0.18642408 -0.22304143 -1.50218798]\n",
      " [ 0.80035474  0.43554703 -1.51712336  0.53575676  1.57636254]\n",
      " [ 0.51881727 -0.2699027  -1.67990814 -1.65870553 -0.09550337]\n",
      " [-0.53023559 -0.14358703 -0.76710574  1.18676984  0.84087415]\n",
      " [ 0.04431169  1.09484554 -0.8972505  -0.10679284 -0.92414811]]\n"
     ]
    }
   ],
   "source": [
    "import numpy as np\n",
    "\n",
    "# Create a 5x5 random matrix\n",
    "random_matrix = np.random.rand(5, 5)\n",
    "\n",
    "# Normalize the matrix\n",
    "mean = random_matrix.mean()\n",
    "std_dev = random_matrix.std()\n",
    "normalized_matrix = (random_matrix - mean) / std_dev\n",
    "\n",
    "# Print the original and normalized matrices\n",
    "print(\"Original Random Matrix:\")\n",
    "print(random_matrix)\n",
    "print(\"\\nNormalized Matrix:\")\n",
    "print(normalized_matrix)\n"
   ]
  },
  {
   "cell_type": "markdown",
   "id": "9795e066",
   "metadata": {},
   "source": [
    "# 5. How to find common values between two arrays ?"
   ]
  },
  {
   "cell_type": "code",
   "execution_count": 5,
   "id": "ece693e2",
   "metadata": {},
   "outputs": [
    {
     "name": "stdout",
     "output_type": "stream",
     "text": [
      "Common values: [3 4 5]\n"
     ]
    }
   ],
   "source": [
    "import numpy as np\n",
    "\n",
    "# Create two NumPy arrays\n",
    "array1 = np.array([1, 2, 3, 4, 5])\n",
    "array2 = np.array([3, 4, 5, 6, 7])\n",
    "\n",
    "# Find common values between the two arrays\n",
    "common_values = np.intersect1d(array1, array2)\n",
    "\n",
    "# Print the common values\n",
    "print(\"Common values:\", common_values)"
   ]
  },
  {
   "cell_type": "markdown",
   "id": "0abca016",
   "metadata": {},
   "source": [
    "# 6.How to get the dates of yesterday, today and tomorrow ?"
   ]
  },
  {
   "cell_type": "code",
   "execution_count": null,
   "id": "3b667773",
   "metadata": {},
   "outputs": [],
   "source": [
    "# from datetime import datetime, timedelta\n",
    "\n",
    "# Get today's date\n",
    "today = datetime.now().date()\n",
    "\n",
    "# Calculate yesterday's date\n",
    "yesterday = today - timedelta(days=1)\n",
    "\n",
    "# Calculate tomorrow's date\n",
    "tomorrow = today + timedelta(days=1)\n",
    "\n",
    "# Print the dates\n",
    "print(\"Yesterday:\", yesterday)\n",
    "print(\"Today:\", today)\n",
    "print(\"Tomorrow:\", tomorrow)\n"
   ]
  },
  {
   "cell_type": "markdown",
   "id": "9ca7cd13",
   "metadata": {},
   "source": [
    "# 7. Consider two random array A and B, check if they are equal"
   ]
  },
  {
   "cell_type": "code",
   "execution_count": 9,
   "id": "b33aeca2",
   "metadata": {},
   "outputs": [
    {
     "name": "stdout",
     "output_type": "stream",
     "text": [
      "Arrays A and B are not equal.\n"
     ]
    }
   ],
   "source": [
    "import numpy as np\n",
    "\n",
    "# Create two random arrays, A and B\n",
    "A = np.random.rand(2, 5)\n",
    "B = np.random.rand(2, 5)\n",
    "\n",
    "# Check if the two arrays are equal\n",
    "are_equal = np.array_equal(A, B)\n",
    "\n",
    "# Print the result\n",
    "if are_equal:\n",
    "    print(\"Arrays A and B are equal.\")\n",
    "else:\n",
    "    print(\"Arrays A and B are not equal.\")\n"
   ]
  },
  {
   "cell_type": "markdown",
   "id": "85a017d1",
   "metadata": {},
   "source": [
    "# 8.Create random vector of size 10 and replace the maximum value by 0"
   ]
  },
  {
   "cell_type": "code",
   "execution_count": 10,
   "id": "2d0d97c0",
   "metadata": {},
   "outputs": [
    {
     "name": "stdout",
     "output_type": "stream",
     "text": [
      "Original vector:\n",
      "[0.13743918 0.69710558 0.79971015 0.         0.70654154 0.64678336\n",
      " 0.83445601 0.76302129 0.39333795 0.02443071]\n"
     ]
    }
   ],
   "source": [
    "import numpy as np\n",
    "\n",
    "# Create a random vector of size 10\n",
    "random_vector = np.random.rand(10)\n",
    "\n",
    "# Find the maximum value in the vector\n",
    "max_value = np.max(random_vector)\n",
    "\n",
    "# Replace the maximum value with 0\n",
    "random_vector[random_vector == max_value] = 0\n",
    "\n",
    "# Print the original and modified vectors\n",
    "print(\"Original vector:\")\n",
    "print(random_vector)\n"
   ]
  },
  {
   "cell_type": "markdown",
   "id": "0cd87aae",
   "metadata": {},
   "source": [
    "# 9. How to print all the values of an array?"
   ]
  },
  {
   "cell_type": "code",
   "execution_count": 11,
   "id": "0b01a7d9",
   "metadata": {},
   "outputs": [
    {
     "name": "stdout",
     "output_type": "stream",
     "text": [
      "1\n",
      "2\n",
      "3\n",
      "4\n",
      "5\n"
     ]
    }
   ],
   "source": [
    "import numpy as np\n",
    "\n",
    "# Create an example array\n",
    "my_array = np.array([1, 2, 3, 4, 5])\n",
    "\n",
    "# Using a loop to print each value\n",
    "for value in my_array:\n",
    "    print(value)\n"
   ]
  },
  {
   "cell_type": "code",
   "execution_count": 12,
   "id": "1e653713",
   "metadata": {},
   "outputs": [
    {
     "name": "stdout",
     "output_type": "stream",
     "text": [
      "[1 2 3 4 5]\n"
     ]
    }
   ],
   "source": [
    "import numpy as np\n",
    "\n",
    "# Create an example array\n",
    "my_array = np.array([1, 2, 3, 4, 5])\n",
    "\n",
    "# Using print to display the entire array\n",
    "print(my_array)\n"
   ]
  },
  {
   "cell_type": "markdown",
   "id": "39c743c7",
   "metadata": {},
   "source": [
    "# 10.Subtract the mean of each row of a matrix"
   ]
  },
  {
   "cell_type": "code",
   "execution_count": 18,
   "id": "89d86c7e",
   "metadata": {},
   "outputs": [
    {
     "name": "stdout",
     "output_type": "stream",
     "text": [
      "Original Matrix:\n",
      "[[11 12 13]\n",
      " [24 35 26]\n",
      " [ 7 18  9]]\n",
      "\n",
      "Normalized Matrix (Mean Subtracted from Each Row):\n",
      "[[-1.          0.          1.        ]\n",
      " [-4.33333333  6.66666667 -2.33333333]\n",
      " [-4.33333333  6.66666667 -2.33333333]]\n"
     ]
    }
   ],
   "source": [
    "import numpy as np\n",
    "\n",
    "# Create a sample matrix\n",
    "matrix = np.array([[11, 12, 13],\n",
    "                   [24, 35, 26],\n",
    "                   [7, 18, 9]])\n",
    "\n",
    "# Calculate the mean of each row\n",
    "row_means = np.mean(matrix, axis=1, keepdims=True)\n",
    "\n",
    "# Subtract the row means from the matrix\n",
    "normalized_matrix = matrix - row_means\n",
    "\n",
    "# Print the original and normalized matrices\n",
    "print(\"Original Matrix:\")\n",
    "print(matrix)\n",
    "print(\"\\nNormalized Matrix (Mean Subtracted from Each Row):\")\n",
    "print(normalized_matrix)\n"
   ]
  },
  {
   "cell_type": "markdown",
   "id": "13bf7817",
   "metadata": {},
   "source": [
    "# 11.Consider a given vector, how to add 1 to each element indexed by a second vector (be careful with repeated indices)?"
   ]
  },
  {
   "cell_type": "code",
   "execution_count": 19,
   "id": "6fe788f6",
   "metadata": {},
   "outputs": [
    {
     "name": "stdout",
     "output_type": "stream",
     "text": [
      "[0 2 2 4 4 6]\n"
     ]
    }
   ],
   "source": [
    "import numpy as np\n",
    "\n",
    "# Create the main vector\n",
    "main_vector = np.array([0, 1, 2, 3, 4, 5])\n",
    "\n",
    "# Create the second vector with indices where you want to add 1\n",
    "indices_to_add_1 = np.array([1, 3, 5])\n",
    "\n",
    "# Create a mask to avoid repeated indices\n",
    "mask = np.zeros_like(main_vector, dtype=bool)\n",
    "mask[indices_to_add_1] = True\n",
    "\n",
    "# Add 1 to the elements at the specified indices\n",
    "main_vector[mask] += 1\n",
    "\n",
    "# Print the modified vector\n",
    "print(main_vector)\n"
   ]
  },
  {
   "cell_type": "markdown",
   "id": "931bc232",
   "metadata": {},
   "source": [
    "# 12.How to get the diagonal of a dot product?"
   ]
  },
  {
   "cell_type": "code",
   "execution_count": 20,
   "id": "ccbbadcc",
   "metadata": {},
   "outputs": [
    {
     "name": "stdout",
     "output_type": "stream",
     "text": [
      "Diagonal of the dot product:\n",
      "[30 69 90]\n"
     ]
    }
   ],
   "source": [
    "import numpy as np\n",
    "\n",
    "# Create two example matrices A and B\n",
    "A = np.array([[1, 2, 3],\n",
    "              [4, 5, 6],\n",
    "              [7, 8, 9]])\n",
    "\n",
    "B = np.array([[9, 8, 7],\n",
    "              [6, 5, 4],\n",
    "              [3, 2, 1]])\n",
    "\n",
    "# Compute the dot product of A and B\n",
    "dot_product_result = np.dot(A, B)\n",
    "\n",
    "# Get the diagonal elements of the dot product\n",
    "diagonal_elements = np.diag(dot_product_result)\n",
    "\n",
    "# Print the diagonal elements\n",
    "print(\"Diagonal of the dot product:\")\n",
    "print(diagonal_elements)\n"
   ]
  },
  {
   "cell_type": "markdown",
   "id": "b6b89821",
   "metadata": {},
   "source": [
    "# 13.How to find the most frequent value in an array?"
   ]
  },
  {
   "cell_type": "code",
   "execution_count": 21,
   "id": "5d40a340",
   "metadata": {},
   "outputs": [
    {
     "name": "stdout",
     "output_type": "stream",
     "text": [
      "Array: [1 2 2 3 3 3 4 4 4 4]\n",
      "Most frequent value: 4\n"
     ]
    }
   ],
   "source": [
    "import numpy as np\n",
    "\n",
    "# Create a NumPy array (replace with your own array)\n",
    "arr = np.array([1, 2, 2, 3, 3, 3, 4, 4, 4, 4])\n",
    "\n",
    "# Use numpy.unique to get unique values and their counts\n",
    "unique_values, counts = np.unique(arr, return_counts=True)\n",
    "\n",
    "# Find the index of the maximum count\n",
    "max_count_index = np.argmax(counts)\n",
    "\n",
    "# Get the most frequent value\n",
    "most_frequent_value = unique_values[max_count_index]\n",
    "\n",
    "print(\"Array:\", arr)\n",
    "print(\"Most frequent value:\", most_frequent_value)"
   ]
  },
  {
   "cell_type": "markdown",
   "id": "16d7e2cf",
   "metadata": {},
   "source": [
    "# 14.How to get the n largest values of an array"
   ]
  },
  {
   "cell_type": "code",
   "execution_count": 22,
   "id": "490776b8",
   "metadata": {},
   "outputs": [
    {
     "name": "stdout",
     "output_type": "stream",
     "text": [
      "Array: [4 2 7 1 9 5 8 3 6]\n",
      "3 Largest Values: [7 8 9]\n"
     ]
    }
   ],
   "source": [
    "import numpy as np\n",
    "\n",
    "# Create a NumPy array (replace with your own array)\n",
    "arr = np.array([4, 2, 7, 1, 9, 5, 8, 3, 6])\n",
    "\n",
    "# Specify the number of largest values you want (e.g., n = 3)\n",
    "n = 3\n",
    "\n",
    "# Use numpy.partition to partially sort the array\n",
    "# The n largest values will be on the right side of the partitioned array\n",
    "partially_sorted = np.partition(arr, -n)\n",
    "\n",
    "# Slice the last n elements to get the n largest values\n",
    "n_largest_values = partially_sorted[-n:]\n",
    "\n",
    "print(\"Array:\", arr)\n",
    "print(f\"{n} Largest Values:\", n_largest_values)"
   ]
  },
  {
   "cell_type": "markdown",
   "id": "5b057193",
   "metadata": {},
   "source": [
    "# 15.How to create a record array from a regular array"
   ]
  },
  {
   "cell_type": "code",
   "execution_count": 24,
   "id": "bd683b20",
   "metadata": {},
   "outputs": [
    {
     "name": "stdout",
     "output_type": "stream",
     "text": [
      "Regular Array:\n",
      "[(1, 'charan', 23) (2, 'veera', 24) (3, 'dada', 18)]\n",
      "\n",
      "Record Array:\n",
      "((1, 'charan', 23), (2, 'veera', 24), (3, 'dada', 18))\n"
     ]
    }
   ],
   "source": [
    "import numpy as np\n",
    "\n",
    "# Create a regular array with data\n",
    "regular_array = np.array([(1, 'charan', 23),\n",
    "                          (2, 'veera', 24),\n",
    "                          (3, 'dada', 18)],\n",
    "                         dtype=[('ID', int), ('Name', 'U10'), ('Age', int)])\n",
    "\n",
    "# Print the regular array\n",
    "print(\"Regular Array:\")\n",
    "print(regular_array)\n",
    "\n",
    "# Convert the regular array to a record array\n",
    "record_array = np.rec.fromarrays(regular_array.T, names=regular_array.dtype.names)\n",
    "\n",
    "# Print the record array\n",
    "print(\"\\nRecord Array:\")\n",
    "print(record_array)"
   ]
  },
  {
   "cell_type": "markdown",
   "id": "2bcfe2d5",
   "metadata": {},
   "source": [
    "# 16. How to swap two rows of an array?"
   ]
  },
  {
   "cell_type": "code",
   "execution_count": 25,
   "id": "808f1d16",
   "metadata": {},
   "outputs": [
    {
     "name": "stdout",
     "output_type": "stream",
     "text": [
      "Array after swapping rows:\n",
      "[[7 8 9]\n",
      " [4 5 6]\n",
      " [1 2 3]]\n"
     ]
    }
   ],
   "source": [
    "import numpy as np\n",
    "\n",
    "# Create a sample 2D NumPy array (replace with your own array)\n",
    "array = np.array([[1, 2, 3],\n",
    "                  [4, 5, 6],\n",
    "                  [7, 8, 9]])\n",
    "\n",
    "# Indices of the rows you want to swap (0-based index)\n",
    "row1_index = 0\n",
    "row2_index = 2\n",
    "\n",
    "# Swap the rows using array slicing and indexing\n",
    "array[[row1_index, row2_index]] = array[[row2_index, row1_index]]\n",
    "\n",
    "print(\"Array after swapping rows:\")\n",
    "print(array)"
   ]
  },
  {
   "cell_type": "markdown",
   "id": "c5eb056d",
   "metadata": {},
   "source": [
    "# 17.Write python code to reshape to the next dimension of numpy array?"
   ]
  },
  {
   "cell_type": "code",
   "execution_count": 26,
   "id": "a366e60d",
   "metadata": {},
   "outputs": [
    {
     "name": "stdout",
     "output_type": "stream",
     "text": [
      "Original 2D Array:\n",
      "[[ 23  34 121]\n",
      " [ 23  22  67]\n",
      " [686 434 123]]\n",
      "\n",
      "Reshaped 3D Array:\n",
      "[[[ 23]\n",
      "  [ 34]\n",
      "  [121]]\n",
      "\n",
      " [[ 23]\n",
      "  [ 22]\n",
      "  [ 67]]\n",
      "\n",
      " [[686]\n",
      "  [434]\n",
      "  [123]]]\n"
     ]
    }
   ],
   "source": [
    "import numpy as np\n",
    "\n",
    "# Create the original 2D array\n",
    "x = np.array([[23, 34, 121],\n",
    "              [23, 22, 67],\n",
    "              [686, 434, 123]])\n",
    "\n",
    "# Reshape the array to the next dimension (3D)\n",
    "reshaped_array = x.reshape((x.shape[0], x.shape[1], 1))\n",
    "\n",
    "print(\"Original 2D Array:\")\n",
    "print(x)\n",
    "\n",
    "print(\"\\nReshaped 3D Array:\")\n",
    "print(reshaped_array)"
   ]
  },
  {
   "cell_type": "code",
   "execution_count": null,
   "id": "5c428bb2",
   "metadata": {},
   "outputs": [],
   "source": []
  }
 ],
 "metadata": {
  "kernelspec": {
   "display_name": "Python 3 (ipykernel)",
   "language": "python",
   "name": "python3"
  },
  "language_info": {
   "codemirror_mode": {
    "name": "ipython",
    "version": 3
   },
   "file_extension": ".py",
   "mimetype": "text/x-python",
   "name": "python",
   "nbconvert_exporter": "python",
   "pygments_lexer": "ipython3",
   "version": "3.11.4"
  }
 },
 "nbformat": 4,
 "nbformat_minor": 5
}
