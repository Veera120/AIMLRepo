{
 "cells": [
  {
   "cell_type": "markdown",
   "id": "9ec9e789",
   "metadata": {},
   "source": [
    "# 1. Write a python program with Exception handling to input marks for five subjects Physics, Chemistry, Biology, Mathematics, and Computer. Calculate the percentage and grade according to the following:\n",
    "1)Percentage >= 70%: Grade A\n",
    "2)Percentage >= 60%: Grade B\n",
    "3)Percentage >= 50% : Grade C\n",
    "4)Percentage >= 40% : Grade D\n",
    "5)Percentage >= 35%: Grade E\n",
    "6)Percentage < 35%: Grade F"
   ]
  },
  {
   "cell_type": "code",
   "execution_count": 3,
   "id": "17e8c82a",
   "metadata": {},
   "outputs": [
    {
     "name": "stdout",
     "output_type": "stream",
     "text": [
      "Enter Physics marks: 65\n",
      "Enter Chemistry marks: 39\n",
      "Enter Biology marks: 58\n",
      "Enter Mathematics marks: 78\n",
      "Enter Computer marks: 90\n",
      "Percentage: 66.00%\n",
      "Grade: B\n"
     ]
    }
   ],
   "source": [
    "try:\n",
    "    physics = float(input(\"Enter Physics marks: \"))\n",
    "    chemistry = float(input(\"Enter Chemistry marks: \"))\n",
    "    biology = float(input(\"Enter Biology marks: \"))\n",
    "    mathematics = float(input(\"Enter Mathematics marks: \"))\n",
    "    computer = float(input(\"Enter Computer marks: \"))\n",
    "    if any(m < 0 or m > 100 for m in [physics, chemistry, biology, mathematics, computer]):\n",
    "        raise ValueError(\"Invalid marks. Marks should be between 0 and 100.\")\n",
    "    total_marks = physics + chemistry + biology + mathematics + computer\n",
    "    percentage = (total_marks / 500) * 100\n",
    "    if percentage >= 70:\n",
    "        grade = \"A\"\n",
    "    elif percentage >= 60:\n",
    "        grade = \"B\"\n",
    "    elif percentage >= 50:\n",
    "        grade = \"C\"\n",
    "    elif percentage >= 40:\n",
    "        grade = \"D\"\n",
    "    elif percentage >= 35:\n",
    "        grade = \"E\"\n",
    "    else:\n",
    "        grade = \"F\"\n",
    "    print(f\"Percentage: {percentage:.2f}%\")\n",
    "    print(f\"Grade: {grade}\")\n",
    "except ValueError as e:\n",
    "    print(f\"Error: {e}\")\n",
    "except Exception as e:\n",
    "    print(f\"An error occurred: {e}\")"
   ]
  },
  {
   "cell_type": "markdown",
   "id": "13a87d6e",
   "metadata": {},
   "source": [
    "# 2.Write a python program with Exception handling to input electricity unit charges and calculate the total electricity bill according to the given condition:\n",
    "1)For the first 50 units Rs. 3.50/unit\n",
    "2)For the next 100 units Rs. 4.75/unit\n",
    "3)For the next 100 units Rs. 5.20/unit\n",
    "4)For units above 250 Rs. 7.50/unit\n",
    "5)An additional surcharge of 20% is added to the bill."
   ]
  },
  {
   "cell_type": "code",
   "execution_count": 9,
   "id": "a0ed8a58",
   "metadata": {},
   "outputs": [
    {
     "name": "stdout",
     "output_type": "stream",
     "text": [
      "Enter electricity units consumed: 258\n",
      "Total Electricity Bill: Rs. 1476.00\n"
     ]
    }
   ],
   "source": [
    "try:\n",
    "    units = float(input(\"Enter electricity units consumed: \"))\n",
    "    if units < 0:\n",
    "        raise ValueError(\"Units consumed cannot be negative.\")\n",
    "    if units <= 50:\n",
    "        bill = units * 3.50\n",
    "    elif units <= 150:\n",
    "        bill = 50 * 3.50 + (units - 50) * 4.75\n",
    "    elif units <= 250:\n",
    "        bill = 50 * 3.50 + 100 * 4.75 + (units - 150) * 5.20\n",
    "    else:\n",
    "        bill = 50 * 3.50 + 100 * 4.75 + 100 * 5.20 + (units - 250) * 7.50\n",
    "    surcharge = 0.20 * bill\n",
    "    total_bill = bill + surcharge\n",
    "    print(f\"Total Electricity Bill: Rs. {total_bill:.2f}\")\n",
    "except ValueError as e:\n",
    "    print(f\"Error: {e}\")\n",
    "except Exception as e:\n",
    "    print(f\"An error occurred: {e}\")"
   ]
  },
  {
   "cell_type": "markdown",
   "id": "459c0d5d",
   "metadata": {},
   "source": [
    "# 3. Write a python program with Exception handling to input the week number and print the weekday."
   ]
  },
  {
   "cell_type": "code",
   "execution_count": 12,
   "id": "2964cb52",
   "metadata": {},
   "outputs": [
    {
     "name": "stdout",
     "output_type": "stream",
     "text": [
      "Enter a week number (1-7): 1\n",
      "Weekday for week 1 is Monday.\n"
     ]
    }
   ],
   "source": [
    "try:\n",
    "    week_number = int(input(\"Enter a week number (1-7): \"))\n",
    "    if week_number < 1 or week_number > 7:\n",
    "        raise ValueError(\"Week number should be between 1 and 7.\")\n",
    "    weekdays = [\"Monday\", \"Tuesday\", \"Wednesday\", \"Thursday\", \"Friday\", \"Saturday\", \"Sunday\"]\n",
    "    print(f\"Weekday for week {week_number} is {weekdays[week_number - 1]}.\")\n",
    "except ValueError as e:\n",
    "    print(f\"Error: {e}\")\n",
    "except Exception as e:\n",
    "    print(f\"An error occurred: {e}\")"
   ]
  },
  {
   "cell_type": "markdown",
   "id": "33035684",
   "metadata": {},
   "source": [
    "# 4. Write a Python program to implement word count using command line arguments.\n",
    "1)Create a text document \"apple.txt\" whch contains text for wordcount.\n",
    "2)Create a wordcount program which calls the \"apple.txt\" document by opening the file.\n",
    "3)If the word is present again in the \"aaple.txt\",the wordcount is incremented by I until all the words are counted in the document.\n",
    "4)Close the file.\n",
    "5)Create a command.py program which imports the wordcount.py program.\n",
    "6)Count the number of words using command line arguments.\n",
    "7)Print each word and its count."
   ]
  },
  {
   "cell_type": "code",
   "execution_count": 15,
   "id": "eec41ca5",
   "metadata": {},
   "outputs": [
    {
     "name": "stdout",
     "output_type": "stream",
     "text": [
      "Usage: python word_count.py <file_name>\n"
     ]
    }
   ],
   "source": [
    "import sys\n",
    "def word_count(file_name):\n",
    "    try:\n",
    "        # Open the file in read mode\n",
    "        with open(file_name, 'r') as file:\n",
    "            text = file.read()\n",
    "\n",
    "            # Split the text into words using whitespace as a delimiter\n",
    "            words = text.split()\n",
    "\n",
    "            # Initialize a dictionary to store word counts\n",
    "            word_counts = {}\n",
    "\n",
    "            # Count the occurrence of each word\n",
    "            for word in words:\n",
    "                word = word.lower()  # Convert to lowercase to count words case-insensitively\n",
    "                if word in word_counts:\n",
    "                    word_counts[word] += 1\n",
    "                else:\n",
    "                    word_counts[word] = 1\n",
    "\n",
    "            return word_counts\n",
    "\n",
    "    except FileNotFoundError:\n",
    "        print(f\"Error: {file_name} not found.\")\n",
    "        return {}\n",
    "    except Exception as e:\n",
    "        print(f\"An error occurred: {e}\")\n",
    "        return {}\n",
    "\n",
    "if __name__ == \"__main__\":\n",
    "    if len(sys.argv) != 2:\n",
    "        print(\"Usage: python word_count.py <file_name>\")\n",
    "    else:\n",
    "        file_name = sys.argv[1]\n",
    "        word_counts = word_count(file_name)\n",
    "\n",
    "        for word, count in word_counts.items():\n",
    "            print(f\"{word}: {count}\")\n"
   ]
  },
  {
   "cell_type": "code",
   "execution_count": 16,
   "id": "d88c0571",
   "metadata": {},
   "outputs": [
    {
     "name": "stdout",
     "output_type": "stream",
     "text": [
      "Usage: python command.py <file_name>\n"
     ]
    }
   ],
   "source": [
    "import sys\n",
    "from word_count import word_count\n",
    "\n",
    "if __name__ == \"__main__\":\n",
    "    if len(sys.argv) != 2:\n",
    "        print(\"Usage: python command.py <file_name>\")\n",
    "    else:\n",
    "        file_name = sys.argv[1]\n",
    "        word_counts = word_count(file_name)\n",
    "\n",
    "        for word, count in word_counts.items():\n",
    "            print(f\"{word}: {count}\")"
   ]
  },
  {
   "cell_type": "markdown",
   "id": "afff4468",
   "metadata": {},
   "source": [
    "# 5. Write a Python program for finding the most frequent words in a text read from a file.\n",
    "1)Initially open the text file in read mode.\n",
    "2)Make all the letters in the document into lowercase letters and split the words in each line\n",
    "3)Get the words in an order.\n",
    "4)Sort the words for finding the 1st frequent words in the file.\n",
    "5)print the most frequent words in the file"
   ]
  },
  {
   "cell_type": "code",
   "execution_count": 18,
   "id": "2da3e306",
   "metadata": {},
   "outputs": [
    {
     "name": "stdout",
     "output_type": "stream",
     "text": [
      "The most frequent words in the file are:\n",
      "the: 4\n",
      "leads: 4\n",
      "to: 4\n",
      "of: 3\n",
      "word: 2\n",
      "repetition: 1\n",
      "words.: 1\n",
      "last: 1\n",
      "a: 1\n",
      "clause: 1\n",
      "or: 1\n",
      "sentence: 1\n",
      "is: 1\n",
      "repeated: 1\n",
      "as: 1\n",
      "first: 1\n",
      "next: 1\n",
      "one.: 1\n",
      "example:: 1\n",
      "\"fear: 1\n",
      "anger;: 1\n",
      "anger: 1\n",
      "hatred;: 1\n",
      "hatred: 1\n",
      "conflict;: 1\n",
      "conflict: 1\n",
      "suffering.\": 1\n",
      "â€”: 1\n",
      "yoda,: 1\n",
      "in: 1\n",
      "star: 1\n",
      "wars: 1\n",
      "episode: 1\n",
      "i:: 1\n",
      "phantom: 1\n",
      "menace.: 1\n"
     ]
    }
   ],
   "source": [
    "from collections import Counter\n",
    "with open('source.txt', 'r') as file:\n",
    "    text = file.read()s\n",
    "words = text.lower().split()\n",
    "word_count = Counter(words)\n",
    "most_common_words = word_count.most_common()\n",
    "print(\"The most frequent words in the file are:\")\n",
    "for word, count in most_common_words:\n",
    "    print(f\"{word}: {count}\")"
   ]
  },
  {
   "cell_type": "markdown",
   "id": "9439d881",
   "metadata": {},
   "source": [
    "# 6. File Processing with Command-Line Arguments- Scenario: You are developing a command-line utility that processes text files. Users can specify input and output file paths as command-line arguments. Your program should handle exceptions gracefully.\n",
    "1)Design a Python program that takes two command-line arguments: the input file path and the output file path. Ensure that the program checks if both arguments are provided and that the input file exists.\n",
    "2)Implement error handling to deal with scenarios such as missing input files, invalid file paths, or permission issues when writing to the output file.\n",
    "3)If an error occurs during file processing, display a user-friendly error message, and exit the program with a non-zero exit code.\n",
    "4)Write test cases that cover various scenarios, including providing valid and invalid file paths as command-line arguments."
   ]
  },
  {
   "cell_type": "code",
   "execution_count": 1,
   "id": "e687c4ba",
   "metadata": {},
   "outputs": [
    {
     "name": "stdout",
     "output_type": "stream",
     "text": [
      "File processing completed successfully.\n"
     ]
    }
   ],
   "source": [
    "import sys\n",
    "import os\n",
    "\n",
    "def process_files(input_file_path, output_file_path):\n",
    "    try:\n",
    "        # Check if both input and output file paths are provided\n",
    "        if not input_file_path or not output_file_path:\n",
    "            raise ValueError(\"Both input and output file paths are required.\")\n",
    "        \n",
    "        # Check if the input file exists\n",
    "        if not os.path.exists('source.txt'):\n",
    "            raise FileNotFoundError(f\"Input file '{source.txt}' does not exist.\")\n",
    "\n",
    "        # Read data from the input file and process it\n",
    "        with open('source.txt', 'r') as input_file, open('om.txt', 'w') as output_file:\n",
    "            for line in input_file:\n",
    "                # Your processing logic can go here\n",
    "                # For this example, we'll just copy the lines from input to output\n",
    "                output_file.write(line)\n",
    "\n",
    "        print(\"File processing completed successfully.\")\n",
    "    except ValueError as ve:\n",
    "        print(f\"Error: {ve}\")\n",
    "        sys.exit(1)\n",
    "    except FileNotFoundError as fnfe:\n",
    "        print(f\"Error: {fnfe}\")\n",
    "        sys.exit(1)\n",
    "    except Exception as e:\n",
    "        print(f\"An unexpected error occurred: {e}\")\n",
    "        sys.exit(1)\n",
    "\n",
    "if __name__ == \"__main__\":\n",
    "    if len(sys.argv) != 3:\n",
    "        print(\"Usage: python program.py input_file output_file\")\n",
    "        sys.exit(1)\n",
    "\n",
    "    input_file_path = sys.argv[1]\n",
    "    output_file_path = sys.argv[2]\n",
    "\n",
    "    process_files(input_file_path, output_file_path)\n"
   ]
  },
  {
   "cell_type": "code",
   "execution_count": null,
   "id": "89c93d35",
   "metadata": {},
   "outputs": [],
   "source": []
  }
 ],
 "metadata": {
  "kernelspec": {
   "display_name": "Python 3 (ipykernel)",
   "language": "python",
   "name": "python3"
  },
  "language_info": {
   "codemirror_mode": {
    "name": "ipython",
    "version": 3
   },
   "file_extension": ".py",
   "mimetype": "text/x-python",
   "name": "python",
   "nbconvert_exporter": "python",
   "pygments_lexer": "ipython3",
   "version": "3.11.4"
  }
 },
 "nbformat": 4,
 "nbformat_minor": 5
}
