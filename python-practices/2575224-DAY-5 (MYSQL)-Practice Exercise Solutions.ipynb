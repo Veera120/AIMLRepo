{
 "cells": [
  {
   "cell_type": "code",
   "execution_count": 2,
   "id": "eaca80c4",
   "metadata": {},
   "outputs": [],
   "source": [
    "import mysql.connector"
   ]
  },
  {
   "cell_type": "code",
   "execution_count": 7,
   "id": "3ff5543d",
   "metadata": {},
   "outputs": [
    {
     "name": "stdout",
     "output_type": "stream",
     "text": [
      "<mysql.connector.connection.MySQLConnection object at 0x000001DBEA3CC510>\n"
     ]
    }
   ],
   "source": [
    "import mysql.connector\n",
    "conn = mysql.connector.connect(user='root',\n",
    "                               password='Amma12345@',\n",
    "                               host='127.0.0.1',\n",
    "                               database='mla')\n",
    "print(conn)"
   ]
  },
  {
   "cell_type": "code",
   "execution_count": 8,
   "id": "460dc0a4",
   "metadata": {},
   "outputs": [],
   "source": [
    "curs = con.cursor()"
   ]
  },
  {
   "cell_type": "code",
   "execution_count": 9,
   "id": "509b0d71",
   "metadata": {},
   "outputs": [
    {
     "data": {
      "text/plain": [
       "<mysql.connector.cursor.MySQLCursor at 0x1dbea234dd0>"
      ]
     },
     "execution_count": 9,
     "metadata": {},
     "output_type": "execute_result"
    }
   ],
   "source": [
    "curs"
   ]
  },
  {
   "cell_type": "markdown",
   "id": "d4a3f29b",
   "metadata": {},
   "source": [
    "# 1.Implement Inventory Management in Python with MySQL\n",
    "a)Inventory management, a critical element of the supply chain, is the tracking of inverory from manufacturers to warehouses and from these facilities to a point of sale. The goal of inventory management is to have the right products in the right place at the right time.\n",
    "b)The required Database is Inventory, and the required Tables are Purchases, Sales and\n",
    "Inventory\n",
    "c)Note: Apply your thoughts to demonstrate the DB Operation in Python."
   ]
  },
  {
   "cell_type": "code",
   "execution_count": 42,
   "id": "4c21cbfb",
   "metadata": {},
   "outputs": [
    {
     "name": "stdout",
     "output_type": "stream",
     "text": [
      "Purchase added successfully.\n",
      "Sale added successfully.\n",
      "Inventory updated successfully.\n"
     ]
    }
   ],
   "source": [
    "import mysql.connector\n",
    "\n",
    "# Connect to the MySQL database\n",
    "db = mysql.connector.connect(\n",
    "    host=\"127.0.0.1\",\n",
    "    user=\"root\",\n",
    "    password=\"Amma12345@\",\n",
    "    database=\"Inventory\"\n",
    ")\n",
    "\n",
    "cursor = db.cursor()\n",
    "\n",
    "# Function to add a purchase record\n",
    "def add_purchase(product_name, purchase_date, quantity, unit_price):\n",
    "    try:\n",
    "        cursor.execute(\"INSERT INTO Purchases (product_name, purchase_date, quantity, unit_price) VALUES (%s, %s, %s, %s)\",\n",
    "                       (product_name, purchase_date, quantity, unit_price))\n",
    "        db.commit()\n",
    "        print(\"Purchase added successfully.\")\n",
    "    except mysql.connector.Error as err:\n",
    "        db.rollback()\n",
    "        print(\"MySQL Error:\", err)\n",
    "\n",
    "# Function to add a sale record\n",
    "def add_sale(product_name, sale_date, quantity, unit_price):\n",
    "    try:\n",
    "        cursor.execute(\"INSERT INTO Sales (product_name, sale_date, quantity, unit_price) VALUES (%s, %s, %s, %s)\",\n",
    "                       (product_name, sale_date, quantity, unit_price))\n",
    "        db.commit()\n",
    "        print(\"Sale added successfully.\")\n",
    "    except mysql.connector.Error as err:\n",
    "        db.rollback()\n",
    "        print(\"MySQL Error:\", err)\n",
    "\n",
    "# Function to update the inventory\n",
    "def update_inventory(product_name, quantity, unit_price):\n",
    "    try:\n",
    "        cursor.execute(\"INSERT INTO Inventory (product_name, quantity, unit_price) VALUES (%s, %s, %s) \"\n",
    "                       \"ON DUPLICATE KEY UPDATE quantity = quantity + VALUES(quantity), unit_price = VALUES(unit_price)\",\n",
    "                       (product_name, quantity, unit_price))\n",
    "        db.commit()\n",
    "        print(\"Inventory updated successfully.\")\n",
    "    except mysql.connector.Error as err:\n",
    "        db.rollback()\n",
    "        print(\"MySQL Error:\", err)\n",
    "\n",
    "# Example usage\n",
    "add_purchase(\"Product A\", \"2023-09-15\", 100, 10.00)\n",
    "add_sale(\"Product A\", \"2023-09-16\", 50, 12.00)\n",
    "update_inventory(\"Product A\", 50, 12.00)\n",
    "\n",
    "# Close the cursor and database connection\n",
    "cursor.close()\n",
    "db.close()"
   ]
  },
  {
   "cell_type": "markdown",
   "id": "f54b8e9e",
   "metadata": {},
   "source": [
    "# 2. Customer Order Processing\n",
    "\n",
    "Scenario: You are building a customer order processing system for an e-commerce company. The system needs to interact with a MySQL database to store customer orders, products, and order details.\n",
    "1.Design a MySQL database schema for the order processing system, including tables for customers, products, and orders.\n",
    "2.Write a Python program that connects to the database and allows customers to place new orders.\n",
    "3.Implement a feature that calculates the total cost of an order and updates product quantities in the database.\n",
    "4.How would you handle cases where a product is no longer available when a customer places an order?\n",
    "5 Develop a function to generate order reports for the company's finance department."
   ]
  },
  {
   "cell_type": "code",
   "execution_count": 10,
   "id": "5ede8335",
   "metadata": {},
   "outputs": [
    {
     "name": "stdout",
     "output_type": "stream",
     "text": [
      "Order placed successfully!\n"
     ]
    }
   ],
   "source": [
    "import mysql.connector\n",
    "\n",
    "# Connect to the MySQL database\n",
    "db = mysql.connector.connect(\n",
    "    host=\"127.0.0.1\",\n",
    "    user=\"root\",\n",
    "    password=\"Amma12345@\",\n",
    "    database=\"order_processing\"\n",
    ")\n",
    "\n",
    "cursor = db.cursor()\n",
    "\n",
    "# Function to place a new order\n",
    "def place_order(customer_id, product_id, quantity):\n",
    "    try:\n",
    "        # Check if the product is available\n",
    "        cursor.execute(\"SELECT quantity_available FROM Products WHERE product_id = %s\", (product_id,))\n",
    "        result = cursor.fetchone()\n",
    "\n",
    "        if result is not None:\n",
    "            available_quantity = result[0]\n",
    "            if available_quantity >= quantity:\n",
    "                # Calculate the total cost\n",
    "                cursor.execute(\"SELECT price FROM Products WHERE product_id = %s\", (product_id,))\n",
    "                result = cursor.fetchone()\n",
    "                if result is not None:\n",
    "                    unit_price = result[0]\n",
    "                    total_price = unit_price * quantity\n",
    "\n",
    "                    # Insert the order into the Orders and OrderDetails tables\n",
    "                    cursor.execute(\"INSERT INTO Orders (customer_id, total_amount) VALUES (%s, %s)\", (customer_id, total_price))\n",
    "                    order_id = cursor.lastrowid\n",
    "                    cursor.execute(\"INSERT INTO OrderDetails (order_id, product_id, quantity, unit_price, total_price) VALUES (%s, %s, %s, %s, %s)\", (order_id, product_id, quantity, unit_price, total_price))\n",
    "\n",
    "                    # Update product quantity\n",
    "                    new_quantity = available_quantity - quantity\n",
    "                    cursor.execute(\"UPDATE Products SET quantity_available = %s WHERE product_id = %s\", (new_quantity, product_id))\n",
    "\n",
    "                    db.commit()\n",
    "                    print(\"Order placed successfully!\")\n",
    "                else:\n",
    "                    print(\"Product price not found.\")\n",
    "            else:\n",
    "                print(\"Product is not available in the requested quantity.\")\n",
    "        else:\n",
    "            print(\"Product not found.\")\n",
    "    except Exception as e:\n",
    "        db.rollback()\n",
    "        print(\"Error:\", e)\n",
    "    finally:\n",
    "        cursor.close()\n",
    "        db.close()\n",
    "\n",
    "# Example usage\n",
    "place_order(1, 3, 2)  # Place an order for 2 units of product with ID 101 for customer with ID 1"
   ]
  },
  {
   "cell_type": "code",
   "execution_count": 11,
   "id": "0980733d",
   "metadata": {},
   "outputs": [
    {
     "name": "stdout",
     "output_type": "stream",
     "text": [
      "Order ID: 1\n",
      "Customer: John Doe\n",
      "Order Date: 2023-09-15\n",
      "Total Amount: 59.97\n",
      "\n",
      "Order ID: 4\n",
      "Customer: John Doe\n",
      "Order Date: None\n",
      "Total Amount: 19.98\n",
      "\n",
      "Order ID: 2\n",
      "Customer: Alice Smith\n",
      "Order Date: 2023-09-16\n",
      "Total Amount: 59.98\n",
      "\n",
      "Order ID: 3\n",
      "Customer: Bob Johnson\n",
      "Order Date: 2023-09-17\n",
      "Total Amount: 19.99\n",
      "\n"
     ]
    }
   ],
   "source": [
    "import mysql.connector\n",
    "\n",
    "# Function to generate order reports\n",
    "def generate_order_report():\n",
    "    try:\n",
    "        # Connect to the MySQL database\n",
    "        db = mysql.connector.connect(\n",
    "            host=\"127.0.0.1\",\n",
    "            user=\"root\",\n",
    "            password=\"Amma12345@\",\n",
    "            database=\"order_processing\"\n",
    "        )\n",
    "        cursor = db.cursor()\n",
    "\n",
    "        # Execute the SQL query to retrieve orders\n",
    "        cursor.execute(\"SELECT orders.order_id, customers.first_name, customers.last_name, orders.order_date, orders.total_amount FROM orders JOIN customers ON orders.customer_id = customers.customer_id\")\n",
    "        \n",
    "        # Fetch all orders\n",
    "        orders = cursor.fetchall()\n",
    "        \n",
    "        return orders\n",
    "    except Exception as e:\n",
    "        print(\"Error:\", e)\n",
    "    finally:\n",
    "        cursor.close()\n",
    "        db.close()\n",
    "\n",
    "# Example usage to generate and print an order report\n",
    "orders = generate_order_report()\n",
    "if orders:\n",
    "    for order in orders:\n",
    "        print(\"Order ID:\", order[0])\n",
    "        print(\"Customer:\", order[1], order[2])\n",
    "        print(\"Order Date:\", order[3])\n",
    "        print(\"Total Amount:\", order[4])\n",
    "        print()\n",
    "else:\n",
    "    print(\"No orders found.\")"
   ]
  },
  {
   "cell_type": "markdown",
   "id": "1f9766ae",
   "metadata": {},
   "source": [
    "# 3.MYSQL PYTHON PROBLEM"
   ]
  },
  {
   "cell_type": "code",
   "execution_count": 20,
   "id": "766027eb",
   "metadata": {},
   "outputs": [
    {
     "name": "stdout",
     "output_type": "stream",
     "text": [
      "Total quantity before doubling: 33\n",
      "Total quantity after doubling: 66\n",
      "Records updated successfully.\n"
     ]
    }
   ],
   "source": [
    "import mysql.connector\n",
    "\n",
    "try:\n",
    "    # Connect to the MySQL database\n",
    "    db = mysql.connector.connect(\n",
    "        host=\"127.0.0.1\",\n",
    "        user=\"root\",\n",
    "        password=\"Amma12345@\",\n",
    "        database=\"sss\"\n",
    "    )\n",
    "\n",
    "    # Create a cursor object to interact with the database\n",
    "    cursor = db.cursor()\n",
    "\n",
    "    # Retrieve all records from the people table\n",
    "    cursor.execute(\"SELECT * FROM peoples\")\n",
    "\n",
    "    # Fetch all records\n",
    "    records = cursor.fetchall()\n",
    "\n",
    "    # Calculate the total quantity of all records retrieved\n",
    "    total_quantity = sum(record[2] for record in records)\n",
    "    for record in records:\n",
    "        new_quantity = record[2] * 2\n",
    "        cursor.execute(\"UPDATE peoples SET quantity = %s WHERE id = %s\", (new_quantity, record[0]))\n",
    "    db.commit()\n",
    "    print(\"Total quantity before doubling:\", total_quantity)\n",
    "    print(\"Total quantity after doubling:\", total_quantity * 2)\n",
    "    print(\"Records updated successfully.\")\n",
    "\n",
    "except mysql.connector.Error as err:\n",
    "    print(\"MySQL Error:\", err)\n",
    "\n",
    "except Exception as e:\n",
    "    print(\"Error:\", e)\n",
    "\n",
    "finally:\n",
    "    if cursor:\n",
    "        cursor.close()\n",
    "    if db:\n",
    "        db.close()"
   ]
  },
  {
   "cell_type": "markdown",
   "id": "bb9be162",
   "metadata": {},
   "source": [
    "# 4.You are developing an employee management system for a company. The database should store employee information, including name, salary, department, and hire date. Managers should be able to view and update employee details.\n",
    "1.Design the database schema for the employee management system.\n",
    "2.Write Python code to connect to the database and retrieve a list of employees in a\n",
    "specific department.\n",
    "3.Implement a feature to update an employee's salary."
   ]
  },
  {
   "cell_type": "code",
   "execution_count": 41,
   "id": "43dd53b5",
   "metadata": {},
   "outputs": [
    {
     "name": "stdout",
     "output_type": "stream",
     "text": [
      "Employee ID: 1\n",
      "Name: Janaki\n",
      "Salary: 60000.00\n",
      "Department: HR\n",
      "Hire Date: 2023-09-15\n",
      "\n"
     ]
    }
   ],
   "source": [
    "import mysql.connector\n",
    "\n",
    "def retrieve_employees_by_department(department_name):\n",
    "    try:\n",
    "        db = mysql.connector.connect(\n",
    "            host=\"127.0.0.1\",\n",
    "            user=\"root\",\n",
    "            password=\"Amma12345@\",\n",
    "            database=\"employees\"\n",
    "        )\n",
    "        \n",
    "        cursor = db.cursor()\n",
    "        query = \"SELECT * FROM Employees WHERE department = %s\"\n",
    "        cursor.execute(query, (department_name,))\n",
    "        employees = cursor.fetchall()\n",
    "        \n",
    "        return employees\n",
    "\n",
    "    except mysql.connector.Error as err:\n",
    "        print(\"MySQL Error:\", err)\n",
    "        return None\n",
    "\n",
    "    finally:\n",
    "        if cursor:\n",
    "            cursor.close()\n",
    "        if db:\n",
    "            db.close()\n",
    "department_name = \"HR\"\n",
    "employees_in_department = retrieve_employees_by_department(department_name)\n",
    "\n",
    "if employees_in_department:\n",
    "    for employee in employees_in_department:\n",
    "        print(\"Employee ID:\", employee[0])\n",
    "        print(\"Name:\", employee[1])\n",
    "        print(\"Salary:\", employee[2])\n",
    "        print(\"Department:\", employee[3])\n",
    "        print(\"Hire Date:\", employee[4])\n",
    "        print()\n",
    "else:\n",
    "    print(\"No employees found in the department.\")"
   ]
  },
  {
   "cell_type": "code",
   "execution_count": 40,
   "id": "66db8ad8",
   "metadata": {},
   "outputs": [
    {
     "name": "stdout",
     "output_type": "stream",
     "text": [
      "Employee's salary updated successfully.\n"
     ]
    }
   ],
   "source": [
    "def update_employee_salary(employee_id, new_salary):\n",
    "    try:\n",
    "        db = mysql.connector.connect(\n",
    "            host=\"127.0.0.1\",\n",
    "            user=\"root\",\n",
    "            password=\"Amma12345@\",\n",
    "            database=\"employees\"\n",
    "        )\n",
    "        \n",
    "        cursor = db.cursor()\n",
    "        query = \"UPDATE Employees SET salary = %s WHERE employee_id = %s\"\n",
    "        cursor.execute(query, (new_salary, employee_id))\n",
    "        db.commit()\n",
    "        print(\"Employee's salary updated successfully.\")\n",
    "    except mysql.connector.Error as err:\n",
    "        print(\"MySQL Error:\", err)\n",
    "    finally:\n",
    "        if cursor:\n",
    "            cursor.close()\n",
    "        if db:\n",
    "            db.close()\n",
    "employee_id_to_update = 1\n",
    "new_salary_value = 60000.00\n",
    "update_employee_salary(employee_id_to_update, new_salary_value)"
   ]
  },
  {
   "cell_type": "code",
   "execution_count": null,
   "id": "66bd7780",
   "metadata": {},
   "outputs": [],
   "source": []
  }
 ],
 "metadata": {
  "kernelspec": {
   "display_name": "Python 3 (ipykernel)",
   "language": "python",
   "name": "python3"
  },
  "language_info": {
   "codemirror_mode": {
    "name": "ipython",
    "version": 3
   },
   "file_extension": ".py",
   "mimetype": "text/x-python",
   "name": "python",
   "nbconvert_exporter": "python",
   "pygments_lexer": "ipython3",
   "version": "3.11.4"
  }
 },
 "nbformat": 4,
 "nbformat_minor": 5
}
