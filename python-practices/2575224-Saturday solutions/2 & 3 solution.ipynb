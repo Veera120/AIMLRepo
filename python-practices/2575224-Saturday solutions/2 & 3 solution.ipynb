{
 "cells": [
  {
   "cell_type": "markdown",
   "id": "e1f34739",
   "metadata": {},
   "source": [
    "# 2 and 3.Create a python function thst checks if given two strings are anagrams are each other"
   ]
  },
  {
   "cell_type": "code",
   "execution_count": 1,
   "id": "dd90d6b6",
   "metadata": {},
   "outputs": [
    {
     "name": "stdout",
     "output_type": "stream",
     "text": [
      "'charanss' and 'aahrnssc' are anagrams.\n"
     ]
    }
   ],
   "source": [
    "def are_anagrams(str1, str2):\n",
    "    # Remove spaces and convert to lowercase for case-insensitive comparison\n",
    "    str1 = str1.replace(\" \", \"\").lower()\n",
    "    str2 = str2.replace(\" \", \"\").lower()\n",
    "\n",
    "    # Check if the sorted characters in both strings are the same\n",
    "    return sorted(str1) == sorted(str2)\n",
    "\n",
    "# Example usage:\n",
    "string1 = \"charanss\"\n",
    "string2 = \"aahrnssc\"\n",
    "if are_anagrams(string1, string2):\n",
    "    print(f\"'{string1}' and '{string2}' are anagrams.\")\n",
    "else:\n",
    "    print(f\"'{string1}' and '{string2}' are not anagrams.\")"
   ]
  },
  {
   "cell_type": "code",
   "execution_count": null,
   "id": "4445d0b2",
   "metadata": {},
   "outputs": [],
   "source": []
  }
 ],
 "metadata": {
  "kernelspec": {
   "display_name": "Python 3 (ipykernel)",
   "language": "python",
   "name": "python3"
  },
  "language_info": {
   "codemirror_mode": {
    "name": "ipython",
    "version": 3
   },
   "file_extension": ".py",
   "mimetype": "text/x-python",
   "name": "python",
   "nbconvert_exporter": "python",
   "pygments_lexer": "ipython3",
   "version": "3.11.4"
  }
 },
 "nbformat": 4,
 "nbformat_minor": 5
}
