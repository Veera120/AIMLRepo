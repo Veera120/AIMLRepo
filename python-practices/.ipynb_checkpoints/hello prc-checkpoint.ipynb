{
 "cells": [
  {
   "cell_type": "code",
   "execution_count": null,
   "id": "e03c7d18",
   "metadata": {},
   "outputs": [],
   "source": []
  },
  {
   "cell_type": "markdown",
   "id": "1c2b5f32",
   "metadata": {},
   "source": [
    "# hello prg"
   ]
  },
  {
   "cell_type": "code",
   "execution_count": 6,
   "id": "8d8dcf2b",
   "metadata": {},
   "outputs": [
    {
     "name": "stdout",
     "output_type": "stream",
     "text": [
      "charn helog\n"
     ]
    }
   ],
   "source": [
    "print('charn helog')"
   ]
  },
  {
   "cell_type": "code",
   "execution_count": 8,
   "id": "44f08163",
   "metadata": {},
   "outputs": [],
   "source": [
    "a=2\n",
    "b=77\n",
    "g=9"
   ]
  },
  {
   "cell_type": "code",
   "execution_count": 9,
   "id": "a3202278",
   "metadata": {},
   "outputs": [
    {
     "data": {
      "text/plain": [
       "70"
      ]
     },
     "execution_count": 9,
     "metadata": {},
     "output_type": "execute_result"
    }
   ],
   "source": [
    "a+b-g"
   ]
  },
  {
   "cell_type": "code",
   "execution_count": null,
   "id": "803b5048",
   "metadata": {},
   "outputs": [],
   "source": []
  }
 ],
 "metadata": {
  "kernelspec": {
   "display_name": "Python 3 (ipykernel)",
   "language": "python",
   "name": "python3"
  },
  "language_info": {
   "codemirror_mode": {
    "name": "ipython",
    "version": 3
   },
   "file_extension": ".py",
   "mimetype": "text/x-python",
   "name": "python",
   "nbconvert_exporter": "python",
   "pygments_lexer": "ipython3",
   "version": "3.11.4"
  }
 },
 "nbformat": 4,
 "nbformat_minor": 5
}
