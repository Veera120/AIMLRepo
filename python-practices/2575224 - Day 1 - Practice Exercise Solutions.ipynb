{
 "cells": [
  {
   "cell_type": "markdown",
   "id": "a1cd90bc",
   "metadata": {},
   "source": [
    "# 1)Manipulate Using a list"
   ]
  },
  {
   "cell_type": "code",
   "execution_count": 2,
   "id": "cd74c6a7",
   "metadata": {},
   "outputs": [
    {
     "data": {
      "text/plain": [
       "[123, 345, 22, 'charan']"
      ]
     },
     "execution_count": 2,
     "metadata": {},
     "output_type": "execute_result"
    }
   ],
   "source": [
    "list=[123,345,22,'charan']\n",
    "list"
   ]
  },
  {
   "cell_type": "code",
   "execution_count": 3,
   "id": "2608a38b",
   "metadata": {},
   "outputs": [
    {
     "data": {
      "text/plain": [
       "[123, 345, 22, 'charan', 43]"
      ]
     },
     "execution_count": 3,
     "metadata": {},
     "output_type": "execute_result"
    }
   ],
   "source": [
    "# A)To add new elements to the end of the list\n",
    "list.append(43)\n",
    "list"
   ]
  },
  {
   "cell_type": "code",
   "execution_count": 4,
   "id": "9cd0688b",
   "metadata": {},
   "outputs": [
    {
     "name": "stdout",
     "output_type": "stream",
     "text": [
      "Reversed list:\n",
      "\n",
      " [43, 'charan', 22, 345, 123]\n"
     ]
    }
   ],
   "source": [
    "# B)To reverse element  in the list\n",
    "list.reverse()\n",
    "print('Reversed list:\\n\\n',list)"
   ]
  },
  {
   "cell_type": "code",
   "execution_count": 6,
   "id": "a2dd01ee",
   "metadata": {},
   "outputs": [
    {
     "name": "stdout",
     "output_type": "stream",
     "text": [
      "veera veera veera \n"
     ]
    }
   ],
   "source": [
    "# C)To display the same list of elements multiple times\n",
    "list='veera '\n",
    "new_list = 3*list\n",
    "print(new_list)"
   ]
  },
  {
   "cell_type": "code",
   "execution_count": 7,
   "id": "88755557",
   "metadata": {},
   "outputs": [
    {
     "name": "stdout",
     "output_type": "stream",
     "text": [
      "[43, 33, 22, 345, 123, 55]\n"
     ]
    }
   ],
   "source": [
    "# D)To concatenate two list\n",
    "list1=[43,33,22]\n",
    "list2=[345,123,55]\n",
    "list1.extend(list2)\n",
    "print(list1)"
   ]
  },
  {
   "cell_type": "code",
   "execution_count": null,
   "id": "4c77cbda",
   "metadata": {},
   "outputs": [],
   "source": [
    "list1"
   ]
  },
  {
   "cell_type": "code",
   "execution_count": 8,
   "id": "ad36480c",
   "metadata": {},
   "outputs": [
    {
     "data": {
      "text/plain": [
       "[22, 33, 43, 55, 123, 345]"
      ]
     },
     "execution_count": 8,
     "metadata": {},
     "output_type": "execute_result"
    }
   ],
   "source": [
    "#E)To sort the elements in the list in ascending order\n",
    "list1.sort()\n",
    "list1"
   ]
  },
  {
   "cell_type": "markdown",
   "id": "561afd63",
   "metadata": {},
   "source": [
    "#  2)Write a Python program to do in tuples "
   ]
  },
  {
   "cell_type": "code",
   "execution_count": 9,
   "id": "e4456af9",
   "metadata": {},
   "outputs": [
    {
     "name": "stdout",
     "output_type": "stream",
     "text": [
      "(22, 33, 44, 55, 66, 777)\n"
     ]
    }
   ],
   "source": [
    "# A)Manipulating using tuples\n",
    "tuple=(22,33,44,55)\n",
    "tuple1=tuple+(66,777)\n",
    "print(tuple1)"
   ]
  },
  {
   "cell_type": "code",
   "execution_count": 10,
   "id": "f91625fd",
   "metadata": {},
   "outputs": [
    {
     "name": "stdout",
     "output_type": "stream",
     "text": [
      "(22, 33, 44, 55, 23, 45)\n"
     ]
    }
   ],
   "source": [
    "# B)To add new elements to the end of the tuples\n",
    "tuple += (23,45)\n",
    "print(tuple)"
   ]
  },
  {
   "cell_type": "code",
   "execution_count": 11,
   "id": "0d163828",
   "metadata": {
    "scrolled": true
   },
   "outputs": [
    {
     "data": {
      "text/plain": [
       "(45, 23, 55, 44, 33, 22)"
      ]
     },
     "execution_count": 11,
     "metadata": {},
     "output_type": "execute_result"
    }
   ],
   "source": [
    "# C)To reserve elements in the list\n",
    "tuple =tuple[::-1]\n",
    "tuple\n"
   ]
  },
  {
   "cell_type": "code",
   "execution_count": 12,
   "id": "3aa5cd36",
   "metadata": {},
   "outputs": [
    {
     "data": {
      "text/plain": [
       "(45, 23, 55, 44, 33, 22, 45, 23, 55, 44, 33, 22, 45, 23, 55, 44, 33, 22)"
      ]
     },
     "execution_count": 12,
     "metadata": {},
     "output_type": "execute_result"
    }
   ],
   "source": [
    "#D)To display the elements of the same tuple multiple times\n",
    "tup=3*tuple\n",
    "tup"
   ]
  },
  {
   "cell_type": "code",
   "execution_count": 13,
   "id": "4b7f141d",
   "metadata": {},
   "outputs": [
    {
     "name": "stdout",
     "output_type": "stream",
     "text": [
      "(23, 45, 77, 99, 55, 49)\n"
     ]
    }
   ],
   "source": [
    "#E)To concatenate two tuples\n",
    "tup1 =(23,45,77)\n",
    "tup2=(99,55,49)\n",
    "res=tup1+tup2\n",
    "print(str(res))"
   ]
  },
  {
   "cell_type": "code",
   "execution_count": 14,
   "id": "35b8735e",
   "metadata": {},
   "outputs": [
    {
     "name": "stdout",
     "output_type": "stream",
     "text": [
      "[22, 23, 33, 44, 45, 55]\n"
     ]
    }
   ],
   "source": [
    "#F)To sort the elements in the list in ascending order\n",
    "tuple=sorted(tuple)\n",
    "print(tuple)\n"
   ]
  },
  {
   "cell_type": "markdown",
   "id": "fae2731e",
   "metadata": {},
   "source": [
    "#  3)Write a program to implement the following using list"
   ]
  },
  {
   "cell_type": "code",
   "execution_count": 15,
   "id": "ab9ec7c9",
   "metadata": {},
   "outputs": [
    {
     "data": {
      "text/plain": [
       "(12, 23, 34, 45, 56, 67, 78, 89, 90, 98, 87, 76, 65, 55)"
      ]
     },
     "execution_count": 15,
     "metadata": {},
     "output_type": "execute_result"
    }
   ],
   "source": [
    "#A)create a list with integers(minimum 10 numpers)\n",
    "list =(12,23,34,45,56,67,78,89,90,98,87,76,65,55)\n",
    "list"
   ]
  },
  {
   "cell_type": "code",
   "execution_count": 16,
   "id": "c03424ec",
   "metadata": {},
   "outputs": [
    {
     "name": "stdout",
     "output_type": "stream",
     "text": [
      "55\n"
     ]
    }
   ],
   "source": [
    "#B)How to display the last number in the list\n",
    "print(list[-1])"
   ]
  },
  {
   "cell_type": "code",
   "execution_count": 17,
   "id": "d79f4eee",
   "metadata": {},
   "outputs": [
    {
     "name": "stdout",
     "output_type": "stream",
     "text": [
      "(12, 23, 34, 45)\n"
     ]
    }
   ],
   "source": [
    "#C)Command for displaying the value from the list[0:4]\n",
    "print(list[0:4])"
   ]
  },
  {
   "cell_type": "code",
   "execution_count": 18,
   "id": "299d5f75",
   "metadata": {},
   "outputs": [
    {
     "name": "stdout",
     "output_type": "stream",
     "text": [
      "(34, 45, 56, 67, 78, 89, 90, 98, 87, 76, 65, 55)\n"
     ]
    }
   ],
   "source": [
    "#D)Command for displaying the value from the list[2:]\n",
    "print(list[2:])"
   ]
  },
  {
   "cell_type": "code",
   "execution_count": 19,
   "id": "47190ebc",
   "metadata": {},
   "outputs": [
    {
     "name": "stdout",
     "output_type": "stream",
     "text": [
      "(12, 23, 34, 45, 56, 67)\n"
     ]
    }
   ],
   "source": [
    "#E)Command for displaying the value from the list[:6]\n",
    "print(list[:6])"
   ]
  },
  {
   "cell_type": "markdown",
   "id": "7752c3b6",
   "metadata": {},
   "source": [
    "#  4)Write a Python Program: tuple1=(10,50,20,40,30)"
   ]
  },
  {
   "cell_type": "code",
   "execution_count": 20,
   "id": "38907f21",
   "metadata": {},
   "outputs": [
    {
     "name": "stdout",
     "output_type": "stream",
     "text": [
      "(10, 50, 20, 40, 30)\n"
     ]
    }
   ],
   "source": [
    "tuple1=(10,50,20,40,30)\n",
    "print(tuple1)"
   ]
  },
  {
   "cell_type": "code",
   "execution_count": 27,
   "id": "40c38066",
   "metadata": {},
   "outputs": [
    {
     "name": "stdout",
     "output_type": "stream",
     "text": [
      "10 50\n"
     ]
    }
   ],
   "source": [
    "#A)To dispaly the elements 10 and 50 from tuple1\n",
    "tuple1=(10,50,20,40,30)\n",
    "print(tuple1[0],tuple1[1])\n"
   ]
  },
  {
   "cell_type": "code",
   "execution_count": 22,
   "id": "8694f6d9",
   "metadata": {},
   "outputs": [
    {
     "name": "stdout",
     "output_type": "stream",
     "text": [
      "5\n"
     ]
    }
   ],
   "source": [
    "#B)To display the length of a tuple1\n",
    "print(len(tuple1))"
   ]
  },
  {
   "cell_type": "code",
   "execution_count": 23,
   "id": "7953c345",
   "metadata": {},
   "outputs": [
    {
     "name": "stdout",
     "output_type": "stream",
     "text": [
      "10\n"
     ]
    }
   ],
   "source": [
    "#C)To find the minimum element from tuple1\n",
    "print(min(tuple1))"
   ]
  },
  {
   "cell_type": "code",
   "execution_count": 24,
   "id": "9352aabc",
   "metadata": {},
   "outputs": [
    {
     "name": "stdout",
     "output_type": "stream",
     "text": [
      "150\n"
     ]
    }
   ],
   "source": [
    "#D)To add all elements in the tuple1\n",
    "print(sum(tuple1))"
   ]
  },
  {
   "cell_type": "code",
   "execution_count": 25,
   "id": "0f406c5b",
   "metadata": {},
   "outputs": [
    {
     "name": "stdout",
     "output_type": "stream",
     "text": [
      "(10, 50, 20, 40, 30, 10, 50, 20, 40, 30)\n"
     ]
    }
   ],
   "source": [
    "#E)To display the same tuple1 multiple times\n",
    "print(2*(tuple1))"
   ]
  },
  {
   "cell_type": "markdown",
   "id": "fdaa5723",
   "metadata": {},
   "source": [
    "#  5)Write a Python program"
   ]
  },
  {
   "cell_type": "code",
   "execution_count": 26,
   "id": "38e1a945",
   "metadata": {},
   "outputs": [
    {
     "name": "stdout",
     "output_type": "stream",
     "text": [
      "VEERA CHARAN \n"
     ]
    }
   ],
   "source": [
    "s=\"VEERA CHARAN \"\n",
    "print(s)\n"
   ]
  },
  {
   "cell_type": "code",
   "execution_count": 28,
   "id": "d2173b1b",
   "metadata": {},
   "outputs": [
    {
     "name": "stdout",
     "output_type": "stream",
     "text": [
      "13\n"
     ]
    }
   ],
   "source": [
    "#A)To calculate the length of string\n",
    "print(len(s))"
   ]
  },
  {
   "cell_type": "code",
   "execution_count": 29,
   "id": "34af16ec",
   "metadata": {},
   "outputs": [
    {
     "name": "stdout",
     "output_type": "stream",
     "text": [
      " NARAHC AREEV\n"
     ]
    }
   ],
   "source": [
    "#B)To reverse worde in a string\n",
    "print(s[::-1])"
   ]
  },
  {
   "cell_type": "code",
   "execution_count": 83,
   "id": "19bf2e47",
   "metadata": {},
   "outputs": [
    {
     "name": "stdout",
     "output_type": "stream",
     "text": [
      "VEERA CHARAN VEERA CHARAN VEERA CHARAN \n"
     ]
    }
   ],
   "source": [
    "#C)To display the same string multiple times\n",
    "print (3*s)"
   ]
  },
  {
   "cell_type": "code",
   "execution_count": 86,
   "id": "264f1a08",
   "metadata": {},
   "outputs": [
    {
     "name": "stdout",
     "output_type": "stream",
     "text": [
      "VEERA CHARAN NARAPURAM \n"
     ]
    }
   ],
   "source": [
    "#D)To Concatenate two strings\n",
    "s= \"VEERA CHARAN \"\n",
    "s1= \"NARAPURAM \"\n",
    "print(s+s1)"
   ]
  },
  {
   "cell_type": "code",
   "execution_count": 87,
   "id": "9b64b157",
   "metadata": {},
   "outputs": [
    {
     "name": "stdout",
     "output_type": "stream",
     "text": [
      "India\n"
     ]
    }
   ],
   "source": [
    "#E)Str1=\" South India\",using string siling to display \"India\"\n",
    "Str1= \"South India\"\n",
    "print(Str1[6:])"
   ]
  },
  {
   "cell_type": "markdown",
   "id": "dca04bd0",
   "metadata": {},
   "source": [
    "# 6) Perform the following"
   ]
  },
  {
   "cell_type": "code",
   "execution_count": 90,
   "id": "af4d0672",
   "metadata": {},
   "outputs": [
    {
     "name": "stdout",
     "output_type": "stream",
     "text": [
      "{'name': 'Veera', 'age': '23', 'city': 'Kadapa'}\n"
     ]
    }
   ],
   "source": [
    "#A)Creating the dictionary\n",
    "dic ={ 'name':'Veera', 'age':'23', 'city':'Kadapa' }\n",
    "print(dic)"
   ]
  },
  {
   "cell_type": "code",
   "execution_count": 91,
   "id": "337c8f6a",
   "metadata": {},
   "outputs": [
    {
     "name": "stdout",
     "output_type": "stream",
     "text": [
      "NAME: Veera\n"
     ]
    }
   ],
   "source": [
    "#B)Accessing value and keys in the dictionary\n",
    "print(\"NAME:\", dic['name'])"
   ]
  },
  {
   "cell_type": "code",
   "execution_count": null,
   "id": "17a542ba",
   "metadata": {},
   "outputs": [],
   "source": [
    "#C)Updating the dictionary using a function\n",
    "dic['age'] = 20\n",
    "print(dic)"
   ]
  },
  {
   "cell_type": "code",
   "execution_count": null,
   "id": "f7b9c622",
   "metadata": {},
   "outputs": [],
   "source": [
    "#D)clear and delet the dictionary values\n",
    "dic.clear()\n",
    "print(dic)"
   ]
  },
  {
   "cell_type": "markdown",
   "id": "9e170fd8",
   "metadata": {},
   "source": [
    "# 7)Python porgram to insert a number to any position in a list"
   ]
  },
  {
   "cell_type": "code",
   "execution_count": 31,
   "id": "fb1cd1bb",
   "metadata": {},
   "outputs": [
    {
     "name": "stdout",
     "output_type": "stream",
     "text": [
      "[22, 34, 42, 87, 12, 54]\n"
     ]
    }
   ],
   "source": [
    "list=[22,34,42,12,54]\n",
    "number = 87\n",
    "position = 3\n",
    "list.insert(position, number)\n",
    "print(list)"
   ]
  },
  {
   "cell_type": "markdown",
   "id": "b1a41459",
   "metadata": {},
   "source": [
    "# 8)Python program to delete an element from a list by index\n"
   ]
  },
  {
   "cell_type": "code",
   "execution_count": 32,
   "id": "b61131eb",
   "metadata": {},
   "outputs": [
    {
     "name": "stdout",
     "output_type": "stream",
     "text": [
      "[22, 34, 42, 87, 12]\n"
     ]
    }
   ],
   "source": [
    "index = 5\n",
    "del list[index]\n",
    "print(list)"
   ]
  },
  {
   "cell_type": "markdown",
   "id": "b89cf104",
   "metadata": {},
   "source": [
    "# 9)write a program to display a number from 1 to 100\n"
   ]
  },
  {
   "cell_type": "code",
   "execution_count": 33,
   "id": "b9685eaf",
   "metadata": {},
   "outputs": [
    {
     "name": "stdout",
     "output_type": "stream",
     "text": [
      "1\n",
      "2\n",
      "3\n",
      "4\n",
      "5\n",
      "6\n",
      "7\n",
      "8\n",
      "9\n",
      "10\n",
      "11\n",
      "12\n",
      "13\n",
      "14\n",
      "15\n",
      "16\n",
      "17\n",
      "18\n",
      "19\n",
      "20\n",
      "21\n",
      "22\n",
      "23\n",
      "24\n",
      "25\n",
      "26\n",
      "27\n",
      "28\n",
      "29\n",
      "30\n",
      "31\n",
      "32\n",
      "33\n",
      "34\n",
      "35\n",
      "36\n",
      "37\n",
      "38\n",
      "39\n",
      "40\n",
      "41\n",
      "42\n",
      "43\n",
      "44\n",
      "45\n",
      "46\n",
      "47\n",
      "48\n",
      "49\n",
      "50\n",
      "51\n",
      "52\n",
      "53\n",
      "54\n",
      "55\n",
      "56\n",
      "57\n",
      "58\n",
      "59\n",
      "60\n",
      "61\n",
      "62\n",
      "63\n",
      "64\n",
      "65\n",
      "66\n",
      "67\n",
      "68\n",
      "69\n",
      "70\n",
      "71\n",
      "72\n",
      "73\n",
      "74\n",
      "75\n",
      "76\n",
      "77\n",
      "78\n",
      "79\n",
      "80\n",
      "81\n",
      "82\n",
      "83\n",
      "84\n",
      "85\n",
      "86\n",
      "87\n",
      "88\n",
      "89\n",
      "90\n",
      "91\n",
      "92\n",
      "93\n",
      "94\n",
      "95\n",
      "96\n",
      "97\n",
      "98\n",
      "99\n"
     ]
    }
   ],
   "source": [
    "for numbers in range(1,100):\n",
    "    print(numbers)"
   ]
  },
  {
   "cell_type": "markdown",
   "id": "34aecca3",
   "metadata": {},
   "source": [
    "# 10)write a Python program to find the sum of all items in a tuple\n"
   ]
  },
  {
   "cell_type": "code",
   "execution_count": 34,
   "id": "e88853ae",
   "metadata": {},
   "outputs": [
    {
     "name": "stdout",
     "output_type": "stream",
     "text": [
      "62\n"
     ]
    }
   ],
   "source": [
    "tuple=(21,12,4,6,19)\n",
    "print(sum(tuple))"
   ]
  },
  {
   "cell_type": "markdown",
   "id": "25c82d35",
   "metadata": {},
   "source": [
    "# 11.Create a dictionary containing three lambda functions square,cube and square root. a).eg: dict ={'Square':function for squaring, 'cube':function for cube, 'square root':function for square root} b).Pass the values (input from the user to the function for the dictinoary respectively. c).Then add the outputs of each function and print it"
   ]
  },
  {
   "cell_type": "code",
   "execution_count": 23,
   "id": "93276a59",
   "metadata": {},
   "outputs": [
    {
     "name": "stdout",
     "output_type": "stream",
     "text": [
      "Enter a value for Square: 6\n",
      "Enter a value for Cube: 40\n",
      "Enter a value for Square Root: 24\n",
      "Results:\n",
      "Square: 36.0\n",
      "Cube: 64000.0\n",
      "Square Root: 4.898979485566356\n",
      "Total of all results: 64040.898979485566\n"
     ]
    }
   ],
   "source": [
    "functions = {\n",
    "    'Square': lambda x: x ** 2,\n",
    "    'Cube': lambda x: x ** 3,\n",
    "    'Square Root': lambda x: x ** 0.5,\n",
    "}\n",
    "results = {}\n",
    "for func_name, func in functions.items():\n",
    "    value = float(input(f'Enter a value for {func_name}: '))\n",
    "    results[func_name] = func(value)\n",
    "total = sum(results.values())\n",
    "print('Results:')\n",
    "for func_name, result in results.items():\n",
    "    print(f'{func_name}: {result}')\n",
    "print('Total of all results:', total)"
   ]
  },
  {
   "cell_type": "markdown",
   "id": "f3cdc050",
   "metadata": {},
   "source": [
    "# 12)A list of words is given . Find the words from the list that have their second character in uppercase"
   ]
  },
  {
   "cell_type": "code",
   "execution_count": 37,
   "id": "fd173af2",
   "metadata": {},
   "outputs": [
    {
     "name": "stdout",
     "output_type": "stream",
     "text": [
      "['hOw', 'ARe']\n"
     ]
    }
   ],
   "source": [
    "ls=['hello' ,'Dear' ,'hOw' ,'ARe' ,'You' ]\n",
    "res = [word for word in ls if word[1].isupper()]\n",
    "print(res)"
   ]
  },
  {
   "cell_type": "markdown",
   "id": "6667b9c3",
   "metadata": {},
   "source": [
    "# 13.A dictionary of names and their weights on earth is given.Find how much they will weigh on the moon.(Use map and lambda functions)Formula:wMoon = (wEarth*GMoon)/GEarth a). Weight of the people in kg * WeightOnEarth = {'John':45,'Shelly':65, 'Marry':35} b).Gravitational force on the moon : 1.622 m/s2 * GMoon = 1.622 c).Gravitational force on the Earth : 9.81m/s2 * GEarth = 9.81\n"
   ]
  },
  {
   "cell_type": "code",
   "execution_count": 21,
   "id": "2063f671",
   "metadata": {},
   "outputs": [
    {
     "name": "stdout",
     "output_type": "stream",
     "text": [
      "Weight on the Moon:\n",
      "John: 7.44 kg\n",
      "Shelly: 10.75 kg\n",
      "Marry: 5.79 kg\n"
     ]
    }
   ],
   "source": [
    "weight_on_earth = {'John': 45, 'Shelly': 65, 'Marry': 35}\n",
    "g_moon = 1.622\n",
    "g_earth = 9.81\n",
    "weight_on_moon = {name: (weight * g_moon) / g_earth for name, weight in weight_on_earth.items()}\n",
    "print('Weight on the Moon:')\n",
    "for name, weight in weight_on_moon.items():\n",
    "    print(f'{name}: {weight:.2f} kg')"
   ]
  },
  {
   "cell_type": "markdown",
   "id": "a0d11cbc",
   "metadata": {},
   "source": [
    "# Control Structures"
   ]
  },
  {
   "cell_type": "markdown",
   "id": "014eaa15",
   "metadata": {},
   "source": [
    "# 1)Write a Python program to find the first N Prime number"
   ]
  },
  {
   "cell_type": "code",
   "execution_count": 3,
   "id": "e2daeed4",
   "metadata": {},
   "outputs": [
    {
     "name": "stdout",
     "output_type": "stream",
     "text": [
      "Enter the value of N: 15\n",
      "2\n",
      "3\n",
      "5\n",
      "7\n",
      "11\n",
      "13\n",
      "17\n",
      "19\n",
      "23\n",
      "29\n",
      "31\n",
      "37\n",
      "41\n",
      "43\n",
      "47\n"
     ]
    }
   ],
   "source": [
    "N = int(input('Enter the value of N: '))\n",
    "count = 0\n",
    "num = 2\n",
    "\n",
    "while count < N:\n",
    "    is_prime = True\n",
    "    for i in range(2, int(num ** 0.5) + 1):\n",
    "        if (num % i) == 0:\n",
    "            is_prime = False\n",
    "            break\n",
    "    if is_prime:\n",
    "        print(num)\n",
    "        count += 1\n",
    "    num += 1"
   ]
  },
  {
   "cell_type": "markdown",
   "id": "987dfeb7",
   "metadata": {},
   "source": [
    "# 2)Write the python code that calculates the salary of an employee.Prompt the user to enter the Basic Salary,HRA,TA, and Da. Add these components to calculate the Gross Salary.Also,deduct10% of salary from the gross salary to be paid as tax and display gross minus tax as net salary.\"\"\"\n"
   ]
  },
  {
   "cell_type": "code",
   "execution_count": 4,
   "id": "33d235d8",
   "metadata": {},
   "outputs": [
    {
     "name": "stdout",
     "output_type": "stream",
     "text": [
      "Enter the Basic Salary: 500000\n",
      "Enter the HRA: 2000\n",
      "Enter the TA: 4000\n",
      "Enter the DA: 2000\n",
      "Gross Salary: 508000.00\n",
      "Tax Deduction (10%): 50800.00\n",
      "Net Salary: 457200.00\n"
     ]
    }
   ],
   "source": [
    "basic_salary = float(input('Enter the Basic Salary: '))\n",
    "hra = float(input('Enter the HRA: '))\n",
    "ta = float(input('Enter the TA: '))\n",
    "da = float(input('Enter the DA: '))\n",
    "gross_salary = basic_salary + hra + ta + da\n",
    "tax = 0.10 * gross_salary\n",
    "net_salary = gross_salary - tax\n",
    "print(f'Gross Salary: {gross_salary:.2f}')\n",
    "print(f'Tax Deduction (10%): {tax:.2f}')\n",
    "print(f'Net Salary: {net_salary:.2f}')"
   ]
  },
  {
   "cell_type": "markdown",
   "id": "a685872e",
   "metadata": {},
   "source": [
    "# 3) Write a python program to search for a string in the givrn list"
   ]
  },
  {
   "cell_type": "code",
   "execution_count": 7,
   "id": "ff46de65",
   "metadata": {},
   "outputs": [
    {
     "name": "stdout",
     "output_type": "stream",
     "text": [
      "Enter a string to search for: amma\n",
      "amma was found in the list.\n"
     ]
    }
   ],
   "source": [
    "string_list = ['Veera', 'charan', 'cherry', 'Amma', 'akka']\n",
    "search_string = input('Enter a string to search for: ')\n",
    "found = False\n",
    "for item in string_list:\n",
    "    if search_string.lower() == item.lower():\n",
    "        found = True\n",
    "        break\n",
    "if found:\n",
    "    print(f'{search_string} was found in the list.')\n",
    "else:\n",
    "    print(f'{search_string} was not found in the list.')"
   ]
  },
  {
   "cell_type": "markdown",
   "id": "70c4025c",
   "metadata": {},
   "source": [
    "# 4.Write a Python function that accepts a string and calculate the number of upper-case letters and lower-case letters"
   ]
  },
  {
   "cell_type": "code",
   "execution_count": 19,
   "id": "b26756f8",
   "metadata": {},
   "outputs": [
    {
     "name": "stdout",
     "output_type": "stream",
     "text": [
      "Enter a string: NARAPUram\n",
      "Number of uppercase letters: 6\n",
      "Number of lowercase letters: 3\n"
     ]
    }
   ],
   "source": [
    "def count_upper_lower_letters(input_string):\n",
    "    upper_count = sum(1 for char in input_string if char.isupper())\n",
    "    lower_count = sum(1 for char in input_string if char.islower())\n",
    "    return upper_count, lower_count\n",
    "input_string = input('Enter a string: ')\n",
    "upper_count, lower_count = count_upper_lower_letters(input_string)\n",
    "print(f'Number of uppercase letters: {upper_count}')\n",
    "print(f'Number of lowercase letters: {lower_count}')"
   ]
  },
  {
   "cell_type": "markdown",
   "id": "b3dcf15e",
   "metadata": {},
   "source": [
    "# 5.Write a program to display the sum of odd numbers and even numbers that fall between 12 and 37\n"
   ]
  },
  {
   "cell_type": "code",
   "execution_count": 4,
   "id": "15beeaa8",
   "metadata": {},
   "outputs": [
    {
     "name": "stdout",
     "output_type": "stream",
     "text": [
      "12\n",
      "37\n",
      "Sum of even numbers between a and b: 312\n",
      "Sum of odd numbers between a and b: 288\n"
     ]
    }
   ],
   "source": [
    "sum_even = 0\n",
    "sum_odd = 0\n",
    "a=int(input())\n",
    "b=int(input())\n",
    "for num in range(a,b):\n",
    "    if num % 2 == 0:  \n",
    "        sum_even += num\n",
    "    else:\n",
    "        sum_odd += num\n",
    "print(f'Sum of even numbers between a and b: {sum_even}')\n",
    "print(f'Sum of odd numbers between a and b: {sum_odd}')"
   ]
  },
  {
   "cell_type": "markdown",
   "id": "68707fd0",
   "metadata": {},
   "source": [
    "# 6.Write a python program to print the table of any number"
   ]
  },
  {
   "cell_type": "code",
   "execution_count": 5,
   "id": "0ce5e543",
   "metadata": {},
   "outputs": [
    {
     "name": "stdout",
     "output_type": "stream",
     "text": [
      "Enter a number: 5\n",
      "Multiplication table for 5 up to 10:\n",
      "5 x 1 = 5\n",
      "5 x 2 = 10\n",
      "5 x 3 = 15\n",
      "5 x 4 = 20\n",
      "5 x 5 = 25\n",
      "5 x 6 = 30\n",
      "5 x 7 = 35\n",
      "5 x 8 = 40\n",
      "5 x 9 = 45\n",
      "5 x 10 = 50\n"
     ]
    }
   ],
   "source": [
    "number = int(input(\"Enter a number: \"))\n",
    "print(f\"Multiplication table for {number} up to 10:\")\n",
    "for i in range(1, 10+ 1):\n",
    "    result = number * i\n",
    "    print(f\"{number} x {i} = {result}\")"
   ]
  },
  {
   "cell_type": "markdown",
   "id": "77e2484a",
   "metadata": {},
   "source": [
    "# 7.Write a python program to sum the first 10 prime numbers"
   ]
  },
  {
   "cell_type": "code",
   "execution_count": 6,
   "id": "146bb989",
   "metadata": {},
   "outputs": [
    {
     "name": "stdout",
     "output_type": "stream",
     "text": [
      "The sum of the first 10 prime numbers is: 129\n"
     ]
    }
   ],
   "source": [
    "count = 0\n",
    "num = 2\n",
    "prime_sum = 0\n",
    "while count < 10:\n",
    "    is_prime = True\n",
    "    for i in range(2, int(num ** 0.5) + 1):\n",
    "        if num % i == 0:\n",
    "            is_prime = False\n",
    "            break\n",
    "    if is_prime:\n",
    "        prime_sum += num\n",
    "        count += 1\n",
    "    num += 1\n",
    "print(f'The sum of the first 10 prime numbers is: {prime_sum}')"
   ]
  },
  {
   "cell_type": "markdown",
   "id": "4cb992b8",
   "metadata": {},
   "source": [
    "# 8.Write a python program to implement arithmetic operations using nested if statement"
   ]
  },
  {
   "cell_type": "code",
   "execution_count": 11,
   "id": "99fa5d53",
   "metadata": {},
   "outputs": [
    {
     "name": "stdout",
     "output_type": "stream",
     "text": [
      "Enter the first number: 6669\n",
      "Enter the second number: 554\n",
      "Enter the operation (+, -, *, /): -\n",
      "6669.0 - 554.0 = 6115.0\n"
     ]
    }
   ],
   "source": [
    "num1 = float(input('Enter the first number: '))\n",
    "num2 = float(input('Enter the second number: '))\n",
    "operation = input('Enter the operation (+, -, *, /): ')\n",
    "if operation == '+':\n",
    "    result = num1 + num2\n",
    "    print(f'{num1} + {num2} = {result}')\n",
    "elif operation == '-':\n",
    "    result = num1 - num2\n",
    "    print(f'{num1} - {num2} = {result}')\n",
    "elif operation == '*':\n",
    "    result = num1 * num2\n",
    "    print(f'{num1} * {num2} = {result}')\n",
    "elif operation == '/':\n",
    "    if num2 == 0:\n",
    "        print('Error! Division by zero is not allowed.')\n",
    "    else:\n",
    "        result = num1 / num2\n",
    "        print(f'{num1} / {num2} = {result}')\n",
    "else:\n",
    "    print('Invalid operation. Please enter +, -, *, or /.')"
   ]
  },
  {
   "cell_type": "markdown",
   "id": "5350cc88",
   "metadata": {},
   "source": [
    "# 9.Write a python program to take the temperature in celsius and convert it to fahrenheit"
   ]
  },
  {
   "cell_type": "code",
   "execution_count": 13,
   "id": "80e7b986",
   "metadata": {},
   "outputs": [
    {
     "name": "stdout",
     "output_type": "stream",
     "text": [
      " temp in Celsius: 180\n",
      "180.0 degrees Celsius is equal to 356.0 degrees Fahrenheit\n"
     ]
    }
   ],
   "source": [
    "celsius = float(input(' temp in Celsius: '))\n",
    "fahrenheit = (celsius * 9/5) + 32\n",
    "print(f'{celsius} degrees Celsius is equal to {fahrenheit} degrees Fahrenheit')"
   ]
  },
  {
   "cell_type": "markdown",
   "id": "8503121e",
   "metadata": {},
   "source": [
    "# 10.Write a python program to find a maximum and minimum number\n"
   ]
  },
  {
   "cell_type": "code",
   "execution_count": 18,
   "id": "34472c1e",
   "metadata": {},
   "outputs": [
    {
     "name": "stdout",
     "output_type": "stream",
     "text": [
      "Maximum number: 855778\n",
      "Minimum number: 55\n"
     ]
    }
   ],
   "source": [
    "num = [55,88,9987,84858,665,478,855778,554,77,888]\n",
    "maximum_number = max(num)\n",
    "minimum_number = min(num)\n",
    "print('Maximum number:', maximum_number)\n",
    "print('Minimum number:', minimum_number)"
   ]
  },
  {
   "cell_type": "markdown",
   "id": "fe72789c",
   "metadata": {},
   "source": [
    "# 11. Write a program in python to print out the number of seconds in 30-day month 30 days, 24 hours in a day ,60 minutes per day,60 seconds in a minute"
   ]
  },
  {
   "cell_type": "code",
   "execution_count": 25,
   "id": "014af369",
   "metadata": {},
   "outputs": [
    {
     "name": "stdout",
     "output_type": "stream",
     "text": [
      "seconds in a 30-day month is: 2592000\n"
     ]
    }
   ],
   "source": [
    "days= 30\n",
    "hours= 24\n",
    "minutes= 60\n",
    "seconds= 60\n",
    "total= days* hours* minutes *seconds\n",
    "print(f'seconds in a 30-day month is: {total}')"
   ]
  },
  {
   "cell_type": "markdown",
   "id": "c2e328fe",
   "metadata": {},
   "source": [
    "# 12.Write a program in python to print out the number of seconds in a year"
   ]
  },
  {
   "cell_type": "code",
   "execution_count": 37,
   "id": "76e9dfa9",
   "metadata": {},
   "outputs": [
    {
     "name": "stdout",
     "output_type": "stream",
     "text": [
      "The number of seconds in a year : 31536000\n"
     ]
    }
   ],
   "source": [
    "days= 365\n",
    "hours= 24\n",
    "minutes = 60\n",
    "seconds = 60\n",
    "total= days * hours * minutes * seconds\n",
    "print(f'The number of seconds in a year : {total}')"
   ]
  },
  {
   "cell_type": "markdown",
   "id": "ae449a90",
   "metadata": {},
   "source": [
    "# 13. A high-speed train can travel at an average speed of 150mph, how long will it take a train travelleing at this speed to travel from london to glasgow which which is 414 miles away"
   ]
  },
  {
   "cell_type": "code",
   "execution_count": 40,
   "id": "3b39afec",
   "metadata": {},
   "outputs": [
    {
     "name": "stdout",
     "output_type": "stream",
     "text": [
      "take 2.76 hours to travel from London to Glasgow at an average speed of 150 mph.\n"
     ]
    }
   ],
   "source": [
    "speed = 150\n",
    "distance = 414\n",
    "time_hours = distance / speed\n",
    "print(f'take {time_hours} hours to travel from London to Glasgow at an average speed of 150 mph.')"
   ]
  },
  {
   "cell_type": "markdown",
   "id": "90d201b8",
   "metadata": {},
   "source": [
    "# 14.write a python program  that defines a variable  called days_in_each_school_year and assign 192 to the variable.The program should then print out the total hour that you spend in school from year 7 to year 11, if each day you spend 6 hours in school days_in_each_school_year = 192\n"
   ]
  },
  {
   "cell_type": "code",
   "execution_count": 41,
   "id": "b164d689",
   "metadata": {},
   "outputs": [
    {
     "name": "stdout",
     "output_type": "stream",
     "text": [
      "Total hours spent in school from year 7 to year 11: 5760 hours\n"
     ]
    }
   ],
   "source": [
    "days_in_each_school_year = 192\n",
    "total_school_days = (11 - 7 + 1) * days_in_each_school_year\n",
    "hours_per_day = 6\n",
    "total_hours_in_school = total_school_days * hours_per_day\n",
    "print(f'Total hours spent in school from year 7 to year 11: {total_hours_in_school} hours')"
   ]
  },
  {
   "cell_type": "markdown",
   "id": "698384ad",
   "metadata": {},
   "source": [
    "# 15.If the age of Ram, Sam and Khan are input through the keyboard, write a python program to determine the eldest and eldest and youngest of the three\n"
   ]
  },
  {
   "cell_type": "code",
   "execution_count": 42,
   "id": "a7ac55d3",
   "metadata": {},
   "outputs": [
    {
     "name": "stdout",
     "output_type": "stream",
     "text": [
      "Enter the age of Ram: 25\n",
      "Enter the age of Sam: 21\n",
      "Enter the age of Khan: 54\n",
      "The eldest person is Khan with an age of 54 years.\n",
      "The youngest person is Sam with an age of 21 years.\n"
     ]
    }
   ],
   "source": [
    "ram_age = int(input('Enter the age of Ram: '))\n",
    "sam_age = int(input('Enter the age of Sam: '))\n",
    "khan_age = int(input('Enter the age of Khan: '))\n",
    "if ram_age > sam_age and ram_age > khan_age:\n",
    "    eldest = 'Ram'\n",
    "elif sam_age > ram_age and sam_age > khan_age:\n",
    "    eldest = 'Sam'\n",
    "else:\n",
    "    eldest = 'Khan'\n",
    "if ram_age < sam_age and ram_age < khan_age:\n",
    "    youngest = 'Ram'\n",
    "elif sam_age < ram_age and sam_age < khan_age:\n",
    "    youngest = 'Sam'\n",
    "else:\n",
    "    youngest = 'Khan'\n",
    "print(f'The eldest person is {eldest} with an age of {max(ram_age, sam_age, khan_age)} years.')\n",
    "print(f'The youngest person is {youngest} with an age of {min(ram_age, sam_age, khan_age)} years.')"
   ]
  },
  {
   "cell_type": "markdown",
   "id": "1595f4ca",
   "metadata": {},
   "source": [
    "# 16.Write a python program to rotate a list by right n times with and with out slicing technique.\n"
   ]
  },
  {
   "cell_type": "code",
   "execution_count": 43,
   "id": "f7b6a6d2",
   "metadata": {},
   "outputs": [
    {
     "name": "stdout",
     "output_type": "stream",
     "text": [
      "Enter the number  within range of list length:5\n",
      "Rotated list using slicing: [1, 2, 3, 4, 5]\n",
      "Enter the number  within range of list length:6\n",
      "Rotated list without slicing: [5, 1, 2, 3, 4]\n"
     ]
    }
   ],
   "source": [
    "def rotate_slicing(input_list, n):\n",
    "    if not input_list:\n",
    "        return input_list\n",
    "    n = n % len(input_list)\n",
    "    rotated_list = input_list[-n:] + input_list[:-n]\n",
    "    return rotated_list\n",
    "my_list = [1, 2, 3, 4, 5]\n",
    "rotation_count = int(input('Enter the number  within range of list length:'))\n",
    "rotated_list = rotate_slicing(my_list, rotation_count)\n",
    "print('Rotated list using slicing:', rotated_list)\n",
    "def rotate_without_slicing(input_list, n):\n",
    "    if not input_list:\n",
    "        return input_list\n",
    "    n = n % len(input_list)  \n",
    "    rotated_list = [None] * len(input_list)\n",
    "    for i in range(len(input_list)):\n",
    "        rotated_list[(i + n) % len(input_list)] = input_list[i]\n",
    "    return rotated_list\n",
    "my_list = [1, 2, 3, 4, 5]\n",
    "rotation_count = int(input('Enter the number  within range of list length:'))\n",
    "rotated_list = rotate_without_slicing(my_list, rotation_count)\n",
    "print('Rotated list without slicing:', rotated_list)"
   ]
  },
  {
   "cell_type": "markdown",
   "id": "720c5fbb",
   "metadata": {},
   "source": [
    "# 17.Python program to print the patterns given below:"
   ]
  },
  {
   "cell_type": "code",
   "execution_count": 64,
   "id": "c751c350",
   "metadata": {},
   "outputs": [
    {
     "name": "stdout",
     "output_type": "stream",
     "text": [
      "7\n"
     ]
    },
    {
     "ename": "TypeError",
     "evalue": "'str' object is not callable",
     "output_type": "error",
     "traceback": [
      "\u001b[1;31m---------------------------------------------------------------------------\u001b[0m",
      "\u001b[1;31mTypeError\u001b[0m                                 Traceback (most recent call last)",
      "Cell \u001b[1;32mIn[64], line 4\u001b[0m\n\u001b[0;32m      2\u001b[0m \u001b[38;5;28;01mfor\u001b[39;00m i \u001b[38;5;129;01min\u001b[39;00m \u001b[38;5;28mrange\u001b[39m(n):\n\u001b[0;32m      3\u001b[0m     \u001b[38;5;28mprint\u001b[39m(\u001b[38;5;124m'\u001b[39m\u001b[38;5;124m'\u001b[39m\u001b[38;5;241m*\u001b[39m(n\u001b[38;5;241m-\u001b[39mi),end\u001b[38;5;241m=\u001b[39m\u001b[38;5;124m'\u001b[39m\u001b[38;5;124m'\u001b[39m)\n\u001b[1;32m----> 4\u001b[0m     \u001b[38;5;28mprint\u001b[39m(\u001b[38;5;124m'\u001b[39m\u001b[38;5;124m \u001b[39m\u001b[38;5;124m'\u001b[39m\u001b[38;5;241m.\u001b[39mjoin(\u001b[38;5;28mmap\u001b[39m(\u001b[38;5;28mstr\u001b[39m,\u001b[38;5;28mstr\u001b[39m(\u001b[38;5;241m11\u001b[39m\u001b[38;5;241m*\u001b[39m\u001b[38;5;241m*\u001b[39mi))))\n",
      "\u001b[1;31mTypeError\u001b[0m: 'str' object is not callable"
     ]
    }
   ],
   "source": [
    "n=int(input())\n",
    "for i in range(n):\n",
    "    print(''*(n-i),end='')\n",
    "    print(' '.join(map(str,str(11**i))))"
   ]
  },
  {
   "cell_type": "code",
   "execution_count": 53,
   "id": "550f8d87",
   "metadata": {},
   "outputs": [
    {
     "name": "stdout",
     "output_type": "stream",
     "text": [
      "5\n",
      "* \n",
      "* * \n",
      "* * * \n",
      "* * * * \n",
      "* * * * * \n"
     ]
    }
   ],
   "source": [
    "n=int(input())\n",
    "myList = []\n",
    "for i in range(1,n+1):\n",
    "  myList.append(\"* \"*i)\n",
    "print(\"\\n\".join(myList))"
   ]
  },
  {
   "cell_type": "code",
   "execution_count": 48,
   "id": "0042b9c8",
   "metadata": {},
   "outputs": [
    {
     "name": "stdout",
     "output_type": "stream",
     "text": [
      "7\n",
      "      * \n",
      "     * * \n",
      "    * * * \n",
      "   * * * * \n",
      "  * * * * * \n",
      " * * * * * * \n",
      "* * * * * * * \n"
     ]
    }
   ],
   "source": [
    "n = int(input())\n",
    "k = n-1\n",
    "for i in range(0,n):\n",
    "  for j in range(0,k):\n",
    "    print(end=\" \")\n",
    "  k=k-1\n",
    "  for j in range(0,i+1):\n",
    "    print(\"* \",end=\"\")\n",
    "  print(\"\\r\")\n"
   ]
  },
  {
   "cell_type": "code",
   "execution_count": 49,
   "id": "6a51b97f",
   "metadata": {},
   "outputs": [
    {
     "name": "stdout",
     "output_type": "stream",
     "text": [
      "enter the string:python\n",
      "p\n",
      "py\n",
      "pyt\n",
      "pyth\n",
      "pytho\n",
      "python\n"
     ]
    }
   ],
   "source": [
    "str=input(\"enter the string:\")\n",
    "len=len(str)\n",
    "for i in range(len):\n",
    "  for j in range(i+1):\n",
    "    print(str[j],end=\"\")\n",
    "  print()"
   ]
  }
 ],
 "metadata": {
  "kernelspec": {
   "display_name": "Python 3 (ipykernel)",
   "language": "python",
   "name": "python3"
  },
  "language_info": {
   "codemirror_mode": {
    "name": "ipython",
    "version": 3
   },
   "file_extension": ".py",
   "mimetype": "text/x-python",
   "name": "python",
   "nbconvert_exporter": "python",
   "pygments_lexer": "ipython3",
   "version": "3.11.4"
  }
 },
 "nbformat": 4,
 "nbformat_minor": 5
}
