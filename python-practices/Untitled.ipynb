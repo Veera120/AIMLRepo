{
 "cells": [
  {
   "cell_type": "code",
   "execution_count": 1,
   "id": "604847ea",
   "metadata": {},
   "outputs": [
    {
     "data": {
      "text/plain": [
       "[123, 345, 22, 'charan']"
      ]
     },
     "execution_count": 1,
     "metadata": {},
     "output_type": "execute_result"
    }
   ],
   "source": [
    "list=[123,345,22,'charan']\n",
    "list"
   ]
  },
  {
   "cell_type": "code",
   "execution_count": 2,
   "id": "7269262f",
   "metadata": {},
   "outputs": [
    {
     "data": {
      "text/plain": [
       "[123, 345, 22, 'charan', 43]"
      ]
     },
     "execution_count": 2,
     "metadata": {},
     "output_type": "execute_result"
    }
   ],
   "source": [
    "# A)To add new elements to the end of the list\n",
    "list.append(43)\n",
    "list"
   ]
  },
  {
   "cell_type": "code",
   "execution_count": null,
   "id": "7fbf96ee",
   "metadata": {},
   "outputs": [],
   "source": []
  }
 ],
 "metadata": {
  "kernelspec": {
   "display_name": "Python 3 (ipykernel)",
   "language": "python",
   "name": "python3"
  },
  "language_info": {
   "codemirror_mode": {
    "name": "ipython",
    "version": 3
   },
   "file_extension": ".py",
   "mimetype": "text/x-python",
   "name": "python",
   "nbconvert_exporter": "python",
   "pygments_lexer": "ipython3",
   "version": "3.11.4"
  }
 },
 "nbformat": 4,
 "nbformat_minor": 5
}
