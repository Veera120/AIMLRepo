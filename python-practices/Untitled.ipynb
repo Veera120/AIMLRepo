{
 "cells": [
  {
   "cell_type": "code",
   "execution_count": 9,
   "id": "45c84e57",
   "metadata": {},
   "outputs": [
    {
     "name": "stdout",
     "output_type": "stream",
     "text": [
      "'charanss' and 'aahrnssc' are anagrams.\n"
     ]
    }
   ],
   "source": [
    "def are_anagrams(str1, str2):\n",
    "    # Remove spaces and convert to lowercase for case-insensitive comparison\n",
    "    str1 = str1.replace(\" \", \"\").lower()\n",
    "    str2 = str2.replace(\" \", \"\").lower()\n",
    "\n",
    "    # Check if the sorted characters in both strings are the same\n",
    "    return sorted(str1) == sorted(str2)\n",
    "\n",
    "# Example usage:\n",
    "string1 = \"charanss\"\n",
    "string2 = \"aahrnssc\"\n",
    "if are_anagrams(string1, string2):\n",
    "    print(f\"'{string1}' and '{string2}' are anagrams.\")\n",
    "else:\n",
    "    print(f\"'{string1}' and '{string2}' are not anagrams.\")"
   ]
  },
  {
   "cell_type": "code",
   "execution_count": 6,
   "id": "aa091852",
   "metadata": {},
   "outputs": [
    {
     "ename": "NameError",
     "evalue": "name 'ProductNotFoundError' is not defined",
     "output_type": "error",
     "traceback": [
      "\u001b[1;31m---------------------------------------------------------------------------\u001b[0m",
      "\u001b[1;31mNameError\u001b[0m                                 Traceback (most recent call last)",
      "Cell \u001b[1;32mIn[6], line 3\u001b[0m\n\u001b[0;32m      1\u001b[0m \u001b[38;5;28;01mtry\u001b[39;00m:\n\u001b[0;32m      2\u001b[0m     \u001b[38;5;66;03m# Scenario 1: Adding Items to Cart\u001b[39;00m\n\u001b[1;32m----> 3\u001b[0m     product \u001b[38;5;241m=\u001b[39m product_catalog\u001b[38;5;241m.\u001b[39mget_product(product_id)  \u001b[38;5;66;03m# Replace with your actual product retrieval code\u001b[39;00m\n\u001b[0;32m      4\u001b[0m     \u001b[38;5;28;01mif\u001b[39;00m \u001b[38;5;129;01mnot\u001b[39;00m product:\n",
      "\u001b[1;31mNameError\u001b[0m: name 'product_catalog' is not defined",
      "\nDuring handling of the above exception, another exception occurred:\n",
      "\u001b[1;31mNameError\u001b[0m                                 Traceback (most recent call last)",
      "Cell \u001b[1;32mIn[6], line 14\u001b[0m\n\u001b[0;32m     11\u001b[0m     \u001b[38;5;66;03m# Add the product to the cart\u001b[39;00m\n\u001b[0;32m     12\u001b[0m     cart\u001b[38;5;241m.\u001b[39madd_to_cart(product, quantity)\n\u001b[1;32m---> 14\u001b[0m \u001b[38;5;28;01mexcept\u001b[39;00m ProductNotFoundError \u001b[38;5;28;01mas\u001b[39;00m e:\n\u001b[0;32m     15\u001b[0m     \u001b[38;5;28mprint\u001b[39m(\u001b[38;5;28mstr\u001b[39m(e))  \u001b[38;5;66;03m# Display user-friendly error message\u001b[39;00m\n\u001b[0;32m     16\u001b[0m \u001b[38;5;28;01mexcept\u001b[39;00m \u001b[38;5;167;01mValueError\u001b[39;00m \u001b[38;5;28;01mas\u001b[39;00m e:\n",
      "\u001b[1;31mNameError\u001b[0m: name 'ProductNotFoundError' is not defined"
     ]
    }
   ],
   "source": [
    "try:\n",
    "    # Scenario 1: Adding Items to Cart\n",
    "    product = product_catalog.get_product(product_id)  # Replace with your actual product retrieval code\n",
    "    if not product:\n",
    "        raise ProductNotFoundError(\"Product not found in catalog.\")\n",
    "    \n",
    "    quantity = int(quantity)\n",
    "    if quantity <= 0:\n",
    "        raise ValueError(\"Invalid quantity. Please enter a positive integer.\")\n",
    "    \n",
    "    # Add the product to the cart\n",
    "    cart.add_to_cart(product, quantity)\n",
    "    \n",
    "except ProductNotFoundError as e:\n",
    "    print(str(e))  # Display user-friendly error message\n",
    "except ValueError as e:\n",
    "    print(str(e))  # Display user-friendly error message\n",
    "except Exception as e:\n",
    "    print(\"An unexpected error occurred. Please try again later.\")  # Log the error for debugging\n",
    "finally:\n",
    "    # Clean up or perform any necessary actions\n",
    "    pass"
   ]
  },
  {
   "cell_type": "code",
   "execution_count": null,
   "id": "ad1d6dd8",
   "metadata": {},
   "outputs": [],
   "source": []
  }
 ],
 "metadata": {
  "kernelspec": {
   "display_name": "Python 3 (ipykernel)",
   "language": "python",
   "name": "python3"
  },
  "language_info": {
   "codemirror_mode": {
    "name": "ipython",
    "version": 3
   },
   "file_extension": ".py",
   "mimetype": "text/x-python",
   "name": "python",
   "nbconvert_exporter": "python",
   "pygments_lexer": "ipython3",
   "version": "3.11.4"
  }
 },
 "nbformat": 4,
 "nbformat_minor": 5
}
