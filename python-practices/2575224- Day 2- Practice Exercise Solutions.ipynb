{
 "cells": [
  {
   "cell_type": "markdown",
   "id": "7c8669e8",
   "metadata": {},
   "source": [
    "# 1. Write a python Function to list even and odd numbers in a list."
   ]
  },
  {
   "cell_type": "code",
   "execution_count": 1,
   "id": "fb3829f7",
   "metadata": {},
   "outputs": [
    {
     "name": "stdout",
     "output_type": "stream",
     "text": [
      "Even numbers: [2, 4, 6, 8]\n",
      "Odd numbers: [1, 3, 5, 7, 9]\n"
     ]
    }
   ],
   "source": [
    "def list_even_and_odd_numbers(numbers):\n",
    "    even_numbers = []\n",
    "    odd_numbers = []\n",
    "    for number in numbers:\n",
    "        if number % 2 == 0:\n",
    "            even_numbers.append(number)\n",
    "        else:\n",
    "            odd_numbers.append(number)\n",
    "    return even_numbers, odd_numbers\n",
    "numbers = [1, 2, 3, 4, 5, 6, 7, 8, 9]\n",
    "even, odd = list_even_and_odd_numbers(numbers)\n",
    "print('Even numbers:', even)\n",
    "print('Odd numbers:', odd)"
   ]
  },
  {
   "cell_type": "markdown",
   "id": "a77657da",
   "metadata": {},
   "source": [
    "# 2. Write and run a Python program that asks the user to enter 8 integers (one at a time), and then prints out how many of those integers were even numbers. For example, if the user entered 19, 6, 9, 20, 13, 7, 6, and 1, then your program should print out 3 since 3 of those numbers were even.\n"
   ]
  },
  {
   "cell_type": "code",
   "execution_count": 45,
   "id": "bf1a878d",
   "metadata": {},
   "outputs": [
    {
     "name": "stdout",
     "output_type": "stream",
     "text": [
      "Enter integer 1: 19\n",
      "Enter integer 2: 6\n",
      "Enter integer 3: 9\n",
      "Enter integer 4: 20\n",
      "Enter integer 5: 13\n",
      "Enter integer 6: 7\n",
      "Enter integer 7: 6\n",
      "Enter integer 8: 1\n",
      "Number of even numbers entered: 3\n"
     ]
    }
   ],
   "source": [
    "even_count = 0\n",
    "for i in range(8):\n",
    "    try:\n",
    "        num = int(input(f'Enter integer {i + 1}: '))\n",
    "        if num % 2 == 0:\n",
    "            even_count += 1\n",
    "    except ValueError:\n",
    "        print('Invalid input. Please enter an integer.')\n",
    "print(f'Number of even numbers entered: {even_count}')"
   ]
  },
  {
   "cell_type": "markdown",
   "id": "15122004",
   "metadata": {},
   "source": [
    "# 3. Write a Python program where you take any positive integer n, if n is even, divide it by 2 to get n/ 2.If n is odd, multiply it by 3 and add 1 to obtain 3n+ 1. Repeat the process until you reach 1.\n"
   ]
  },
  {
   "cell_type": "code",
   "execution_count": 46,
   "id": "e99d2e5f",
   "metadata": {},
   "outputs": [
    {
     "name": "stdout",
     "output_type": "stream",
     "text": [
      "Enter a positive integer: 45\n",
      "sequence for\", n, \"is:\n",
      "45 136 68 34 17 52 26 13 40 20 10 5 16 8 4 2 1\n"
     ]
    }
   ],
   "source": [
    "def sequence(n):\n",
    "    while n != 1:\n",
    "        print(n, end=' ')\n",
    "        if n % 2 == 0:\n",
    "            n = n // 2\n",
    "        else:\n",
    "            n = 3 * n + 1\n",
    "    print(1)\n",
    "try:\n",
    "    n = int(input('Enter a positive integer: '))\n",
    "    if n <= 0:\n",
    "        print('Please enter a positive integer.')\n",
    "    else:\n",
    "        print('sequence for\", n, \"is:')\n",
    "        sequence(n)\n",
    "except ValueError:\n",
    "    print('Invalid input. Please enter a positive integer.')"
   ]
  },
  {
   "cell_type": "markdown",
   "id": "4f1115b4",
   "metadata": {},
   "source": [
    "# 4. Write a Python program to compute the sum of all the multiples of 3 or 5 below 500."
   ]
  },
  {
   "cell_type": "code",
   "execution_count": 3,
   "id": "264b0f84",
   "metadata": {},
   "outputs": [
    {
     "name": "stdout",
     "output_type": "stream",
     "text": [
      " multiples of 3 or 5 below 500 is: 57918\n"
     ]
    }
   ],
   "source": [
    "total_sum = 0\n",
    "for num in range(500):\n",
    "    if num % 3 == 0 or num % 5 == 0:\n",
    "        total_sum += num\n",
    "print(' multiples of 3 or 5 below 500 is:', total_sum)"
   ]
  },
  {
   "cell_type": "markdown",
   "id": "bf73eb02",
   "metadata": {},
   "source": [
    "# 5. To write a Python program to find first 'n' prime numbers from a list of given numbers."
   ]
  },
  {
   "cell_type": "code",
   "execution_count": 47,
   "id": "55016277",
   "metadata": {},
   "outputs": [
    {
     "name": "stdout",
     "output_type": "stream",
     "text": [
      "12\n",
      "The first 12 prime numbers from the given list are: [2, 3, 5, 7, 11]\n"
     ]
    }
   ],
   "source": [
    "def is_prime(num):\n",
    "    if num <= 1:\n",
    "        return False\n",
    "    for i in range(2, int(num**0.5) + 1):\n",
    "        if num % i == 0:\n",
    "            return False\n",
    "    return True\n",
    "def find_first_n_primes(numbers, n):\n",
    "    prime_numbers = []\n",
    "    for num in numbers:\n",
    "        if is_prime(num):\n",
    "            prime_numbers.append(num)\n",
    "            if len(prime_numbers) == n:\n",
    "                break\n",
    "    return prime_numbers\n",
    "given_numbers = [2, 3, 4, 5, 6, 7, 8, 9, 10, 11, 12]\n",
    "n = int(input())\n",
    "prime_numbers = find_first_n_primes(given_numbers, n)\n",
    "print(f'The first {n} prime numbers from the given list are:', prime_numbers)"
   ]
  },
  {
   "cell_type": "markdown",
   "id": "556b494e",
   "metadata": {},
   "source": [
    "# 6. To write a Python program to compute matrix multiplication."
   ]
  },
  {
   "cell_type": "code",
   "execution_count": 49,
   "id": "c8152f75",
   "metadata": {},
   "outputs": [
    {
     "name": "stdout",
     "output_type": "stream",
     "text": [
      "Matrix Multiplication Result:\n",
      "[619, 334]\n",
      "[529, 374]\n"
     ]
    }
   ],
   "source": [
    "matrix1 = [\n",
    "    [11, 21, 3],\n",
    "    [4, 15, 16],\n",
    "]\n",
    "\n",
    "matrix2 = [\n",
    "    [17, 8],\n",
    "    [19, 10],\n",
    "    [11, 12],\n",
    "]\n",
    "if len(matrix1[0]) != len(matrix2):\n",
    "    print('Matrix multiplication is not possible. The number of columns in matrix1 must be equal to the number of rows in matrix2.')\n",
    "else:\n",
    "    result_matrix = [[0 for _ in range(len(matrix2[0]))] for _ in range(len(matrix1))]\n",
    "    for i in range(len(matrix1)):\n",
    "        for j in range(len(matrix2[0])):\n",
    "            for k in range(len(matrix2)):\n",
    "                result_matrix[i][j] += matrix1[i][k] * matrix2[k][j]\n",
    "    print('Matrix Multiplication Result:')\n",
    "    for row in result_matrix:\n",
    "        print(row)"
   ]
  },
  {
   "cell_type": "markdown",
   "id": "b084b5d7",
   "metadata": {},
   "source": [
    "# 7. Write a python Function to count the number of vowels in a string."
   ]
  },
  {
   "cell_type": "code",
   "execution_count": 8,
   "id": "d3a7e559",
   "metadata": {},
   "outputs": [
    {
     "name": "stdout",
     "output_type": "stream",
     "text": [
      "vowels in the string: 9\n"
     ]
    }
   ],
   "source": [
    "def count_vowels(string):\n",
    "    vowels = set('AEIOU')\n",
    "    vowel_count = 0\n",
    "    for char in string:\n",
    "        if char in vowels:\n",
    "            vowel_count += 1\n",
    "    return vowel_count\n",
    "input_string = 'NARAPURAM VEERA CHARAN'\n",
    "result = count_vowels(input_string)\n",
    "print('vowels in the string:', result)\n"
   ]
  },
  {
   "cell_type": "markdown",
   "id": "91811aa2",
   "metadata": {},
   "source": [
    "# 8. Write a python Function for finding factorial for the given number using a recursive function.\n"
   ]
  },
  {
   "cell_type": "code",
   "execution_count": 11,
   "id": "1f3f8b09",
   "metadata": {},
   "outputs": [
    {
     "name": "stdout",
     "output_type": "stream",
     "text": [
      "The factorial of 6 is 720\n"
     ]
    }
   ],
   "source": [
    "def factorial(n):\n",
    "    if n < 0:\n",
    "        return 0\n",
    "    elif n == 0 or n == 1:\n",
    "        return 1\n",
    "    else:\n",
    "        return n * factorial(n - 1)\n",
    "number = 6\n",
    "result = factorial(number)\n",
    "print(f'The factorial of {number} is {result}')"
   ]
  },
  {
   "cell_type": "markdown",
   "id": "266b20c8",
   "metadata": {},
   "source": [
    "# 9. Write a python Function for generating the Fibonacci series using the function.\n"
   ]
  },
  {
   "cell_type": "code",
   "execution_count": 13,
   "id": "5c0ec217",
   "metadata": {},
   "outputs": [
    {
     "name": "stdout",
     "output_type": "stream",
     "text": [
      "Fibonacci series of length 9 : [0, 1, 1, 2, 3, 5, 8, 13, 21]\n"
     ]
    }
   ],
   "source": [
    "def fibonacci(n):\n",
    "    if n <= 0:\n",
    "        return []\n",
    "    elif n == 1:\n",
    "        return [0]\n",
    "    elif n == 2:\n",
    "        return [0, 1]\n",
    "    else:\n",
    "        fib_series = fibonacci(n - 1)\n",
    "        fib_series.append(fib_series[-1] + fib_series[-2])\n",
    "        return fib_series\n",
    "n = 9\n",
    "result = fibonacci(n)\n",
    "print('Fibonacci series of length', n, ':', result)"
   ]
  },
  {
   "cell_type": "markdown",
   "id": "a8ad20cb",
   "metadata": {},
   "source": [
    "# 10. Python program to display the given integer in reverse order using the function without an in- built functions"
   ]
  },
  {
   "cell_type": "code",
   "execution_count": 51,
   "id": "a4f9bcb5",
   "metadata": {},
   "outputs": [
    {
     "name": "stdout",
     "output_type": "stream",
     "text": [
      "Enter an integer: 5456\n",
      "Reversed integer: 6545\n"
     ]
    }
   ],
   "source": [
    "def reverse_integer(num):\n",
    "    if num < 0:\n",
    "        num = -num\n",
    "        sign = '-'\n",
    "    else:\n",
    "        sign = ''\n",
    "    reversed_str = sign + str(num)[::-1]\n",
    "    return int(reversed_str)\n",
    "input_num = int(input('Enter an integer: '))\n",
    "reversed_num = reverse_integer(input_num)\n",
    "print('Reversed integer:', reversed_num)"
   ]
  },
  {
   "cell_type": "markdown",
   "id": "4b169d14",
   "metadata": {},
   "source": [
    "# 11.Write a Python Function to display all integers within the range 200-300 whose sum of digits is an even number."
   ]
  },
  {
   "cell_type": "code",
   "execution_count": 53,
   "id": "13621057",
   "metadata": {},
   "outputs": [
    {
     "name": "stdout",
     "output_type": "stream",
     "text": [
      "Integers within the range 200-300 with an even digit sum:\n",
      "200\n",
      "202\n",
      "204\n",
      "206\n",
      "208\n",
      "211\n",
      "213\n",
      "215\n",
      "217\n",
      "219\n",
      "220\n",
      "222\n",
      "224\n",
      "226\n",
      "228\n",
      "231\n",
      "233\n",
      "235\n",
      "237\n",
      "239\n",
      "240\n",
      "242\n",
      "244\n",
      "246\n",
      "248\n",
      "251\n",
      "253\n",
      "255\n",
      "257\n",
      "259\n",
      "260\n",
      "262\n",
      "264\n",
      "266\n",
      "268\n",
      "271\n",
      "273\n",
      "275\n",
      "277\n",
      "279\n",
      "280\n",
      "282\n",
      "284\n",
      "286\n",
      "288\n",
      "291\n",
      "293\n",
      "295\n",
      "297\n",
      "299\n"
     ]
    }
   ],
   "source": [
    "def is_sum_of_digits_even(number):\n",
    "    digit_sum = sum(int(digit) for digit in str(number))\n",
    "    return digit_sum % 2 == 0\n",
    "def integers_with_even_digit_sum(start, end):\n",
    "    for num in range(start, end + 1):\n",
    "        if is_sum_of_digits_even(num):\n",
    "            print(num)\n",
    "s= 200\n",
    "e= 300\n",
    "print('Integers within the range 200-300 with an even digit sum:')\n",
    "integers_with_even_digit_sum(s, e)"
   ]
  },
  {
   "cell_type": "markdown",
   "id": "decee1df",
   "metadata": {},
   "source": [
    "# 12. Write a python Function to find the number of digits and sum of digits for a given integer "
   ]
  },
  {
   "cell_type": "code",
   "execution_count": 54,
   "id": "107e5681",
   "metadata": {},
   "outputs": [
    {
     "name": "stdout",
     "output_type": "stream",
     "text": [
      "Enter an integer: 45698\n",
      "Number of digits: 5\n",
      "Sum of digits: 32\n"
     ]
    }
   ],
   "source": [
    "def count_digits_and_sum(num):\n",
    "    num_str = str(num)\n",
    "    num_digits = len(num_str)\n",
    "    digit_sum = sum(int(digit) for digit in num_str)\n",
    "    return num_digits, digit_sum\n",
    "input_num = int(input(\"Enter an integer: \"))\n",
    "num_digits, digit_sum = count_digits_and_sum(input_num)\n",
    "print(f\"Number of digits: {num_digits}\")\n",
    "print(f\"Sum of digits: {digit_sum}\")"
   ]
  },
  {
   "cell_type": "markdown",
   "id": "4e2945db",
   "metadata": {},
   "source": [
    "# 13.Write functions called is_sorted that takes a list as a parameter and returns True if the list is sorted in ascending order and False otherwise and has duplicates that takes a list and returns True if there is any element that appears more than once. It should not modify the original list."
   ]
  },
  {
   "cell_type": "code",
   "execution_count": 55,
   "id": "7db81805",
   "metadata": {},
   "outputs": [
    {
     "name": "stdout",
     "output_type": "stream",
     "text": [
      "True\n"
     ]
    }
   ],
   "source": [
    "def is_sorted(input_list):\n",
    "    return all(input_list[i] <= input_list[i + 1] for i in range(len(input_list) - 1))\n",
    "my_list = [1, 2, 3, 4, 5]\n",
    "sorted_result = is_sorted(my_list)\n",
    "print(sorted_result)"
   ]
  },
  {
   "cell_type": "code",
   "execution_count": 56,
   "id": "26a04b98",
   "metadata": {},
   "outputs": [
    {
     "name": "stdout",
     "output_type": "stream",
     "text": [
      "True\n"
     ]
    }
   ],
   "source": [
    "def has_duplicates(input_list):\n",
    "    seen = set()\n",
    "    for item in input_list:\n",
    "        if item in seen:\n",
    "            return True\n",
    "        seen.add(item)\n",
    "    return False\n",
    "my_list = [1, 2, 3, 2, 4, 5]\n",
    "duplicates_result = has_duplicates(my_list)\n",
    "print(duplicates_result)"
   ]
  },
  {
   "cell_type": "code",
   "execution_count": 57,
   "id": "963f9a83",
   "metadata": {},
   "outputs": [
    {
     "name": "stdout",
     "output_type": "stream",
     "text": [
      "True\n",
      "True\n"
     ]
    }
   ],
   "source": [
    "def is_sorted(input_list):\n",
    "    return all(input_list[i] <= input_list[i + 1] for i in range(len(input_list) - 1))\n",
    "my_list = [1, 2, 3, 4, 5]\n",
    "sorted_result = is_sorted(my_list)\n",
    "print(sorted_result)\n",
    "def has_duplicates(input_list):\n",
    "    seen = set()\n",
    "    for item in input_list:\n",
    "        if item in seen:\n",
    "            return True\n",
    "        seen.add(item)\n",
    "    return False\n",
    "my_list = [1, 2, 3, 2, 4, 5]\n",
    "duplicates_result = has_duplicates(my_list)\n",
    "print(duplicates_result)"
   ]
  },
  {
   "cell_type": "markdown",
   "id": "3e728ae5",
   "metadata": {},
   "source": [
    "# 14.Write functions called nested_sum that takes a list of integers and adds up the elements from all the nested lists and cumsum that takes a list of numbers and returns the cumulative sum; that is, a new list where the ith element is the sum of the first i + 1 elements from the original list."
   ]
  },
  {
   "cell_type": "code",
   "execution_count": 58,
   "id": "ad281919",
   "metadata": {},
   "outputs": [
    {
     "name": "stdout",
     "output_type": "stream",
     "text": [
      "Sum of elements in nested list: 36\n"
     ]
    }
   ],
   "source": [
    "def nested_sum(lst):\n",
    "    total = 0\n",
    "    for sublist in lst:\n",
    "        total += sum(sublist)\n",
    "    return total\n",
    "nested_list = [[1, 2, 3], [4, 5], [6, 7, 8]]\n",
    "result = nested_sum(nested_list)\n",
    "print('Sum of elements in nested list:', result)\n"
   ]
  },
  {
   "cell_type": "code",
   "execution_count": 59,
   "id": "93cfaa8a",
   "metadata": {},
   "outputs": [
    {
     "name": "stdout",
     "output_type": "stream",
     "text": [
      "Cumulative sum of the list: [1, 3, 6, 10, 15]\n"
     ]
    }
   ],
   "source": [
    "def cumsum(numbers):\n",
    "    cumulative_sum = []\n",
    "    total = 0\n",
    "    for num in numbers:\n",
    "        total += num\n",
    "        cumulative_sum.append(total)\n",
    "    return cumulative_sum\n",
    "my_numbers = [1, 2, 3, 4, 5]\n",
    "cumulative_result = cumsum(my_numbers)\n",
    "print(\"Cumulative sum of the list:\", cumulative_result)"
   ]
  },
  {
   "cell_type": "code",
   "execution_count": 60,
   "id": "e052faae",
   "metadata": {},
   "outputs": [
    {
     "name": "stdout",
     "output_type": "stream",
     "text": [
      "Sum of elements in nested list: 36\n",
      "Cumulative sum of the list: [1, 3, 6, 10, 15]\n"
     ]
    }
   ],
   "source": [
    "def nested_sum(lst):\n",
    "    total = 0\n",
    "    for sublist in lst:\n",
    "        total += sum(sublist)\n",
    "    return total\n",
    "nested_list = [[1, 2, 3], [4, 5], [6, 7, 8]]\n",
    "result = nested_sum(nested_list)\n",
    "print('Sum of elements in nested list:', result)\n",
    "def cumsum(numbers):\n",
    "    cumulative_sum = []\n",
    "    total = 0\n",
    "    for num in numbers:\n",
    "        total += num\n",
    "        cumulative_sum.append(total)\n",
    "    return cumulative_sum\n",
    "my_numbers = [1, 2, 3, 4, 5]\n",
    "cumulative_result = cumsum(my_numbers)\n",
    "print(\"Cumulative sum of the list:\", cumulative_result)"
   ]
  },
  {
   "cell_type": "code",
   "execution_count": null,
   "id": "a770cbd6",
   "metadata": {},
   "outputs": [],
   "source": []
  },
  {
   "cell_type": "code",
   "execution_count": null,
   "id": "4df06caa",
   "metadata": {},
   "outputs": [],
   "source": []
  }
 ],
 "metadata": {
  "kernelspec": {
   "display_name": "Python 3 (ipykernel)",
   "language": "python",
   "name": "python3"
  },
  "language_info": {
   "codemirror_mode": {
    "name": "ipython",
    "version": 3
   },
   "file_extension": ".py",
   "mimetype": "text/x-python",
   "name": "python",
   "nbconvert_exporter": "python",
   "pygments_lexer": "ipython3",
   "version": "3.11.4"
  }
 },
 "nbformat": 4,
 "nbformat_minor": 5
}
