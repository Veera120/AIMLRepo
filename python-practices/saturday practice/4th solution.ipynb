{
 "cells": [
  {
   "cell_type": "markdown",
   "id": "7dab76a2",
   "metadata": {},
   "source": [
    "# 4. Case Study: Online Bookstore Database Connectivity\n",
    "\n",
    "You are a Python developer working on the backend of an online bookstore website. The website's\n",
    "\n",
    "database stores Information about books, customers, orders, and Inventory. Your task is to develop and maintain the database connectivity and Interaction components.\n",
    "\n",
    "Requirements and Scenarios:\n",
    "\n",
    "Scenario 1-Customer Registration:\n",
    "\n",
    "When a new customer registers on the website, their information (name, email, password) should be stored in the database.\n",
    "\n",
    "Handle exceptions that may occur during the registration process, such as:\n",
    "\n",
    "1.Duplicate email addresses. \n",
    "2.Database connection errors.\n",
    "\n",
    "Scenario 2-Book Inventory Management:\n",
    "\n",
    "Implement functionality to add new books to the inventory, update existing book details, and delete books.\n",
    "\n",
    "Handle exceptions that may occur during these operations, such as:\n",
    "\n",
    "1.Invalid book data.\n",
    "2.Database errors when updating or deleting books.\n",
    "\n",
    "Scenario 3-Customer Orders:\n",
    "\n",
    "Allow customers to place orders for books. Each order includes customer detalls and a list of ordered\n",
    "\n",
    "books.\n",
    "\n",
    "Handle exceptions that may occur during order placement, such as:\n",
    "\n",
    "1.Insufficient stock for some books.\n",
    "2.Database errors when recording orders.\n",
    "\n",
    "Scenario 4-Order History:\n",
    "\n",
    "Customers should be able to view their order history, which includes details of past orders. Handle exceptions that may occur when retrieving order history, such as:\n",
    "\n",
    "1.No orders found for the customer.\n",
    "2.Database connection issues."
   ]
  },
  {
   "cell_type": "code",
   "execution_count": 8,
   "id": "1c17187e",
   "metadata": {},
   "outputs": [
    {
     "name": "stdout",
     "output_type": "stream",
     "text": [
      "Error: Email already exists\n"
     ]
    }
   ],
   "source": [
    "import mysql.connector\n",
    "\n",
    "def register_customer(name, email, password):\n",
    "    try:\n",
    "        # Establish a database connection\n",
    "        conn = mysql.connector.connect(\n",
    "            host=\"127.0.0.1\",\n",
    "            user=\"root\",\n",
    "            password=\"Amma12345@\",\n",
    "            database=\"online_bookstore\"\n",
    "        )\n",
    "\n",
    "        cursor = conn.cursor()\n",
    "\n",
    "        # Check for duplicate email address\n",
    "        cursor.execute(\"SELECT * FROM customers WHERE email = %s\", (email,))\n",
    "        existing_customer = cursor.fetchone()\n",
    "\n",
    "        if existing_customer:\n",
    "            raise Exception(\"Email already exists\")\n",
    "\n",
    "        # Insert new customer into the database\n",
    "        cursor.execute(\"INSERT INTO customers (name, email, password) VALUES (%s, %s, %s)\",\n",
    "                       (name, email, password))\n",
    "        conn.commit()\n",
    "\n",
    "        print(\"Registration successful\")\n",
    "\n",
    "    except mysql.connector.Error as err:\n",
    "        print(f\"Database Error: {err}\")\n",
    "    except Exception as e:\n",
    "        print(f\"Error: {e}\")\n",
    "    finally:\n",
    "        if conn.is_connected():\n",
    "            cursor.close()\n",
    "            conn.close()\n",
    "\n",
    "# Example usage\n",
    "register_customer(\"saibaba\", \"baba@example.com\", \"password123\")"
   ]
  },
  {
   "cell_type": "code",
   "execution_count": 2,
   "id": "aee17688",
   "metadata": {},
   "outputs": [
    {
     "name": "stdout",
     "output_type": "stream",
     "text": [
      "Book added to inventory\n"
     ]
    }
   ],
   "source": [
    "import mysql.connector\n",
    "\n",
    "def add_book(title, author, quantity):\n",
    "    try:\n",
    "        conn = mysql.connector.connect(\n",
    "            host=\"127.0.0.1\",\n",
    "            user=\"root\",\n",
    "            password=\"Amma12345@\",\n",
    "            database=\"online_bookstore\" \n",
    "        )\n",
    "\n",
    "        cursor = conn.cursor()\n",
    "\n",
    "        # Insert new book into the inventory\n",
    "        cursor.execute(\"INSERT INTO books (title, author, quantity) VALUES (%s, %s, %s)\",\n",
    "                       (title, author, quantity))\n",
    "        conn.commit()\n",
    "\n",
    "        print(\"Book added to inventory\")\n",
    "\n",
    "    except mysql.connector.Error as err:\n",
    "        print(f\"Database Error: {err}\")\n",
    "    except Exception as e:\n",
    "        print(f\"Error: {e}\")\n",
    "    finally:\n",
    "        if conn.is_connected():\n",
    "            cursor.close()\n",
    "            conn.close()\n",
    "\n",
    "# Example usage\n",
    "add_book(\"java\", \"John\", 10)"
   ]
  },
  {
   "cell_type": "code",
   "execution_count": 3,
   "id": "0c5a707f",
   "metadata": {},
   "outputs": [
    {
     "name": "stdout",
     "output_type": "stream",
     "text": [
      "Order placed successfully\n"
     ]
    }
   ],
   "source": [
    "import mysql.connector\n",
    "\n",
    "def place_order(customer_id, book_ids):\n",
    "    try:\n",
    "        conn = mysql.connector.connect(\n",
    "            host=\"127.0.0.1\",\n",
    "            user=\"root\",\n",
    "            password=\"Amma12345@\",\n",
    "            database=\"online_bookstore\" \n",
    "        )\n",
    "\n",
    "        cursor = conn.cursor()\n",
    "\n",
    "        # Check if there is sufficient stock for each book\n",
    "        for book_id in book_ids:\n",
    "            cursor.execute(\"SELECT quantity FROM books WHERE book_id = %s\", (book_id,))\n",
    "            quantity = cursor.fetchone()[0]\n",
    "            if quantity <= 0:\n",
    "                raise Exception(f\"Insufficient stock for book with ID {book_id}\")\n",
    "\n",
    "        # Insert order details into the Orders table\n",
    "        cursor.execute(\"INSERT INTO orders (customer_id) VALUES (%s)\", (customer_id,))\n",
    "        order_id = cursor.lastrowid\n",
    "\n",
    "        # Insert individual book items into the Order_Items table\n",
    "        for book_id in book_ids:\n",
    "            cursor.execute(\"INSERT INTO order_items (order_id, book_id) VALUES (%s, %s)\",\n",
    "                           (order_id, book_id))\n",
    "\n",
    "        conn.commit()\n",
    "\n",
    "        print(\"Order placed successfully\")\n",
    "\n",
    "    except mysql.connector.Error as err:\n",
    "        print(f\"Database Error: {err}\")\n",
    "    except Exception as e:\n",
    "        print(f\"Error: {e}\")\n",
    "    finally:\n",
    "        if conn.is_connected():\n",
    "            cursor.close()\n",
    "            conn.close()\n",
    "\n",
    "# Example usage\n",
    "place_order(1, [1, 2, 3])  # Customer ID 1 orders books with IDs 1, 2, and 3"
   ]
  },
  {
   "cell_type": "code",
   "execution_count": 4,
   "id": "f6c2b37c",
   "metadata": {},
   "outputs": [
    {
     "name": "stdout",
     "output_type": "stream",
     "text": [
      "Order ID: 1, Date: 2023-09-17 22:13:01\n",
      "Order ID: 3, Date: 2023-09-17 22:23:29\n"
     ]
    }
   ],
   "source": [
    "\n",
    "import mysql.connector\n",
    "\n",
    "def get_order_history(customer_id):\n",
    "    try:\n",
    "        conn = mysql.connector.connect(\n",
    "            host=\"127.0.0.1\",\n",
    "            user=\"root\",\n",
    "            password=\"Amma12345@\",\n",
    "            database=\"online_bookstore\"\n",
    "        )\n",
    "\n",
    "        cursor = conn.cursor()\n",
    "\n",
    "        # Retrieve order history for the customer\n",
    "        cursor.execute(\"SELECT order_id, order_date FROM orders \"\n",
    "                       \"WHERE customer_id = %s\", (customer_id,))\n",
    "        order_history = cursor.fetchall()\n",
    "\n",
    "        if not order_history:\n",
    "            raise Exception(\"No orders found for this customer\")\n",
    "\n",
    "        for order in order_history:\n",
    "            print(f\"Order ID: {order[0]}, Date: {order[1]}\")\n",
    "\n",
    "    except mysql.connector.Error as err:\n",
    "        print(f\"Database Error: {err}\")\n",
    "    except Exception as e:\n",
    "        print(f\"Error: {e}\")\n",
    "    finally:\n",
    "        if conn.is_connected():\n",
    "            cursor.close()\n",
    "            conn.close()\n",
    "\n",
    "# Example usage\n",
    "get_order_history(1) "
   ]
  },
  {
   "cell_type": "code",
   "execution_count": 5,
   "id": "78750a03",
   "metadata": {},
   "outputs": [
    {
     "ename": "IndentationError",
     "evalue": "expected an indented block after 'try' statement on line 1 (3268483097.py, line 3)",
     "output_type": "error",
     "traceback": [
      "\u001b[1;36m  Cell \u001b[1;32mIn[5], line 3\u001b[1;36m\u001b[0m\n\u001b[1;33m    except SpecificException as e:\u001b[0m\n\u001b[1;37m    ^\u001b[0m\n\u001b[1;31mIndentationError\u001b[0m\u001b[1;31m:\u001b[0m expected an indented block after 'try' statement on line 1\n"
     ]
    }
   ],
   "source": [
    "try:\n",
    "    # Database interaction code\n",
    "except SpecificException as e:\n",
    "    # Handle the specific exception (e.g., duplicate email, insufficient stock)\n",
    "    print(f\"Error: {e}\")\n",
    "except DatabaseError as db_err:\n",
    "    # Handle database connection or query errors\n",
    "    print(f\"Database Error: {db_err}\")\n",
    "except Exception as ex:\n",
    "    # Handle other unexpected exceptions\n",
    "    print(f\"Unexpected Error: {ex}\")\n",
    "finally:\n",
    "    # Close database connections or perform cleanup as needed"
   ]
  }
 ],
 "metadata": {
  "kernelspec": {
   "display_name": "Python 3 (ipykernel)",
   "language": "python",
   "name": "python3"
  },
  "language_info": {
   "codemirror_mode": {
    "name": "ipython",
    "version": 3
   },
   "file_extension": ".py",
   "mimetype": "text/x-python",
   "name": "python",
   "nbconvert_exporter": "python",
   "pygments_lexer": "ipython3",
   "version": "3.11.4"
  }
 },
 "nbformat": 4,
 "nbformat_minor": 5
}
