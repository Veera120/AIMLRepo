{
 "cells": [
  {
   "cell_type": "markdown",
   "id": "b01415a7",
   "metadata": {},
   "source": [
    "# 6. Read a text file containing a list of names or numbers, sort the data, and write the sorted data back to a new file."
   ]
  },
  {
   "cell_type": "code",
   "execution_count": 30,
   "id": "426986d8",
   "metadata": {},
   "outputs": [
    {
     "name": "stdout",
     "output_type": "stream",
     "text": [
      "Data sorted and saved to 'sorted_data.txt'.\n"
     ]
    }
   ],
   "source": [
    "def read_file(file_path):\n",
    "    with open(file_path, 'r') as file:\n",
    "        return file.readlines()\n",
    "\n",
    "# Function to write a list of lines to a text file\n",
    "def write_file(file_path, lines):\n",
    "    with open(file_path, 'w') as file:\n",
    "        file.writelines(lines)\n",
    "\n",
    "# Path to the input text file with unsorted data\n",
    "input_file_path = 'unsorted_data.txt'\n",
    "\n",
    "# Path to the output text file where sorted data will be written\n",
    "output_file_path = 'sorted_data.txt'\n",
    "\n",
    "# Read the data from the input file\n",
    "data = read_file(input_file_path)\n",
    "\n",
    "# Sort the data (assuming it's a list of strings or numbers)\n",
    "sorted_data = sorted(data)\n",
    "\n",
    "# Write the sorted data to the output file\n",
    "write_file(output_file_path, sorted_data)\n",
    "\n",
    "print(f\"Data sorted and saved to '{output_file_path}'.\")"
   ]
  },
  {
   "cell_type": "markdown",
   "id": "3cf681cc",
   "metadata": {},
   "source": [
    "# 7.Write a Python script that compares two text files and identifies the differences between them, including added, modified, and deleted lines"
   ]
  },
  {
   "cell_type": "code",
   "execution_count": 4,
   "id": "208904fe",
   "metadata": {},
   "outputs": [
    {
     "name": "stdout",
     "output_type": "stream",
     "text": [
      "Differences between file1 and file2:\n",
      "Deleted: aaaabbbbccccddddeeeessssoooopppp\n",
      "Added: amma\n",
      "\n",
      "Added: nana\n",
      "\n",
      "Added: job\n",
      "\n",
      "Added: python\n",
      "\n",
      "Added: aiml\n"
     ]
    }
   ],
   "source": [
    "def read_file(file_path):\n",
    "    with open(file_path, 'r') as file:\n",
    "        return file.readlines()\n",
    "\n",
    "# Paths to the two text files to be compared\n",
    "file1_path = 'source.txt'\n",
    "file2_path = 'combined.txt'\n",
    "\n",
    "# Read the contents of the two files\n",
    "file1_lines = read_file(file1_path)\n",
    "file2_lines = read_file(file2_path)\n",
    "\n",
    "# Perform a line-by-line comparison\n",
    "differ = difflib.Differ()\n",
    "diff = list(differ.compare(file1_lines, file2_lines))\n",
    "\n",
    "# Display the differences\n",
    "print(\"Differences between file1 and file2:\")\n",
    "for line in diff:\n",
    "    if line.startswith(' '):  # Lines that are identical in both files\n",
    "        continue\n",
    "    elif line.startswith('- '):  # Lines present in file1 but not in file2 (deleted)\n",
    "        print(f\"Deleted: {line[2:]}\")\n",
    "    elif line.startswith('+ '):  # Lines present in file2 but not in file1 (added)\n",
    "        print(f\"Added: {line[2:]}\")\n",
    "    elif line.startswith('? '):  # Lines that are different between the files (modified)\n",
    "        print(f\"Modified: {line[2:]}\")"
   ]
  },
  {
   "cell_type": "markdown",
   "id": "695b26ac",
   "metadata": {},
   "source": [
    "# 8. Develop a Python program that compresses a large text file using a compression algorithm (e.g., gzip) and then decompresses it back to its original form."
   ]
  },
  {
   "cell_type": "code",
   "execution_count": 2,
   "id": "4d59e6e6",
   "metadata": {},
   "outputs": [
    {
     "name": "stdout",
     "output_type": "stream",
     "text": [
      "File 'large_text_file.txt' has been compressed to 'compressed_file.gz'\n",
      "File 'compressed_file.gz' has been decompressed to 'decompressed_large_text_file.txt'\n"
     ]
    }
   ],
   "source": [
    "import gzip\n",
    "\n",
    "# Function to compress a text file\n",
    "def compress_file(input_filename, output_filename):\n",
    "    try:\n",
    "        with open(input_filename, 'rb') as f_in, gzip.open(output_filename, 'wb') as f_out:\n",
    "            f_out.writelines(f_in)\n",
    "        print(f\"File '{input_filename}' has been compressed to '{output_filename}'\")\n",
    "    except Exception as e:\n",
    "        print(f\"Error compressing the file: {str(e)}\")\n",
    "\n",
    "# Function to decompress a gzip-compressed file\n",
    "def decompress_file(input_filename, output_filename):\n",
    "    try:\n",
    "        with gzip.open(input_filename, 'rb') as f_in, open(output_filename, 'wb') as f_out:\n",
    "            f_out.writelines(f_in)\n",
    "        print(f\"File '{input_filename}' has been decompressed to '{output_filename}'\")\n",
    "    except Exception as e:\n",
    "        print(f\"Error decompressing the file: {str(e)}\")\n",
    "\n",
    "# Input and output filenames\n",
    "input_filename = \"large_text_file.txt\"\n",
    "compressed_filename = \"compressed_file.gz\"\n",
    "decompressed_filename = \"decompressed_large_text_file.txt\"\n",
    "\n",
    "# Compress the file\n",
    "compress_file(input_filename, compressed_filename)\n",
    "\n",
    "# Decompress the file\n",
    "decompress_file(compressed_filename, decompressed_filename)\n"
   ]
  },
  {
   "cell_type": "markdown",
   "id": "ad9d09fa",
   "metadata": {},
   "source": [
    "# 9.Read a binary file (e.g., an image or audio file) in Python and perform an operation, such as resizing an image or modifying audio data."
   ]
  },
  {
   "cell_type": "code",
   "execution_count": 11,
   "id": "6e4574f2",
   "metadata": {},
   "outputs": [
    {
     "name": "stdout",
     "output_type": "stream",
     "text": [
      "Image resized and saved to output_image.jpg\n"
     ]
    }
   ],
   "source": [
    "from PIL import Image\n",
    "\n",
    "# Open the image file\n",
    "input_image_path = \"input_image.jpg\"  # Replace with the path to your image file\n",
    "output_image_path = \"output_image.jpg\"  # Replace with the desired output path\n",
    "\n",
    "# Open the image file\n",
    "with Image.open(input_image_path) as img:\n",
    "    # Resize the image\n",
    "    new_size = (300, 200)  # Replace with your desired dimensions\n",
    "    resized_img = img.resize(new_size)\n",
    "\n",
    "    # Save the resized image to a new file\n",
    "    resized_img.save(output_image_path)\n",
    "\n",
    "print(f\"Image resized and saved to {output_image_path}\")\n",
    "\n",
    "\n",
    "\n"
   ]
  },
  {
   "cell_type": "markdown",
   "id": "bc86273e",
   "metadata": {},
   "source": [
    "# 10.Write a python program to Combine the contents of multiple text files into a single file using Python. Each file should be appended to the end of the resulting file.\n"
   ]
  },
  {
   "cell_type": "code",
   "execution_count": 15,
   "id": "954af532",
   "metadata": {},
   "outputs": [
    {
     "name": "stdout",
     "output_type": "stream",
     "text": [
      "Combined files into combined_file.txt\n"
     ]
    }
   ],
   "source": [
    "def combine_text_files(input_files, output_file):\n",
    "    try:\n",
    "        with open(output_file, 'w') as output:\n",
    "            for input_file in input_files:\n",
    "                with open(input_file, 'r') as input:\n",
    "                    output.write(input.read())\n",
    "                    output.write('\\n')  # Add a newline separator between files\n",
    "        print(f\"Combined files into {output_file}\")\n",
    "    except Exception as e:\n",
    "        print(f\"An error occurred: {str(e)}\")\n",
    "\n",
    "if __name__ == \"__main__\":\n",
    "    input_files = [\"source.txt\", \"combined.txt\", \"source1.txt\"]  # Replace with the paths to your input text files\n",
    "    output_file = \"combined_file.txt\"  # Replace with the desired output file name\n",
    "\n",
    "    combine_text_files(input_files, output_file)"
   ]
  },
  {
   "cell_type": "markdown",
   "id": "afe20599",
   "metadata": {},
   "source": [
    "# 11. Create a Python script that accepts a text file as a command-line argument and counts the number of words, lines, and characters in the file"
   ]
  },
  {
   "cell_type": "code",
   "execution_count": 6,
   "id": "3e568f75",
   "metadata": {},
   "outputs": [
    {
     "name": "stdout",
     "output_type": "stream",
     "text": [
      "Usage: python count_file_stats.py <large_text_file.txt>\n"
     ]
    }
   ],
   "source": [
    "import sys\n",
    "def count_file_stats(file_path):\n",
    "    try:\n",
    "        with open('large_text_file.txt', 'r') as file:\n",
    "            content = file.read()\n",
    "            lines = content.split('\\n')\n",
    "            words = content.split()\n",
    "            character_count = len(content)\n",
    "\n",
    "            print(f\"Number of lines: {len(lines)}\")\n",
    "            print(f\"Number of words: {len(words)}\")\n",
    "            print(f\"Number of characters: {character_count}\")\n",
    "    except FileNotFoundError:\n",
    "        print(f\"File not found: {file_path}\")\n",
    "    except Exception as e:\n",
    "        print(f\"An error occurred: {str(e)}\")\n",
    "\n",
    "if __name__ == \"__main__\":\n",
    "    if len(sys.argv) != 2:\n",
    "        print(\"Usage: python count_file_stats.py <large_text_file.txt>\")\n",
    "    else:\n",
    "        file_path = sys.argv[1]\n",
    "        count_file_stats(file_path)\n"
   ]
  },
  {
   "cell_type": "markdown",
   "id": "6ff54fa3",
   "metadata": {},
   "source": [
    "# 12. Build a command-line calculator that accepts a mathematical expression as a string argument and evaluates it, then prints the result.\n"
   ]
  },
  {
   "cell_type": "code",
   "execution_count": 21,
   "id": "2c0d612e",
   "metadata": {},
   "outputs": [
    {
     "name": "stdout",
     "output_type": "stream",
     "text": [
      "Usage: python calculator.py <math_expression>\n"
     ]
    }
   ],
   "source": [
    "import sys\n",
    "\n",
    "def calculate_expression(expression):\n",
    "    try:\n",
    "        result = eval(expression)\n",
    "        print(f\"Result: {result}\")\n",
    "    except Exception as e:\n",
    "        print(f\"Error: {str(e)}\")\n",
    "\n",
    "if __name__ == \"__main__\":\n",
    "    if len(sys.argv) != 2:\n",
    "        print(\"Usage: python calculator.py <math_expression>\")\n",
    "    else:\n",
    "        math_expression = sys.argv[1]\n",
    "        calculate_expression(math_expression)\n"
   ]
  },
  {
   "cell_type": "markdown",
   "id": "f63ac976",
   "metadata": {},
   "source": [
    "# 13. Implement a Python script that takes a CSV file and two column names as command-line arguments. The script should calculate the average of values in one column and store the result in another column in the same file."
   ]
  },
  {
   "cell_type": "code",
   "execution_count": 24,
   "id": "1ffd93be",
   "metadata": {},
   "outputs": [
    {
     "name": "stdout",
     "output_type": "stream",
     "text": [
      "Usage: python calculate_average.py <input_file> <output_file> <column_name> <result_column_name>\n"
     ]
    }
   ],
   "source": [
    "import sys\n",
    "import csv\n",
    "\n",
    "def calculate_average(input_file, output_file, column_name, result_column_name):\n",
    "    try:\n",
    "        with open(input_file, 'r') as csv_file:\n",
    "            csv_reader = csv.DictReader(csv_file)\n",
    "            rows = list(csv_reader)\n",
    "\n",
    "            # Calculate the average of the specified column\n",
    "            total = 0\n",
    "            count = 0\n",
    "            for row in rows:\n",
    "                try:\n",
    "                    value = float(row[column_name])\n",
    "                    total += value\n",
    "                    count += 1\n",
    "                except (ValueError, KeyError):\n",
    "                    pass  # Ignore non-numeric or missing values\n",
    "\n",
    "            if count > 0:\n",
    "                average = total / count\n",
    "            else:\n",
    "                average = 0  # Avoid division by zero\n",
    "\n",
    "        # Add the average to a new column in each row\n",
    "        for row in rows:\n",
    "            row[result_column_name] = average\n",
    "\n",
    "        # Write the updated data to the output file\n",
    "        fieldnames = csv_reader.fieldnames + [result_column_name]\n",
    "        with open(output_file, 'w', newline='') as csv_output_file:\n",
    "            csv_writer = csv.DictWriter(csv_output_file, fieldnames=fieldnames)\n",
    "            csv_writer.writeheader()\n",
    "            csv_writer.writerows(rows)\n",
    "\n",
    "        print(f\"Average calculated and stored in {result_column_name} column in {output_file}\")\n",
    "\n",
    "    except FileNotFoundError:\n",
    "        print(f\"File not found: {input_file}\")\n",
    "    except Exception as e:\n",
    "        print(f\"An error occurred: {str(e)}\")\n",
    "\n",
    "if __name__ == \"__main__\":\n",
    "    if len(sys.argv) != 5:\n",
    "        print(\"Usage: python calculate_average.py <input_file> <output_file> <column_name> <result_column_name>\")\n",
    "    else:\n",
    "        input_file = sys.argv[1]\n",
    "        output_file = sys.argv[2]\n",
    "        column_name = sys.argv[3]\n",
    "        result_column_name = sys.argv[4]\n",
    "        calculate_average(input_file, output_file, column_name, result_column_name)"
   ]
  },
  {
   "cell_type": "markdown",
   "id": "30810271",
   "metadata": {},
   "source": [
    "# 14.Write a Python script that takes two integer command-line arguments and prints their sum"
   ]
  },
  {
   "cell_type": "code",
   "execution_count": 9,
   "id": "7db3c761",
   "metadata": {},
   "outputs": [
    {
     "name": "stdout",
     "output_type": "stream",
     "text": [
      "Both arguments should be integers.\n"
     ]
    }
   ],
   "source": [
    "# import sys\n",
    "\n",
    "if __name__ == \"__main__\":\n",
    "    if len(sys.argv) != 3:\n",
    "        print(\"Usage: python sum_integers.py <integer1> <integer2>\")\n",
    "    else:\n",
    "        try:\n",
    "            integer1 = int(sys.argv[1])\n",
    "            integer2 = int(sys.argv[2])\n",
    "            result = integer1 + integer2\n",
    "            print(f\"Sum: {result}\")\n",
    "        except ValueError:\n",
    "            print(\"Both arguments should be integers.\")"
   ]
  },
  {
   "cell_type": "markdown",
   "id": "e85dcda5",
   "metadata": {},
   "source": [
    "# 15.Create a custom Python module that includes functions to calculate the factorial of a number and to check if a number is prime. Import and use this module in another Python script."
   ]
  },
  {
   "cell_type": "code",
   "execution_count": null,
   "id": "a56e39d1",
   "metadata": {},
   "outputs": [],
   "source": [
    "# my_math.py\n",
    "\n",
    "def factorial(n):\n",
    "    if n == 0:\n",
    "        return 1\n",
    "    else:\n",
    "        return n * factorial(n - 1)\n",
    "\n",
    "def is_prime(n):\n",
    "    if n <= 1:\n",
    "        return False\n",
    "    elif n <= 3:\n",
    "        return True\n",
    "    elif n % 2 == 0 or n % 3 == 0:\n",
    "        return False\n",
    "    i = 5\n",
    "    while i * i <= n:\n",
    "        if n % i == 0 or n % (i + 2) == 0:\n",
    "            return False\n",
    "        i += 6\n",
    "    return True\n"
   ]
  },
  {
   "cell_type": "code",
   "execution_count": 29,
   "id": "533b3092",
   "metadata": {},
   "outputs": [
    {
     "name": "stdout",
     "output_type": "stream",
     "text": [
      "Factorial of 5 is: 120\n",
      "5 is a prime number.\n"
     ]
    }
   ],
   "source": [
    "# main.py\n",
    "import my_math\n",
    "\n",
    "if __name__ == \"__main__\":\n",
    "    num = 5\n",
    "\n",
    "    # Calculate and print the factorial of num\n",
    "    fact = my_math.factorial(num)\n",
    "    print(f\"Factorial of {num} is: {fact}\")\n",
    "\n",
    "    # Check and print if num is prime\n",
    "    is_prime = my_math.is_prime(num)\n",
    "    if is_prime:\n",
    "        print(f\"{num} is a prime number.\")\n",
    "    else:\n",
    "        print(f\"{num} is not a prime number.\")\n"
   ]
  },
  {
   "cell_type": "markdown",
   "id": "a401340f",
   "metadata": {},
   "source": [
    "# 16. Create a Python module named calculator.py that contains functions for each of the four operations (addition, subtraction, multiplication, and division). Each function should take two arguments, perform the respective operation, and return the result."
   ]
  },
  {
   "cell_type": "code",
   "execution_count": null,
   "id": "39cceaeb",
   "metadata": {},
   "outputs": [],
   "source": [
    "# calculator.py\n",
    "\n",
    "def add(a, b):\n",
    "    \"\"\"Returns the sum of two numbers.\"\"\"\n",
    "    return a + b\n",
    "\n",
    "def subtract(a, b):\n",
    "    \"\"\"Returns the difference between two numbers.\"\"\"\n",
    "    return a - b\n",
    "\n",
    "def multiply(a, b):\n",
    "    \"\"\"Returns the product of two numbers.\"\"\"\n",
    "    return a * b\n",
    "\n",
    "def divide(a, b):\n",
    "    \"\"\"\n",
    "    Returns the result of dividing two numbers.\n",
    "    Raises a ValueError if the second number is 0.\n",
    "    \"\"\"\n",
    "    if b == 0:\n",
    "        raise ValueError(\"Division by zero is not allowed.\")\n",
    "    return a / b\n"
   ]
  },
  {
   "cell_type": "code",
   "execution_count": 28,
   "id": "9fe1c2a9",
   "metadata": {},
   "outputs": [
    {
     "name": "stdout",
     "output_type": "stream",
     "text": [
      "Addition: 8\n",
      "Subtraction: 8\n",
      "Multiplication: 28\n",
      "Division: 5.0\n"
     ]
    }
   ],
   "source": [
    "# main.py\n",
    "import calculator\n",
    "\n",
    "# Example usage\n",
    "result_add = calculator.add(5, 3)\n",
    "result_subtract = calculator.subtract(10, 2)\n",
    "result_multiply = calculator.multiply(4, 7)\n",
    "result_divide = calculator.divide(15, 3)\n",
    "\n",
    "print(f\"Addition: {result_add}\")\n",
    "print(f\"Subtraction: {result_subtract}\")\n",
    "print(f\"Multiplication: {result_multiply}\")\n",
    "print(f\"Division: {result_divide}\")\n"
   ]
  },
  {
   "cell_type": "code",
   "execution_count": null,
   "id": "49fda458",
   "metadata": {},
   "outputs": [],
   "source": []
  }
 ],
 "metadata": {
  "kernelspec": {
   "display_name": "Python 3 (ipykernel)",
   "language": "python",
   "name": "python3"
  },
  "language_info": {
   "codemirror_mode": {
    "name": "ipython",
    "version": 3
   },
   "file_extension": ".py",
   "mimetype": "text/x-python",
   "name": "python",
   "nbconvert_exporter": "python",
   "pygments_lexer": "ipython3",
   "version": "3.11.4"
  }
 },
 "nbformat": 4,
 "nbformat_minor": 5
}
