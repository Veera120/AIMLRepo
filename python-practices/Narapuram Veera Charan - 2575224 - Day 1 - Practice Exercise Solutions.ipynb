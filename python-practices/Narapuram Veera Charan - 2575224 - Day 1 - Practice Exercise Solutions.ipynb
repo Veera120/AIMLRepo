{
 "cells": [
  {
   "cell_type": "markdown",
   "id": "a1cd90bc",
   "metadata": {},
   "source": [
    "# Manipulate Using a list"
   ]
  },
  {
   "cell_type": "code",
   "execution_count": 1,
   "id": "1f967054",
   "metadata": {},
   "outputs": [
    {
     "data": {
      "text/plain": [
       "[123, 345, 22, 'charan']"
      ]
     },
     "execution_count": 1,
     "metadata": {},
     "output_type": "execute_result"
    }
   ],
   "source": [
    "list=[123,345,22,'charan']\n",
    "list"
   ]
  },
  {
   "cell_type": "code",
   "execution_count": 2,
   "id": "2608a38b",
   "metadata": {},
   "outputs": [
    {
     "data": {
      "text/plain": [
       "[123, 345, 22, 'charan', 43]"
      ]
     },
     "execution_count": 2,
     "metadata": {},
     "output_type": "execute_result"
    }
   ],
   "source": [
    "# To add new elements to the end of the list\n",
    "list.append(43)\n",
    "list"
   ]
  },
  {
   "cell_type": "code",
   "execution_count": 3,
   "id": "9cd0688b",
   "metadata": {},
   "outputs": [
    {
     "name": "stdout",
     "output_type": "stream",
     "text": [
      "Reversed list:\n",
      "\n",
      " [43, 'charan', 22, 345, 123]\n"
     ]
    }
   ],
   "source": [
    "# To reverse element  in the list\n",
    "list.reverse()\n",
    "print('Reversed list:\\n\\n',list)"
   ]
  },
  {
   "cell_type": "code",
   "execution_count": 13,
   "id": "a2dd01ee",
   "metadata": {},
   "outputs": [
    {
     "name": "stdout",
     "output_type": "stream",
     "text": [
      "veera veera veera \n"
     ]
    }
   ],
   "source": [
    "# To display the same list of elements multiple times\n",
    "list='veera '\n",
    "new_list = 3*ls\n",
    "print(new_list)"
   ]
  },
  {
   "cell_type": "code",
   "execution_count": 16,
   "id": "88755557",
   "metadata": {},
   "outputs": [
    {
     "name": "stdout",
     "output_type": "stream",
     "text": [
      "[43, 33, 22, 345, 123, 55]\n"
     ]
    }
   ],
   "source": [
    "# To concatenate two list\n",
    "list1=[43,33,22]\n",
    "list2=[345,123,55]\n",
    "list1.extend(list2)\n",
    "print(list1)"
   ]
  },
  {
   "cell_type": "code",
   "execution_count": 11,
   "id": "4c77cbda",
   "metadata": {},
   "outputs": [
    {
     "data": {
      "text/plain": [
       "[43, 33, 22, 345, 123, 55]"
      ]
     },
     "execution_count": 11,
     "metadata": {},
     "output_type": "execute_result"
    }
   ],
   "source": [
    "list1"
   ]
  },
  {
   "cell_type": "code",
   "execution_count": 12,
   "id": "ad36480c",
   "metadata": {},
   "outputs": [
    {
     "data": {
      "text/plain": [
       "[22, 33, 43, 55, 123, 345]"
      ]
     },
     "execution_count": 12,
     "metadata": {},
     "output_type": "execute_result"
    }
   ],
   "source": [
    "#To sort the elements in the list in ascending order\n",
    "list1.sort()\n",
    "list1"
   ]
  },
  {
   "cell_type": "markdown",
   "id": "561afd63",
   "metadata": {},
   "source": [
    "# Write a Python program to do in tuples "
   ]
  },
  {
   "cell_type": "code",
   "execution_count": 48,
   "id": "e4456af9",
   "metadata": {},
   "outputs": [
    {
     "name": "stdout",
     "output_type": "stream",
     "text": [
      "(22, 33, 44, 55, 66, 777)\n"
     ]
    }
   ],
   "source": [
    "# Manipulating using tuples\n",
    "tuple=(22,33,44,55)\n",
    "tuple1=tuple+(66,777)\n",
    "print(tuple1)"
   ]
  },
  {
   "cell_type": "code",
   "execution_count": 49,
   "id": "f91625fd",
   "metadata": {},
   "outputs": [
    {
     "name": "stdout",
     "output_type": "stream",
     "text": [
      "(22, 33, 44, 55, 23, 45)\n"
     ]
    }
   ],
   "source": [
    "# To add new elements to the end of the tuples\n",
    "tuple += (23,45)\n",
    "print(tuple)"
   ]
  },
  {
   "cell_type": "code",
   "execution_count": 50,
   "id": "0d163828",
   "metadata": {
    "scrolled": true
   },
   "outputs": [
    {
     "data": {
      "text/plain": [
       "(45, 23, 55, 44, 33, 22)"
      ]
     },
     "execution_count": 50,
     "metadata": {},
     "output_type": "execute_result"
    }
   ],
   "source": [
    "# To reserve elements in the list\n",
    "tuple =tuple[::-1]\n",
    "tuple\n"
   ]
  },
  {
   "cell_type": "code",
   "execution_count": 54,
   "id": "3aa5cd36",
   "metadata": {},
   "outputs": [
    {
     "data": {
      "text/plain": [
       "[22, 23, 33, 44, 45, 55, 22, 23, 33, 44, 45, 55, 22, 23, 33, 44, 45, 55]"
      ]
     },
     "execution_count": 54,
     "metadata": {},
     "output_type": "execute_result"
    }
   ],
   "source": [
    "#To display the elements of the same tuple multiple times\n",
    "tup=3*tuple\n",
    "tup"
   ]
  },
  {
   "cell_type": "code",
   "execution_count": 42,
   "id": "4b7f141d",
   "metadata": {},
   "outputs": [
    {
     "name": "stdout",
     "output_type": "stream",
     "text": [
      "(23, 45, 77, 99, 55, 49)\n"
     ]
    }
   ],
   "source": [
    "#To concatenate two tuples\n",
    "tup1 =(23,45,77)\n",
    "tup2=(99,55,49)\n",
    "res=tup1+tup2\n",
    "print(str(res))"
   ]
  },
  {
   "cell_type": "code",
   "execution_count": 52,
   "id": "35b8735e",
   "metadata": {},
   "outputs": [
    {
     "name": "stdout",
     "output_type": "stream",
     "text": [
      "[22, 23, 33, 44, 45, 55]\n"
     ]
    }
   ],
   "source": [
    "#To sort the elements in the list in ascending order\n",
    "tuple=sorted(tuple)\n",
    "print(tuple)\n"
   ]
  },
  {
   "cell_type": "markdown",
   "id": "fae2731e",
   "metadata": {},
   "source": [
    "# Write a program to implement the following using list"
   ]
  },
  {
   "cell_type": "code",
   "execution_count": 55,
   "id": "ab9ec7c9",
   "metadata": {},
   "outputs": [
    {
     "data": {
      "text/plain": [
       "(12, 23, 34, 45, 56, 67, 78, 89, 90, 98, 87, 76, 65, 55)"
      ]
     },
     "execution_count": 55,
     "metadata": {},
     "output_type": "execute_result"
    }
   ],
   "source": [
    "#create a list with integers(minimum 10 numpers)\n",
    "list =(12,23,34,45,56,67,78,89,90,98,87,76,65,55)\n",
    "list"
   ]
  },
  {
   "cell_type": "code",
   "execution_count": 56,
   "id": "c03424ec",
   "metadata": {},
   "outputs": [
    {
     "name": "stdout",
     "output_type": "stream",
     "text": [
      "55\n"
     ]
    }
   ],
   "source": [
    "#How to display the last number in the list\n",
    "print(list[-1])"
   ]
  },
  {
   "cell_type": "code",
   "execution_count": 57,
   "id": "d79f4eee",
   "metadata": {},
   "outputs": [
    {
     "name": "stdout",
     "output_type": "stream",
     "text": [
      "(12, 23, 34, 45)\n"
     ]
    }
   ],
   "source": [
    "#Command for displaying the value from the list[0:4]\n",
    "print(list[0:4])"
   ]
  },
  {
   "cell_type": "code",
   "execution_count": 58,
   "id": "299d5f75",
   "metadata": {},
   "outputs": [
    {
     "name": "stdout",
     "output_type": "stream",
     "text": [
      "(34, 45, 56, 67, 78, 89, 90, 98, 87, 76, 65, 55)\n"
     ]
    }
   ],
   "source": [
    "#Command for displaying the value from the list[2:]\n",
    "print(list[2:])"
   ]
  },
  {
   "cell_type": "code",
   "execution_count": 59,
   "id": "47190ebc",
   "metadata": {},
   "outputs": [
    {
     "name": "stdout",
     "output_type": "stream",
     "text": [
      "(12, 23, 34, 45, 56, 67)\n"
     ]
    }
   ],
   "source": [
    "#Command for displaying the value from the list[:6]\n",
    "print(list[:6])"
   ]
  },
  {
   "cell_type": "markdown",
   "id": "7752c3b6",
   "metadata": {},
   "source": [
    "# Write a Python Program: tuple1=(10,50,20,40,30)"
   ]
  },
  {
   "cell_type": "code",
   "execution_count": 60,
   "id": "38907f21",
   "metadata": {},
   "outputs": [
    {
     "name": "stdout",
     "output_type": "stream",
     "text": [
      "(10, 50, 20, 40, 30)\n"
     ]
    }
   ],
   "source": [
    "tuple1=(10,50,20,40,30)\n",
    "print(tuple1)"
   ]
  },
  {
   "cell_type": "code",
   "execution_count": null,
   "id": "40c38066",
   "metadata": {},
   "outputs": [],
   "source": [
    "#To dispaly the elements 10 and 50 from tuple1\n",
    "tuple1=(10,50,20,40,30)\n",
    "star = 10\n",
    "end = 50\n"
   ]
  },
  {
   "cell_type": "code",
   "execution_count": 61,
   "id": "8694f6d9",
   "metadata": {},
   "outputs": [
    {
     "name": "stdout",
     "output_type": "stream",
     "text": [
      "5\n"
     ]
    }
   ],
   "source": [
    "#To display the length of a tuple1\n",
    "print(len(tuple1))"
   ]
  },
  {
   "cell_type": "code",
   "execution_count": 62,
   "id": "7953c345",
   "metadata": {},
   "outputs": [
    {
     "name": "stdout",
     "output_type": "stream",
     "text": [
      "10\n"
     ]
    }
   ],
   "source": [
    "#To find the minimum element from tuple1\n",
    "print(min(tuple1))"
   ]
  },
  {
   "cell_type": "code",
   "execution_count": 63,
   "id": "9352aabc",
   "metadata": {},
   "outputs": [
    {
     "name": "stdout",
     "output_type": "stream",
     "text": [
      "150\n"
     ]
    }
   ],
   "source": [
    "#To add all elements in the tuple1\n",
    "print(sum(tuple1))"
   ]
  },
  {
   "cell_type": "code",
   "execution_count": 64,
   "id": "0f406c5b",
   "metadata": {},
   "outputs": [
    {
     "name": "stdout",
     "output_type": "stream",
     "text": [
      "(10, 50, 20, 40, 30, 10, 50, 20, 40, 30)\n"
     ]
    }
   ],
   "source": [
    "#To display the same tuple multiple times\n",
    "print(2*(tuple1))"
   ]
  },
  {
   "cell_type": "markdown",
   "id": "fdaa5723",
   "metadata": {},
   "source": [
    "# Write a Python program"
   ]
  },
  {
   "cell_type": "code",
   "execution_count": 81,
   "id": "38e1a945",
   "metadata": {},
   "outputs": [
    {
     "name": "stdout",
     "output_type": "stream",
     "text": [
      "VEERA CHARAN \n"
     ]
    }
   ],
   "source": [
    "s=\"VEERA CHARAN \"\n",
    "print(s)\n"
   ]
  },
  {
   "cell_type": "code",
   "execution_count": 69,
   "id": "d2173b1b",
   "metadata": {},
   "outputs": [
    {
     "name": "stdout",
     "output_type": "stream",
     "text": [
      "12\n"
     ]
    }
   ],
   "source": [
    "#To calculate the length of string\n",
    "print(len(s))"
   ]
  },
  {
   "cell_type": "code",
   "execution_count": 71,
   "id": "34af16ec",
   "metadata": {},
   "outputs": [
    {
     "name": "stdout",
     "output_type": "stream",
     "text": [
      "NARAHC AREEV\n"
     ]
    }
   ],
   "source": [
    "#To reverse worde in a string\n",
    "print(s[::-1])"
   ]
  },
  {
   "cell_type": "code",
   "execution_count": 83,
   "id": "19bf2e47",
   "metadata": {},
   "outputs": [
    {
     "name": "stdout",
     "output_type": "stream",
     "text": [
      "VEERA CHARAN VEERA CHARAN VEERA CHARAN \n"
     ]
    }
   ],
   "source": [
    "#To display the same string multiple times\n",
    "print (3*s)"
   ]
  },
  {
   "cell_type": "code",
   "execution_count": 86,
   "id": "264f1a08",
   "metadata": {},
   "outputs": [
    {
     "name": "stdout",
     "output_type": "stream",
     "text": [
      "VEERA CHARAN NARAPURAM \n"
     ]
    }
   ],
   "source": [
    "#To Concatenate two strings\n",
    "s= \"VEERA CHARAN \"\n",
    "s1= \"NARAPURAM \"\n",
    "print(s+s1)"
   ]
  },
  {
   "cell_type": "code",
   "execution_count": 87,
   "id": "9b64b157",
   "metadata": {},
   "outputs": [
    {
     "name": "stdout",
     "output_type": "stream",
     "text": [
      "India\n"
     ]
    }
   ],
   "source": [
    "#Str1=\" South India\",using string siling to display \"India\"\n",
    "Str1= \"South India\"\n",
    "print(Str1[6:])"
   ]
  },
  {
   "cell_type": "markdown",
   "id": "dca04bd0",
   "metadata": {},
   "source": [
    "# Perform the following"
   ]
  },
  {
   "cell_type": "code",
   "execution_count": 90,
   "id": "af4d0672",
   "metadata": {},
   "outputs": [
    {
     "name": "stdout",
     "output_type": "stream",
     "text": [
      "{'name': 'Veera', 'age': '23', 'city': 'Kadapa'}\n"
     ]
    }
   ],
   "source": [
    "#Creating the dictionary\n",
    "dic ={ 'name':'Veera', 'age':'23', 'city':'Kadapa' }\n",
    "print(dic)"
   ]
  },
  {
   "cell_type": "code",
   "execution_count": 91,
   "id": "337c8f6a",
   "metadata": {},
   "outputs": [
    {
     "name": "stdout",
     "output_type": "stream",
     "text": [
      "NAME: Veera\n"
     ]
    }
   ],
   "source": [
    "#Accessing value and keys in the dictionary\n",
    "print(\"NAME:\", dic['name'])"
   ]
  },
  {
   "cell_type": "code",
   "execution_count": 94,
   "id": "17a542ba",
   "metadata": {},
   "outputs": [
    {
     "name": "stdout",
     "output_type": "stream",
     "text": [
      "{'name': 'Veera', 'age': 20, 'city': 'Kadapa'}\n"
     ]
    }
   ],
   "source": [
    "#Updating the dictionary using a function\n",
    "dic['age'] = 20\n",
    "print(dic)"
   ]
  },
  {
   "cell_type": "code",
   "execution_count": 96,
   "id": "f7b9c622",
   "metadata": {},
   "outputs": [
    {
     "name": "stdout",
     "output_type": "stream",
     "text": [
      "{}\n"
     ]
    }
   ],
   "source": [
    "#clear and delet the dictionary values\n",
    "dic.clear()\n",
    "print(dic)"
   ]
  },
  {
   "cell_type": "code",
   "execution_count": 97,
   "id": "fb1cd1bb",
   "metadata": {},
   "outputs": [
    {
     "name": "stdout",
     "output_type": "stream",
     "text": [
      "[22, 34, 42, 87, 12, 54]\n"
     ]
    }
   ],
   "source": [
    "#Python porgram to insert a number to any position in a list\n",
    "list=[22,34,42,12,54]\n",
    "number = 87\n",
    "position = 3\n",
    "list.insert(position, number)\n",
    "print(list)"
   ]
  },
  {
   "cell_type": "code",
   "execution_count": 98,
   "id": "b61131eb",
   "metadata": {},
   "outputs": [
    {
     "name": "stdout",
     "output_type": "stream",
     "text": [
      "[22, 34, 42, 87, 12]\n"
     ]
    }
   ],
   "source": [
    "#Python program to delete an element from a list by index\n",
    "index = 5\n",
    "del list[index]\n",
    "print(list)"
   ]
  },
  {
   "cell_type": "code",
   "execution_count": 101,
   "id": "b9685eaf",
   "metadata": {},
   "outputs": [
    {
     "name": "stdout",
     "output_type": "stream",
     "text": [
      "1\n",
      "2\n",
      "3\n",
      "4\n",
      "5\n",
      "6\n",
      "7\n",
      "8\n",
      "9\n",
      "10\n",
      "11\n",
      "12\n",
      "13\n",
      "14\n",
      "15\n",
      "16\n",
      "17\n",
      "18\n",
      "19\n",
      "20\n",
      "21\n",
      "22\n",
      "23\n",
      "24\n",
      "25\n",
      "26\n",
      "27\n",
      "28\n",
      "29\n",
      "30\n",
      "31\n",
      "32\n",
      "33\n",
      "34\n",
      "35\n",
      "36\n",
      "37\n",
      "38\n",
      "39\n",
      "40\n",
      "41\n",
      "42\n",
      "43\n",
      "44\n",
      "45\n",
      "46\n",
      "47\n",
      "48\n",
      "49\n",
      "50\n",
      "51\n",
      "52\n",
      "53\n",
      "54\n",
      "55\n",
      "56\n",
      "57\n",
      "58\n",
      "59\n",
      "60\n",
      "61\n",
      "62\n",
      "63\n",
      "64\n",
      "65\n",
      "66\n",
      "67\n",
      "68\n",
      "69\n",
      "70\n",
      "71\n",
      "72\n",
      "73\n",
      "74\n",
      "75\n",
      "76\n",
      "77\n",
      "78\n",
      "79\n",
      "80\n",
      "81\n",
      "82\n",
      "83\n",
      "84\n",
      "85\n",
      "86\n",
      "87\n",
      "88\n",
      "89\n",
      "90\n",
      "91\n",
      "92\n",
      "93\n",
      "94\n",
      "95\n",
      "96\n",
      "97\n",
      "98\n",
      "99\n"
     ]
    }
   ],
   "source": [
    "#write a program to display a number from 1 to 100\n",
    "for numbers in range(1,100):\n",
    "    print(numbers)"
   ]
  },
  {
   "cell_type": "code",
   "execution_count": 102,
   "id": "e88853ae",
   "metadata": {},
   "outputs": [
    {
     "name": "stdout",
     "output_type": "stream",
     "text": [
      "62\n"
     ]
    }
   ],
   "source": [
    "#write a Python program to find the sum of all items in a tuple\n",
    "tuple=(21,12,4,6,19)\n",
    "print(sum(tuple))"
   ]
  },
  {
   "cell_type": "code",
   "execution_count": null,
   "id": "b87858e1",
   "metadata": {},
   "outputs": [],
   "source": []
  }
 ],
 "metadata": {
  "kernelspec": {
   "display_name": "Python 3 (ipykernel)",
   "language": "python",
   "name": "python3"
  },
  "language_info": {
   "codemirror_mode": {
    "name": "ipython",
    "version": 3
   },
   "file_extension": ".py",
   "mimetype": "text/x-python",
   "name": "python",
   "nbconvert_exporter": "python",
   "pygments_lexer": "ipython3",
   "version": "3.11.4"
  }
 },
 "nbformat": 4,
 "nbformat_minor": 5
}
